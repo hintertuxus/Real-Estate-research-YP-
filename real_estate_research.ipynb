{
 "cells": [
  {
   "cell_type": "markdown",
   "metadata": {},
   "source": [
    "# Исследование объявлений о продаже квартир\n",
    "\n",
    "Для исследования предоставлены данные сервиса Яндекс.Недвижимость — архив объявлений о продаже квартир в Санкт-Петербурге и соседних населённых пунктов за несколько лет. Задача — установить параметры, которые позволят определять рыночную стоимость объектов недвижимости. Это позволит построить автоматизированную систему: она отследит аномалии и мошенническую деятельность. \n",
    "\n",
    "По каждой квартире на продажу доступны два вида данных. Первые вписаны пользователем, вторые — получены автоматически на основе картографических данных. Например, расстояние до центра, аэропорта, ближайшего парка и водоёма. "
   ]
  },
  {
   "cell_type": "markdown",
   "metadata": {},
   "source": [
    "### Цель исследования\n",
    "\n",
    "1. Определить рыночную стоимость объектов недвижимости.\n",
    "2. Построить автомитизированную систему, которая отследит аномалии и мошенническую деятельность.\n",
    "3. Установить, какие факторы влияют на ценообразование стоимости квартир.\n",
    "\n",
    "### Ход исследования\n",
    "\n",
    "Данные о недвижимости получим из файла '/datasets/real_estate_data.csv' О качестве данных ничего не известно. Поэтому перед тем как приступать к целям исследования, понадобится обзор данных.\n",
    "\n",
    "Проверим данные на ошибки, оценим их влияние на ислледование. На этапе предобработки поищем возможности исправить ошибки в данных, которые не приведут к искажению конечного результата. Далее создадим необходимые столбцы и приступим к проведению исследования.\n",
    "\n",
    "Таким образом, проведение исследования пройдет в семь этапов:\n",
    "\n",
    "- обзор данных\n",
    "- предобработка данных\n",
    "- расчеты и добавления результатов в таблицы\n",
    "- проведение анализа для Ленинградской области\n",
    "- проведение анализа для Санкт-Петербурга\n",
    "- оценка факторов, влияющих на стоимость квартир\n",
    "- подведение итогов"
   ]
  },
  {
   "cell_type": "markdown",
   "metadata": {},
   "source": [
    "## Обзор данных"
   ]
  },
  {
   "cell_type": "markdown",
   "metadata": {},
   "source": [
    "Для знакомства с данными откроем файл и выведем:\n",
    "    \n",
    "1. Первые 20 строк таблицы\n",
    "\n",
    "2. Общую информацию по таблице\n",
    "\n",
    "3. Гистограммы для всех числовых столбцов таблицы\n"
   ]
  },
  {
   "cell_type": "code",
   "execution_count": 2,
   "metadata": {},
   "outputs": [],
   "source": [
    "import pandas as pd\n",
    "import matplotlib.pyplot as plt\n",
    "try:\n",
    "    data = pd.read_csv('/datasets/real_estate_data.csv', sep='\\t')\n",
    "except:\n",
    "    data = pd.read_csv('https://code.s3.yandex.net/datasets/real_estate_data.csv', sep='\\t')"
   ]
  },
  {
   "cell_type": "code",
   "execution_count": 2,
   "metadata": {},
   "outputs": [
    {
     "data": {
      "text/html": [
       "<div>\n",
       "<style scoped>\n",
       "    .dataframe tbody tr th:only-of-type {\n",
       "        vertical-align: middle;\n",
       "    }\n",
       "\n",
       "    .dataframe tbody tr th {\n",
       "        vertical-align: top;\n",
       "    }\n",
       "\n",
       "    .dataframe thead th {\n",
       "        text-align: right;\n",
       "    }\n",
       "</style>\n",
       "<table border=\"1\" class=\"dataframe\">\n",
       "  <thead>\n",
       "    <tr style=\"text-align: right;\">\n",
       "      <th></th>\n",
       "      <th>total_images</th>\n",
       "      <th>last_price</th>\n",
       "      <th>total_area</th>\n",
       "      <th>first_day_exposition</th>\n",
       "      <th>rooms</th>\n",
       "      <th>ceiling_height</th>\n",
       "      <th>floors_total</th>\n",
       "      <th>living_area</th>\n",
       "      <th>floor</th>\n",
       "      <th>is_apartment</th>\n",
       "      <th>...</th>\n",
       "      <th>kitchen_area</th>\n",
       "      <th>balcony</th>\n",
       "      <th>locality_name</th>\n",
       "      <th>airports_nearest</th>\n",
       "      <th>cityCenters_nearest</th>\n",
       "      <th>parks_around3000</th>\n",
       "      <th>parks_nearest</th>\n",
       "      <th>ponds_around3000</th>\n",
       "      <th>ponds_nearest</th>\n",
       "      <th>days_exposition</th>\n",
       "    </tr>\n",
       "  </thead>\n",
       "  <tbody>\n",
       "    <tr>\n",
       "      <th>0</th>\n",
       "      <td>20</td>\n",
       "      <td>13000000.0</td>\n",
       "      <td>108.00</td>\n",
       "      <td>2019-03-07T00:00:00</td>\n",
       "      <td>3</td>\n",
       "      <td>2.70</td>\n",
       "      <td>16.0</td>\n",
       "      <td>51.00</td>\n",
       "      <td>8</td>\n",
       "      <td>NaN</td>\n",
       "      <td>...</td>\n",
       "      <td>25.00</td>\n",
       "      <td>NaN</td>\n",
       "      <td>Санкт-Петербург</td>\n",
       "      <td>18863.0</td>\n",
       "      <td>16028.0</td>\n",
       "      <td>1.0</td>\n",
       "      <td>482.0</td>\n",
       "      <td>2.0</td>\n",
       "      <td>755.0</td>\n",
       "      <td>NaN</td>\n",
       "    </tr>\n",
       "    <tr>\n",
       "      <th>1</th>\n",
       "      <td>7</td>\n",
       "      <td>3350000.0</td>\n",
       "      <td>40.40</td>\n",
       "      <td>2018-12-04T00:00:00</td>\n",
       "      <td>1</td>\n",
       "      <td>NaN</td>\n",
       "      <td>11.0</td>\n",
       "      <td>18.60</td>\n",
       "      <td>1</td>\n",
       "      <td>NaN</td>\n",
       "      <td>...</td>\n",
       "      <td>11.00</td>\n",
       "      <td>2.0</td>\n",
       "      <td>посёлок Шушары</td>\n",
       "      <td>12817.0</td>\n",
       "      <td>18603.0</td>\n",
       "      <td>0.0</td>\n",
       "      <td>NaN</td>\n",
       "      <td>0.0</td>\n",
       "      <td>NaN</td>\n",
       "      <td>81.0</td>\n",
       "    </tr>\n",
       "    <tr>\n",
       "      <th>2</th>\n",
       "      <td>10</td>\n",
       "      <td>5196000.0</td>\n",
       "      <td>56.00</td>\n",
       "      <td>2015-08-20T00:00:00</td>\n",
       "      <td>2</td>\n",
       "      <td>NaN</td>\n",
       "      <td>5.0</td>\n",
       "      <td>34.30</td>\n",
       "      <td>4</td>\n",
       "      <td>NaN</td>\n",
       "      <td>...</td>\n",
       "      <td>8.30</td>\n",
       "      <td>0.0</td>\n",
       "      <td>Санкт-Петербург</td>\n",
       "      <td>21741.0</td>\n",
       "      <td>13933.0</td>\n",
       "      <td>1.0</td>\n",
       "      <td>90.0</td>\n",
       "      <td>2.0</td>\n",
       "      <td>574.0</td>\n",
       "      <td>558.0</td>\n",
       "    </tr>\n",
       "    <tr>\n",
       "      <th>3</th>\n",
       "      <td>0</td>\n",
       "      <td>64900000.0</td>\n",
       "      <td>159.00</td>\n",
       "      <td>2015-07-24T00:00:00</td>\n",
       "      <td>3</td>\n",
       "      <td>NaN</td>\n",
       "      <td>14.0</td>\n",
       "      <td>NaN</td>\n",
       "      <td>9</td>\n",
       "      <td>NaN</td>\n",
       "      <td>...</td>\n",
       "      <td>NaN</td>\n",
       "      <td>0.0</td>\n",
       "      <td>Санкт-Петербург</td>\n",
       "      <td>28098.0</td>\n",
       "      <td>6800.0</td>\n",
       "      <td>2.0</td>\n",
       "      <td>84.0</td>\n",
       "      <td>3.0</td>\n",
       "      <td>234.0</td>\n",
       "      <td>424.0</td>\n",
       "    </tr>\n",
       "    <tr>\n",
       "      <th>4</th>\n",
       "      <td>2</td>\n",
       "      <td>10000000.0</td>\n",
       "      <td>100.00</td>\n",
       "      <td>2018-06-19T00:00:00</td>\n",
       "      <td>2</td>\n",
       "      <td>3.03</td>\n",
       "      <td>14.0</td>\n",
       "      <td>32.00</td>\n",
       "      <td>13</td>\n",
       "      <td>NaN</td>\n",
       "      <td>...</td>\n",
       "      <td>41.00</td>\n",
       "      <td>NaN</td>\n",
       "      <td>Санкт-Петербург</td>\n",
       "      <td>31856.0</td>\n",
       "      <td>8098.0</td>\n",
       "      <td>2.0</td>\n",
       "      <td>112.0</td>\n",
       "      <td>1.0</td>\n",
       "      <td>48.0</td>\n",
       "      <td>121.0</td>\n",
       "    </tr>\n",
       "    <tr>\n",
       "      <th>5</th>\n",
       "      <td>10</td>\n",
       "      <td>2890000.0</td>\n",
       "      <td>30.40</td>\n",
       "      <td>2018-09-10T00:00:00</td>\n",
       "      <td>1</td>\n",
       "      <td>NaN</td>\n",
       "      <td>12.0</td>\n",
       "      <td>14.40</td>\n",
       "      <td>5</td>\n",
       "      <td>NaN</td>\n",
       "      <td>...</td>\n",
       "      <td>9.10</td>\n",
       "      <td>NaN</td>\n",
       "      <td>городской посёлок Янино-1</td>\n",
       "      <td>NaN</td>\n",
       "      <td>NaN</td>\n",
       "      <td>NaN</td>\n",
       "      <td>NaN</td>\n",
       "      <td>NaN</td>\n",
       "      <td>NaN</td>\n",
       "      <td>55.0</td>\n",
       "    </tr>\n",
       "    <tr>\n",
       "      <th>6</th>\n",
       "      <td>6</td>\n",
       "      <td>3700000.0</td>\n",
       "      <td>37.30</td>\n",
       "      <td>2017-11-02T00:00:00</td>\n",
       "      <td>1</td>\n",
       "      <td>NaN</td>\n",
       "      <td>26.0</td>\n",
       "      <td>10.60</td>\n",
       "      <td>6</td>\n",
       "      <td>NaN</td>\n",
       "      <td>...</td>\n",
       "      <td>14.40</td>\n",
       "      <td>1.0</td>\n",
       "      <td>посёлок Парголово</td>\n",
       "      <td>52996.0</td>\n",
       "      <td>19143.0</td>\n",
       "      <td>0.0</td>\n",
       "      <td>NaN</td>\n",
       "      <td>0.0</td>\n",
       "      <td>NaN</td>\n",
       "      <td>155.0</td>\n",
       "    </tr>\n",
       "    <tr>\n",
       "      <th>7</th>\n",
       "      <td>5</td>\n",
       "      <td>7915000.0</td>\n",
       "      <td>71.60</td>\n",
       "      <td>2019-04-18T00:00:00</td>\n",
       "      <td>2</td>\n",
       "      <td>NaN</td>\n",
       "      <td>24.0</td>\n",
       "      <td>NaN</td>\n",
       "      <td>22</td>\n",
       "      <td>NaN</td>\n",
       "      <td>...</td>\n",
       "      <td>18.90</td>\n",
       "      <td>2.0</td>\n",
       "      <td>Санкт-Петербург</td>\n",
       "      <td>23982.0</td>\n",
       "      <td>11634.0</td>\n",
       "      <td>0.0</td>\n",
       "      <td>NaN</td>\n",
       "      <td>0.0</td>\n",
       "      <td>NaN</td>\n",
       "      <td>NaN</td>\n",
       "    </tr>\n",
       "    <tr>\n",
       "      <th>8</th>\n",
       "      <td>20</td>\n",
       "      <td>2900000.0</td>\n",
       "      <td>33.16</td>\n",
       "      <td>2018-05-23T00:00:00</td>\n",
       "      <td>1</td>\n",
       "      <td>NaN</td>\n",
       "      <td>27.0</td>\n",
       "      <td>15.43</td>\n",
       "      <td>26</td>\n",
       "      <td>NaN</td>\n",
       "      <td>...</td>\n",
       "      <td>8.81</td>\n",
       "      <td>NaN</td>\n",
       "      <td>посёлок Мурино</td>\n",
       "      <td>NaN</td>\n",
       "      <td>NaN</td>\n",
       "      <td>NaN</td>\n",
       "      <td>NaN</td>\n",
       "      <td>NaN</td>\n",
       "      <td>NaN</td>\n",
       "      <td>189.0</td>\n",
       "    </tr>\n",
       "    <tr>\n",
       "      <th>9</th>\n",
       "      <td>18</td>\n",
       "      <td>5400000.0</td>\n",
       "      <td>61.00</td>\n",
       "      <td>2017-02-26T00:00:00</td>\n",
       "      <td>3</td>\n",
       "      <td>2.50</td>\n",
       "      <td>9.0</td>\n",
       "      <td>43.60</td>\n",
       "      <td>7</td>\n",
       "      <td>NaN</td>\n",
       "      <td>...</td>\n",
       "      <td>6.50</td>\n",
       "      <td>2.0</td>\n",
       "      <td>Санкт-Петербург</td>\n",
       "      <td>50898.0</td>\n",
       "      <td>15008.0</td>\n",
       "      <td>0.0</td>\n",
       "      <td>NaN</td>\n",
       "      <td>0.0</td>\n",
       "      <td>NaN</td>\n",
       "      <td>289.0</td>\n",
       "    </tr>\n",
       "    <tr>\n",
       "      <th>10</th>\n",
       "      <td>5</td>\n",
       "      <td>5050000.0</td>\n",
       "      <td>39.60</td>\n",
       "      <td>2017-11-16T00:00:00</td>\n",
       "      <td>1</td>\n",
       "      <td>2.67</td>\n",
       "      <td>12.0</td>\n",
       "      <td>20.30</td>\n",
       "      <td>3</td>\n",
       "      <td>NaN</td>\n",
       "      <td>...</td>\n",
       "      <td>8.50</td>\n",
       "      <td>NaN</td>\n",
       "      <td>Санкт-Петербург</td>\n",
       "      <td>38357.0</td>\n",
       "      <td>13878.0</td>\n",
       "      <td>1.0</td>\n",
       "      <td>310.0</td>\n",
       "      <td>2.0</td>\n",
       "      <td>553.0</td>\n",
       "      <td>137.0</td>\n",
       "    </tr>\n",
       "    <tr>\n",
       "      <th>11</th>\n",
       "      <td>9</td>\n",
       "      <td>3300000.0</td>\n",
       "      <td>44.00</td>\n",
       "      <td>2018-08-27T00:00:00</td>\n",
       "      <td>2</td>\n",
       "      <td>NaN</td>\n",
       "      <td>5.0</td>\n",
       "      <td>31.00</td>\n",
       "      <td>4</td>\n",
       "      <td>False</td>\n",
       "      <td>...</td>\n",
       "      <td>6.00</td>\n",
       "      <td>1.0</td>\n",
       "      <td>Ломоносов</td>\n",
       "      <td>48252.0</td>\n",
       "      <td>51677.0</td>\n",
       "      <td>0.0</td>\n",
       "      <td>NaN</td>\n",
       "      <td>0.0</td>\n",
       "      <td>NaN</td>\n",
       "      <td>7.0</td>\n",
       "    </tr>\n",
       "    <tr>\n",
       "      <th>12</th>\n",
       "      <td>10</td>\n",
       "      <td>3890000.0</td>\n",
       "      <td>54.00</td>\n",
       "      <td>2016-06-30T00:00:00</td>\n",
       "      <td>2</td>\n",
       "      <td>NaN</td>\n",
       "      <td>5.0</td>\n",
       "      <td>30.00</td>\n",
       "      <td>5</td>\n",
       "      <td>NaN</td>\n",
       "      <td>...</td>\n",
       "      <td>9.00</td>\n",
       "      <td>0.0</td>\n",
       "      <td>Сертолово</td>\n",
       "      <td>NaN</td>\n",
       "      <td>NaN</td>\n",
       "      <td>NaN</td>\n",
       "      <td>NaN</td>\n",
       "      <td>NaN</td>\n",
       "      <td>NaN</td>\n",
       "      <td>90.0</td>\n",
       "    </tr>\n",
       "    <tr>\n",
       "      <th>13</th>\n",
       "      <td>20</td>\n",
       "      <td>3550000.0</td>\n",
       "      <td>42.80</td>\n",
       "      <td>2017-07-01T00:00:00</td>\n",
       "      <td>2</td>\n",
       "      <td>2.56</td>\n",
       "      <td>5.0</td>\n",
       "      <td>27.00</td>\n",
       "      <td>5</td>\n",
       "      <td>NaN</td>\n",
       "      <td>...</td>\n",
       "      <td>5.20</td>\n",
       "      <td>1.0</td>\n",
       "      <td>Петергоф</td>\n",
       "      <td>37868.0</td>\n",
       "      <td>33058.0</td>\n",
       "      <td>1.0</td>\n",
       "      <td>294.0</td>\n",
       "      <td>3.0</td>\n",
       "      <td>298.0</td>\n",
       "      <td>366.0</td>\n",
       "    </tr>\n",
       "    <tr>\n",
       "      <th>14</th>\n",
       "      <td>1</td>\n",
       "      <td>4400000.0</td>\n",
       "      <td>36.00</td>\n",
       "      <td>2016-06-23T00:00:00</td>\n",
       "      <td>1</td>\n",
       "      <td>NaN</td>\n",
       "      <td>6.0</td>\n",
       "      <td>17.00</td>\n",
       "      <td>1</td>\n",
       "      <td>NaN</td>\n",
       "      <td>...</td>\n",
       "      <td>8.00</td>\n",
       "      <td>0.0</td>\n",
       "      <td>Пушкин</td>\n",
       "      <td>20782.0</td>\n",
       "      <td>30759.0</td>\n",
       "      <td>0.0</td>\n",
       "      <td>NaN</td>\n",
       "      <td>1.0</td>\n",
       "      <td>96.0</td>\n",
       "      <td>203.0</td>\n",
       "    </tr>\n",
       "    <tr>\n",
       "      <th>15</th>\n",
       "      <td>16</td>\n",
       "      <td>4650000.0</td>\n",
       "      <td>39.00</td>\n",
       "      <td>2017-11-18T00:00:00</td>\n",
       "      <td>1</td>\n",
       "      <td>NaN</td>\n",
       "      <td>14.0</td>\n",
       "      <td>20.50</td>\n",
       "      <td>5</td>\n",
       "      <td>NaN</td>\n",
       "      <td>...</td>\n",
       "      <td>7.60</td>\n",
       "      <td>1.0</td>\n",
       "      <td>Санкт-Петербург</td>\n",
       "      <td>12900.0</td>\n",
       "      <td>14259.0</td>\n",
       "      <td>1.0</td>\n",
       "      <td>590.0</td>\n",
       "      <td>1.0</td>\n",
       "      <td>296.0</td>\n",
       "      <td>19.0</td>\n",
       "    </tr>\n",
       "    <tr>\n",
       "      <th>16</th>\n",
       "      <td>11</td>\n",
       "      <td>6700000.0</td>\n",
       "      <td>82.00</td>\n",
       "      <td>2017-11-23T00:00:00</td>\n",
       "      <td>3</td>\n",
       "      <td>3.05</td>\n",
       "      <td>5.0</td>\n",
       "      <td>55.60</td>\n",
       "      <td>1</td>\n",
       "      <td>NaN</td>\n",
       "      <td>...</td>\n",
       "      <td>9.00</td>\n",
       "      <td>NaN</td>\n",
       "      <td>Санкт-Петербург</td>\n",
       "      <td>22108.0</td>\n",
       "      <td>10698.0</td>\n",
       "      <td>3.0</td>\n",
       "      <td>420.0</td>\n",
       "      <td>0.0</td>\n",
       "      <td>NaN</td>\n",
       "      <td>397.0</td>\n",
       "    </tr>\n",
       "    <tr>\n",
       "      <th>17</th>\n",
       "      <td>6</td>\n",
       "      <td>4180000.0</td>\n",
       "      <td>36.00</td>\n",
       "      <td>2016-09-09T00:00:00</td>\n",
       "      <td>1</td>\n",
       "      <td>NaN</td>\n",
       "      <td>17.0</td>\n",
       "      <td>16.50</td>\n",
       "      <td>7</td>\n",
       "      <td>NaN</td>\n",
       "      <td>...</td>\n",
       "      <td>11.00</td>\n",
       "      <td>1.0</td>\n",
       "      <td>Санкт-Петербург</td>\n",
       "      <td>33564.0</td>\n",
       "      <td>14616.0</td>\n",
       "      <td>0.0</td>\n",
       "      <td>NaN</td>\n",
       "      <td>1.0</td>\n",
       "      <td>859.0</td>\n",
       "      <td>571.0</td>\n",
       "    </tr>\n",
       "    <tr>\n",
       "      <th>18</th>\n",
       "      <td>8</td>\n",
       "      <td>3250000.0</td>\n",
       "      <td>31.00</td>\n",
       "      <td>2017-01-27T00:00:00</td>\n",
       "      <td>1</td>\n",
       "      <td>2.50</td>\n",
       "      <td>5.0</td>\n",
       "      <td>19.40</td>\n",
       "      <td>2</td>\n",
       "      <td>NaN</td>\n",
       "      <td>...</td>\n",
       "      <td>5.60</td>\n",
       "      <td>1.0</td>\n",
       "      <td>Санкт-Петербург</td>\n",
       "      <td>44060.0</td>\n",
       "      <td>10842.0</td>\n",
       "      <td>1.0</td>\n",
       "      <td>759.0</td>\n",
       "      <td>0.0</td>\n",
       "      <td>NaN</td>\n",
       "      <td>168.0</td>\n",
       "    </tr>\n",
       "    <tr>\n",
       "      <th>19</th>\n",
       "      <td>16</td>\n",
       "      <td>14200000.0</td>\n",
       "      <td>121.00</td>\n",
       "      <td>2019-01-09T00:00:00</td>\n",
       "      <td>3</td>\n",
       "      <td>2.75</td>\n",
       "      <td>16.0</td>\n",
       "      <td>76.00</td>\n",
       "      <td>8</td>\n",
       "      <td>NaN</td>\n",
       "      <td>...</td>\n",
       "      <td>12.00</td>\n",
       "      <td>NaN</td>\n",
       "      <td>Санкт-Петербург</td>\n",
       "      <td>38900.0</td>\n",
       "      <td>12843.0</td>\n",
       "      <td>0.0</td>\n",
       "      <td>NaN</td>\n",
       "      <td>0.0</td>\n",
       "      <td>NaN</td>\n",
       "      <td>97.0</td>\n",
       "    </tr>\n",
       "  </tbody>\n",
       "</table>\n",
       "<p>20 rows × 22 columns</p>\n",
       "</div>"
      ],
      "text/plain": [
       "    total_images  last_price  total_area first_day_exposition  rooms  \\\n",
       "0             20  13000000.0      108.00  2019-03-07T00:00:00      3   \n",
       "1              7   3350000.0       40.40  2018-12-04T00:00:00      1   \n",
       "2             10   5196000.0       56.00  2015-08-20T00:00:00      2   \n",
       "3              0  64900000.0      159.00  2015-07-24T00:00:00      3   \n",
       "4              2  10000000.0      100.00  2018-06-19T00:00:00      2   \n",
       "5             10   2890000.0       30.40  2018-09-10T00:00:00      1   \n",
       "6              6   3700000.0       37.30  2017-11-02T00:00:00      1   \n",
       "7              5   7915000.0       71.60  2019-04-18T00:00:00      2   \n",
       "8             20   2900000.0       33.16  2018-05-23T00:00:00      1   \n",
       "9             18   5400000.0       61.00  2017-02-26T00:00:00      3   \n",
       "10             5   5050000.0       39.60  2017-11-16T00:00:00      1   \n",
       "11             9   3300000.0       44.00  2018-08-27T00:00:00      2   \n",
       "12            10   3890000.0       54.00  2016-06-30T00:00:00      2   \n",
       "13            20   3550000.0       42.80  2017-07-01T00:00:00      2   \n",
       "14             1   4400000.0       36.00  2016-06-23T00:00:00      1   \n",
       "15            16   4650000.0       39.00  2017-11-18T00:00:00      1   \n",
       "16            11   6700000.0       82.00  2017-11-23T00:00:00      3   \n",
       "17             6   4180000.0       36.00  2016-09-09T00:00:00      1   \n",
       "18             8   3250000.0       31.00  2017-01-27T00:00:00      1   \n",
       "19            16  14200000.0      121.00  2019-01-09T00:00:00      3   \n",
       "\n",
       "    ceiling_height  floors_total  living_area  floor is_apartment  ...  \\\n",
       "0             2.70          16.0        51.00      8          NaN  ...   \n",
       "1              NaN          11.0        18.60      1          NaN  ...   \n",
       "2              NaN           5.0        34.30      4          NaN  ...   \n",
       "3              NaN          14.0          NaN      9          NaN  ...   \n",
       "4             3.03          14.0        32.00     13          NaN  ...   \n",
       "5              NaN          12.0        14.40      5          NaN  ...   \n",
       "6              NaN          26.0        10.60      6          NaN  ...   \n",
       "7              NaN          24.0          NaN     22          NaN  ...   \n",
       "8              NaN          27.0        15.43     26          NaN  ...   \n",
       "9             2.50           9.0        43.60      7          NaN  ...   \n",
       "10            2.67          12.0        20.30      3          NaN  ...   \n",
       "11             NaN           5.0        31.00      4        False  ...   \n",
       "12             NaN           5.0        30.00      5          NaN  ...   \n",
       "13            2.56           5.0        27.00      5          NaN  ...   \n",
       "14             NaN           6.0        17.00      1          NaN  ...   \n",
       "15             NaN          14.0        20.50      5          NaN  ...   \n",
       "16            3.05           5.0        55.60      1          NaN  ...   \n",
       "17             NaN          17.0        16.50      7          NaN  ...   \n",
       "18            2.50           5.0        19.40      2          NaN  ...   \n",
       "19            2.75          16.0        76.00      8          NaN  ...   \n",
       "\n",
       "    kitchen_area  balcony              locality_name  airports_nearest  \\\n",
       "0          25.00      NaN            Санкт-Петербург           18863.0   \n",
       "1          11.00      2.0             посёлок Шушары           12817.0   \n",
       "2           8.30      0.0            Санкт-Петербург           21741.0   \n",
       "3            NaN      0.0            Санкт-Петербург           28098.0   \n",
       "4          41.00      NaN            Санкт-Петербург           31856.0   \n",
       "5           9.10      NaN  городской посёлок Янино-1               NaN   \n",
       "6          14.40      1.0          посёлок Парголово           52996.0   \n",
       "7          18.90      2.0            Санкт-Петербург           23982.0   \n",
       "8           8.81      NaN             посёлок Мурино               NaN   \n",
       "9           6.50      2.0            Санкт-Петербург           50898.0   \n",
       "10          8.50      NaN            Санкт-Петербург           38357.0   \n",
       "11          6.00      1.0                  Ломоносов           48252.0   \n",
       "12          9.00      0.0                  Сертолово               NaN   \n",
       "13          5.20      1.0                   Петергоф           37868.0   \n",
       "14          8.00      0.0                     Пушкин           20782.0   \n",
       "15          7.60      1.0            Санкт-Петербург           12900.0   \n",
       "16          9.00      NaN            Санкт-Петербург           22108.0   \n",
       "17         11.00      1.0            Санкт-Петербург           33564.0   \n",
       "18          5.60      1.0            Санкт-Петербург           44060.0   \n",
       "19         12.00      NaN            Санкт-Петербург           38900.0   \n",
       "\n",
       "   cityCenters_nearest  parks_around3000  parks_nearest  ponds_around3000  \\\n",
       "0              16028.0               1.0          482.0               2.0   \n",
       "1              18603.0               0.0            NaN               0.0   \n",
       "2              13933.0               1.0           90.0               2.0   \n",
       "3               6800.0               2.0           84.0               3.0   \n",
       "4               8098.0               2.0          112.0               1.0   \n",
       "5                  NaN               NaN            NaN               NaN   \n",
       "6              19143.0               0.0            NaN               0.0   \n",
       "7              11634.0               0.0            NaN               0.0   \n",
       "8                  NaN               NaN            NaN               NaN   \n",
       "9              15008.0               0.0            NaN               0.0   \n",
       "10             13878.0               1.0          310.0               2.0   \n",
       "11             51677.0               0.0            NaN               0.0   \n",
       "12                 NaN               NaN            NaN               NaN   \n",
       "13             33058.0               1.0          294.0               3.0   \n",
       "14             30759.0               0.0            NaN               1.0   \n",
       "15             14259.0               1.0          590.0               1.0   \n",
       "16             10698.0               3.0          420.0               0.0   \n",
       "17             14616.0               0.0            NaN               1.0   \n",
       "18             10842.0               1.0          759.0               0.0   \n",
       "19             12843.0               0.0            NaN               0.0   \n",
       "\n",
       "    ponds_nearest  days_exposition  \n",
       "0           755.0              NaN  \n",
       "1             NaN             81.0  \n",
       "2           574.0            558.0  \n",
       "3           234.0            424.0  \n",
       "4            48.0            121.0  \n",
       "5             NaN             55.0  \n",
       "6             NaN            155.0  \n",
       "7             NaN              NaN  \n",
       "8             NaN            189.0  \n",
       "9             NaN            289.0  \n",
       "10          553.0            137.0  \n",
       "11            NaN              7.0  \n",
       "12            NaN             90.0  \n",
       "13          298.0            366.0  \n",
       "14           96.0            203.0  \n",
       "15          296.0             19.0  \n",
       "16            NaN            397.0  \n",
       "17          859.0            571.0  \n",
       "18            NaN            168.0  \n",
       "19            NaN             97.0  \n",
       "\n",
       "[20 rows x 22 columns]"
      ]
     },
     "execution_count": 2,
     "metadata": {},
     "output_type": "execute_result"
    }
   ],
   "source": [
    "data.head(20)"
   ]
  },
  {
   "cell_type": "code",
   "execution_count": 3,
   "metadata": {},
   "outputs": [
    {
     "name": "stdout",
     "output_type": "stream",
     "text": [
      "<class 'pandas.core.frame.DataFrame'>\n",
      "RangeIndex: 23699 entries, 0 to 23698\n",
      "Data columns (total 22 columns):\n",
      " #   Column                Non-Null Count  Dtype  \n",
      "---  ------                --------------  -----  \n",
      " 0   total_images          23699 non-null  int64  \n",
      " 1   last_price            23699 non-null  float64\n",
      " 2   total_area            23699 non-null  float64\n",
      " 3   first_day_exposition  23699 non-null  object \n",
      " 4   rooms                 23699 non-null  int64  \n",
      " 5   ceiling_height        14504 non-null  float64\n",
      " 6   floors_total          23613 non-null  float64\n",
      " 7   living_area           21796 non-null  float64\n",
      " 8   floor                 23699 non-null  int64  \n",
      " 9   is_apartment          2775 non-null   object \n",
      " 10  studio                23699 non-null  bool   \n",
      " 11  open_plan             23699 non-null  bool   \n",
      " 12  kitchen_area          21421 non-null  float64\n",
      " 13  balcony               12180 non-null  float64\n",
      " 14  locality_name         23650 non-null  object \n",
      " 15  airports_nearest      18157 non-null  float64\n",
      " 16  cityCenters_nearest   18180 non-null  float64\n",
      " 17  parks_around3000      18181 non-null  float64\n",
      " 18  parks_nearest         8079 non-null   float64\n",
      " 19  ponds_around3000      18181 non-null  float64\n",
      " 20  ponds_nearest         9110 non-null   float64\n",
      " 21  days_exposition       20518 non-null  float64\n",
      "dtypes: bool(2), float64(14), int64(3), object(3)\n",
      "memory usage: 3.7+ MB\n"
     ]
    }
   ],
   "source": [
    "data.info()"
   ]
  },
  {
   "cell_type": "code",
   "execution_count": 4,
   "metadata": {
    "scrolled": true
   },
   "outputs": [
    {
     "data": {
      "image/png": "[encoded data removed]",
      "text/plain": [
       "<Figure size 1080x1440 with 20 Axes>"
      ]
     },
     "metadata": {
      "needs_background": "light"
     },
     "output_type": "display_data"
    }
   ],
   "source": [
    "data.hist(figsize=(15, 20));"
   ]
  },
  {
   "cell_type": "markdown",
   "metadata": {},
   "source": [
    "Ряд графиков получился непоказательным. Выведем их с другими параметрами:"
   ]
  },
  {
   "cell_type": "code",
   "execution_count": 5,
   "metadata": {},
   "outputs": [
    {
     "data": {
      "text/plain": [
       "<AxesSubplot:>"
      ]
     },
     "execution_count": 5,
     "metadata": {},
     "output_type": "execute_result"
    },
    {
     "data": {
      "image/png": "[encoded data removed]",
      "text/plain": [
       "<Figure size 432x288 with 1 Axes>"
      ]
     },
     "metadata": {
      "needs_background": "light"
     },
     "output_type": "display_data"
    }
   ],
   "source": [
    "data['last_price'].hist(range=(0,1e7))"
   ]
  },
  {
   "cell_type": "code",
   "execution_count": 6,
   "metadata": {},
   "outputs": [
    {
     "data": {
      "text/plain": [
       "<AxesSubplot:>"
      ]
     },
     "execution_count": 6,
     "metadata": {},
     "output_type": "execute_result"
    },
    {
     "data": {
      "image/png": "[encoded data removed]",
      "text/plain": [
       "<Figure size 432x288 with 1 Axes>"
      ]
     },
     "metadata": {
      "needs_background": "light"
     },
     "output_type": "display_data"
    }
   ],
   "source": [
    "data['total_area'].hist(range=(0,300))"
   ]
  },
  {
   "cell_type": "code",
   "execution_count": 7,
   "metadata": {},
   "outputs": [
    {
     "data": {
      "text/plain": [
       "<AxesSubplot:>"
      ]
     },
     "execution_count": 7,
     "metadata": {},
     "output_type": "execute_result"
    },
    {
     "data": {
      "image/png": "[encoded data removed]",
      "text/plain": [
       "<Figure size 432x288 with 1 Axes>"
      ]
     },
     "metadata": {
      "needs_background": "light"
     },
     "output_type": "display_data"
    }
   ],
   "source": [
    "data['ceiling_height'].hist(range=(0,4))"
   ]
  },
  {
   "cell_type": "markdown",
   "metadata": {},
   "source": [
    "__Вывод:__ Пердставлены табличные данные с 23699 записями по продаже недвижимости. Данные включают в себя как описание характеристики недвижимости (площадь, высоту потолков, наличие балконов и т.д.), так и картографические характеристики: растояние до центра города, парков, прудов и т.д. \n",
    "\n",
    "Данные представленны неравномерно, требуют предварительной обработки."
   ]
  },
  {
   "cell_type": "markdown",
   "metadata": {},
   "source": [
    "## Предобработка данных"
   ]
  },
  {
   "cell_type": "markdown",
   "metadata": {},
   "source": [
    "### Пропуски данных"
   ]
  },
  {
   "cell_type": "code",
   "execution_count": 8,
   "metadata": {},
   "outputs": [
    {
     "data": {
      "text/plain": [
       "total_images                0\n",
       "last_price                  0\n",
       "total_area                  0\n",
       "first_day_exposition        0\n",
       "rooms                       0\n",
       "ceiling_height           9195\n",
       "floors_total               86\n",
       "living_area              1903\n",
       "floor                       0\n",
       "is_apartment            20924\n",
       "studio                      0\n",
       "open_plan                   0\n",
       "kitchen_area             2278\n",
       "balcony                 11519\n",
       "locality_name              49\n",
       "airports_nearest         5542\n",
       "cityCenters_nearest      5519\n",
       "parks_around3000         5518\n",
       "parks_nearest           15620\n",
       "ponds_around3000         5518\n",
       "ponds_nearest           14589\n",
       "days_exposition          3181\n",
       "dtype: int64"
      ]
     },
     "execution_count": 8,
     "metadata": {},
     "output_type": "execute_result"
    }
   ],
   "source": [
    "data.isna().sum()"
   ]
  },
  {
   "cell_type": "code",
   "execution_count": 3,
   "metadata": {},
   "outputs": [
    {
     "data": {
      "text/html": [
       "<style  type=\"text/css\" >\n",
       "#T_2ad6f_row0_col0,#T_2ad6f_row1_col0,#T_2ad6f_row2_col0,#T_2ad6f_row3_col0,#T_2ad6f_row4_col0,#T_2ad6f_row6_col0,#T_2ad6f_row8_col0,#T_2ad6f_row10_col0,#T_2ad6f_row11_col0,#T_2ad6f_row14_col0{\n",
       "            background-color:  #3b4cc0;\n",
       "            color:  #f1f1f1;\n",
       "        }#T_2ad6f_row5_col0{\n",
       "            background-color:  #cdd9ec;\n",
       "            color:  #000000;\n",
       "        }#T_2ad6f_row7_col0{\n",
       "            background-color:  #5673e0;\n",
       "            color:  #000000;\n",
       "        }#T_2ad6f_row9_col0{\n",
       "            background-color:  #b40426;\n",
       "            color:  #f1f1f1;\n",
       "        }#T_2ad6f_row12_col0{\n",
       "            background-color:  #5e7de7;\n",
       "            color:  #000000;\n",
       "        }#T_2ad6f_row13_col0{\n",
       "            background-color:  #ead4c8;\n",
       "            color:  #000000;\n",
       "        }#T_2ad6f_row15_col0,#T_2ad6f_row16_col0,#T_2ad6f_row17_col0,#T_2ad6f_row19_col0{\n",
       "            background-color:  #90b2fe;\n",
       "            color:  #000000;\n",
       "        }#T_2ad6f_row18_col0{\n",
       "            background-color:  #f4987a;\n",
       "            color:  #000000;\n",
       "        }#T_2ad6f_row20_col0{\n",
       "            background-color:  #f7aa8c;\n",
       "            color:  #000000;\n",
       "        }#T_2ad6f_row21_col0{\n",
       "            background-color:  #688aef;\n",
       "            color:  #000000;\n",
       "        }</style><table id=\"T_2ad6f_\" ><thead>    <tr>        <th class=\"blank level0\" ></th>        <th class=\"col_heading level0 col0\" >0</th>    </tr></thead><tbody>\n",
       "                <tr>\n",
       "                        <th id=\"T_2ad6f_level0_row0\" class=\"row_heading level0 row0\" >total_images</th>\n",
       "                        <td id=\"T_2ad6f_row0_col0\" class=\"data row0 col0\" >0.000000</td>\n",
       "            </tr>\n",
       "            <tr>\n",
       "                        <th id=\"T_2ad6f_level0_row1\" class=\"row_heading level0 row1\" >last_price</th>\n",
       "                        <td id=\"T_2ad6f_row1_col0\" class=\"data row1 col0\" >0.000000</td>\n",
       "            </tr>\n",
       "            <tr>\n",
       "                        <th id=\"T_2ad6f_level0_row2\" class=\"row_heading level0 row2\" >total_area</th>\n",
       "                        <td id=\"T_2ad6f_row2_col0\" class=\"data row2 col0\" >0.000000</td>\n",
       "            </tr>\n",
       "            <tr>\n",
       "                        <th id=\"T_2ad6f_level0_row3\" class=\"row_heading level0 row3\" >first_day_exposition</th>\n",
       "                        <td id=\"T_2ad6f_row3_col0\" class=\"data row3 col0\" >0.000000</td>\n",
       "            </tr>\n",
       "            <tr>\n",
       "                        <th id=\"T_2ad6f_level0_row4\" class=\"row_heading level0 row4\" >rooms</th>\n",
       "                        <td id=\"T_2ad6f_row4_col0\" class=\"data row4 col0\" >0.000000</td>\n",
       "            </tr>\n",
       "            <tr>\n",
       "                        <th id=\"T_2ad6f_level0_row5\" class=\"row_heading level0 row5\" >ceiling_height</th>\n",
       "                        <td id=\"T_2ad6f_row5_col0\" class=\"data row5 col0\" >39.000000</td>\n",
       "            </tr>\n",
       "            <tr>\n",
       "                        <th id=\"T_2ad6f_level0_row6\" class=\"row_heading level0 row6\" >floors_total</th>\n",
       "                        <td id=\"T_2ad6f_row6_col0\" class=\"data row6 col0\" >0.000000</td>\n",
       "            </tr>\n",
       "            <tr>\n",
       "                        <th id=\"T_2ad6f_level0_row7\" class=\"row_heading level0 row7\" >living_area</th>\n",
       "                        <td id=\"T_2ad6f_row7_col0\" class=\"data row7 col0\" >8.000000</td>\n",
       "            </tr>\n",
       "            <tr>\n",
       "                        <th id=\"T_2ad6f_level0_row8\" class=\"row_heading level0 row8\" >floor</th>\n",
       "                        <td id=\"T_2ad6f_row8_col0\" class=\"data row8 col0\" >0.000000</td>\n",
       "            </tr>\n",
       "            <tr>\n",
       "                        <th id=\"T_2ad6f_level0_row9\" class=\"row_heading level0 row9\" >is_apartment</th>\n",
       "                        <td id=\"T_2ad6f_row9_col0\" class=\"data row9 col0\" >88.000000</td>\n",
       "            </tr>\n",
       "            <tr>\n",
       "                        <th id=\"T_2ad6f_level0_row10\" class=\"row_heading level0 row10\" >studio</th>\n",
       "                        <td id=\"T_2ad6f_row10_col0\" class=\"data row10 col0\" >0.000000</td>\n",
       "            </tr>\n",
       "            <tr>\n",
       "                        <th id=\"T_2ad6f_level0_row11\" class=\"row_heading level0 row11\" >open_plan</th>\n",
       "                        <td id=\"T_2ad6f_row11_col0\" class=\"data row11 col0\" >0.000000</td>\n",
       "            </tr>\n",
       "            <tr>\n",
       "                        <th id=\"T_2ad6f_level0_row12\" class=\"row_heading level0 row12\" >kitchen_area</th>\n",
       "                        <td id=\"T_2ad6f_row12_col0\" class=\"data row12 col0\" >10.000000</td>\n",
       "            </tr>\n",
       "            <tr>\n",
       "                        <th id=\"T_2ad6f_level0_row13\" class=\"row_heading level0 row13\" >balcony</th>\n",
       "                        <td id=\"T_2ad6f_row13_col0\" class=\"data row13 col0\" >49.000000</td>\n",
       "            </tr>\n",
       "            <tr>\n",
       "                        <th id=\"T_2ad6f_level0_row14\" class=\"row_heading level0 row14\" >locality_name</th>\n",
       "                        <td id=\"T_2ad6f_row14_col0\" class=\"data row14 col0\" >0.000000</td>\n",
       "            </tr>\n",
       "            <tr>\n",
       "                        <th id=\"T_2ad6f_level0_row15\" class=\"row_heading level0 row15\" >airports_nearest</th>\n",
       "                        <td id=\"T_2ad6f_row15_col0\" class=\"data row15 col0\" >23.000000</td>\n",
       "            </tr>\n",
       "            <tr>\n",
       "                        <th id=\"T_2ad6f_level0_row16\" class=\"row_heading level0 row16\" >cityCenters_nearest</th>\n",
       "                        <td id=\"T_2ad6f_row16_col0\" class=\"data row16 col0\" >23.000000</td>\n",
       "            </tr>\n",
       "            <tr>\n",
       "                        <th id=\"T_2ad6f_level0_row17\" class=\"row_heading level0 row17\" >parks_around3000</th>\n",
       "                        <td id=\"T_2ad6f_row17_col0\" class=\"data row17 col0\" >23.000000</td>\n",
       "            </tr>\n",
       "            <tr>\n",
       "                        <th id=\"T_2ad6f_level0_row18\" class=\"row_heading level0 row18\" >parks_nearest</th>\n",
       "                        <td id=\"T_2ad6f_row18_col0\" class=\"data row18 col0\" >66.000000</td>\n",
       "            </tr>\n",
       "            <tr>\n",
       "                        <th id=\"T_2ad6f_level0_row19\" class=\"row_heading level0 row19\" >ponds_around3000</th>\n",
       "                        <td id=\"T_2ad6f_row19_col0\" class=\"data row19 col0\" >23.000000</td>\n",
       "            </tr>\n",
       "            <tr>\n",
       "                        <th id=\"T_2ad6f_level0_row20\" class=\"row_heading level0 row20\" >ponds_nearest</th>\n",
       "                        <td id=\"T_2ad6f_row20_col0\" class=\"data row20 col0\" >62.000000</td>\n",
       "            </tr>\n",
       "            <tr>\n",
       "                        <th id=\"T_2ad6f_level0_row21\" class=\"row_heading level0 row21\" >days_exposition</th>\n",
       "                        <td id=\"T_2ad6f_row21_col0\" class=\"data row21 col0\" >13.000000</td>\n",
       "            </tr>\n",
       "    </tbody></table>"
      ],
      "text/plain": [
       "<pandas.io.formats.style.Styler at 0x7fb2f9998520>"
      ]
     },
     "execution_count": 3,
     "metadata": {},
     "output_type": "execute_result"
    }
   ],
   "source": [
    "pd.DataFrame(round(data.isna().mean()*100,)).style.background_gradient('coolwarm')"
   ]
  },
  {
   "cell_type": "markdown",
   "metadata": {},
   "source": [
    "Пропущенные данные есть в 14 столбцах:\n",
    "* ceiling_height (9195) - высота потолков\n",
    "* floors_total (86) - количество этажей\n",
    "* living_area (1903) - жилая площадь\n",
    "* is_apartment (20924) - является ли сдаваемая квартира аппартаментами\n",
    "* kitchen_area (2278) - площадь кухни\n",
    "* balcony (11519) - наличие балкона\n",
    "* locality_name (49) - название населенного пункта\n",
    "* airports_nearest (5542) - расстояние до ближайшего аэропорта\n",
    "* cityCenters_nearest (5519) - расстояние до центра города\n",
    "* parks_around3000 (5518) - число парков в радиусе 3 км\n",
    "* parks_nearest (15620) - расстояние до ближайшего парка\n",
    "* ponds_around3000 (5518) - число прудов в радиусе 3 км\n",
    "* ponds_nearest (14589) - расстояние до ближайшего пруда\n",
    "* days_exposition (3181) -  сколько дней было размещено объявления\n"
   ]
  },
  {
   "cell_type": "markdown",
   "metadata": {},
   "source": [
    "__Постараемся заполнить пропуски__"
   ]
  },
  {
   "cell_type": "markdown",
   "metadata": {},
   "source": [
    "1) Пропуски в столбцах __floors_total__ и __locality_name__ не восстановимы. Общее количество этажей в здании может зависеть от слишком большого количества параметров (тип поселения, год постройки и т.д.), название населенного пункта тем более может быть любым из представленных в Ленинградской области. Но пропуски в этих столбцах малочисленны (86 и 49 соответственно), их можно отбросить без вреда для общей выборки."
   ]
  },
  {
   "cell_type": "code",
   "execution_count": 10,
   "metadata": {},
   "outputs": [],
   "source": [
    "data = data.dropna(subset=['floors_total','locality_name'])"
   ]
  },
  {
   "cell_type": "markdown",
   "metadata": {},
   "source": [
    "2) Пропуски в столбцах __airports_nearest__, __parks_nearest__ и __ponds_nearest__ заполнить невозможно. Это картографические данные, попытка заполнить их средними или медианой приведет к значительным искажениям в выборке."
   ]
  },
  {
   "cell_type": "markdown",
   "metadata": {},
   "source": [
    "3) Пропуски в столбце __cityCenters_nearest__ можно заполнить медианными данными по каждому населенному пункту, исходя из предположения, что в среднем расстояние в каждом населенном пункте до центра будет относительно одинаковым"
   ]
  },
  {
   "cell_type": "code",
   "execution_count": 11,
   "metadata": {},
   "outputs": [
    {
     "name": "stdout",
     "output_type": "stream",
     "text": [
      "0\n"
     ]
    }
   ],
   "source": [
    "for i in data['locality_name'].unique():\n",
    "    data['cityCenters_nearest'] = data['cityCenters_nearest'].fillna((data.loc[data['locality_name'] == i,'cityCenters_nearest']).median())\n",
    "print(data['cityCenters_nearest'].isna().sum())"
   ]
  },
  {
   "cell_type": "markdown",
   "metadata": {},
   "source": [
    "4) В столбцах __ponds_around3000__ и __parks_around3000__ отсутствие показателей можно интерпретировать как отсутствие парков или прудов ближе 3 км от квартиры, а следовательно - заполнить пропуски нулями."
   ]
  },
  {
   "cell_type": "code",
   "execution_count": 12,
   "metadata": {},
   "outputs": [],
   "source": [
    "data['ponds_around3000'] = data['ponds_around3000'].fillna(0)"
   ]
  },
  {
   "cell_type": "code",
   "execution_count": 13,
   "metadata": {},
   "outputs": [],
   "source": [
    "data['parks_around3000'] = data['parks_around3000'].fillna(0)"
   ]
  },
  {
   "cell_type": "markdown",
   "metadata": {},
   "source": [
    "5) В столбце __balcony__ отсутствие показателя скорее всего также говорит, что в квартире просто нет балкона. Заполним пропуски нулями."
   ]
  },
  {
   "cell_type": "code",
   "execution_count": 14,
   "metadata": {},
   "outputs": [],
   "source": [
    "data['balcony'] = data['balcony'].fillna(0)"
   ]
  },
  {
   "cell_type": "markdown",
   "metadata": {},
   "source": [
    "6) В столбце __is_apartment__ отсутствие показателя скорее всего говорит, что квартира не является аппартаментами. Заполним пропуски соответствующим значением."
   ]
  },
  {
   "cell_type": "code",
   "execution_count": 15,
   "metadata": {},
   "outputs": [
    {
     "data": {
      "text/plain": [
       "array([nan, False, True], dtype=object)"
      ]
     },
     "execution_count": 15,
     "metadata": {},
     "output_type": "execute_result"
    }
   ],
   "source": [
    "data['is_apartment'].unique()"
   ]
  },
  {
   "cell_type": "code",
   "execution_count": 16,
   "metadata": {},
   "outputs": [],
   "source": [
    "data['is_apartment'] = data['is_apartment'].fillna(False)"
   ]
  },
  {
   "cell_type": "markdown",
   "metadata": {},
   "source": [
    "7) Пропуски в столбцах __kitchen_area__ и __living_area__ можно постараться сократить, вычитая противоположный показатель из общей площади квартиры (пропусков в столбце __total_area__ нет). После чего посмотреть количество оставшихся пропусков в этих двух показателях."
   ]
  },
  {
   "cell_type": "code",
   "execution_count": 17,
   "metadata": {},
   "outputs": [],
   "source": [
    "data['living_area'] = data['living_area'].fillna(data['total_area'] - data['kitchen_area'])"
   ]
  },
  {
   "cell_type": "code",
   "execution_count": 18,
   "metadata": {},
   "outputs": [],
   "source": [
    "data['kitchen_area'] = data['kitchen_area'].fillna(data['total_area'] - data['living_area'])"
   ]
  },
  {
   "cell_type": "code",
   "execution_count": 19,
   "metadata": {},
   "outputs": [
    {
     "data": {
      "text/plain": [
       "1427"
      ]
     },
     "execution_count": 19,
     "metadata": {},
     "output_type": "execute_result"
    }
   ],
   "source": [
    "data['kitchen_area'].isna().sum()"
   ]
  },
  {
   "cell_type": "code",
   "execution_count": 20,
   "metadata": {},
   "outputs": [
    {
     "data": {
      "text/plain": [
       "1427"
      ]
     },
     "execution_count": 20,
     "metadata": {},
     "output_type": "execute_result"
    }
   ],
   "source": [
    "data['living_area'].isna().sum()"
   ]
  },
  {
   "cell_type": "markdown",
   "metadata": {},
   "source": [
    "Таким образом в обоих столбцах остались незаполненными данные по 1427 предложениям (до корректировки остальных данных), в которых одновременно не указаны как жилая площадь так и площадь кухни"
   ]
  },
  {
   "cell_type": "markdown",
   "metadata": {},
   "source": [
    "8) Высота потолков, указанная в столбце __ceiling_height__, обычно зависит от типа здания, а значит может быть рассчитана по медианному значению высоты потолков для квартир, расположенных в зданиях с одинаковым количеством этажей."
   ]
  },
  {
   "cell_type": "code",
   "execution_count": 21,
   "metadata": {},
   "outputs": [
    {
     "name": "stdout",
     "output_type": "stream",
     "text": [
      "0\n"
     ]
    }
   ],
   "source": [
    "for i in data['floors_total'].unique(): # для каждого здания с одинаковым количеством этажей\n",
    "    data['ceiling_height'] = data['ceiling_height'].fillna((data.loc[ data['floors_total'] == i,'ceiling_height']).median())\n",
    "print(data['ceiling_height'].isna().sum())"
   ]
  },
  {
   "cell_type": "markdown",
   "metadata": {},
   "source": [
    "8) Столбец __days_exposition__ вызывает вопросы по заполнению. Оставляем пропуски, поскольку возможно, что квартиры еще не проданы."
   ]
  },
  {
   "cell_type": "code",
   "execution_count": 22,
   "metadata": {
    "scrolled": true
   },
   "outputs": [
    {
     "data": {
      "text/plain": [
       "total_images                0\n",
       "last_price                  0\n",
       "total_area                  0\n",
       "first_day_exposition        0\n",
       "rooms                       0\n",
       "ceiling_height              0\n",
       "floors_total                0\n",
       "living_area              1427\n",
       "floor                       0\n",
       "is_apartment                0\n",
       "studio                      0\n",
       "open_plan                   0\n",
       "kitchen_area             1427\n",
       "balcony                     0\n",
       "locality_name               0\n",
       "airports_nearest         5524\n",
       "cityCenters_nearest         0\n",
       "parks_around3000            0\n",
       "parks_nearest           15535\n",
       "ponds_around3000            0\n",
       "ponds_nearest           14529\n",
       "days_exposition          3171\n",
       "dtype: int64"
      ]
     },
     "execution_count": 22,
     "metadata": {},
     "output_type": "execute_result"
    }
   ],
   "source": [
    "data.isna().sum()"
   ]
  },
  {
   "cell_type": "markdown",
   "metadata": {},
   "source": [
    "__Вывод:__ удалось избавиться почти от всех пропусков:\n",
    "* не удалось до конца восстановить пропуски в данных по размеру жилой площади / площади кухни - эти пропуски связаны друг с другом: там, где было возможно, пропуски были восстановлены с учетом данных по общей площади, но в 1427 случаях этого сделать оказалось невозможно (одновременно отсутсвуют данные как по кухне так и по жилой площади)\n",
    "* также не возможно уточнить данные по растоянию до ближайших парков, прудов и аэропортов (картографические данные)\n",
    "* пропуски в столбце с количеством выставленных дней также оставляем."
   ]
  },
  {
   "cell_type": "markdown",
   "metadata": {},
   "source": [
    "_Причинами в подобных пропусках данных могли быть а) человеческий фактор (невнимательность, нежелание заполнять те данные, которые кажутся лишними), б) технические ошибки в системе (при размещении объявления система не проверяет обязательное заполнение всех полей, технические сбои при выгрузке данных), в) отсутствие правильно заданных картографических показателей в системе._"
   ]
  },
  {
   "cell_type": "markdown",
   "metadata": {},
   "source": [
    "### Типы данных"
   ]
  },
  {
   "cell_type": "code",
   "execution_count": 23,
   "metadata": {},
   "outputs": [
    {
     "data": {
      "text/plain": [
       "total_images              int64\n",
       "last_price              float64\n",
       "total_area              float64\n",
       "first_day_exposition     object\n",
       "rooms                     int64\n",
       "ceiling_height          float64\n",
       "floors_total            float64\n",
       "living_area             float64\n",
       "floor                     int64\n",
       "is_apartment               bool\n",
       "studio                     bool\n",
       "open_plan                  bool\n",
       "kitchen_area            float64\n",
       "balcony                 float64\n",
       "locality_name            object\n",
       "airports_nearest        float64\n",
       "cityCenters_nearest     float64\n",
       "parks_around3000        float64\n",
       "parks_nearest           float64\n",
       "ponds_around3000        float64\n",
       "ponds_nearest           float64\n",
       "days_exposition         float64\n",
       "dtype: object"
      ]
     },
     "execution_count": 23,
     "metadata": {},
     "output_type": "execute_result"
    }
   ],
   "source": [
    "data.dtypes"
   ]
  },
  {
   "cell_type": "markdown",
   "metadata": {},
   "source": [
    "Рассмотрим типы данных в столбцах. Данные в столбце __first_day_exposition__ меняем на datetime64[ns]. По оставшимся столбцам стоит изменить тип данных с float на int в трех случаях - цена, общее количество этажей и количество балконов, поскольку эти данные могут быть выражены только целыми числами. Остальные данные представленны в корректных типах."
   ]
  },
  {
   "cell_type": "code",
   "execution_count": 24,
   "metadata": {},
   "outputs": [],
   "source": [
    "data['first_day_exposition'] = pd.to_datetime(data['first_day_exposition'], format='%Y-%m-%dT%H:%M:%S')"
   ]
  },
  {
   "cell_type": "code",
   "execution_count": 25,
   "metadata": {},
   "outputs": [],
   "source": [
    "data['last_price'] = data['last_price'].astype(int)"
   ]
  },
  {
   "cell_type": "code",
   "execution_count": 26,
   "metadata": {},
   "outputs": [],
   "source": [
    "data['floors_total'] = data['floors_total'].astype(int)"
   ]
  },
  {
   "cell_type": "code",
   "execution_count": 27,
   "metadata": {},
   "outputs": [],
   "source": [
    "data['balcony'] = data['balcony'].astype(int)"
   ]
  },
  {
   "cell_type": "code",
   "execution_count": 28,
   "metadata": {},
   "outputs": [
    {
     "data": {
      "text/plain": [
       "total_images                     int64\n",
       "last_price                       int64\n",
       "total_area                     float64\n",
       "first_day_exposition    datetime64[ns]\n",
       "rooms                            int64\n",
       "ceiling_height                 float64\n",
       "floors_total                     int64\n",
       "living_area                    float64\n",
       "floor                            int64\n",
       "is_apartment                      bool\n",
       "studio                            bool\n",
       "open_plan                         bool\n",
       "kitchen_area                   float64\n",
       "balcony                          int64\n",
       "locality_name                   object\n",
       "airports_nearest               float64\n",
       "cityCenters_nearest            float64\n",
       "parks_around3000               float64\n",
       "parks_nearest                  float64\n",
       "ponds_around3000               float64\n",
       "ponds_nearest                  float64\n",
       "days_exposition                float64\n",
       "dtype: object"
      ]
     },
     "execution_count": 28,
     "metadata": {},
     "output_type": "execute_result"
    }
   ],
   "source": [
    "data.dtypes"
   ]
  },
  {
   "cell_type": "markdown",
   "metadata": {},
   "source": [
    "__Итог:__ Типы данных приведены в соответствие."
   ]
  },
  {
   "cell_type": "markdown",
   "metadata": {},
   "source": [
    "### Уникальные значения"
   ]
  },
  {
   "cell_type": "markdown",
   "metadata": {},
   "source": [
    "Уникальные значения представлены в столбце __locality_name__. Проверим их на неявные дубликаты.\n",
    "\n",
    "Для начала отсортируем по алфавиту и выведем все уникальные значения."
   ]
  },
  {
   "cell_type": "code",
   "execution_count": 29,
   "metadata": {},
   "outputs": [
    {
     "data": {
      "text/plain": [
       "array(['Бокситогорск', 'Волосово', 'Волхов', 'Всеволожск', 'Выборг',\n",
       "       'Высоцк', 'Гатчина', 'Зеленогорск', 'Ивангород', 'Каменногорск',\n",
       "       'Кингисепп', 'Кириши', 'Кировск', 'Колпино', 'Коммунар',\n",
       "       'Красное Село', 'Кронштадт', 'Кудрово', 'Лодейное Поле',\n",
       "       'Ломоносов', 'Луга', 'Любань', 'Мурино', 'Никольское',\n",
       "       'Новая Ладога', 'Отрадное', 'Павловск', 'Петергоф', 'Пикалёво',\n",
       "       'Подпорожье', 'Приморск', 'Приозерск', 'Пушкин', 'Санкт-Петербург',\n",
       "       'Светогорск', 'Сертолово', 'Сестрорецк', 'Сланцы', 'Сосновый Бор',\n",
       "       'Сясьстрой', 'Тихвин', 'Тосно', 'Шлиссельбург',\n",
       "       'городской поселок Большая Ижора', 'городской поселок Янино-1',\n",
       "       'городской посёлок Будогощь', 'городской посёлок Виллози',\n",
       "       'городской посёлок Лесогорский', 'городской посёлок Мга',\n",
       "       'городской посёлок Назия', 'городской посёлок Новоселье',\n",
       "       'городской посёлок Павлово', 'городской посёлок Рощино',\n",
       "       'городской посёлок Свирьстрой', 'городской посёлок Советский',\n",
       "       'городской посёлок Фёдоровское', 'городской посёлок Янино-1',\n",
       "       'деревня Агалатово', 'деревня Аро', 'деревня Батово',\n",
       "       'деревня Бегуницы', 'деревня Белогорка', 'деревня Большая Вруда',\n",
       "       'деревня Большая Пустомержа', 'деревня Большие Колпаны',\n",
       "       'деревня Большое Рейзино', 'деревня Большой Сабск', 'деревня Бор',\n",
       "       'деревня Борисова Грива', 'деревня Ваганово', 'деревня Вартемяги',\n",
       "       'деревня Вахнова Кара', 'деревня Выскатка', 'деревня Гарболово',\n",
       "       'деревня Глинка', 'деревня Горбунки', 'деревня Гостилицы',\n",
       "       'деревня Заклинье', 'деревня Заневка', 'деревня Зимитицы',\n",
       "       'деревня Извара', 'деревня Иссад', 'деревня Калитино',\n",
       "       'деревня Кальтино', 'деревня Камышовка', 'деревня Каськово',\n",
       "       'деревня Келози', 'деревня Кипень', 'деревня Кисельня',\n",
       "       'деревня Колтуши', 'деревня Коркино', 'деревня Котлы',\n",
       "       'деревня Кривко', 'деревня Кудрово', 'деревня Кузьмолово',\n",
       "       'деревня Курковицы', 'деревня Куровицы', 'деревня Куттузи',\n",
       "       'деревня Лаврики', 'деревня Лаголово', 'деревня Лампово',\n",
       "       'деревня Лесколово', 'деревня Лопухинка', 'деревня Лупполово',\n",
       "       'деревня Малая Романовка', 'деревня Малое Верево',\n",
       "       'деревня Малое Карлино', 'деревня Малые Колпаны',\n",
       "       'деревня Мануйлово', 'деревня Меньково', 'деревня Мины',\n",
       "       'деревня Мистолово', 'деревня Ненимяки', 'деревня Нижние Осельки',\n",
       "       'деревня Нижняя', 'деревня Низино', 'деревня Новое Девяткино',\n",
       "       'деревня Новолисино', 'деревня Нурма', 'деревня Оржицы',\n",
       "       'деревня Парицы', 'деревня Пельгора', 'деревня Пеники',\n",
       "       'деревня Пижма', 'деревня Пикколово', 'деревня Пудомяги',\n",
       "       'деревня Пустынка', 'деревня Пчева', 'деревня Рабитицы',\n",
       "       'деревня Разбегаево', 'деревня Раздолье', 'деревня Разметелево',\n",
       "       'деревня Рапполово', 'деревня Реброво', 'деревня Русско',\n",
       "       'деревня Сижно', 'деревня Снегирёвка', 'деревня Старая',\n",
       "       'деревня Старая Пустошь', 'деревня Старое Хинколово',\n",
       "       'деревня Старополье', 'деревня Старосиверская',\n",
       "       'деревня Старые Бегуницы', 'деревня Суоранда',\n",
       "       'деревня Сяськелево', 'деревня Тарасово', 'деревня Терпилицы',\n",
       "       'деревня Тихковицы', 'деревня Тойворово', 'деревня Торосово',\n",
       "       'деревня Торошковичи', 'деревня Трубников Бор',\n",
       "       'деревня Фалилеево', 'деревня Фёдоровское', 'деревня Хапо-Ое',\n",
       "       'деревня Хязельки', 'деревня Чудской Бор', 'деревня Шпаньково',\n",
       "       'деревня Щеглово', 'деревня Юкки', 'деревня Ялгино',\n",
       "       'деревня Яльгелево', 'деревня Ям-Тесово',\n",
       "       'коттеджный поселок Кивеннапа Север', 'коттеджный поселок Счастье',\n",
       "       'коттеджный посёлок Лесное', 'поселок Аннино', 'поселок Барышево',\n",
       "       'поселок Бугры', 'поселок Возрождение', 'поселок Войсковицы',\n",
       "       'поселок Володарское', 'поселок Гаврилово', 'поселок Гарболово',\n",
       "       'поселок Гладкое', 'поселок Глажево', 'поселок Глебычево',\n",
       "       'поселок Гончарово', 'поселок Громово', 'поселок Дружноселье',\n",
       "       'поселок Елизаветино', 'поселок Жилгородок', 'поселок Жилпосёлок',\n",
       "       'поселок Житково', 'поселок Заводской', 'поселок Запорожское',\n",
       "       'поселок Зимитицы', 'поселок Ильичёво', 'поселок Калитино',\n",
       "       'поселок Каложицы', 'поселок Кингисеппский', 'поселок Кирпичное',\n",
       "       'поселок Кобралово', 'поселок Кобринское', 'поселок Коммунары',\n",
       "       'поселок Коробицыно', 'поселок Котельский',\n",
       "       'поселок Красная Долина', 'поселок Красносельское',\n",
       "       'поселок Лесное', 'поселок Лисий Нос', 'поселок Лукаши',\n",
       "       'поселок Любань', 'поселок Мельниково', 'поселок Мичуринское',\n",
       "       'поселок Молодцово', 'поселок Мурино', 'поселок Новый Свет',\n",
       "       'поселок Новый Учхоз', 'поселок Оредеж',\n",
       "       'поселок Пансионат Зелёный Бор', 'поселок Первомайское',\n",
       "       'поселок Перово', 'поселок Петровское', 'поселок Победа',\n",
       "       'поселок Поляны', 'поселок Почап', 'поселок Починок',\n",
       "       'поселок Пушное', 'поселок Пчевжа', 'поселок Рабитицы',\n",
       "       'поселок Романовка', 'поселок Ромашки', 'поселок Рябово',\n",
       "       'поселок Севастьяново', 'поселок Селезнёво', 'поселок Сельцо',\n",
       "       'поселок Семиозерье', 'поселок Семрино', 'поселок Серебрянский',\n",
       "       'поселок Совхозный', 'поселок Старая Малукса',\n",
       "       'поселок Стеклянный', 'поселок Сумино', 'поселок Суходолье',\n",
       "       'поселок Тельмана', 'поселок Терволово', 'поселок Торковичи',\n",
       "       'поселок Тёсово-4', 'поселок Углово', 'поселок Усть-Луга',\n",
       "       'поселок Ушаки', 'поселок Цвелодубово', 'поселок Цвылёво',\n",
       "       'поселок городского типа Большая Ижора',\n",
       "       'поселок городского типа Вырица',\n",
       "       'поселок городского типа Дружная Горка',\n",
       "       'поселок городского типа Дубровка',\n",
       "       'поселок городского типа Ефимовский',\n",
       "       'поселок городского типа Кондратьево',\n",
       "       'поселок городского типа Красный Бор',\n",
       "       'поселок городского типа Кузьмоловский',\n",
       "       'поселок городского типа Лебяжье',\n",
       "       'поселок городского типа Лесогорский',\n",
       "       'поселок городского типа Назия',\n",
       "       'поселок городского типа Никольский',\n",
       "       'поселок городского типа Приладожский',\n",
       "       'поселок городского типа Рахья', 'поселок городского типа Рощино',\n",
       "       'поселок городского типа Рябово',\n",
       "       'поселок городского типа Синявино',\n",
       "       'поселок городского типа Советский',\n",
       "       'поселок городского типа Токсово',\n",
       "       'поселок городского типа Форносово',\n",
       "       'поселок городского типа имени Свердлова',\n",
       "       'поселок станции Вещево', 'поселок станции Корнево',\n",
       "       'поселок станции Лужайка', 'поселок станции Приветнинское',\n",
       "       'посёлок Александровская', 'посёлок Алексеевка', 'посёлок Аннино',\n",
       "       'посёлок Белоостров', 'посёлок Бугры', 'посёлок Возрождение',\n",
       "       'посёлок Войскорово', 'посёлок Высокоключевой',\n",
       "       'посёлок Гаврилово', 'посёлок Дзержинского', 'посёлок Жилгородок',\n",
       "       'посёлок Ильичёво', 'посёлок Кикерино', 'посёлок Кобралово',\n",
       "       'посёлок Коробицыно', 'посёлок Левашово', 'посёлок Ленинское',\n",
       "       'посёлок Лисий Нос', 'посёлок Мельниково', 'посёлок Металлострой',\n",
       "       'посёлок Мичуринское', 'посёлок Молодёжное', 'посёлок Мурино',\n",
       "       'посёлок Мыза-Ивановка', 'посёлок Новогорелово',\n",
       "       'посёлок Новый Свет', 'посёлок Пансионат Зелёный Бор',\n",
       "       'посёлок Парголово', 'посёлок Перово', 'посёлок Песочный',\n",
       "       'посёлок Петро-Славянка', 'посёлок Петровское',\n",
       "       'посёлок Платформа 69-й километр', 'посёлок Плодовое',\n",
       "       'посёлок Плоское', 'посёлок Победа', 'посёлок Поляны',\n",
       "       'посёлок Понтонный', 'посёлок Пригородный', 'посёлок Пудость',\n",
       "       'посёлок Репино', 'посёлок Ропша', 'посёлок Сапёрное',\n",
       "       'посёлок Сапёрный', 'посёлок Сосново', 'посёлок Старая Малукса',\n",
       "       'посёлок Стеклянный', 'посёлок Стрельна', 'посёлок Суйда',\n",
       "       'посёлок Сумино', 'посёлок Тельмана', 'посёлок Терволово',\n",
       "       'посёлок Торфяное', 'посёлок Усть-Ижора', 'посёлок Усть-Луга',\n",
       "       'посёлок Форт Красная Горка', 'посёлок Шугозеро', 'посёлок Шушары',\n",
       "       'посёлок Щеглово', 'посёлок городского типа Важины',\n",
       "       'посёлок городского типа Вознесенье',\n",
       "       'посёлок городского типа Вырица',\n",
       "       'посёлок городского типа Красный Бор',\n",
       "       'посёлок городского типа Кузнечное',\n",
       "       'посёлок городского типа Кузьмоловский',\n",
       "       'посёлок городского типа Лебяжье', 'посёлок городского типа Мга',\n",
       "       'посёлок городского типа Павлово',\n",
       "       'посёлок городского типа Рощино', 'посёлок городского типа Рябово',\n",
       "       'посёлок городского типа Сиверский',\n",
       "       'посёлок городского типа Тайцы', 'посёлок городского типа Токсово',\n",
       "       'посёлок городского типа Ульяновка',\n",
       "       'посёлок городского типа Форносово',\n",
       "       'посёлок городского типа имени Морозова',\n",
       "       'посёлок городского типа имени Свердлова',\n",
       "       'посёлок при железнодорожной станции Вещево',\n",
       "       'посёлок при железнодорожной станции Приветнинское',\n",
       "       'посёлок станции Громово', 'посёлок станции Свирь',\n",
       "       'садоводческое некоммерческое товарищество Лесная Поляна',\n",
       "       'садовое товарищество Новая Ропша',\n",
       "       'садовое товарищество Приладожский', 'садовое товарищество Рахья',\n",
       "       'садовое товарищество Садко', 'село Копорье', 'село Никольское',\n",
       "       'село Павлово', 'село Паша', 'село Путилово', 'село Рождествено',\n",
       "       'село Русско-Высоцкое', 'село Старая Ладога', 'село Шум'],\n",
       "      dtype=object)"
      ]
     },
     "execution_count": 29,
     "metadata": {},
     "output_type": "execute_result"
    }
   ],
   "source": [
    "data['locality_name'].sort_values().unique()"
   ]
  },
  {
   "cell_type": "code",
   "execution_count": 30,
   "metadata": {},
   "outputs": [
    {
     "data": {
      "text/plain": [
       "364"
      ]
     },
     "execution_count": 30,
     "metadata": {},
     "output_type": "execute_result"
    }
   ],
   "source": [
    "data['locality_name'].sort_values().nunique()"
   ]
  },
  {
   "cell_type": "markdown",
   "metadata": {},
   "source": [
    "Для начала удалим дубликаты, которые появились от разного написания (например \"поселок\" и \"посёлок\") или от расширения названия (например, \"поселок городского типа\" или \"поселок станции\")"
   ]
  },
  {
   "cell_type": "code",
   "execution_count": 31,
   "metadata": {},
   "outputs": [],
   "source": [
    "data['locality_name'] = data['locality_name'].replace({'городской посёлок': 'поселок', 'коттеджный посёлок': 'поселок', 'посёлок': 'поселок', 'посёлок городского типа': 'поселок', 'посёлок при железнодорожной станции': 'поселок станции', 'посёлок станции': 'поселок станции', 'садоводческое некоммерческое товарищество': 'садовое товарищество'}, regex=True)\n",
    "data['locality_name'] = data['locality_name'].replace({'городской поселок': 'поселок', 'коттеджный поселок': 'поселок', 'поселок городского типа': 'поселок', 'поселок при железнодорожной станции': 'поселок станции',' садоводческое некоммерческое товарищество': 'садовое товарищество'}, regex=True)\n",
    "# двойная запись, поскольку если включить все в один словарь, то изначально оставлял ряд названий\n",
    "# (выдавал при первом запуске 332 наименования, которые сводил к 319 при втором запуске)"
   ]
  },
  {
   "cell_type": "code",
   "execution_count": 32,
   "metadata": {},
   "outputs": [
    {
     "data": {
      "text/plain": [
       "319"
      ]
     },
     "execution_count": 32,
     "metadata": {},
     "output_type": "execute_result"
    }
   ],
   "source": [
    "data['locality_name'].sort_values().nunique()"
   ]
  },
  {
   "cell_type": "code",
   "execution_count": 33,
   "metadata": {
    "scrolled": true
   },
   "outputs": [
    {
     "data": {
      "text/plain": [
       "array(['Бокситогорск', 'Волосово', 'Волхов', 'Всеволожск', 'Выборг',\n",
       "       'Высоцк', 'Гатчина', 'Зеленогорск', 'Ивангород', 'Каменногорск',\n",
       "       'Кингисепп', 'Кириши', 'Кировск', 'Колпино', 'Коммунар',\n",
       "       'Красное Село', 'Кронштадт', 'Кудрово', 'Лодейное Поле',\n",
       "       'Ломоносов', 'Луга', 'Любань', 'Мурино', 'Никольское',\n",
       "       'Новая Ладога', 'Отрадное', 'Павловск', 'Петергоф', 'Пикалёво',\n",
       "       'Подпорожье', 'Приморск', 'Приозерск', 'Пушкин', 'Санкт-Петербург',\n",
       "       'Светогорск', 'Сертолово', 'Сестрорецк', 'Сланцы', 'Сосновый Бор',\n",
       "       'Сясьстрой', 'Тихвин', 'Тосно', 'Шлиссельбург',\n",
       "       'деревня Агалатово', 'деревня Аро', 'деревня Батово',\n",
       "       'деревня Бегуницы', 'деревня Белогорка', 'деревня Большая Вруда',\n",
       "       'деревня Большая Пустомержа', 'деревня Большие Колпаны',\n",
       "       'деревня Большое Рейзино', 'деревня Большой Сабск', 'деревня Бор',\n",
       "       'деревня Борисова Грива', 'деревня Ваганово', 'деревня Вартемяги',\n",
       "       'деревня Вахнова Кара', 'деревня Выскатка', 'деревня Гарболово',\n",
       "       'деревня Глинка', 'деревня Горбунки', 'деревня Гостилицы',\n",
       "       'деревня Заклинье', 'деревня Заневка', 'деревня Зимитицы',\n",
       "       'деревня Извара', 'деревня Иссад', 'деревня Калитино',\n",
       "       'деревня Кальтино', 'деревня Камышовка', 'деревня Каськово',\n",
       "       'деревня Келози', 'деревня Кипень', 'деревня Кисельня',\n",
       "       'деревня Колтуши', 'деревня Коркино', 'деревня Котлы',\n",
       "       'деревня Кривко', 'деревня Кудрово', 'деревня Кузьмолово',\n",
       "       'деревня Курковицы', 'деревня Куровицы', 'деревня Куттузи',\n",
       "       'деревня Лаврики', 'деревня Лаголово', 'деревня Лампово',\n",
       "       'деревня Лесколово', 'деревня Лопухинка', 'деревня Лупполово',\n",
       "       'деревня Малая Романовка', 'деревня Малое Верево',\n",
       "       'деревня Малое Карлино', 'деревня Малые Колпаны',\n",
       "       'деревня Мануйлово', 'деревня Меньково', 'деревня Мины',\n",
       "       'деревня Мистолово', 'деревня Ненимяки', 'деревня Нижние Осельки',\n",
       "       'деревня Нижняя', 'деревня Низино', 'деревня Новое Девяткино',\n",
       "       'деревня Новолисино', 'деревня Нурма', 'деревня Оржицы',\n",
       "       'деревня Парицы', 'деревня Пельгора', 'деревня Пеники',\n",
       "       'деревня Пижма', 'деревня Пикколово', 'деревня Пудомяги',\n",
       "       'деревня Пустынка', 'деревня Пчева', 'деревня Рабитицы',\n",
       "       'деревня Разбегаево', 'деревня Раздолье', 'деревня Разметелево',\n",
       "       'деревня Рапполово', 'деревня Реброво', 'деревня Русско',\n",
       "       'деревня Сижно', 'деревня Снегирёвка', 'деревня Старая',\n",
       "       'деревня Старая Пустошь', 'деревня Старое Хинколово',\n",
       "       'деревня Старополье', 'деревня Старосиверская',\n",
       "       'деревня Старые Бегуницы', 'деревня Суоранда',\n",
       "       'деревня Сяськелево', 'деревня Тарасово', 'деревня Терпилицы',\n",
       "       'деревня Тихковицы', 'деревня Тойворово', 'деревня Торосово',\n",
       "       'деревня Торошковичи', 'деревня Трубников Бор',\n",
       "       'деревня Фалилеево', 'деревня Фёдоровское', 'деревня Хапо-Ое',\n",
       "       'деревня Хязельки', 'деревня Чудской Бор', 'деревня Шпаньково',\n",
       "       'деревня Щеглово', 'деревня Юкки', 'деревня Ялгино',\n",
       "       'деревня Яльгелево', 'деревня Ям-Тесово',\n",
       "       'поселок Александровская', 'поселок Алексеевка', 'поселок Аннино',\n",
       "       'поселок Барышево', 'поселок Белоостров', 'поселок Большая Ижора',\n",
       "       'поселок Бугры', 'поселок Будогощь', 'поселок Важины',\n",
       "       'поселок Виллози', 'поселок Вознесенье', 'поселок Возрождение',\n",
       "       'поселок Войсковицы', 'поселок Войскорово', 'поселок Володарское',\n",
       "       'поселок Вырица', 'поселок Высокоключевой', 'поселок Гаврилово',\n",
       "       'поселок Гарболово', 'поселок Гладкое', 'поселок Глажево',\n",
       "       'поселок Глебычево', 'поселок Гончарово', 'поселок Громово',\n",
       "       'поселок Дзержинского', 'поселок Дружная Горка',\n",
       "       'поселок Дружноселье', 'поселок Дубровка', 'поселок Елизаветино',\n",
       "       'поселок Ефимовский', 'поселок Жилгородок', 'поселок Жилпоселок',\n",
       "       'поселок Житково', 'поселок Заводской', 'поселок Запорожское',\n",
       "       'поселок Зимитицы', 'поселок Ильичёво', 'поселок Калитино',\n",
       "       'поселок Каложицы', 'поселок Кивеннапа Север', 'поселок Кикерино',\n",
       "       'поселок Кингисеппский', 'поселок Кирпичное', 'поселок Кобралово',\n",
       "       'поселок Кобринское', 'поселок Коммунары', 'поселок Кондратьево',\n",
       "       'поселок Коробицыно', 'поселок Котельский',\n",
       "       'поселок Красная Долина', 'поселок Красносельское',\n",
       "       'поселок Красный Бор', 'поселок Кузнечное',\n",
       "       'поселок Кузьмоловский', 'поселок Лебяжье', 'поселок Левашово',\n",
       "       'поселок Ленинское', 'поселок Лесное', 'поселок Лесогорский',\n",
       "       'поселок Лисий Нос', 'поселок Лукаши', 'поселок Любань',\n",
       "       'поселок Мга', 'поселок Мельниково', 'поселок Металлострой',\n",
       "       'поселок Мичуринское', 'поселок Молодцово', 'поселок Молодёжное',\n",
       "       'поселок Мурино', 'поселок Мыза-Ивановка', 'поселок Назия',\n",
       "       'поселок Никольский', 'поселок Новогорелово', 'поселок Новоселье',\n",
       "       'поселок Новый Свет', 'поселок Новый Учхоз', 'поселок Оредеж',\n",
       "       'поселок Павлово', 'поселок Пансионат Зелёный Бор',\n",
       "       'поселок Парголово', 'поселок Первомайское', 'поселок Перово',\n",
       "       'поселок Песочный', 'поселок Петро-Славянка', 'поселок Петровское',\n",
       "       'поселок Платформа 69-й километр', 'поселок Плодовое',\n",
       "       'поселок Плоское', 'поселок Победа', 'поселок Поляны',\n",
       "       'поселок Понтонный', 'поселок Почап', 'поселок Починок',\n",
       "       'поселок Пригородный', 'поселок Приладожский', 'поселок Пудость',\n",
       "       'поселок Пушное', 'поселок Пчевжа', 'поселок Рабитицы',\n",
       "       'поселок Рахья', 'поселок Репино', 'поселок Романовка',\n",
       "       'поселок Ромашки', 'поселок Ропша', 'поселок Рощино',\n",
       "       'поселок Рябово', 'поселок Сапёрное', 'поселок Сапёрный',\n",
       "       'поселок Свирьстрой', 'поселок Севастьяново', 'поселок Селезнёво',\n",
       "       'поселок Сельцо', 'поселок Семиозерье', 'поселок Семрино',\n",
       "       'поселок Серебрянский', 'поселок Сиверский', 'поселок Синявино',\n",
       "       'поселок Советский', 'поселок Совхозный', 'поселок Сосново',\n",
       "       'поселок Старая Малукса', 'поселок Стеклянный', 'поселок Стрельна',\n",
       "       'поселок Суйда', 'поселок Сумино', 'поселок Суходолье',\n",
       "       'поселок Счастье', 'поселок Тайцы', 'поселок Тельмана',\n",
       "       'поселок Терволово', 'поселок Токсово', 'поселок Торковичи',\n",
       "       'поселок Торфяное', 'поселок Тёсово-4', 'поселок Углово',\n",
       "       'поселок Ульяновка', 'поселок Усть-Ижора', 'поселок Усть-Луга',\n",
       "       'поселок Ушаки', 'поселок Форносово', 'поселок Форт Красная Горка',\n",
       "       'поселок Фёдоровское', 'поселок Цвелодубово', 'поселок Цвылёво',\n",
       "       'поселок Шугозеро', 'поселок Шушары', 'поселок Щеглово',\n",
       "       'поселок Янино-1', 'поселок имени Морозова',\n",
       "       'поселок имени Свердлова', 'поселок станции Вещево',\n",
       "       'поселок станции Громово', 'поселок станции Корнево',\n",
       "       'поселок станции Лужайка', 'поселок станции Приветнинское',\n",
       "       'поселок станции Свирь', 'садовое товарищество Лесная Поляна',\n",
       "       'садовое товарищество Новая Ропша',\n",
       "       'садовое товарищество Приладожский', 'садовое товарищество Рахья',\n",
       "       'садовое товарищество Садко', 'село Копорье', 'село Никольское',\n",
       "       'село Павлово', 'село Паша', 'село Путилово', 'село Рождествено',\n",
       "       'село Русско-Высоцкое', 'село Старая Ладога', 'село Шум'],\n",
       "      dtype=object)"
      ]
     },
     "execution_count": 33,
     "metadata": {},
     "output_type": "execute_result"
    }
   ],
   "source": [
    "data['locality_name'].sort_values().unique()"
   ]
  },
  {
   "cell_type": "markdown",
   "metadata": {},
   "source": [
    "__Вывод:__ Удаление неявных дубликатов привело к уменьшению списка уникальных значений с 364 до 319."
   ]
  },
  {
   "cell_type": "markdown",
   "metadata": {},
   "source": [
    "### Выбивающиеся значения"
   ]
  },
  {
   "cell_type": "markdown",
   "metadata": {},
   "source": [
    "Проанализируем данные по колонкам, чтобы найти выбивающиеся значения. Сразу опустим картографические данные (расстояния до аэропорта, центра, парков и прудов) - эти данные просто фиксируют некоторую данность, также опускаем данные по конкретному этажу, количеству балконов и количеству комнат.\n",
    "\n"
   ]
  },
  {
   "cell_type": "markdown",
   "metadata": {},
   "source": [
    "1) Для начала рассмотрим данные по высоте потолков"
   ]
  },
  {
   "cell_type": "code",
   "execution_count": 34,
   "metadata": {},
   "outputs": [
    {
     "data": {
      "text/plain": [
       "count    23565.000000\n",
       "mean         2.743804\n",
       "std          0.989875\n",
       "min          1.000000\n",
       "25%          2.600000\n",
       "50%          2.700000\n",
       "75%          2.700000\n",
       "max        100.000000\n",
       "Name: ceiling_height, dtype: float64"
      ]
     },
     "execution_count": 34,
     "metadata": {},
     "output_type": "execute_result"
    }
   ],
   "source": [
    "data['ceiling_height'].describe() "
   ]
  },
  {
   "cell_type": "code",
   "execution_count": 35,
   "metadata": {},
   "outputs": [
    {
     "data": {
      "text/plain": [
       "<AxesSubplot:>"
      ]
     },
     "execution_count": 35,
     "metadata": {},
     "output_type": "execute_result"
    },
    {
     "data": {
      "image/png": "[encoded data removed]",
      "text/plain": [
       "<Figure size 432x288 with 1 Axes>"
      ]
     },
     "metadata": {
      "needs_background": "light"
     },
     "output_type": "display_data"
    }
   ],
   "source": [
    "data.boxplot(column='ceiling_height')"
   ]
  },
  {
   "cell_type": "markdown",
   "metadata": {},
   "source": [
    "Удалим выбросы (высота потолков меньше 2,2 м и больше 3,5 м), также учтем, что данные больше 22 могли быть записаны некорректно (например, 27 вместо 2,7)"
   ]
  },
  {
   "cell_type": "code",
   "execution_count": 36,
   "metadata": {
    "scrolled": true
   },
   "outputs": [],
   "source": [
    "data = data[((data['ceiling_height'] > 2.2) & (data['ceiling_height'] <= 3.5)) | (data['ceiling_height'] >= 22)]\n",
    "data.loc[data['ceiling_height'] >= 22, 'ceiling_height'] = data['ceiling_height'] / 10\n",
    "data = data[data['ceiling_height'] != 10]"
   ]
  },
  {
   "cell_type": "markdown",
   "metadata": {},
   "source": [
    "Проверим данные и убедимся, что данные корректны"
   ]
  },
  {
   "cell_type": "code",
   "execution_count": 37,
   "metadata": {},
   "outputs": [
    {
     "data": {
      "text/plain": [
       "<AxesSubplot:>"
      ]
     },
     "execution_count": 37,
     "metadata": {},
     "output_type": "execute_result"
    },
    {
     "data": {
      "image/png": "[encoded data removed]",
      "text/plain": [
       "<Figure size 432x288 with 1 Axes>"
      ]
     },
     "metadata": {
      "needs_background": "light"
     },
     "output_type": "display_data"
    }
   ],
   "source": [
    "data.boxplot(column='ceiling_height')"
   ]
  },
  {
   "cell_type": "code",
   "execution_count": 38,
   "metadata": {},
   "outputs": [
    {
     "data": {
      "text/plain": [
       "count    23269.000000\n",
       "mean         2.702927\n",
       "std          0.174170\n",
       "min          2.250000\n",
       "25%          2.600000\n",
       "50%          2.700000\n",
       "75%          2.700000\n",
       "max          3.500000\n",
       "Name: ceiling_height, dtype: float64"
      ]
     },
     "execution_count": 38,
     "metadata": {},
     "output_type": "execute_result"
    }
   ],
   "source": [
    "data['ceiling_height'].describe()  "
   ]
  },
  {
   "cell_type": "markdown",
   "metadata": {},
   "source": [
    "2) Теперь рассмотрим данные по ценам"
   ]
  },
  {
   "cell_type": "code",
   "execution_count": 39,
   "metadata": {},
   "outputs": [
    {
     "data": {
      "text/plain": [
       "count    2.326900e+04\n",
       "mean     6.353567e+06\n",
       "std      1.037513e+07\n",
       "min      1.219000e+04\n",
       "25%      3.400000e+06\n",
       "50%      4.600000e+06\n",
       "75%      6.700000e+06\n",
       "max      7.630000e+08\n",
       "Name: last_price, dtype: float64"
      ]
     },
     "execution_count": 39,
     "metadata": {},
     "output_type": "execute_result"
    }
   ],
   "source": [
    "data['last_price'].describe()"
   ]
  },
  {
   "cell_type": "code",
   "execution_count": 40,
   "metadata": {},
   "outputs": [
    {
     "data": {
      "text/plain": [
       "(0.0, 13000000.0)"
      ]
     },
     "execution_count": 40,
     "metadata": {},
     "output_type": "execute_result"
    },
    {
     "data": {
      "image/png": "[encoded data removed]",
      "text/plain": [
       "<Figure size 432x288 with 1 Axes>"
      ]
     },
     "metadata": {
      "needs_background": "light"
     },
     "output_type": "display_data"
    }
   ],
   "source": [
    "data.boxplot(column='last_price')\n",
    "plt.ylim(0, 13000000)"
   ]
  },
  {
   "cell_type": "markdown",
   "metadata": {},
   "source": [
    "Понимая, что могут быть представлены цены на элитную недвижимость, уберем только самое выпадающеее значение - более 5 млн. Также удалим как ошибочное значение меньше 400 тыс."
   ]
  },
  {
   "cell_type": "code",
   "execution_count": 41,
   "metadata": {},
   "outputs": [],
   "source": [
    "data = data[(data['last_price'] < 500000000) & (data['last_price'] > 12190)]"
   ]
  },
  {
   "cell_type": "code",
   "execution_count": 42,
   "metadata": {},
   "outputs": [
    {
     "data": {
      "text/plain": [
       "<AxesSubplot:>"
      ]
     },
     "execution_count": 42,
     "metadata": {},
     "output_type": "execute_result"
    },
    {
     "data": {
      "image/png": "[encoded data removed]",
      "text/plain": [
       "<Figure size 432x288 with 1 Axes>"
      ]
     },
     "metadata": {
      "needs_background": "light"
     },
     "output_type": "display_data"
    }
   ],
   "source": [
    "data.boxplot(column='last_price')"
   ]
  },
  {
   "cell_type": "code",
   "execution_count": 43,
   "metadata": {},
   "outputs": [
    {
     "data": {
      "text/plain": [
       "count    2.326700e+04\n",
       "mean     6.321319e+06\n",
       "std      9.112767e+06\n",
       "min      4.300000e+05\n",
       "25%      3.400000e+06\n",
       "50%      4.600000e+06\n",
       "75%      6.700000e+06\n",
       "max      4.200000e+08\n",
       "Name: last_price, dtype: float64"
      ]
     },
     "execution_count": 43,
     "metadata": {},
     "output_type": "execute_result"
    }
   ],
   "source": [
    "data['last_price'].describe()  "
   ]
  },
  {
   "cell_type": "markdown",
   "metadata": {},
   "source": [
    "3) Точно также рассмотрим данные по общему количеству этажей в зданиях (учитывая, что максимальное количество этажей в Санкт-Петербурге и области - 37)\n"
   ]
  },
  {
   "cell_type": "code",
   "execution_count": 44,
   "metadata": {},
   "outputs": [
    {
     "data": {
      "text/plain": [
       "count    23267.000000\n",
       "mean        10.738686\n",
       "std          6.600665\n",
       "min          1.000000\n",
       "25%          5.000000\n",
       "50%          9.000000\n",
       "75%         16.000000\n",
       "max         60.000000\n",
       "Name: floors_total, dtype: float64"
      ]
     },
     "execution_count": 44,
     "metadata": {},
     "output_type": "execute_result"
    }
   ],
   "source": [
    "data['floors_total'].describe()"
   ]
  },
  {
   "cell_type": "code",
   "execution_count": 45,
   "metadata": {},
   "outputs": [
    {
     "data": {
      "text/plain": [
       "<AxesSubplot:>"
      ]
     },
     "execution_count": 45,
     "metadata": {},
     "output_type": "execute_result"
    },
    {
     "data": {
      "image/png": "[encoded data removed]",
      "text/plain": [
       "<Figure size 432x288 with 1 Axes>"
      ]
     },
     "metadata": {
      "needs_background": "light"
     },
     "output_type": "display_data"
    }
   ],
   "source": [
    "data.boxplot(column='floors_total')"
   ]
  },
  {
   "cell_type": "markdown",
   "metadata": {},
   "source": [
    "Удалим выбросы"
   ]
  },
  {
   "cell_type": "code",
   "execution_count": 46,
   "metadata": {},
   "outputs": [],
   "source": [
    "data = data[data['floors_total'] < 40]"
   ]
  },
  {
   "cell_type": "code",
   "execution_count": 47,
   "metadata": {},
   "outputs": [
    {
     "data": {
      "text/plain": [
       "<AxesSubplot:>"
      ]
     },
     "execution_count": 47,
     "metadata": {},
     "output_type": "execute_result"
    },
    {
     "data": {
      "image/png": "[encoded data removed]",
      "text/plain": [
       "<Figure size 432x288 with 1 Axes>"
      ]
     },
     "metadata": {
      "needs_background": "light"
     },
     "output_type": "display_data"
    }
   ],
   "source": [
    "data.boxplot(column='floors_total')"
   ]
  },
  {
   "cell_type": "code",
   "execution_count": 48,
   "metadata": {},
   "outputs": [
    {
     "data": {
      "text/plain": [
       "count    23265.000000\n",
       "mean        10.734795\n",
       "std          6.587489\n",
       "min          1.000000\n",
       "25%          5.000000\n",
       "50%          9.000000\n",
       "75%         16.000000\n",
       "max         36.000000\n",
       "Name: floors_total, dtype: float64"
      ]
     },
     "execution_count": 48,
     "metadata": {},
     "output_type": "execute_result"
    }
   ],
   "source": [
    "data['floors_total'].describe()"
   ]
  },
  {
   "cell_type": "markdown",
   "metadata": {},
   "source": [
    "4) Данные по общей площади, площади кухни и жилой площади очистим от выбросов в соответствии с данными графиков, т.к. для нашего исследования это редкие выбивающиеся из общей картины уникальные объекты, по которым необходимо проводить отдельную работу."
   ]
  },
  {
   "cell_type": "code",
   "execution_count": 49,
   "metadata": {},
   "outputs": [
    {
     "data": {
      "text/plain": [
       "count    23265.000000\n",
       "mean        59.511912\n",
       "std         33.578897\n",
       "min         12.000000\n",
       "25%         40.000000\n",
       "50%         51.800000\n",
       "75%         69.000000\n",
       "max        900.000000\n",
       "Name: total_area, dtype: float64"
      ]
     },
     "execution_count": 49,
     "metadata": {},
     "output_type": "execute_result"
    }
   ],
   "source": [
    "data['total_area'].describe()"
   ]
  },
  {
   "cell_type": "code",
   "execution_count": 50,
   "metadata": {},
   "outputs": [
    {
     "data": {
      "text/plain": [
       "<AxesSubplot:>"
      ]
     },
     "execution_count": 50,
     "metadata": {},
     "output_type": "execute_result"
    },
    {
     "data": {
      "image/png": "[encoded data removed]",
      "text/plain": [
       "<Figure size 720x1080 with 1 Axes>"
      ]
     },
     "metadata": {
      "needs_background": "light"
     },
     "output_type": "display_data"
    }
   ],
   "source": [
    "data.boxplot(column='total_area', figsize=(10,15))"
   ]
  },
  {
   "cell_type": "code",
   "execution_count": 51,
   "metadata": {},
   "outputs": [
    {
     "data": {
      "text/plain": [
       "count    21853.000000\n",
       "mean        10.751572\n",
       "std          6.415051\n",
       "min          0.000000\n",
       "25%          7.000000\n",
       "50%          9.200000\n",
       "75%         12.000000\n",
       "max        134.000000\n",
       "Name: kitchen_area, dtype: float64"
      ]
     },
     "execution_count": 51,
     "metadata": {},
     "output_type": "execute_result"
    }
   ],
   "source": [
    "data['kitchen_area'].describe()"
   ]
  },
  {
   "cell_type": "code",
   "execution_count": 52,
   "metadata": {},
   "outputs": [
    {
     "data": {
      "text/plain": [
       "<AxesSubplot:>"
      ]
     },
     "execution_count": 52,
     "metadata": {},
     "output_type": "execute_result"
    },
    {
     "data": {
      "image/png": "[encoded data removed]",
      "text/plain": [
       "<Figure size 720x1080 with 1 Axes>"
      ]
     },
     "metadata": {
      "needs_background": "light"
     },
     "output_type": "display_data"
    }
   ],
   "source": [
    "data.boxplot(column='kitchen_area', figsize=(10,15))"
   ]
  },
  {
   "cell_type": "code",
   "execution_count": 53,
   "metadata": {},
   "outputs": [
    {
     "data": {
      "text/plain": [
       "count    21853.000000\n",
       "mean        34.384406\n",
       "std         21.857557\n",
       "min          2.000000\n",
       "25%         18.700000\n",
       "50%         30.000000\n",
       "75%         42.300000\n",
       "max        571.000000\n",
       "Name: living_area, dtype: float64"
      ]
     },
     "execution_count": 53,
     "metadata": {},
     "output_type": "execute_result"
    }
   ],
   "source": [
    "data['living_area'].describe()"
   ]
  },
  {
   "cell_type": "code",
   "execution_count": 54,
   "metadata": {},
   "outputs": [
    {
     "data": {
      "text/plain": [
       "<AxesSubplot:>"
      ]
     },
     "execution_count": 54,
     "metadata": {},
     "output_type": "execute_result"
    },
    {
     "data": {
      "image/png": "[encoded data removed]",
      "text/plain": [
       "<Figure size 720x1080 with 1 Axes>"
      ]
     },
     "metadata": {
      "needs_background": "light"
     },
     "output_type": "display_data"
    }
   ],
   "source": [
    "data.boxplot(column='living_area', figsize=(10,15))"
   ]
  },
  {
   "cell_type": "code",
   "execution_count": 55,
   "metadata": {},
   "outputs": [],
   "source": [
    "data = data[data['total_area'] < 400]\n",
    "data = data[data['kitchen_area'] < 80]\n",
    "data = data[data['living_area'] < 200]"
   ]
  },
  {
   "cell_type": "code",
   "execution_count": 56,
   "metadata": {},
   "outputs": [
    {
     "data": {
      "text/plain": [
       "<AxesSubplot:>"
      ]
     },
     "execution_count": 56,
     "metadata": {},
     "output_type": "execute_result"
    },
    {
     "data": {
      "image/png": "[encoded data removed]",
      "text/plain": [
       "<Figure size 432x288 with 1 Axes>"
      ]
     },
     "metadata": {
      "needs_background": "light"
     },
     "output_type": "display_data"
    }
   ],
   "source": [
    "data.boxplot(column='total_area')"
   ]
  },
  {
   "cell_type": "code",
   "execution_count": 57,
   "metadata": {},
   "outputs": [
    {
     "data": {
      "text/plain": [
       "<AxesSubplot:>"
      ]
     },
     "execution_count": 57,
     "metadata": {},
     "output_type": "execute_result"
    },
    {
     "data": {
      "image/png": "[encoded data removed]",
      "text/plain": [
       "<Figure size 432x288 with 1 Axes>"
      ]
     },
     "metadata": {
      "needs_background": "light"
     },
     "output_type": "display_data"
    }
   ],
   "source": [
    "data.boxplot(column='kitchen_area')"
   ]
  },
  {
   "cell_type": "code",
   "execution_count": 58,
   "metadata": {},
   "outputs": [
    {
     "data": {
      "text/plain": [
       "<AxesSubplot:>"
      ]
     },
     "execution_count": 58,
     "metadata": {},
     "output_type": "execute_result"
    },
    {
     "data": {
      "image/png": "[encoded data removed]",
      "text/plain": [
       "<Figure size 432x288 with 1 Axes>"
      ]
     },
     "metadata": {
      "needs_background": "light"
     },
     "output_type": "display_data"
    }
   ],
   "source": [
    "data.boxplot(column='living_area')"
   ]
  },
  {
   "cell_type": "code",
   "execution_count": 59,
   "metadata": {},
   "outputs": [
    {
     "data": {
      "text/plain": [
       "count    21814.000000\n",
       "mean        58.915970\n",
       "std         29.933613\n",
       "min         12.000000\n",
       "25%         40.000000\n",
       "50%         51.700000\n",
       "75%         68.900000\n",
       "max        398.000000\n",
       "Name: total_area, dtype: float64"
      ]
     },
     "execution_count": 59,
     "metadata": {},
     "output_type": "execute_result"
    }
   ],
   "source": [
    "data['total_area'].describe()"
   ]
  },
  {
   "cell_type": "code",
   "execution_count": 60,
   "metadata": {},
   "outputs": [
    {
     "data": {
      "text/plain": [
       "count    21814.000000\n",
       "mean        10.670886\n",
       "std          5.934677\n",
       "min          0.000000\n",
       "25%          7.000000\n",
       "50%          9.200000\n",
       "75%         12.000000\n",
       "max         77.000000\n",
       "Name: kitchen_area, dtype: float64"
      ]
     },
     "execution_count": 60,
     "metadata": {},
     "output_type": "execute_result"
    }
   ],
   "source": [
    "data['kitchen_area'].describe()"
   ]
  },
  {
   "cell_type": "code",
   "execution_count": 61,
   "metadata": {},
   "outputs": [
    {
     "data": {
      "text/plain": [
       "count    21814.000000\n",
       "mean        34.021545\n",
       "std         19.566440\n",
       "min          2.000000\n",
       "25%         18.700000\n",
       "50%         30.000000\n",
       "75%         42.200000\n",
       "max        199.000000\n",
       "Name: living_area, dtype: float64"
      ]
     },
     "execution_count": 61,
     "metadata": {},
     "output_type": "execute_result"
    }
   ],
   "source": [
    "data['living_area'].describe()"
   ]
  },
  {
   "cell_type": "markdown",
   "metadata": {},
   "source": [
    "__Вывод:__ Удаление выбивающихся знанчений привело к сокращению разброса данных и исключению из исследования уникальных ситуация, требующих оттдельного рассмотрения."
   ]
  },
  {
   "cell_type": "code",
   "execution_count": 62,
   "metadata": {
    "scrolled": false
   },
   "outputs": [
    {
     "name": "stdout",
     "output_type": "stream",
     "text": [
      "<class 'pandas.core.frame.DataFrame'>\n",
      "Int64Index: 21814 entries, 0 to 23698\n",
      "Data columns (total 22 columns):\n",
      " #   Column                Non-Null Count  Dtype         \n",
      "---  ------                --------------  -----         \n",
      " 0   total_images          21814 non-null  int64         \n",
      " 1   last_price            21814 non-null  int64         \n",
      " 2   total_area            21814 non-null  float64       \n",
      " 3   first_day_exposition  21814 non-null  datetime64[ns]\n",
      " 4   rooms                 21814 non-null  int64         \n",
      " 5   ceiling_height        21814 non-null  float64       \n",
      " 6   floors_total          21814 non-null  int64         \n",
      " 7   living_area           21814 non-null  float64       \n",
      " 8   floor                 21814 non-null  int64         \n",
      " 9   is_apartment          21814 non-null  bool          \n",
      " 10  studio                21814 non-null  bool          \n",
      " 11  open_plan             21814 non-null  bool          \n",
      " 12  kitchen_area          21814 non-null  float64       \n",
      " 13  balcony               21814 non-null  int64         \n",
      " 14  locality_name         21814 non-null  object        \n",
      " 15  airports_nearest      16779 non-null  float64       \n",
      " 16  cityCenters_nearest   21814 non-null  float64       \n",
      " 17  parks_around3000      21814 non-null  float64       \n",
      " 18  parks_nearest         7369 non-null   float64       \n",
      " 19  ponds_around3000      21814 non-null  float64       \n",
      " 20  ponds_nearest         8304 non-null   float64       \n",
      " 21  days_exposition       18824 non-null  float64       \n",
      "dtypes: bool(3), datetime64[ns](1), float64(11), int64(6), object(1)\n",
      "memory usage: 3.4+ MB\n"
     ]
    }
   ],
   "source": [
    "data.info()"
   ]
  },
  {
   "cell_type": "markdown",
   "metadata": {},
   "source": [
    "Теперь убедимся, что в данных не осталось явных дубликатов."
   ]
  },
  {
   "cell_type": "code",
   "execution_count": 63,
   "metadata": {},
   "outputs": [
    {
     "data": {
      "text/html": [
       "<div>\n",
       "<style scoped>\n",
       "    .dataframe tbody tr th:only-of-type {\n",
       "        vertical-align: middle;\n",
       "    }\n",
       "\n",
       "    .dataframe tbody tr th {\n",
       "        vertical-align: top;\n",
       "    }\n",
       "\n",
       "    .dataframe thead th {\n",
       "        text-align: right;\n",
       "    }\n",
       "</style>\n",
       "<table border=\"1\" class=\"dataframe\">\n",
       "  <thead>\n",
       "    <tr style=\"text-align: right;\">\n",
       "      <th></th>\n",
       "      <th>total_images</th>\n",
       "      <th>last_price</th>\n",
       "      <th>total_area</th>\n",
       "      <th>first_day_exposition</th>\n",
       "      <th>rooms</th>\n",
       "      <th>ceiling_height</th>\n",
       "      <th>floors_total</th>\n",
       "      <th>living_area</th>\n",
       "      <th>floor</th>\n",
       "      <th>is_apartment</th>\n",
       "      <th>...</th>\n",
       "      <th>kitchen_area</th>\n",
       "      <th>balcony</th>\n",
       "      <th>locality_name</th>\n",
       "      <th>airports_nearest</th>\n",
       "      <th>cityCenters_nearest</th>\n",
       "      <th>parks_around3000</th>\n",
       "      <th>parks_nearest</th>\n",
       "      <th>ponds_around3000</th>\n",
       "      <th>ponds_nearest</th>\n",
       "      <th>days_exposition</th>\n",
       "    </tr>\n",
       "  </thead>\n",
       "  <tbody>\n",
       "  </tbody>\n",
       "</table>\n",
       "<p>0 rows × 22 columns</p>\n",
       "</div>"
      ],
      "text/plain": [
       "Empty DataFrame\n",
       "Columns: [total_images, last_price, total_area, first_day_exposition, rooms, ceiling_height, floors_total, living_area, floor, is_apartment, studio, open_plan, kitchen_area, balcony, locality_name, airports_nearest, cityCenters_nearest, parks_around3000, parks_nearest, ponds_around3000, ponds_nearest, days_exposition]\n",
       "Index: []\n",
       "\n",
       "[0 rows x 22 columns]"
      ]
     },
     "execution_count": 63,
     "metadata": {},
     "output_type": "execute_result"
    }
   ],
   "source": [
    "data[data.duplicated()].head()"
   ]
  },
  {
   "cell_type": "markdown",
   "metadata": {},
   "source": [
    "Дубликатов не обнаружено."
   ]
  },
  {
   "cell_type": "markdown",
   "metadata": {},
   "source": [
    "__Вывод:__ Проведена предобработка данных. Убраны пропуски в тех случаях, когда это было возможно, типы данных приведены в логическое соответствие, удалены неявные дубликаты и выбивающиеся значения."
   ]
  },
  {
   "cell_type": "markdown",
   "metadata": {},
   "source": [
    "## Добавление необходимых столбцов в таблицу"
   ]
  },
  {
   "cell_type": "markdown",
   "metadata": {},
   "source": [
    "Внесем в таблицу новые столбцы с дополнительными данными"
   ]
  },
  {
   "cell_type": "markdown",
   "metadata": {},
   "source": [
    "1) Цена одного квадратного метра"
   ]
  },
  {
   "cell_type": "code",
   "execution_count": 64,
   "metadata": {},
   "outputs": [],
   "source": [
    "data['price_m2'] = data['last_price'] / data['total_area']"
   ]
  },
  {
   "cell_type": "markdown",
   "metadata": {},
   "source": [
    "2) День недели публикации объявления (0 — понедельник, 1 — вторник и так далее)"
   ]
  },
  {
   "cell_type": "code",
   "execution_count": 65,
   "metadata": {},
   "outputs": [],
   "source": [
    "data['day_of_week_exposition'] = pd.DatetimeIndex(data['first_day_exposition']).dayofweek"
   ]
  },
  {
   "cell_type": "markdown",
   "metadata": {},
   "source": [
    "3) Месяц публикации объявления"
   ]
  },
  {
   "cell_type": "code",
   "execution_count": 66,
   "metadata": {},
   "outputs": [],
   "source": [
    "data['month_exposition'] = pd.DatetimeIndex(data['first_day_exposition']).month"
   ]
  },
  {
   "cell_type": "markdown",
   "metadata": {},
   "source": [
    "4) Год публикации объявления"
   ]
  },
  {
   "cell_type": "code",
   "execution_count": 67,
   "metadata": {},
   "outputs": [],
   "source": [
    "data['year_exposition'] = pd.DatetimeIndex(data['first_day_exposition']).year"
   ]
  },
  {
   "cell_type": "markdown",
   "metadata": {},
   "source": [
    "5) Тип этажа квартиры (значения — «‎первый», «последний», «другой»)"
   ]
  },
  {
   "cell_type": "code",
   "execution_count": 68,
   "metadata": {},
   "outputs": [],
   "source": [
    "# введем функцию для категоризации квартир по этажам\n",
    "def floor_t(row):\n",
    "    if row['floor'] == 1:\n",
    "        return \"Первый\"\n",
    "    elif row['floor'] == row['floors_total'] & row['floors_total'] !=1:\n",
    "        return \"Последний\"\n",
    "    return \"Другой\"\n",
    "\n",
    "# внесем данные в новый столбец\n",
    "data['floor_type'] = data.apply(floor_t, axis = 1)"
   ]
  },
  {
   "cell_type": "markdown",
   "metadata": {},
   "source": [
    "6) Расстояние до центра города в километрах"
   ]
  },
  {
   "cell_type": "code",
   "execution_count": 69,
   "metadata": {},
   "outputs": [],
   "source": [
    "data['cityCenters_nearest_km'] = (data['cityCenters_nearest'] / 1000).round()"
   ]
  },
  {
   "cell_type": "code",
   "execution_count": 70,
   "metadata": {},
   "outputs": [
    {
     "name": "stdout",
     "output_type": "stream",
     "text": [
      "<class 'pandas.core.frame.DataFrame'>\n",
      "Int64Index: 21814 entries, 0 to 23698\n",
      "Data columns (total 28 columns):\n",
      " #   Column                  Non-Null Count  Dtype         \n",
      "---  ------                  --------------  -----         \n",
      " 0   total_images            21814 non-null  int64         \n",
      " 1   last_price              21814 non-null  int64         \n",
      " 2   total_area              21814 non-null  float64       \n",
      " 3   first_day_exposition    21814 non-null  datetime64[ns]\n",
      " 4   rooms                   21814 non-null  int64         \n",
      " 5   ceiling_height          21814 non-null  float64       \n",
      " 6   floors_total            21814 non-null  int64         \n",
      " 7   living_area             21814 non-null  float64       \n",
      " 8   floor                   21814 non-null  int64         \n",
      " 9   is_apartment            21814 non-null  bool          \n",
      " 10  studio                  21814 non-null  bool          \n",
      " 11  open_plan               21814 non-null  bool          \n",
      " 12  kitchen_area            21814 non-null  float64       \n",
      " 13  balcony                 21814 non-null  int64         \n",
      " 14  locality_name           21814 non-null  object        \n",
      " 15  airports_nearest        16779 non-null  float64       \n",
      " 16  cityCenters_nearest     21814 non-null  float64       \n",
      " 17  parks_around3000        21814 non-null  float64       \n",
      " 18  parks_nearest           7369 non-null   float64       \n",
      " 19  ponds_around3000        21814 non-null  float64       \n",
      " 20  ponds_nearest           8304 non-null   float64       \n",
      " 21  days_exposition         18824 non-null  float64       \n",
      " 22  price_m2                21814 non-null  float64       \n",
      " 23  day_of_week_exposition  21814 non-null  int64         \n",
      " 24  month_exposition        21814 non-null  int64         \n",
      " 25  year_exposition         21814 non-null  int64         \n",
      " 26  floor_type              21814 non-null  object        \n",
      " 27  cityCenters_nearest_km  21814 non-null  float64       \n",
      "dtypes: bool(3), datetime64[ns](1), float64(13), int64(9), object(2)\n",
      "memory usage: 4.4+ MB\n"
     ]
    }
   ],
   "source": [
    "data.info()"
   ]
  },
  {
   "cell_type": "code",
   "execution_count": 71,
   "metadata": {
    "scrolled": true
   },
   "outputs": [
    {
     "data": {
      "text/html": [
       "<div>\n",
       "<style scoped>\n",
       "    .dataframe tbody tr th:only-of-type {\n",
       "        vertical-align: middle;\n",
       "    }\n",
       "\n",
       "    .dataframe tbody tr th {\n",
       "        vertical-align: top;\n",
       "    }\n",
       "\n",
       "    .dataframe thead th {\n",
       "        text-align: right;\n",
       "    }\n",
       "</style>\n",
       "<table border=\"1\" class=\"dataframe\">\n",
       "  <thead>\n",
       "    <tr style=\"text-align: right;\">\n",
       "      <th></th>\n",
       "      <th>total_images</th>\n",
       "      <th>last_price</th>\n",
       "      <th>total_area</th>\n",
       "      <th>first_day_exposition</th>\n",
       "      <th>rooms</th>\n",
       "      <th>ceiling_height</th>\n",
       "      <th>floors_total</th>\n",
       "      <th>living_area</th>\n",
       "      <th>floor</th>\n",
       "      <th>is_apartment</th>\n",
       "      <th>...</th>\n",
       "      <th>parks_nearest</th>\n",
       "      <th>ponds_around3000</th>\n",
       "      <th>ponds_nearest</th>\n",
       "      <th>days_exposition</th>\n",
       "      <th>price_m2</th>\n",
       "      <th>day_of_week_exposition</th>\n",
       "      <th>month_exposition</th>\n",
       "      <th>year_exposition</th>\n",
       "      <th>floor_type</th>\n",
       "      <th>cityCenters_nearest_km</th>\n",
       "    </tr>\n",
       "  </thead>\n",
       "  <tbody>\n",
       "    <tr>\n",
       "      <th>0</th>\n",
       "      <td>20</td>\n",
       "      <td>13000000</td>\n",
       "      <td>108.0</td>\n",
       "      <td>2019-03-07</td>\n",
       "      <td>3</td>\n",
       "      <td>2.70</td>\n",
       "      <td>16</td>\n",
       "      <td>51.0</td>\n",
       "      <td>8</td>\n",
       "      <td>False</td>\n",
       "      <td>...</td>\n",
       "      <td>482.0</td>\n",
       "      <td>2.0</td>\n",
       "      <td>755.0</td>\n",
       "      <td>NaN</td>\n",
       "      <td>120370.370370</td>\n",
       "      <td>3</td>\n",
       "      <td>3</td>\n",
       "      <td>2019</td>\n",
       "      <td>Другой</td>\n",
       "      <td>16.0</td>\n",
       "    </tr>\n",
       "    <tr>\n",
       "      <th>1</th>\n",
       "      <td>7</td>\n",
       "      <td>3350000</td>\n",
       "      <td>40.4</td>\n",
       "      <td>2018-12-04</td>\n",
       "      <td>1</td>\n",
       "      <td>2.70</td>\n",
       "      <td>11</td>\n",
       "      <td>18.6</td>\n",
       "      <td>1</td>\n",
       "      <td>False</td>\n",
       "      <td>...</td>\n",
       "      <td>NaN</td>\n",
       "      <td>0.0</td>\n",
       "      <td>NaN</td>\n",
       "      <td>81.0</td>\n",
       "      <td>82920.792079</td>\n",
       "      <td>1</td>\n",
       "      <td>12</td>\n",
       "      <td>2018</td>\n",
       "      <td>Первый</td>\n",
       "      <td>19.0</td>\n",
       "    </tr>\n",
       "    <tr>\n",
       "      <th>2</th>\n",
       "      <td>10</td>\n",
       "      <td>5196000</td>\n",
       "      <td>56.0</td>\n",
       "      <td>2015-08-20</td>\n",
       "      <td>2</td>\n",
       "      <td>2.70</td>\n",
       "      <td>5</td>\n",
       "      <td>34.3</td>\n",
       "      <td>4</td>\n",
       "      <td>False</td>\n",
       "      <td>...</td>\n",
       "      <td>90.0</td>\n",
       "      <td>2.0</td>\n",
       "      <td>574.0</td>\n",
       "      <td>558.0</td>\n",
       "      <td>92785.714286</td>\n",
       "      <td>3</td>\n",
       "      <td>8</td>\n",
       "      <td>2015</td>\n",
       "      <td>Другой</td>\n",
       "      <td>14.0</td>\n",
       "    </tr>\n",
       "    <tr>\n",
       "      <th>4</th>\n",
       "      <td>2</td>\n",
       "      <td>10000000</td>\n",
       "      <td>100.0</td>\n",
       "      <td>2018-06-19</td>\n",
       "      <td>2</td>\n",
       "      <td>3.03</td>\n",
       "      <td>14</td>\n",
       "      <td>32.0</td>\n",
       "      <td>13</td>\n",
       "      <td>False</td>\n",
       "      <td>...</td>\n",
       "      <td>112.0</td>\n",
       "      <td>1.0</td>\n",
       "      <td>48.0</td>\n",
       "      <td>121.0</td>\n",
       "      <td>100000.000000</td>\n",
       "      <td>1</td>\n",
       "      <td>6</td>\n",
       "      <td>2018</td>\n",
       "      <td>Другой</td>\n",
       "      <td>8.0</td>\n",
       "    </tr>\n",
       "    <tr>\n",
       "      <th>5</th>\n",
       "      <td>10</td>\n",
       "      <td>2890000</td>\n",
       "      <td>30.4</td>\n",
       "      <td>2018-09-10</td>\n",
       "      <td>1</td>\n",
       "      <td>2.70</td>\n",
       "      <td>12</td>\n",
       "      <td>14.4</td>\n",
       "      <td>5</td>\n",
       "      <td>False</td>\n",
       "      <td>...</td>\n",
       "      <td>NaN</td>\n",
       "      <td>0.0</td>\n",
       "      <td>NaN</td>\n",
       "      <td>55.0</td>\n",
       "      <td>95065.789474</td>\n",
       "      <td>0</td>\n",
       "      <td>9</td>\n",
       "      <td>2018</td>\n",
       "      <td>Другой</td>\n",
       "      <td>12.0</td>\n",
       "    </tr>\n",
       "  </tbody>\n",
       "</table>\n",
       "<p>5 rows × 28 columns</p>\n",
       "</div>"
      ],
      "text/plain": [
       "   total_images  last_price  total_area first_day_exposition  rooms  \\\n",
       "0            20    13000000       108.0           2019-03-07      3   \n",
       "1             7     3350000        40.4           2018-12-04      1   \n",
       "2            10     5196000        56.0           2015-08-20      2   \n",
       "4             2    10000000       100.0           2018-06-19      2   \n",
       "5            10     2890000        30.4           2018-09-10      1   \n",
       "\n",
       "   ceiling_height  floors_total  living_area  floor  is_apartment  ...  \\\n",
       "0            2.70            16         51.0      8         False  ...   \n",
       "1            2.70            11         18.6      1         False  ...   \n",
       "2            2.70             5         34.3      4         False  ...   \n",
       "4            3.03            14         32.0     13         False  ...   \n",
       "5            2.70            12         14.4      5         False  ...   \n",
       "\n",
       "   parks_nearest  ponds_around3000  ponds_nearest  days_exposition  \\\n",
       "0          482.0               2.0          755.0              NaN   \n",
       "1            NaN               0.0            NaN             81.0   \n",
       "2           90.0               2.0          574.0            558.0   \n",
       "4          112.0               1.0           48.0            121.0   \n",
       "5            NaN               0.0            NaN             55.0   \n",
       "\n",
       "        price_m2  day_of_week_exposition  month_exposition  year_exposition  \\\n",
       "0  120370.370370                       3                 3             2019   \n",
       "1   82920.792079                       1                12             2018   \n",
       "2   92785.714286                       3                 8             2015   \n",
       "4  100000.000000                       1                 6             2018   \n",
       "5   95065.789474                       0                 9             2018   \n",
       "\n",
       "   floor_type  cityCenters_nearest_km  \n",
       "0      Другой                    16.0  \n",
       "1      Первый                    19.0  \n",
       "2      Другой                    14.0  \n",
       "4      Другой                     8.0  \n",
       "5      Другой                    12.0  \n",
       "\n",
       "[5 rows x 28 columns]"
      ]
     },
     "execution_count": 71,
     "metadata": {},
     "output_type": "execute_result"
    }
   ],
   "source": [
    "data.head()"
   ]
  },
  {
   "cell_type": "markdown",
   "metadata": {},
   "source": [
    "## Исследовательский анализ данных"
   ]
  },
  {
   "cell_type": "markdown",
   "metadata": {},
   "source": [
    "### Изучение параметров объектов"
   ]
  },
  {
   "cell_type": "markdown",
   "metadata": {},
   "source": [
    "__Общая площадь__\n",
    "\n",
    "Наблюдается нормальное распределение с медианой, приходящейся на 50 кв.м"
   ]
  },
  {
   "cell_type": "code",
   "execution_count": 72,
   "metadata": {},
   "outputs": [
    {
     "data": {
      "text/plain": [
       "<AxesSubplot:>"
      ]
     },
     "execution_count": 72,
     "metadata": {},
     "output_type": "execute_result"
    },
    {
     "data": {
      "image/png": "[encoded data removed]",
      "text/plain": [
       "<Figure size 720x360 with 1 Axes>"
      ]
     },
     "metadata": {
      "needs_background": "light"
     },
     "output_type": "display_data"
    }
   ],
   "source": [
    "data['total_area'].hist(bins=50, figsize=(10,5), range=(0,200))"
   ]
  },
  {
   "cell_type": "markdown",
   "metadata": {},
   "source": [
    "__Жилая площадь__\n",
    "\n",
    "Наблюдается провал на значениях 24-25 кв.м"
   ]
  },
  {
   "cell_type": "code",
   "execution_count": 73,
   "metadata": {},
   "outputs": [
    {
     "data": {
      "text/plain": [
       "<AxesSubplot:>"
      ]
     },
     "execution_count": 73,
     "metadata": {},
     "output_type": "execute_result"
    },
    {
     "data": {
      "image/png": "[encoded data removed]",
      "text/plain": [
       "<Figure size 720x360 with 1 Axes>"
      ]
     },
     "metadata": {
      "needs_background": "light"
     },
     "output_type": "display_data"
    }
   ],
   "source": [
    "data['living_area'].hist(bins=100, figsize=(10,5), range=(0,125))"
   ]
  },
  {
   "cell_type": "markdown",
   "metadata": {},
   "source": [
    "__Площадь кухни__\n",
    "\n",
    "\"Провал\" на значении 7 кв.м"
   ]
  },
  {
   "cell_type": "code",
   "execution_count": 74,
   "metadata": {},
   "outputs": [
    {
     "data": {
      "text/plain": [
       "<AxesSubplot:>"
      ]
     },
     "execution_count": 74,
     "metadata": {},
     "output_type": "execute_result"
    },
    {
     "data": {
      "image/png": "[encoded data removed]",
      "text/plain": [
       "<Figure size 720x360 with 1 Axes>"
      ]
     },
     "metadata": {
      "needs_background": "light"
     },
     "output_type": "display_data"
    }
   ],
   "source": [
    "data['kitchen_area'].hist(bins=50, figsize=(10,5), range=(0,40))"
   ]
  },
  {
   "cell_type": "markdown",
   "metadata": {},
   "source": [
    "__Цена__\n",
    "\n",
    "Нормальное распределение с медианной ценой - 4,6 млн"
   ]
  },
  {
   "cell_type": "code",
   "execution_count": 75,
   "metadata": {},
   "outputs": [
    {
     "data": {
      "text/plain": [
       "<AxesSubplot:>"
      ]
     },
     "execution_count": 75,
     "metadata": {},
     "output_type": "execute_result"
    },
    {
     "data": {
      "image/png": "[encoded data removed]",
      "text/plain": [
       "<Figure size 1080x360 with 1 Axes>"
      ]
     },
     "metadata": {
      "needs_background": "light"
     },
     "output_type": "display_data"
    }
   ],
   "source": [
    "data['last_price'].hist(bins=100, figsize=(15,5), range=(0,20000000))"
   ]
  },
  {
   "cell_type": "markdown",
   "metadata": {},
   "source": [
    "__Количество комнат__\n",
    "\n",
    "В подавляющем большинстве представлено 1-, 2-, 3-комнатные квартиры"
   ]
  },
  {
   "cell_type": "code",
   "execution_count": 76,
   "metadata": {},
   "outputs": [
    {
     "data": {
      "text/plain": [
       "<AxesSubplot:>"
      ]
     },
     "execution_count": 76,
     "metadata": {},
     "output_type": "execute_result"
    },
    {
     "data": {
      "image/png": "[encoded data removed]",
      "text/plain": [
       "<Figure size 720x360 with 1 Axes>"
      ]
     },
     "metadata": {
      "needs_background": "light"
     },
     "output_type": "display_data"
    }
   ],
   "source": [
    "data['rooms'].hist(bins=16, figsize=(10,5))"
   ]
  },
  {
   "cell_type": "markdown",
   "metadata": {},
   "source": [
    "__Высота потолков__\n",
    "\n",
    "Высота потолков тяготеет к общероссийскому стандарту - 2,7 м"
   ]
  },
  {
   "cell_type": "code",
   "execution_count": 77,
   "metadata": {},
   "outputs": [
    {
     "data": {
      "text/plain": [
       "<AxesSubplot:>"
      ]
     },
     "execution_count": 77,
     "metadata": {},
     "output_type": "execute_result"
    },
    {
     "data": {
      "image/png": "[encoded data removed]",
      "text/plain": [
       "<Figure size 720x360 with 1 Axes>"
      ]
     },
     "metadata": {
      "needs_background": "light"
     },
     "output_type": "display_data"
    }
   ],
   "source": [
    "data['ceiling_height'].hist(bins=50, figsize=(10,5))"
   ]
  },
  {
   "cell_type": "markdown",
   "metadata": {},
   "source": [
    "__Этаж квартиры__\n",
    "\n",
    "С увеличением этажа - количество предложенных квартир идет на спад."
   ]
  },
  {
   "cell_type": "code",
   "execution_count": 78,
   "metadata": {},
   "outputs": [
    {
     "data": {
      "text/plain": [
       "<AxesSubplot:>"
      ]
     },
     "execution_count": 78,
     "metadata": {},
     "output_type": "execute_result"
    },
    {
     "data": {
      "image/png": "[encoded data removed]",
      "text/plain": [
       "<Figure size 720x360 with 1 Axes>"
      ]
     },
     "metadata": {
      "needs_background": "light"
     },
     "output_type": "display_data"
    }
   ],
   "source": [
    "data['floor'].hist(bins=50, figsize=(10,5))"
   ]
  },
  {
   "cell_type": "markdown",
   "metadata": {},
   "source": [
    "__Тип этажа__\n",
    "\n",
    "В большинстве представлены квартиры \"не на первом и не на последнем\" этажах"
   ]
  },
  {
   "cell_type": "code",
   "execution_count": 79,
   "metadata": {},
   "outputs": [
    {
     "data": {
      "text/plain": [
       "<AxesSubplot:>"
      ]
     },
     "execution_count": 79,
     "metadata": {},
     "output_type": "execute_result"
    },
    {
     "data": {
      "image/png": "[encoded data removed]",
      "text/plain": [
       "<Figure size 432x288 with 1 Axes>"
      ]
     },
     "metadata": {
      "needs_background": "light"
     },
     "output_type": "display_data"
    }
   ],
   "source": [
    "data['floor_type'].hist(bins=6)"
   ]
  },
  {
   "cell_type": "markdown",
   "metadata": {},
   "source": [
    "__Количество этажей в здании__\n",
    "\n",
    "В подавляющем большинстве - стандартная застройка - до 12 этажей, тяготеющая к застройке 5 этажными и 9-этажными зданиями "
   ]
  },
  {
   "cell_type": "code",
   "execution_count": 80,
   "metadata": {},
   "outputs": [
    {
     "data": {
      "text/plain": [
       "<AxesSubplot:>"
      ]
     },
     "execution_count": 80,
     "metadata": {},
     "output_type": "execute_result"
    },
    {
     "data": {
      "image/png": "[encoded data removed]",
      "text/plain": [
       "<Figure size 720x360 with 1 Axes>"
      ]
     },
     "metadata": {
      "needs_background": "light"
     },
     "output_type": "display_data"
    }
   ],
   "source": [
    "data['floors_total'].hist(bins=35, figsize=(10,5))"
   ]
  },
  {
   "cell_type": "markdown",
   "metadata": {},
   "source": [
    "__Удаленность от центра__\n",
    "\n",
    "На графике выделяется отдельный блок, который появился за счет заполнения пропусков медианным значением, но видно, что именно к нему тяготеет расположение большинства предложенных квартир."
   ]
  },
  {
   "cell_type": "code",
   "execution_count": 81,
   "metadata": {},
   "outputs": [
    {
     "data": {
      "text/plain": [
       "<AxesSubplot:>"
      ]
     },
     "execution_count": 81,
     "metadata": {},
     "output_type": "execute_result"
    },
    {
     "data": {
      "image/png": "[encoded data removed]",
      "text/plain": [
       "<Figure size 720x360 with 1 Axes>"
      ]
     },
     "metadata": {
      "needs_background": "light"
     },
     "output_type": "display_data"
    }
   ],
   "source": [
    "data['cityCenters_nearest'].hist(bins=60, figsize=(10,5))"
   ]
  },
  {
   "cell_type": "markdown",
   "metadata": {},
   "source": [
    "__Удаленность от аэропрорта__\n",
    "\n",
    "В целом получилось равномерное распределение по удаленности от аэропорта"
   ]
  },
  {
   "cell_type": "code",
   "execution_count": 82,
   "metadata": {},
   "outputs": [
    {
     "data": {
      "text/plain": [
       "<AxesSubplot:>"
      ]
     },
     "execution_count": 82,
     "metadata": {},
     "output_type": "execute_result"
    },
    {
     "data": {
      "image/png": "[encoded data removed]",
      "text/plain": [
       "<Figure size 720x360 with 1 Axes>"
      ]
     },
     "metadata": {
      "needs_background": "light"
     },
     "output_type": "display_data"
    }
   ],
   "source": [
    "data['airports_nearest'].hist(bins=80, figsize=(10,5))"
   ]
  },
  {
   "cell_type": "markdown",
   "metadata": {},
   "source": [
    "__Ближайшие парки__\n",
    "\n",
    "Видно, что в тех случаях, когда данные указаны, парки находятся достаточно близко - большинство - на растоянии менее 1,5 км"
   ]
  },
  {
   "cell_type": "code",
   "execution_count": 83,
   "metadata": {},
   "outputs": [
    {
     "data": {
      "text/plain": [
       "<AxesSubplot:>"
      ]
     },
     "execution_count": 83,
     "metadata": {},
     "output_type": "execute_result"
    },
    {
     "data": {
      "image/png": "[encoded data removed]",
      "text/plain": [
       "<Figure size 720x360 with 1 Axes>"
      ]
     },
     "metadata": {
      "needs_background": "light"
     },
     "output_type": "display_data"
    }
   ],
   "source": [
    "data['parks_nearest'].hist(bins=50, figsize=(10,5))"
   ]
  },
  {
   "cell_type": "markdown",
   "metadata": {},
   "source": [
    "__Публикации объявений по дням недели__\n",
    "\n",
    "В будни объявления публикуются интенсивнее. Несколько выделяются вторник и четверг."
   ]
  },
  {
   "cell_type": "code",
   "execution_count": 84,
   "metadata": {},
   "outputs": [
    {
     "data": {
      "text/plain": [
       "<AxesSubplot:>"
      ]
     },
     "execution_count": 84,
     "metadata": {},
     "output_type": "execute_result"
    },
    {
     "data": {
      "image/png": "[encoded data removed]",
      "text/plain": [
       "<Figure size 720x360 with 1 Axes>"
      ]
     },
     "metadata": {
      "needs_background": "light"
     },
     "output_type": "display_data"
    }
   ],
   "source": [
    "data['day_of_week_exposition'].hist(bins=14, figsize=(10,5))"
   ]
  },
  {
   "cell_type": "markdown",
   "metadata": {},
   "source": [
    "__Публикация объявлений по месяцам__\n",
    "\n",
    "Самая активная публикация идет, начиная с февраля до апреля. Затем возникает летнее затишье, после чего интенсивность публикаций нарастает до ноября включительно с перерывом на декабрь и январь."
   ]
  },
  {
   "cell_type": "code",
   "execution_count": 85,
   "metadata": {},
   "outputs": [
    {
     "data": {
      "text/plain": [
       "<AxesSubplot:>"
      ]
     },
     "execution_count": 85,
     "metadata": {},
     "output_type": "execute_result"
    },
    {
     "data": {
      "image/png": "[encoded data removed]",
      "text/plain": [
       "<Figure size 720x360 with 1 Axes>"
      ]
     },
     "metadata": {
      "needs_background": "light"
     },
     "output_type": "display_data"
    }
   ],
   "source": [
    "data['month_exposition'].hist(bins=24, figsize=(10,5))"
   ]
  },
  {
   "cell_type": "markdown",
   "metadata": {},
   "source": [
    "### Скорость продажи квартир"
   ]
  },
  {
   "cell_type": "markdown",
   "metadata": {},
   "source": [
    "Изучим скорость продажи квартир"
   ]
  },
  {
   "cell_type": "code",
   "execution_count": 86,
   "metadata": {},
   "outputs": [
    {
     "data": {
      "text/plain": [
       "<AxesSubplot:>"
      ]
     },
     "execution_count": 86,
     "metadata": {},
     "output_type": "execute_result"
    },
    {
     "data": {
      "image/png": "[encoded data removed]",
      "text/plain": [
       "<Figure size 720x360 with 1 Axes>"
      ]
     },
     "metadata": {
      "needs_background": "light"
     },
     "output_type": "display_data"
    }
   ],
   "source": [
    "data['days_exposition'].hist(bins=100, figsize=(10,5))"
   ]
  },
  {
   "cell_type": "code",
   "execution_count": 87,
   "metadata": {},
   "outputs": [
    {
     "data": {
      "text/plain": [
       "count    18824.000000\n",
       "mean       183.703145\n",
       "std        220.972081\n",
       "min          1.000000\n",
       "25%         44.000000\n",
       "50%        100.000000\n",
       "75%        236.000000\n",
       "max       1580.000000\n",
       "Name: days_exposition, dtype: float64"
      ]
     },
     "execution_count": 87,
     "metadata": {},
     "output_type": "execute_result"
    }
   ],
   "source": [
    "data['days_exposition'].describe()"
   ]
  },
  {
   "cell_type": "markdown",
   "metadata": {},
   "source": [
    "В среднем объявления о продаже недвижимости срабатывают в течение 184 дней с медианным значением ровно в 100 дней.\n",
    "\n",
    "По скорости продажи квартир объявления можно сгрупировать следующим образом:\n",
    "* быстро - до 44 дней\n",
    "* умеренно быстро - от 44 до 100 дней\n",
    "* средне - от 100 до 236 дней\n",
    "* медленно - более 236 дней"
   ]
  },
  {
   "cell_type": "markdown",
   "metadata": {},
   "source": [
    "### Факторы, влияющие на стоимость"
   ]
  },
  {
   "cell_type": "markdown",
   "metadata": {},
   "source": [
    "Построим графики, которые покажут зависимость изменения цены от ряда параметров"
   ]
  },
  {
   "cell_type": "markdown",
   "metadata": {},
   "source": [
    "__Зависимость цены от общей площади__"
   ]
  },
  {
   "cell_type": "code",
   "execution_count": 88,
   "metadata": {},
   "outputs": [
    {
     "data": {
      "image/png": "[encoded data removed]",
      "text/plain": [
       "<Figure size 432x288 with 1 Axes>"
      ]
     },
     "metadata": {
      "needs_background": "light"
     },
     "output_type": "display_data"
    }
   ],
   "source": [
    "data.plot(x='total_area', y='last_price', kind='scatter')\n",
    "plt.title('Зависимость цены от общей площади')\n",
    "plt.xlabel('Общая площадь')\n",
    "plt.ylabel('Цена')\n",
    "plt.show()"
   ]
  },
  {
   "cell_type": "code",
   "execution_count": 89,
   "metadata": {},
   "outputs": [
    {
     "data": {
      "text/plain": [
       "0.6665736340996088"
      ]
     },
     "execution_count": 89,
     "metadata": {},
     "output_type": "execute_result"
    }
   ],
   "source": [
    "data['last_price'].corr(data['total_area'])"
   ]
  },
  {
   "cell_type": "markdown",
   "metadata": {},
   "source": [
    "Зависимость довольно выраженная - при повышении общей площади увеличивается цена."
   ]
  },
  {
   "cell_type": "markdown",
   "metadata": {},
   "source": [
    "__Зависимость цены от жилой площади__"
   ]
  },
  {
   "cell_type": "code",
   "execution_count": 90,
   "metadata": {},
   "outputs": [
    {
     "data": {
      "image/png": "[encoded data removed]",
      "text/plain": [
       "<Figure size 432x288 with 1 Axes>"
      ]
     },
     "metadata": {
      "needs_background": "light"
     },
     "output_type": "display_data"
    }
   ],
   "source": [
    "data.plot(x='living_area', y='last_price', kind='scatter')\n",
    "plt.title('Зависимость цены от жилой площади')\n",
    "plt.xlabel('Жилая площадь')\n",
    "plt.ylabel('Цена')\n",
    "plt.show()"
   ]
  },
  {
   "cell_type": "code",
   "execution_count": 91,
   "metadata": {},
   "outputs": [
    {
     "data": {
      "text/plain": [
       "0.5737349336147977"
      ]
     },
     "execution_count": 91,
     "metadata": {},
     "output_type": "execute_result"
    }
   ],
   "source": [
    "data['last_price'].corr(data['living_area'])"
   ]
  },
  {
   "cell_type": "markdown",
   "metadata": {},
   "source": [
    "Менее выраженная корелляция, тем не менее - сопоставимая с предыдущими данными (при повышении площади увеличивается цена)."
   ]
  },
  {
   "cell_type": "markdown",
   "metadata": {},
   "source": [
    "__Зависимость цены от площади кухни__"
   ]
  },
  {
   "cell_type": "code",
   "execution_count": 92,
   "metadata": {},
   "outputs": [
    {
     "data": {
      "image/png": "[encoded data removed]",
      "text/plain": [
       "<Figure size 432x288 with 1 Axes>"
      ]
     },
     "metadata": {
      "needs_background": "light"
     },
     "output_type": "display_data"
    }
   ],
   "source": [
    "data.plot(x='kitchen_area', y='last_price', kind='scatter')\n",
    "plt.title('Зависимость цены от площади кухни')\n",
    "plt.xlabel('площадь кухни')\n",
    "plt.ylabel('Цена')\n",
    "plt.show()"
   ]
  },
  {
   "cell_type": "code",
   "execution_count": 93,
   "metadata": {},
   "outputs": [
    {
     "data": {
      "text/plain": [
       "0.4800257378131868"
      ]
     },
     "execution_count": 93,
     "metadata": {},
     "output_type": "execute_result"
    }
   ],
   "source": [
    "data['last_price'].corr(data['kitchen_area'])"
   ]
  },
  {
   "cell_type": "markdown",
   "metadata": {},
   "source": [
    "Еще менее выраженная корелляция, тем не менее - общий тренд остается прежним (при повышении площади увеличивается цена)."
   ]
  },
  {
   "cell_type": "markdown",
   "metadata": {},
   "source": [
    "__Зависимость цены от количества комнат__"
   ]
  },
  {
   "cell_type": "code",
   "execution_count": 94,
   "metadata": {
    "scrolled": true
   },
   "outputs": [
    {
     "data": {
      "image/png": "[encoded data removed]",
      "text/plain": [
       "<Figure size 432x288 with 1 Axes>"
      ]
     },
     "metadata": {
      "needs_background": "light"
     },
     "output_type": "display_data"
    }
   ],
   "source": [
    "data.pivot_table(index='rooms',values='last_price').plot(y='last_price', kind='bar')\n",
    "plt.title('Зависимость цены от количества комнат')\n",
    "plt.xlabel('Количество комнат')\n",
    "plt.ylabel('Цена')\n",
    "plt.show()"
   ]
  },
  {
   "cell_type": "code",
   "execution_count": 95,
   "metadata": {},
   "outputs": [
    {
     "data": {
      "text/plain": [
       "0.3948673174024988"
      ]
     },
     "execution_count": 95,
     "metadata": {},
     "output_type": "execute_result"
    }
   ],
   "source": [
    "data['last_price'].corr(data['rooms'])"
   ]
  },
  {
   "cell_type": "markdown",
   "metadata": {},
   "source": [
    "Корреляция присутствует, но уже менее выраженно - при увеличении количества комнат до 6 цена растет пропорционально увеличению,  после рост цены резко замедляется."
   ]
  },
  {
   "cell_type": "markdown",
   "metadata": {},
   "source": [
    "__Зависимость цены от типа этажа__"
   ]
  },
  {
   "cell_type": "code",
   "execution_count": 96,
   "metadata": {},
   "outputs": [
    {
     "data": {
      "image/png": "[encoded data removed]",
      "text/plain": [
       "<Figure size 288x360 with 1 Axes>"
      ]
     },
     "metadata": {
      "needs_background": "light"
     },
     "output_type": "display_data"
    }
   ],
   "source": [
    "data.pivot_table(index='floor_type',values='last_price', aggfunc='median').plot(y='last_price', kind='bar', figsize=(4,5))\n",
    "plt.title('Зависимость цены от типа этажа')\n",
    "plt.xlabel('Тип этажа')\n",
    "plt.ylabel('Цена')\n",
    "plt.show()"
   ]
  },
  {
   "cell_type": "markdown",
   "metadata": {},
   "source": [
    "\"Первый\" этаж оказывается дешевле по сравнению с другими этажами. \"Последний\" занимает срединную позицию между \"первым\" и \"другими\"."
   ]
  },
  {
   "cell_type": "markdown",
   "metadata": {},
   "source": [
    "__Зависимость цены от дня выставления объявления__"
   ]
  },
  {
   "cell_type": "code",
   "execution_count": 97,
   "metadata": {},
   "outputs": [
    {
     "data": {
      "image/png": "[encoded data removed]",
      "text/plain": [
       "<Figure size 432x288 with 1 Axes>"
      ]
     },
     "metadata": {
      "needs_background": "light"
     },
     "output_type": "display_data"
    }
   ],
   "source": [
    "data.pivot_table(index='day_of_week_exposition',values='last_price').plot(y='last_price', kind='bar', ylim=(0,7000000))\n",
    "plt.title('Зависимость цены от дня выставления объявления')\n",
    "plt.xlabel('День недели')\n",
    "plt.ylabel('Цена')\n",
    "plt.show()"
   ]
  },
  {
   "cell_type": "code",
   "execution_count": 98,
   "metadata": {},
   "outputs": [
    {
     "data": {
      "text/plain": [
       "-0.012743801118172351"
      ]
     },
     "execution_count": 98,
     "metadata": {},
     "output_type": "execute_result"
    }
   ],
   "source": [
    "data['last_price'].corr(data['day_of_week_exposition'])"
   ]
  },
  {
   "cell_type": "markdown",
   "metadata": {},
   "source": [
    "Корреляция выражена слабо - фактически, говорить о том, что цена зависит от дня недели нельзя, хотя можно уточнить, что более дорогостоящие объявления делаются ближе к началу недели."
   ]
  },
  {
   "cell_type": "markdown",
   "metadata": {},
   "source": [
    "__Зависимость цены от месяца выставления объявления__"
   ]
  },
  {
   "cell_type": "code",
   "execution_count": 99,
   "metadata": {},
   "outputs": [
    {
     "data": {
      "image/png": "[encoded data removed]",
      "text/plain": [
       "<Figure size 432x288 with 1 Axes>"
      ]
     },
     "metadata": {
      "needs_background": "light"
     },
     "output_type": "display_data"
    }
   ],
   "source": [
    "data.pivot_table(index='month_exposition',values='last_price').plot(y='last_price', kind='bar')\n",
    "plt.title('Зависимость цены от месяца выставления объявления')\n",
    "plt.xlabel('Месяц')\n",
    "plt.ylabel('Цена')\n",
    "plt.show()"
   ]
  },
  {
   "cell_type": "code",
   "execution_count": 100,
   "metadata": {},
   "outputs": [
    {
     "data": {
      "text/plain": [
       "-0.001481190536156116"
      ]
     },
     "execution_count": 100,
     "metadata": {},
     "output_type": "execute_result"
    }
   ],
   "source": [
    "data['last_price'].corr(data['month_exposition'])"
   ]
  },
  {
   "cell_type": "markdown",
   "metadata": {},
   "source": [
    "Корреляция не выражена. Цена объявления не зависит от месяца подачи объявления."
   ]
  },
  {
   "cell_type": "markdown",
   "metadata": {},
   "source": [
    "__Зависимость цены от года выставления объявления__"
   ]
  },
  {
   "cell_type": "code",
   "execution_count": 101,
   "metadata": {},
   "outputs": [
    {
     "data": {
      "image/png": "[encoded data removed]",
      "text/plain": [
       "<Figure size 432x288 with 1 Axes>"
      ]
     },
     "metadata": {
      "needs_background": "light"
     },
     "output_type": "display_data"
    }
   ],
   "source": [
    "data.pivot_table(index='year_exposition',values='last_price').plot(y='last_price', kind='bar')\n",
    "plt.title('Зависимость цены от года выставления объявления')\n",
    "plt.xlabel('Год')\n",
    "plt.ylabel('Цена')\n",
    "plt.show()"
   ]
  },
  {
   "cell_type": "code",
   "execution_count": 102,
   "metadata": {},
   "outputs": [
    {
     "data": {
      "text/plain": [
       "-0.041246214225904305"
      ]
     },
     "execution_count": 102,
     "metadata": {},
     "output_type": "execute_result"
    }
   ],
   "source": [
    "data['last_price'].corr(data['year_exposition'])"
   ]
  },
  {
   "cell_type": "code",
   "execution_count": 103,
   "metadata": {},
   "outputs": [
    {
     "data": {
      "image/png": "[encoded data removed]",
      "text/plain": [
       "<Figure size 432x288 with 1 Axes>"
      ]
     },
     "metadata": {
      "needs_background": "light"
     },
     "output_type": "display_data"
    }
   ],
   "source": [
    "data.pivot_table(index='year_exposition',values='total_area').plot(y='total_area', kind='bar')\n",
    "plt.title('Зависимость общей площади от года выставления объявления')\n",
    "plt.xlabel('Год')\n",
    "plt.ylabel('Площадь')\n",
    "plt.show()"
   ]
  },
  {
   "cell_type": "code",
   "execution_count": 104,
   "metadata": {},
   "outputs": [
    {
     "data": {
      "text/plain": [
       "-0.08552614375381781"
      ]
     },
     "execution_count": 104,
     "metadata": {},
     "output_type": "execute_result"
    }
   ],
   "source": [
    "data['total_area'].corr(data['year_exposition'])"
   ]
  },
  {
   "cell_type": "markdown",
   "metadata": {},
   "source": [
    "Корреляция слабая, но видно, что в 2014 году было наибольшее количество объявлений с высокой ценой и большой площадью квартир, в последующие годы на сервис выставляли квартиры меньшей площадью, соответственно - по меньшей цене, однако можно увидеть, что падеине цены происходило быстрее, чем уменьшение площади выставляемых на продажу объектов недвижимости."
   ]
  },
  {
   "cell_type": "markdown",
   "metadata": {},
   "source": [
    "__Вывод:__ очевидно, что на цену влияет площадь (будь это общая, жилая площаь или площадь кухни, также цена растет с увеличением количества комнат (но до определенного количества - граница - 6 комнат), а дни и месяцы размещения объявлений на цену влияют не сильно. Отдельно необходимо отметить, что цена первого этажа сильно уступает другим, следом идет последний этаж, а самые дорогие квартиры находятся одновременно не на первом и не на последнем этажах. И что самые дорогие объявления за объекты недвижимости с большой площадью были размещены на сервисе в первый год его работы."
   ]
  },
  {
   "cell_type": "markdown",
   "metadata": {},
   "source": [
    "### Средняя цена одного квадратного метра в 10 населённых пунктах с наибольшим числом объявлений"
   ]
  },
  {
   "cell_type": "markdown",
   "metadata": {},
   "source": [
    "Выделим 10 населенных пунктов (с исключением Санкт-Петербурга) с наибольшим числом объявлений и посчитаем среднюю стоимость квадратного метра в них."
   ]
  },
  {
   "cell_type": "code",
   "execution_count": 105,
   "metadata": {},
   "outputs": [
    {
     "data": {
      "text/html": [
       "<div>\n",
       "<style scoped>\n",
       "    .dataframe tbody tr th:only-of-type {\n",
       "        vertical-align: middle;\n",
       "    }\n",
       "\n",
       "    .dataframe tbody tr th {\n",
       "        vertical-align: top;\n",
       "    }\n",
       "\n",
       "    .dataframe thead th {\n",
       "        text-align: right;\n",
       "    }\n",
       "</style>\n",
       "<table border=\"1\" class=\"dataframe\">\n",
       "  <thead>\n",
       "    <tr style=\"text-align: right;\">\n",
       "      <th></th>\n",
       "      <th>total_count</th>\n",
       "      <th>price_m2_median</th>\n",
       "    </tr>\n",
       "    <tr>\n",
       "      <th>locality_name</th>\n",
       "      <th></th>\n",
       "      <th></th>\n",
       "    </tr>\n",
       "  </thead>\n",
       "  <tbody>\n",
       "    <tr>\n",
       "      <th>поселок Мурино</th>\n",
       "      <td>512</td>\n",
       "      <td>86311.913573</td>\n",
       "    </tr>\n",
       "    <tr>\n",
       "      <th>поселок Шушары</th>\n",
       "      <td>407</td>\n",
       "      <td>77272.727273</td>\n",
       "    </tr>\n",
       "    <tr>\n",
       "      <th>Всеволожск</th>\n",
       "      <td>369</td>\n",
       "      <td>65789.473684</td>\n",
       "    </tr>\n",
       "    <tr>\n",
       "      <th>Пушкин</th>\n",
       "      <td>340</td>\n",
       "      <td>99993.589744</td>\n",
       "    </tr>\n",
       "    <tr>\n",
       "      <th>Колпино</th>\n",
       "      <td>328</td>\n",
       "      <td>74723.748474</td>\n",
       "    </tr>\n",
       "    <tr>\n",
       "      <th>поселок Парголово</th>\n",
       "      <td>302</td>\n",
       "      <td>91579.708641</td>\n",
       "    </tr>\n",
       "    <tr>\n",
       "      <th>Гатчина</th>\n",
       "      <td>295</td>\n",
       "      <td>67924.528302</td>\n",
       "    </tr>\n",
       "    <tr>\n",
       "      <th>деревня Кудрово</th>\n",
       "      <td>267</td>\n",
       "      <td>92297.899427</td>\n",
       "    </tr>\n",
       "    <tr>\n",
       "      <th>Петергоф</th>\n",
       "      <td>197</td>\n",
       "      <td>81993.569132</td>\n",
       "    </tr>\n",
       "    <tr>\n",
       "      <th>Выборг</th>\n",
       "      <td>197</td>\n",
       "      <td>58407.079646</td>\n",
       "    </tr>\n",
       "  </tbody>\n",
       "</table>\n",
       "</div>"
      ],
      "text/plain": [
       "                   total_count  price_m2_median\n",
       "locality_name                                  \n",
       "поселок Мурино             512     86311.913573\n",
       "поселок Шушары             407     77272.727273\n",
       "Всеволожск                 369     65789.473684\n",
       "Пушкин                     340     99993.589744\n",
       "Колпино                    328     74723.748474\n",
       "поселок Парголово          302     91579.708641\n",
       "Гатчина                    295     67924.528302\n",
       "деревня Кудрово            267     92297.899427\n",
       "Петергоф                   197     81993.569132\n",
       "Выборг                     197     58407.079646"
      ]
     },
     "execution_count": 105,
     "metadata": {},
     "output_type": "execute_result"
    }
   ],
   "source": [
    "median_price_m2 = data.pivot_table(index = 'locality_name', values = 'price_m2',\n",
    "                          aggfunc = {'price_m2': 'median', 'locality_name': 'count'})\n",
    "\n",
    "median_price_m2 = median_price_m2.rename(columns={'locality_name': 'total_count', 'price_m2': 'price_m2_median'})\n",
    "\n",
    "top_10 = median_price_m2.loc[median_price_m2.index != 'Санкт-Петербург']\n",
    "\n",
    "top_10 = top_10.sort_values(by='total_count', ascending=False).head(10)\n",
    "\n",
    "top_10"
   ]
  },
  {
   "cell_type": "code",
   "execution_count": 106,
   "metadata": {},
   "outputs": [
    {
     "data": {
      "text/html": [
       "<div>\n",
       "<style scoped>\n",
       "    .dataframe tbody tr th:only-of-type {\n",
       "        vertical-align: middle;\n",
       "    }\n",
       "\n",
       "    .dataframe tbody tr th {\n",
       "        vertical-align: top;\n",
       "    }\n",
       "\n",
       "    .dataframe thead th {\n",
       "        text-align: right;\n",
       "    }\n",
       "</style>\n",
       "<table border=\"1\" class=\"dataframe\">\n",
       "  <thead>\n",
       "    <tr style=\"text-align: right;\">\n",
       "      <th></th>\n",
       "      <th>balcony</th>\n",
       "      <th>last_price</th>\n",
       "    </tr>\n",
       "    <tr>\n",
       "      <th>locality_name</th>\n",
       "      <th></th>\n",
       "      <th></th>\n",
       "    </tr>\n",
       "  </thead>\n",
       "  <tbody>\n",
       "    <tr>\n",
       "      <th>Санкт-Петербург</th>\n",
       "      <td>14515</td>\n",
       "      <td>5500000</td>\n",
       "    </tr>\n",
       "    <tr>\n",
       "      <th>поселок Мурино</th>\n",
       "      <td>512</td>\n",
       "      <td>3400000</td>\n",
       "    </tr>\n",
       "    <tr>\n",
       "      <th>поселок Шушары</th>\n",
       "      <td>407</td>\n",
       "      <td>3950000</td>\n",
       "    </tr>\n",
       "    <tr>\n",
       "      <th>Всеволожск</th>\n",
       "      <td>369</td>\n",
       "      <td>3450000</td>\n",
       "    </tr>\n",
       "    <tr>\n",
       "      <th>Пушкин</th>\n",
       "      <td>340</td>\n",
       "      <td>5187319</td>\n",
       "    </tr>\n",
       "    <tr>\n",
       "      <th>Колпино</th>\n",
       "      <td>328</td>\n",
       "      <td>3600000</td>\n",
       "    </tr>\n",
       "    <tr>\n",
       "      <th>поселок Парголово</th>\n",
       "      <td>302</td>\n",
       "      <td>4100000</td>\n",
       "    </tr>\n",
       "    <tr>\n",
       "      <th>Гатчина</th>\n",
       "      <td>295</td>\n",
       "      <td>3100000</td>\n",
       "    </tr>\n",
       "    <tr>\n",
       "      <th>деревня Кудрово</th>\n",
       "      <td>267</td>\n",
       "      <td>3700000</td>\n",
       "    </tr>\n",
       "    <tr>\n",
       "      <th>Выборг</th>\n",
       "      <td>197</td>\n",
       "      <td>2850000</td>\n",
       "    </tr>\n",
       "  </tbody>\n",
       "</table>\n",
       "</div>"
      ],
      "text/plain": [
       "                   balcony  last_price\n",
       "locality_name                         \n",
       "Санкт-Петербург      14515     5500000\n",
       "поселок Мурино         512     3400000\n",
       "поселок Шушары         407     3950000\n",
       "Всеволожск             369     3450000\n",
       "Пушкин                 340     5187319\n",
       "Колпино                328     3600000\n",
       "поселок Парголово      302     4100000\n",
       "Гатчина                295     3100000\n",
       "деревня Кудрово        267     3700000\n",
       "Выборг                 197     2850000"
      ]
     },
     "execution_count": 106,
     "metadata": {},
     "output_type": "execute_result"
    }
   ],
   "source": [
    "data.groupby('locality_name').agg({'balcony':'count', 'last_price':'median'}) \\\n",
    "    .sort_values(by = 'balcony', ascending = False) \\\n",
    "    .head(10)"
   ]
  },
  {
   "cell_type": "markdown",
   "metadata": {},
   "source": [
    "Выделим населенные пункты с самой высокой и самой низкой средней ценой квадратного метра из топ-10."
   ]
  },
  {
   "cell_type": "code",
   "execution_count": 107,
   "metadata": {},
   "outputs": [
    {
     "data": {
      "text/html": [
       "<div>\n",
       "<style scoped>\n",
       "    .dataframe tbody tr th:only-of-type {\n",
       "        vertical-align: middle;\n",
       "    }\n",
       "\n",
       "    .dataframe tbody tr th {\n",
       "        vertical-align: top;\n",
       "    }\n",
       "\n",
       "    .dataframe thead th {\n",
       "        text-align: right;\n",
       "    }\n",
       "</style>\n",
       "<table border=\"1\" class=\"dataframe\">\n",
       "  <thead>\n",
       "    <tr style=\"text-align: right;\">\n",
       "      <th></th>\n",
       "      <th>total_count</th>\n",
       "      <th>price_m2_median</th>\n",
       "    </tr>\n",
       "    <tr>\n",
       "      <th>locality_name</th>\n",
       "      <th></th>\n",
       "      <th></th>\n",
       "    </tr>\n",
       "  </thead>\n",
       "  <tbody>\n",
       "    <tr>\n",
       "      <th>Пушкин</th>\n",
       "      <td>340</td>\n",
       "      <td>99993.589744</td>\n",
       "    </tr>\n",
       "  </tbody>\n",
       "</table>\n",
       "</div>"
      ],
      "text/plain": [
       "               total_count  price_m2_median\n",
       "locality_name                              \n",
       "Пушкин                 340     99993.589744"
      ]
     },
     "execution_count": 107,
     "metadata": {},
     "output_type": "execute_result"
    }
   ],
   "source": [
    "top_10.query('price_m2_median == price_m2_median.max()')"
   ]
  },
  {
   "cell_type": "code",
   "execution_count": 108,
   "metadata": {},
   "outputs": [
    {
     "data": {
      "text/html": [
       "<div>\n",
       "<style scoped>\n",
       "    .dataframe tbody tr th:only-of-type {\n",
       "        vertical-align: middle;\n",
       "    }\n",
       "\n",
       "    .dataframe tbody tr th {\n",
       "        vertical-align: top;\n",
       "    }\n",
       "\n",
       "    .dataframe thead th {\n",
       "        text-align: right;\n",
       "    }\n",
       "</style>\n",
       "<table border=\"1\" class=\"dataframe\">\n",
       "  <thead>\n",
       "    <tr style=\"text-align: right;\">\n",
       "      <th></th>\n",
       "      <th>total_count</th>\n",
       "      <th>price_m2_median</th>\n",
       "    </tr>\n",
       "    <tr>\n",
       "      <th>locality_name</th>\n",
       "      <th></th>\n",
       "      <th></th>\n",
       "    </tr>\n",
       "  </thead>\n",
       "  <tbody>\n",
       "    <tr>\n",
       "      <th>Выборг</th>\n",
       "      <td>197</td>\n",
       "      <td>58407.079646</td>\n",
       "    </tr>\n",
       "  </tbody>\n",
       "</table>\n",
       "</div>"
      ],
      "text/plain": [
       "               total_count  price_m2_median\n",
       "locality_name                              \n",
       "Выборг                 197     58407.079646"
      ]
     },
     "execution_count": 108,
     "metadata": {},
     "output_type": "execute_result"
    }
   ],
   "source": [
    "top_10.query('price_m2_median == price_m2_median.min()')"
   ]
  },
  {
   "cell_type": "markdown",
   "metadata": {},
   "source": [
    "Отдельно выделим населенные пункты с самой высокой и самой низкой средней ценой квадратного метра из всех представленных."
   ]
  },
  {
   "cell_type": "code",
   "execution_count": 109,
   "metadata": {},
   "outputs": [
    {
     "data": {
      "text/html": [
       "<div>\n",
       "<style scoped>\n",
       "    .dataframe tbody tr th:only-of-type {\n",
       "        vertical-align: middle;\n",
       "    }\n",
       "\n",
       "    .dataframe tbody tr th {\n",
       "        vertical-align: top;\n",
       "    }\n",
       "\n",
       "    .dataframe thead th {\n",
       "        text-align: right;\n",
       "    }\n",
       "</style>\n",
       "<table border=\"1\" class=\"dataframe\">\n",
       "  <thead>\n",
       "    <tr style=\"text-align: right;\">\n",
       "      <th></th>\n",
       "      <th>total_count</th>\n",
       "      <th>price_m2_median</th>\n",
       "    </tr>\n",
       "    <tr>\n",
       "      <th>locality_name</th>\n",
       "      <th></th>\n",
       "      <th></th>\n",
       "    </tr>\n",
       "  </thead>\n",
       "  <tbody>\n",
       "    <tr>\n",
       "      <th>поселок Репино</th>\n",
       "      <td>2</td>\n",
       "      <td>127678.571429</td>\n",
       "    </tr>\n",
       "  </tbody>\n",
       "</table>\n",
       "</div>"
      ],
      "text/plain": [
       "                total_count  price_m2_median\n",
       "locality_name                               \n",
       "поселок Репино            2    127678.571429"
      ]
     },
     "execution_count": 109,
     "metadata": {},
     "output_type": "execute_result"
    }
   ],
   "source": [
    "median_price_m2.query('price_m2_median == price_m2_median.max()')"
   ]
  },
  {
   "cell_type": "code",
   "execution_count": 110,
   "metadata": {},
   "outputs": [
    {
     "data": {
      "text/html": [
       "<div>\n",
       "<style scoped>\n",
       "    .dataframe tbody tr th:only-of-type {\n",
       "        vertical-align: middle;\n",
       "    }\n",
       "\n",
       "    .dataframe tbody tr th {\n",
       "        vertical-align: top;\n",
       "    }\n",
       "\n",
       "    .dataframe thead th {\n",
       "        text-align: right;\n",
       "    }\n",
       "</style>\n",
       "<table border=\"1\" class=\"dataframe\">\n",
       "  <thead>\n",
       "    <tr style=\"text-align: right;\">\n",
       "      <th></th>\n",
       "      <th>total_count</th>\n",
       "      <th>price_m2_median</th>\n",
       "    </tr>\n",
       "    <tr>\n",
       "      <th>locality_name</th>\n",
       "      <th></th>\n",
       "      <th></th>\n",
       "    </tr>\n",
       "  </thead>\n",
       "  <tbody>\n",
       "    <tr>\n",
       "      <th>деревня Старополье</th>\n",
       "      <td>1</td>\n",
       "      <td>10368.663594</td>\n",
       "    </tr>\n",
       "  </tbody>\n",
       "</table>\n",
       "</div>"
      ],
      "text/plain": [
       "                    total_count  price_m2_median\n",
       "locality_name                                   \n",
       "деревня Старополье            1     10368.663594"
      ]
     },
     "execution_count": 110,
     "metadata": {},
     "output_type": "execute_result"
    }
   ],
   "source": [
    "median_price_m2.query('price_m2_median == price_m2_median.min()')"
   ]
  },
  {
   "cell_type": "markdown",
   "metadata": {},
   "source": [
    "Для сравнения приведем среднюю цену за квадратный метр в Санкт-Петербурге."
   ]
  },
  {
   "cell_type": "code",
   "execution_count": 111,
   "metadata": {},
   "outputs": [
    {
     "data": {
      "text/html": [
       "<div>\n",
       "<style scoped>\n",
       "    .dataframe tbody tr th:only-of-type {\n",
       "        vertical-align: middle;\n",
       "    }\n",
       "\n",
       "    .dataframe tbody tr th {\n",
       "        vertical-align: top;\n",
       "    }\n",
       "\n",
       "    .dataframe thead th {\n",
       "        text-align: right;\n",
       "    }\n",
       "</style>\n",
       "<table border=\"1\" class=\"dataframe\">\n",
       "  <thead>\n",
       "    <tr style=\"text-align: right;\">\n",
       "      <th></th>\n",
       "      <th>total_count</th>\n",
       "      <th>price_m2_median</th>\n",
       "    </tr>\n",
       "    <tr>\n",
       "      <th>locality_name</th>\n",
       "      <th></th>\n",
       "      <th></th>\n",
       "    </tr>\n",
       "  </thead>\n",
       "  <tbody>\n",
       "    <tr>\n",
       "      <th>Санкт-Петербург</th>\n",
       "      <td>14515</td>\n",
       "      <td>104519.774011</td>\n",
       "    </tr>\n",
       "  </tbody>\n",
       "</table>\n",
       "</div>"
      ],
      "text/plain": [
       "                 total_count  price_m2_median\n",
       "locality_name                                \n",
       "Санкт-Петербург        14515    104519.774011"
      ]
     },
     "execution_count": 111,
     "metadata": {},
     "output_type": "execute_result"
    }
   ],
   "source": [
    "median_price_m2.loc[median_price_m2.index == 'Санкт-Петербург']"
   ]
  },
  {
   "cell_type": "markdown",
   "metadata": {},
   "source": [
    "__Вывод:__ Средние цены за квардратный метр в 10 населенных пунктах с наибольшим количеством объявлений ниже, чем в Санкт-Петербурге. Наименьшая цена в Выборге (58407), наибольшая в Пушкине (99993). При этом самая маленькая цена за квадратный метр в деревне Старополье (10368), а самая высокая в поселке Репино (127678), при этом средняя цена за квадратный метр в поселке Репино почти на 24 тыс больше, чем в Санкт-Петербурге."
   ]
  },
  {
   "cell_type": "markdown",
   "metadata": {},
   "source": [
    "### Средняя цена каждого километра в Санкт-Петербурге"
   ]
  },
  {
   "cell_type": "markdown",
   "metadata": {},
   "source": [
    "Выделим среднюю цену каждого километра в Санкт-Петербурге и построим график."
   ]
  },
  {
   "cell_type": "code",
   "execution_count": 112,
   "metadata": {},
   "outputs": [],
   "source": [
    "spb_data = data.query('locality_name == \"Санкт-Петербург\"').pivot_table(index='cityCenters_nearest_km', values='last_price', aggfunc='mean')"
   ]
  },
  {
   "cell_type": "code",
   "execution_count": 113,
   "metadata": {},
   "outputs": [
    {
     "data": {
      "text/html": [
       "<div>\n",
       "<style scoped>\n",
       "    .dataframe tbody tr th:only-of-type {\n",
       "        vertical-align: middle;\n",
       "    }\n",
       "\n",
       "    .dataframe tbody tr th {\n",
       "        vertical-align: top;\n",
       "    }\n",
       "\n",
       "    .dataframe thead th {\n",
       "        text-align: right;\n",
       "    }\n",
       "</style>\n",
       "<table border=\"1\" class=\"dataframe\">\n",
       "  <thead>\n",
       "    <tr style=\"text-align: right;\">\n",
       "      <th></th>\n",
       "      <th>last_price</th>\n",
       "    </tr>\n",
       "    <tr>\n",
       "      <th>cityCenters_nearest_km</th>\n",
       "      <th></th>\n",
       "    </tr>\n",
       "  </thead>\n",
       "  <tbody>\n",
       "    <tr>\n",
       "      <th>0.0</th>\n",
       "      <td>3.650482e+07</td>\n",
       "    </tr>\n",
       "    <tr>\n",
       "      <th>1.0</th>\n",
       "      <td>1.928368e+07</td>\n",
       "    </tr>\n",
       "    <tr>\n",
       "      <th>2.0</th>\n",
       "      <td>1.518119e+07</td>\n",
       "    </tr>\n",
       "    <tr>\n",
       "      <th>3.0</th>\n",
       "      <td>1.075912e+07</td>\n",
       "    </tr>\n",
       "    <tr>\n",
       "      <th>4.0</th>\n",
       "      <td>1.138292e+07</td>\n",
       "    </tr>\n",
       "    <tr>\n",
       "      <th>5.0</th>\n",
       "      <td>1.206497e+07</td>\n",
       "    </tr>\n",
       "    <tr>\n",
       "      <th>6.0</th>\n",
       "      <td>1.316380e+07</td>\n",
       "    </tr>\n",
       "    <tr>\n",
       "      <th>7.0</th>\n",
       "      <td>1.400133e+07</td>\n",
       "    </tr>\n",
       "    <tr>\n",
       "      <th>8.0</th>\n",
       "      <td>9.225026e+06</td>\n",
       "    </tr>\n",
       "    <tr>\n",
       "      <th>9.0</th>\n",
       "      <td>6.895199e+06</td>\n",
       "    </tr>\n",
       "    <tr>\n",
       "      <th>10.0</th>\n",
       "      <td>6.442800e+06</td>\n",
       "    </tr>\n",
       "    <tr>\n",
       "      <th>11.0</th>\n",
       "      <td>6.201786e+06</td>\n",
       "    </tr>\n",
       "    <tr>\n",
       "      <th>12.0</th>\n",
       "      <td>6.054262e+06</td>\n",
       "    </tr>\n",
       "    <tr>\n",
       "      <th>13.0</th>\n",
       "      <td>6.062621e+06</td>\n",
       "    </tr>\n",
       "    <tr>\n",
       "      <th>14.0</th>\n",
       "      <td>5.613181e+06</td>\n",
       "    </tr>\n",
       "    <tr>\n",
       "      <th>15.0</th>\n",
       "      <td>5.871607e+06</td>\n",
       "    </tr>\n",
       "    <tr>\n",
       "      <th>16.0</th>\n",
       "      <td>5.362618e+06</td>\n",
       "    </tr>\n",
       "    <tr>\n",
       "      <th>17.0</th>\n",
       "      <td>5.304555e+06</td>\n",
       "    </tr>\n",
       "    <tr>\n",
       "      <th>18.0</th>\n",
       "      <td>5.124413e+06</td>\n",
       "    </tr>\n",
       "    <tr>\n",
       "      <th>19.0</th>\n",
       "      <td>5.061500e+06</td>\n",
       "    </tr>\n",
       "    <tr>\n",
       "      <th>20.0</th>\n",
       "      <td>6.041102e+06</td>\n",
       "    </tr>\n",
       "    <tr>\n",
       "      <th>21.0</th>\n",
       "      <td>5.362055e+06</td>\n",
       "    </tr>\n",
       "    <tr>\n",
       "      <th>22.0</th>\n",
       "      <td>5.401989e+06</td>\n",
       "    </tr>\n",
       "    <tr>\n",
       "      <th>23.0</th>\n",
       "      <td>5.000359e+06</td>\n",
       "    </tr>\n",
       "    <tr>\n",
       "      <th>24.0</th>\n",
       "      <td>3.904240e+06</td>\n",
       "    </tr>\n",
       "    <tr>\n",
       "      <th>25.0</th>\n",
       "      <td>4.131471e+06</td>\n",
       "    </tr>\n",
       "    <tr>\n",
       "      <th>26.0</th>\n",
       "      <td>4.052789e+06</td>\n",
       "    </tr>\n",
       "    <tr>\n",
       "      <th>27.0</th>\n",
       "      <td>8.300000e+06</td>\n",
       "    </tr>\n",
       "    <tr>\n",
       "      <th>28.0</th>\n",
       "      <td>5.026429e+06</td>\n",
       "    </tr>\n",
       "    <tr>\n",
       "      <th>29.0</th>\n",
       "      <td>4.114000e+06</td>\n",
       "    </tr>\n",
       "  </tbody>\n",
       "</table>\n",
       "</div>"
      ],
      "text/plain": [
       "                          last_price\n",
       "cityCenters_nearest_km              \n",
       "0.0                     3.650482e+07\n",
       "1.0                     1.928368e+07\n",
       "2.0                     1.518119e+07\n",
       "3.0                     1.075912e+07\n",
       "4.0                     1.138292e+07\n",
       "5.0                     1.206497e+07\n",
       "6.0                     1.316380e+07\n",
       "7.0                     1.400133e+07\n",
       "8.0                     9.225026e+06\n",
       "9.0                     6.895199e+06\n",
       "10.0                    6.442800e+06\n",
       "11.0                    6.201786e+06\n",
       "12.0                    6.054262e+06\n",
       "13.0                    6.062621e+06\n",
       "14.0                    5.613181e+06\n",
       "15.0                    5.871607e+06\n",
       "16.0                    5.362618e+06\n",
       "17.0                    5.304555e+06\n",
       "18.0                    5.124413e+06\n",
       "19.0                    5.061500e+06\n",
       "20.0                    6.041102e+06\n",
       "21.0                    5.362055e+06\n",
       "22.0                    5.401989e+06\n",
       "23.0                    5.000359e+06\n",
       "24.0                    3.904240e+06\n",
       "25.0                    4.131471e+06\n",
       "26.0                    4.052789e+06\n",
       "27.0                    8.300000e+06\n",
       "28.0                    5.026429e+06\n",
       "29.0                    4.114000e+06"
      ]
     },
     "execution_count": 113,
     "metadata": {},
     "output_type": "execute_result"
    }
   ],
   "source": [
    "spb_data"
   ]
  },
  {
   "cell_type": "code",
   "execution_count": 114,
   "metadata": {},
   "outputs": [
    {
     "data": {
      "image/png": "[encoded data removed]",
      "text/plain": [
       "<Figure size 864x360 with 1 Axes>"
      ]
     },
     "metadata": {
      "needs_background": "light"
     },
     "output_type": "display_data"
    }
   ],
   "source": [
    "spb_data.plot(grid=True, kind='bar', figsize=(12, 5), title = 'Заголовок');"
   ]
  },
  {
   "cell_type": "markdown",
   "metadata": {},
   "source": [
    "__Вывод:__ Наибольшая цена в центре города, снижается с каждым километром. В определенный момент видно повышение цены - в районе 7 км от цента (это может говорить о расположении удобных районов), затем повышение цены идет на 27 км (как вариант, опять же - расположение \"элитного\" района."
   ]
  },
  {
   "cell_type": "markdown",
   "metadata": {},
   "source": [
    "## Общий вывод"
   ]
  },
  {
   "cell_type": "markdown",
   "metadata": {},
   "source": [
    "В рамках исследования архивных данных со сведениями о продаже квартир в Санкт-Петербурге и соседних населенных пунктах можно прийти к следующим выводам:\n",
    "\n",
    "* В данных представлен разнообразный жилой фонд, который в целом покрывает все варианты жилого фонда Ссанкт-Петербурга и окресностей.\n",
    "В основной массе представлены 1-3 комнатные квартиры, при этом в большинстве - не на первом и не на последнем этажах - в самой распространенной застройке (здания от 5 до 12 этажей).\n",
    "* Размещение данных в системе происходило постоянно, в основном по будням, пики размещения приходились на зимне-весенние и осенние месяцы с затишьем летом и зимой (декабрь-январь). По времени размещенные объявления уходили с разной скоростью - быстро (до 44 дней), умеренно быстро (от 44 до 100 дней), средне (от 100 до 236 дней), медленно (более 236 дней).\n",
    "* Основными факторами, влияющими на стоимость квартиры оказались ее величина (как общей площади, так и кухни или жилой площади) и, в меньшей степени, количество комнат.\n",
    "* Отдельно необходимо отметить, что изначально к сервису проявлялся больший интерес со стороны пользователей - самые крупные объявления были опубликованы на сервисе в первый год работы.\n",
    "* По средней цене за квадратный метр Санкт-Петербург оказался не самым дорогим местом, его опережает поселок Репино. Однако среди населенных пунктов с наибольшим количеством объявлений средняя цена за квадратный метр в Санкт-Петербурге наивысшая. Следом за ним идет город Пушкин, а наименьшая цена за квадратный метр из 10 населенных пунктов с наибольшим количеством обхявлений в городе Выборг.\n",
    "* В Санкт-Петербурге средняя цена за квадратный метр варьируется в зависимости от удаленности от центра. Цена падает с каждым километром, за исключением возрастания на 7 км от центра и небольшим возрастанием на 27 км от центра.\n"
   ]
  }
 ],
 "metadata": {
  "ExecuteTimeLog": [
   {
    "duration": 539,
    "start_time": "2022-12-15T10:16:51.011Z"
   },
   {
    "duration": 13,
    "start_time": "2022-12-15T10:16:51.693Z"
   },
   {
    "duration": 12,
    "start_time": "2022-12-15T10:17:40.210Z"
   },
   {
    "duration": 77,
    "start_time": "2022-12-15T10:18:42.289Z"
   },
   {
    "duration": 0,
    "start_time": "2022-12-15T10:18:42.368Z"
   },
   {
    "duration": 0,
    "start_time": "2022-12-15T10:18:42.369Z"
   },
   {
    "duration": 68,
    "start_time": "2022-12-15T10:19:34.078Z"
   },
   {
    "duration": 472,
    "start_time": "2022-12-15T10:19:41.675Z"
   },
   {
    "duration": 13,
    "start_time": "2022-12-15T10:19:43.492Z"
   },
   {
    "duration": 13,
    "start_time": "2022-12-15T10:19:46.209Z"
   },
   {
    "duration": 97,
    "start_time": "2022-12-15T10:20:31.694Z"
   },
   {
    "duration": 15,
    "start_time": "2022-12-15T10:20:33.160Z"
   },
   {
    "duration": 35,
    "start_time": "2022-12-15T10:20:36.078Z"
   },
   {
    "duration": 2347,
    "start_time": "2022-12-15T10:21:55.920Z"
   },
   {
    "duration": 469,
    "start_time": "2022-12-15T10:37:38.807Z"
   },
   {
    "duration": 43,
    "start_time": "2022-12-15T10:37:39.278Z"
   },
   {
    "duration": 15,
    "start_time": "2022-12-15T10:37:39.323Z"
   },
   {
    "duration": 2053,
    "start_time": "2022-12-15T10:37:39.340Z"
   },
   {
    "duration": 505,
    "start_time": "2022-12-15T10:38:57.681Z"
   },
   {
    "duration": 43,
    "start_time": "2022-12-15T10:38:58.187Z"
   },
   {
    "duration": 16,
    "start_time": "2022-12-15T10:38:58.232Z"
   },
   {
    "duration": 2211,
    "start_time": "2022-12-15T10:38:58.250Z"
   },
   {
    "duration": 9,
    "start_time": "2022-12-15T10:40:41.792Z"
   },
   {
    "duration": 1857,
    "start_time": "2022-12-15T10:51:39.535Z"
   },
   {
    "duration": 1788,
    "start_time": "2022-12-15T10:51:58.390Z"
   },
   {
    "duration": 1628,
    "start_time": "2022-12-15T10:52:34.606Z"
   },
   {
    "duration": 1897,
    "start_time": "2022-12-15T10:52:47.274Z"
   },
   {
    "duration": 1753,
    "start_time": "2022-12-15T10:53:00.179Z"
   },
   {
    "duration": 2000,
    "start_time": "2022-12-15T10:53:19.173Z"
   },
   {
    "duration": 77,
    "start_time": "2022-12-15T10:56:25.587Z"
   },
   {
    "duration": 8,
    "start_time": "2022-12-15T10:56:54.522Z"
   },
   {
    "duration": 8,
    "start_time": "2022-12-15T10:57:32.987Z"
   },
   {
    "duration": 488,
    "start_time": "2022-12-15T10:57:45.447Z"
   },
   {
    "duration": 44,
    "start_time": "2022-12-15T10:57:45.937Z"
   },
   {
    "duration": 16,
    "start_time": "2022-12-15T10:57:45.983Z"
   },
   {
    "duration": 2095,
    "start_time": "2022-12-15T10:57:46.002Z"
   },
   {
    "duration": 67,
    "start_time": "2022-12-15T10:57:48.099Z"
   },
   {
    "duration": 0,
    "start_time": "2022-12-15T10:57:48.168Z"
   },
   {
    "duration": 8,
    "start_time": "2022-12-15T10:58:16.590Z"
   },
   {
    "duration": 7,
    "start_time": "2022-12-15T10:58:24.423Z"
   },
   {
    "duration": 133,
    "start_time": "2022-12-15T10:58:50.353Z"
   },
   {
    "duration": 108,
    "start_time": "2022-12-15T10:59:14.655Z"
   },
   {
    "duration": 139,
    "start_time": "2022-12-15T10:59:23.140Z"
   },
   {
    "duration": 109,
    "start_time": "2022-12-15T10:59:28.621Z"
   },
   {
    "duration": 119,
    "start_time": "2022-12-15T10:59:44.438Z"
   },
   {
    "duration": 137,
    "start_time": "2022-12-15T11:01:02.455Z"
   },
   {
    "duration": 197,
    "start_time": "2022-12-15T11:01:23.157Z"
   },
   {
    "duration": 137,
    "start_time": "2022-12-15T11:02:29.139Z"
   },
   {
    "duration": 114,
    "start_time": "2022-12-15T11:02:38.805Z"
   },
   {
    "duration": 129,
    "start_time": "2022-12-15T11:02:46.771Z"
   },
   {
    "duration": 128,
    "start_time": "2022-12-15T11:03:32.539Z"
   },
   {
    "duration": 123,
    "start_time": "2022-12-15T11:03:45.055Z"
   },
   {
    "duration": 132,
    "start_time": "2022-12-15T11:03:51.354Z"
   },
   {
    "duration": 110,
    "start_time": "2022-12-15T11:03:56.289Z"
   },
   {
    "duration": 128,
    "start_time": "2022-12-15T11:04:20.039Z"
   },
   {
    "duration": 141,
    "start_time": "2022-12-15T11:04:30.874Z"
   },
   {
    "duration": 130,
    "start_time": "2022-12-15T11:04:38.305Z"
   },
   {
    "duration": 153,
    "start_time": "2022-12-15T11:04:45.955Z"
   },
   {
    "duration": 130,
    "start_time": "2022-12-15T11:04:50.620Z"
   },
   {
    "duration": 10,
    "start_time": "2022-12-15T11:06:21.638Z"
   },
   {
    "duration": 5,
    "start_time": "2022-12-15T11:46:12.304Z"
   },
   {
    "duration": 6,
    "start_time": "2022-12-15T11:47:03.184Z"
   },
   {
    "duration": 7,
    "start_time": "2022-12-15T11:50:54.619Z"
   },
   {
    "duration": 4,
    "start_time": "2022-12-15T11:51:37.370Z"
   },
   {
    "duration": 9,
    "start_time": "2022-12-15T11:51:53.915Z"
   },
   {
    "duration": 8,
    "start_time": "2022-12-15T11:52:19.533Z"
   },
   {
    "duration": 5,
    "start_time": "2022-12-15T11:52:21.849Z"
   },
   {
    "duration": 4,
    "start_time": "2022-12-15T11:53:40.548Z"
   },
   {
    "duration": 6,
    "start_time": "2022-12-15T11:53:58.244Z"
   },
   {
    "duration": 3,
    "start_time": "2022-12-15T11:56:04.617Z"
   },
   {
    "duration": 4,
    "start_time": "2022-12-15T11:56:26.050Z"
   },
   {
    "duration": 6,
    "start_time": "2022-12-15T11:57:50.832Z"
   },
   {
    "duration": 1075,
    "start_time": "2022-12-15T12:08:01.697Z"
   },
   {
    "duration": 5,
    "start_time": "2022-12-15T12:08:12.198Z"
   },
   {
    "duration": 7,
    "start_time": "2022-12-15T12:08:39.114Z"
   },
   {
    "duration": 5,
    "start_time": "2022-12-15T12:08:49.115Z"
   },
   {
    "duration": 5,
    "start_time": "2022-12-15T12:08:59.030Z"
   },
   {
    "duration": 1132,
    "start_time": "2022-12-15T12:09:40.998Z"
   },
   {
    "duration": 9,
    "start_time": "2022-12-15T12:10:01.987Z"
   },
   {
    "duration": 7,
    "start_time": "2022-12-15T12:10:12.981Z"
   },
   {
    "duration": 10,
    "start_time": "2022-12-15T12:10:25.148Z"
   },
   {
    "duration": 5,
    "start_time": "2022-12-15T12:11:16.983Z"
   },
   {
    "duration": 3,
    "start_time": "2022-12-15T12:11:30.998Z"
   },
   {
    "duration": 124,
    "start_time": "2022-12-15T12:11:42.631Z"
   },
   {
    "duration": 472,
    "start_time": "2022-12-15T12:12:34.006Z"
   },
   {
    "duration": 40,
    "start_time": "2022-12-15T12:12:34.480Z"
   },
   {
    "duration": 14,
    "start_time": "2022-12-15T12:12:34.521Z"
   },
   {
    "duration": 2032,
    "start_time": "2022-12-15T12:12:34.537Z"
   },
   {
    "duration": 116,
    "start_time": "2022-12-15T12:12:36.571Z"
   },
   {
    "duration": 137,
    "start_time": "2022-12-15T12:12:36.688Z"
   },
   {
    "duration": 135,
    "start_time": "2022-12-15T12:12:36.826Z"
   },
   {
    "duration": 22,
    "start_time": "2022-12-15T12:12:36.963Z"
   },
   {
    "duration": 3,
    "start_time": "2022-12-15T12:12:36.987Z"
   },
   {
    "duration": 7,
    "start_time": "2022-12-15T12:12:36.993Z"
   },
   {
    "duration": 11,
    "start_time": "2022-12-15T12:12:37.002Z"
   },
   {
    "duration": 10,
    "start_time": "2022-12-15T12:12:37.014Z"
   },
   {
    "duration": 6,
    "start_time": "2022-12-15T12:12:37.025Z"
   },
   {
    "duration": 6,
    "start_time": "2022-12-15T12:12:37.033Z"
   },
   {
    "duration": 12,
    "start_time": "2022-12-15T12:12:37.041Z"
   },
   {
    "duration": 53,
    "start_time": "2022-12-15T12:12:37.054Z"
   },
   {
    "duration": 4,
    "start_time": "2022-12-15T12:13:59.752Z"
   },
   {
    "duration": 8,
    "start_time": "2022-12-15T12:14:17.147Z"
   },
   {
    "duration": 4,
    "start_time": "2022-12-15T12:14:55.530Z"
   },
   {
    "duration": 5,
    "start_time": "2022-12-15T12:15:04.648Z"
   },
   {
    "duration": 454,
    "start_time": "2022-12-15T12:27:20.532Z"
   },
   {
    "duration": 48,
    "start_time": "2022-12-15T12:27:20.988Z"
   },
   {
    "duration": 17,
    "start_time": "2022-12-15T12:27:21.038Z"
   },
   {
    "duration": 2055,
    "start_time": "2022-12-15T12:27:21.058Z"
   },
   {
    "duration": 118,
    "start_time": "2022-12-15T12:27:23.115Z"
   },
   {
    "duration": 133,
    "start_time": "2022-12-15T12:27:23.235Z"
   },
   {
    "duration": 133,
    "start_time": "2022-12-15T12:27:23.377Z"
   },
   {
    "duration": 9,
    "start_time": "2022-12-15T12:27:23.511Z"
   },
   {
    "duration": 8,
    "start_time": "2022-12-15T12:27:23.521Z"
   },
   {
    "duration": 7,
    "start_time": "2022-12-15T12:27:23.531Z"
   },
   {
    "duration": 8,
    "start_time": "2022-12-15T12:27:23.539Z"
   },
   {
    "duration": 5,
    "start_time": "2022-12-15T12:27:23.549Z"
   },
   {
    "duration": 7,
    "start_time": "2022-12-15T12:27:23.556Z"
   },
   {
    "duration": 5,
    "start_time": "2022-12-15T12:27:23.579Z"
   },
   {
    "duration": 8,
    "start_time": "2022-12-15T12:27:23.585Z"
   },
   {
    "duration": 21,
    "start_time": "2022-12-15T12:27:23.594Z"
   },
   {
    "duration": 7,
    "start_time": "2022-12-15T12:27:23.616Z"
   },
   {
    "duration": 704,
    "start_time": "2022-12-15T12:27:23.624Z"
   },
   {
    "duration": 641,
    "start_time": "2022-12-15T12:27:24.330Z"
   },
   {
    "duration": 657,
    "start_time": "2022-12-15T12:27:24.972Z"
   },
   {
    "duration": 16,
    "start_time": "2022-12-15T12:29:40.010Z"
   },
   {
    "duration": 16,
    "start_time": "2022-12-15T12:29:57.265Z"
   },
   {
    "duration": 67,
    "start_time": "2022-12-15T12:30:29.466Z"
   },
   {
    "duration": 12,
    "start_time": "2022-12-15T12:30:51.881Z"
   },
   {
    "duration": 10,
    "start_time": "2022-12-15T12:31:11.963Z"
   },
   {
    "duration": 16,
    "start_time": "2022-12-15T12:31:17.097Z"
   },
   {
    "duration": 372,
    "start_time": "2022-12-15T12:31:24.780Z"
   },
   {
    "duration": 15,
    "start_time": "2022-12-15T12:31:29.848Z"
   },
   {
    "duration": 6,
    "start_time": "2022-12-15T12:32:32.810Z"
   },
   {
    "duration": 9,
    "start_time": "2022-12-15T12:36:05.598Z"
   },
   {
    "duration": 8,
    "start_time": "2022-12-15T12:38:36.480Z"
   },
   {
    "duration": 7,
    "start_time": "2022-12-15T12:41:21.564Z"
   },
   {
    "duration": 8,
    "start_time": "2022-12-15T12:41:40.630Z"
   },
   {
    "duration": 9,
    "start_time": "2022-12-15T12:41:53.712Z"
   },
   {
    "duration": 9,
    "start_time": "2022-12-15T12:42:05.930Z"
   },
   {
    "duration": 558,
    "start_time": "2022-12-15T12:42:38.029Z"
   },
   {
    "duration": 12,
    "start_time": "2022-12-15T12:43:58.397Z"
   },
   {
    "duration": 21,
    "start_time": "2022-12-15T12:46:03.028Z"
   },
   {
    "duration": 23,
    "start_time": "2022-12-15T12:46:10.724Z"
   },
   {
    "duration": 15,
    "start_time": "2022-12-15T12:46:42.396Z"
   },
   {
    "duration": 632,
    "start_time": "2022-12-15T12:46:57.947Z"
   },
   {
    "duration": 4,
    "start_time": "2022-12-15T12:48:04.396Z"
   },
   {
    "duration": 66,
    "start_time": "2022-12-15T12:48:11.929Z"
   },
   {
    "duration": 71,
    "start_time": "2022-12-15T12:48:29.644Z"
   },
   {
    "duration": 79,
    "start_time": "2022-12-15T12:48:37.434Z"
   },
   {
    "duration": 79,
    "start_time": "2022-12-15T12:48:52.329Z"
   },
   {
    "duration": 591,
    "start_time": "2022-12-15T12:49:04.795Z"
   },
   {
    "duration": 515,
    "start_time": "2022-12-15T12:52:37.278Z"
   },
   {
    "duration": 45,
    "start_time": "2022-12-15T12:52:37.794Z"
   },
   {
    "duration": 15,
    "start_time": "2022-12-15T12:52:37.840Z"
   },
   {
    "duration": 2073,
    "start_time": "2022-12-15T12:52:37.856Z"
   },
   {
    "duration": 121,
    "start_time": "2022-12-15T12:52:39.931Z"
   },
   {
    "duration": 147,
    "start_time": "2022-12-15T12:52:40.054Z"
   },
   {
    "duration": 139,
    "start_time": "2022-12-15T12:52:40.202Z"
   },
   {
    "duration": 8,
    "start_time": "2022-12-15T12:52:40.343Z"
   },
   {
    "duration": 27,
    "start_time": "2022-12-15T12:52:40.352Z"
   },
   {
    "duration": 12,
    "start_time": "2022-12-15T12:52:40.382Z"
   },
   {
    "duration": 30,
    "start_time": "2022-12-15T12:52:40.395Z"
   },
   {
    "duration": 20,
    "start_time": "2022-12-15T12:52:40.427Z"
   },
   {
    "duration": 22,
    "start_time": "2022-12-15T12:52:40.449Z"
   },
   {
    "duration": 26,
    "start_time": "2022-12-15T12:52:40.472Z"
   },
   {
    "duration": 18,
    "start_time": "2022-12-15T12:52:40.499Z"
   },
   {
    "duration": 23,
    "start_time": "2022-12-15T12:52:40.518Z"
   },
   {
    "duration": 15,
    "start_time": "2022-12-15T12:52:40.543Z"
   },
   {
    "duration": 674,
    "start_time": "2022-12-15T12:52:40.560Z"
   },
   {
    "duration": 662,
    "start_time": "2022-12-15T12:52:41.235Z"
   },
   {
    "duration": 651,
    "start_time": "2022-12-15T12:52:41.899Z"
   },
   {
    "duration": 10,
    "start_time": "2022-12-15T12:52:42.552Z"
   },
   {
    "duration": 12,
    "start_time": "2022-12-15T12:55:36.463Z"
   },
   {
    "duration": 9,
    "start_time": "2022-12-15T12:56:27.761Z"
   },
   {
    "duration": 615,
    "start_time": "2022-12-15T12:57:10.812Z"
   },
   {
    "duration": 566,
    "start_time": "2022-12-15T12:57:21.077Z"
   },
   {
    "duration": 7,
    "start_time": "2022-12-15T12:58:13.828Z"
   },
   {
    "duration": 13,
    "start_time": "2022-12-15T12:58:22.361Z"
   },
   {
    "duration": 5,
    "start_time": "2022-12-15T12:59:15.477Z"
   },
   {
    "duration": 12,
    "start_time": "2022-12-15T12:59:38.796Z"
   },
   {
    "duration": 6,
    "start_time": "2022-12-15T12:59:39.794Z"
   },
   {
    "duration": 5,
    "start_time": "2022-12-15T12:59:49.161Z"
   },
   {
    "duration": 7,
    "start_time": "2022-12-15T13:00:22.565Z"
   },
   {
    "duration": 4,
    "start_time": "2022-12-15T13:00:42.578Z"
   },
   {
    "duration": 5,
    "start_time": "2022-12-15T13:00:49.661Z"
   },
   {
    "duration": 5,
    "start_time": "2022-12-15T13:00:57.893Z"
   },
   {
    "duration": 5,
    "start_time": "2022-12-15T13:02:34.694Z"
   },
   {
    "duration": 5,
    "start_time": "2022-12-15T13:02:45.710Z"
   },
   {
    "duration": 5,
    "start_time": "2022-12-15T13:02:51.711Z"
   },
   {
    "duration": 6,
    "start_time": "2022-12-15T13:03:57.011Z"
   },
   {
    "duration": 27,
    "start_time": "2022-12-15T13:04:10.612Z"
   },
   {
    "duration": 14,
    "start_time": "2022-12-15T13:04:36.513Z"
   },
   {
    "duration": 44,
    "start_time": "2022-12-15T13:04:58.875Z"
   },
   {
    "duration": 13,
    "start_time": "2022-12-15T13:07:15.523Z"
   },
   {
    "duration": 9,
    "start_time": "2022-12-15T13:07:39.192Z"
   },
   {
    "duration": 827,
    "start_time": "2022-12-15T13:08:36.260Z"
   },
   {
    "duration": 5,
    "start_time": "2022-12-15T13:08:51.125Z"
   },
   {
    "duration": 6,
    "start_time": "2022-12-15T13:09:12.892Z"
   },
   {
    "duration": 601,
    "start_time": "2022-12-15T13:11:25.527Z"
   },
   {
    "duration": 558,
    "start_time": "2022-12-15T13:13:07.858Z"
   },
   {
    "duration": 553,
    "start_time": "2022-12-15T13:13:24.006Z"
   },
   {
    "duration": 460,
    "start_time": "2022-12-15T13:13:36.925Z"
   },
   {
    "duration": 41,
    "start_time": "2022-12-15T13:13:37.387Z"
   },
   {
    "duration": 15,
    "start_time": "2022-12-15T13:13:37.429Z"
   },
   {
    "duration": 2151,
    "start_time": "2022-12-15T13:13:37.446Z"
   },
   {
    "duration": 121,
    "start_time": "2022-12-15T13:13:39.599Z"
   },
   {
    "duration": 137,
    "start_time": "2022-12-15T13:13:39.721Z"
   },
   {
    "duration": 133,
    "start_time": "2022-12-15T13:13:39.860Z"
   },
   {
    "duration": 10,
    "start_time": "2022-12-15T13:13:39.994Z"
   },
   {
    "duration": 4,
    "start_time": "2022-12-15T13:13:40.005Z"
   },
   {
    "duration": 6,
    "start_time": "2022-12-15T13:13:40.012Z"
   },
   {
    "duration": 39,
    "start_time": "2022-12-15T13:13:40.020Z"
   },
   {
    "duration": 10,
    "start_time": "2022-12-15T13:13:40.061Z"
   },
   {
    "duration": 12,
    "start_time": "2022-12-15T13:13:40.073Z"
   },
   {
    "duration": 9,
    "start_time": "2022-12-15T13:13:40.086Z"
   },
   {
    "duration": 11,
    "start_time": "2022-12-15T13:13:40.097Z"
   },
   {
    "duration": 7,
    "start_time": "2022-12-15T13:13:40.110Z"
   },
   {
    "duration": 14,
    "start_time": "2022-12-15T13:13:40.118Z"
   },
   {
    "duration": 659,
    "start_time": "2022-12-15T13:13:40.134Z"
   },
   {
    "duration": 660,
    "start_time": "2022-12-15T13:13:40.794Z"
   },
   {
    "duration": 642,
    "start_time": "2022-12-15T13:13:41.456Z"
   },
   {
    "duration": 6,
    "start_time": "2022-12-15T13:13:42.100Z"
   },
   {
    "duration": 633,
    "start_time": "2022-12-15T13:13:42.108Z"
   },
   {
    "duration": 0,
    "start_time": "2022-12-15T13:13:42.743Z"
   },
   {
    "duration": 4,
    "start_time": "2022-12-15T13:14:13.590Z"
   },
   {
    "duration": 554,
    "start_time": "2022-12-15T13:14:15.389Z"
   },
   {
    "duration": 8,
    "start_time": "2022-12-15T13:14:24.674Z"
   },
   {
    "duration": 8,
    "start_time": "2022-12-15T13:14:31.755Z"
   },
   {
    "duration": 4,
    "start_time": "2022-12-15T13:14:38.389Z"
   },
   {
    "duration": 570,
    "start_time": "2022-12-15T13:14:40.739Z"
   },
   {
    "duration": 523,
    "start_time": "2022-12-15T13:16:38.073Z"
   },
   {
    "duration": 498,
    "start_time": "2022-12-15T13:17:43.174Z"
   },
   {
    "duration": 43,
    "start_time": "2022-12-15T13:17:43.675Z"
   },
   {
    "duration": 15,
    "start_time": "2022-12-15T13:17:43.720Z"
   },
   {
    "duration": 2096,
    "start_time": "2022-12-15T13:17:43.738Z"
   },
   {
    "duration": 127,
    "start_time": "2022-12-15T13:17:45.835Z"
   },
   {
    "duration": 150,
    "start_time": "2022-12-15T13:17:45.963Z"
   },
   {
    "duration": 134,
    "start_time": "2022-12-15T13:17:46.114Z"
   },
   {
    "duration": 8,
    "start_time": "2022-12-15T13:17:46.249Z"
   },
   {
    "duration": 7,
    "start_time": "2022-12-15T13:17:46.259Z"
   },
   {
    "duration": 6,
    "start_time": "2022-12-15T13:17:46.280Z"
   },
   {
    "duration": 11,
    "start_time": "2022-12-15T13:17:46.288Z"
   },
   {
    "duration": 6,
    "start_time": "2022-12-15T13:17:46.301Z"
   },
   {
    "duration": 7,
    "start_time": "2022-12-15T13:17:46.308Z"
   },
   {
    "duration": 7,
    "start_time": "2022-12-15T13:17:46.317Z"
   },
   {
    "duration": 5,
    "start_time": "2022-12-15T13:17:46.325Z"
   },
   {
    "duration": 6,
    "start_time": "2022-12-15T13:17:46.332Z"
   },
   {
    "duration": 14,
    "start_time": "2022-12-15T13:17:46.339Z"
   },
   {
    "duration": 669,
    "start_time": "2022-12-15T13:17:46.354Z"
   },
   {
    "duration": 651,
    "start_time": "2022-12-15T13:17:47.025Z"
   },
   {
    "duration": 664,
    "start_time": "2022-12-15T13:17:47.677Z"
   },
   {
    "duration": 8,
    "start_time": "2022-12-15T13:17:48.342Z"
   },
   {
    "duration": 4,
    "start_time": "2022-12-15T13:22:16.772Z"
   },
   {
    "duration": 5,
    "start_time": "2022-12-15T13:22:39.352Z"
   },
   {
    "duration": 71,
    "start_time": "2022-12-15T13:22:47.971Z"
   },
   {
    "duration": 5,
    "start_time": "2022-12-15T13:23:02.268Z"
   },
   {
    "duration": 22,
    "start_time": "2022-12-15T13:23:24.153Z"
   },
   {
    "duration": 12,
    "start_time": "2022-12-15T13:23:32.537Z"
   },
   {
    "duration": 12,
    "start_time": "2022-12-15T13:25:26.339Z"
   },
   {
    "duration": 68,
    "start_time": "2022-12-15T13:29:57.853Z"
   },
   {
    "duration": 4,
    "start_time": "2022-12-15T13:30:26.468Z"
   },
   {
    "duration": 7,
    "start_time": "2022-12-15T13:30:39.921Z"
   },
   {
    "duration": 6,
    "start_time": "2022-12-15T13:31:25.669Z"
   },
   {
    "duration": 557,
    "start_time": "2022-12-15T13:32:46.903Z"
   },
   {
    "duration": 4,
    "start_time": "2022-12-15T13:39:10.336Z"
   },
   {
    "duration": 46,
    "start_time": "2022-12-15T13:39:21.215Z"
   },
   {
    "duration": 10,
    "start_time": "2022-12-15T13:39:33.330Z"
   },
   {
    "duration": 8,
    "start_time": "2022-12-15T13:39:37.133Z"
   },
   {
    "duration": 36,
    "start_time": "2022-12-15T13:46:23.332Z"
   },
   {
    "duration": 8,
    "start_time": "2022-12-15T13:46:26.712Z"
   },
   {
    "duration": 668,
    "start_time": "2022-12-15T13:49:54.861Z"
   },
   {
    "duration": 9,
    "start_time": "2022-12-15T13:50:06.214Z"
   },
   {
    "duration": 4,
    "start_time": "2022-12-15T13:52:06.733Z"
   },
   {
    "duration": 662,
    "start_time": "2022-12-15T13:57:33.645Z"
   },
   {
    "duration": 312,
    "start_time": "2022-12-15T13:57:52.247Z"
   },
   {
    "duration": 102,
    "start_time": "2022-12-15T13:58:47.744Z"
   },
   {
    "duration": 17,
    "start_time": "2022-12-15T13:58:58.561Z"
   },
   {
    "duration": 287,
    "start_time": "2022-12-15T13:59:13.677Z"
   },
   {
    "duration": 22,
    "start_time": "2022-12-15T14:00:31.844Z"
   },
   {
    "duration": 18,
    "start_time": "2022-12-15T14:01:06.530Z"
   },
   {
    "duration": 17,
    "start_time": "2022-12-15T14:01:21.063Z"
   },
   {
    "duration": 10503,
    "start_time": "2022-12-15T14:01:30.445Z"
   },
   {
    "duration": 43,
    "start_time": "2022-12-15T14:06:29.676Z"
   },
   {
    "duration": 9,
    "start_time": "2022-12-15T14:07:22.442Z"
   },
   {
    "duration": 27,
    "start_time": "2022-12-15T14:07:43.778Z"
   },
   {
    "duration": 32,
    "start_time": "2022-12-15T14:08:33.142Z"
   },
   {
    "duration": 410,
    "start_time": "2022-12-15T14:08:41.048Z"
   },
   {
    "duration": 23,
    "start_time": "2022-12-15T14:09:26.125Z"
   },
   {
    "duration": 303,
    "start_time": "2022-12-15T14:09:34.529Z"
   },
   {
    "duration": 23,
    "start_time": "2022-12-15T14:09:56.362Z"
   },
   {
    "duration": 25,
    "start_time": "2022-12-15T14:10:01.461Z"
   },
   {
    "duration": 602,
    "start_time": "2022-12-15T14:11:22.641Z"
   },
   {
    "duration": 25,
    "start_time": "2022-12-15T14:11:44.643Z"
   },
   {
    "duration": 10,
    "start_time": "2022-12-15T14:12:04.513Z"
   },
   {
    "duration": 48,
    "start_time": "2022-12-15T14:12:07.665Z"
   },
   {
    "duration": 40,
    "start_time": "2022-12-15T14:12:52.959Z"
   },
   {
    "duration": 25,
    "start_time": "2022-12-15T14:12:56.912Z"
   },
   {
    "duration": 613,
    "start_time": "2022-12-15T14:14:20.593Z"
   },
   {
    "duration": 24,
    "start_time": "2022-12-15T14:14:33.881Z"
   },
   {
    "duration": 107,
    "start_time": "2022-12-15T14:15:14.125Z"
   },
   {
    "duration": 8,
    "start_time": "2022-12-15T14:15:31.026Z"
   },
   {
    "duration": 13,
    "start_time": "2022-12-15T14:15:37.892Z"
   },
   {
    "duration": 28,
    "start_time": "2022-12-15T14:16:49.760Z"
   },
   {
    "duration": 19,
    "start_time": "2022-12-15T14:20:51.428Z"
   },
   {
    "duration": 17,
    "start_time": "2022-12-15T14:26:22.809Z"
   },
   {
    "duration": 18,
    "start_time": "2022-12-15T14:27:01.158Z"
   },
   {
    "duration": 17,
    "start_time": "2022-12-15T14:27:16.822Z"
   },
   {
    "duration": 17,
    "start_time": "2022-12-15T14:27:28.258Z"
   },
   {
    "duration": 17,
    "start_time": "2022-12-15T14:27:41.992Z"
   },
   {
    "duration": 16,
    "start_time": "2022-12-15T14:28:21.710Z"
   },
   {
    "duration": 95,
    "start_time": "2022-12-15T14:29:11.841Z"
   },
   {
    "duration": 21,
    "start_time": "2022-12-15T14:33:57.509Z"
   },
   {
    "duration": 32,
    "start_time": "2022-12-15T14:34:24.040Z"
   },
   {
    "duration": 302,
    "start_time": "2022-12-15T14:34:30.490Z"
   },
   {
    "duration": 58,
    "start_time": "2022-12-15T14:36:18.409Z"
   },
   {
    "duration": 26,
    "start_time": "2022-12-15T14:36:22.255Z"
   },
   {
    "duration": 475,
    "start_time": "2022-12-15T14:40:42.706Z"
   },
   {
    "duration": 41,
    "start_time": "2022-12-15T14:40:43.182Z"
   },
   {
    "duration": 16,
    "start_time": "2022-12-15T14:40:43.225Z"
   },
   {
    "duration": 2182,
    "start_time": "2022-12-15T14:40:43.243Z"
   },
   {
    "duration": 113,
    "start_time": "2022-12-15T14:40:45.427Z"
   },
   {
    "duration": 150,
    "start_time": "2022-12-15T14:40:45.542Z"
   },
   {
    "duration": 140,
    "start_time": "2022-12-15T14:40:45.693Z"
   },
   {
    "duration": 9,
    "start_time": "2022-12-15T14:40:45.835Z"
   },
   {
    "duration": 5,
    "start_time": "2022-12-15T14:40:45.845Z"
   },
   {
    "duration": 28,
    "start_time": "2022-12-15T14:40:45.853Z"
   },
   {
    "duration": 12,
    "start_time": "2022-12-15T14:40:45.882Z"
   },
   {
    "duration": 5,
    "start_time": "2022-12-15T14:40:45.896Z"
   },
   {
    "duration": 7,
    "start_time": "2022-12-15T14:40:45.902Z"
   },
   {
    "duration": 8,
    "start_time": "2022-12-15T14:40:45.910Z"
   },
   {
    "duration": 4,
    "start_time": "2022-12-15T14:40:45.919Z"
   },
   {
    "duration": 19,
    "start_time": "2022-12-15T14:40:45.924Z"
   },
   {
    "duration": 8,
    "start_time": "2022-12-15T14:40:45.945Z"
   },
   {
    "duration": 675,
    "start_time": "2022-12-15T14:40:45.955Z"
   },
   {
    "duration": 670,
    "start_time": "2022-12-15T14:40:46.631Z"
   },
   {
    "duration": 643,
    "start_time": "2022-12-15T14:40:47.303Z"
   },
   {
    "duration": 612,
    "start_time": "2022-12-15T14:40:47.948Z"
   },
   {
    "duration": 16,
    "start_time": "2022-12-15T14:40:48.562Z"
   },
   {
    "duration": 32,
    "start_time": "2022-12-15T14:40:48.580Z"
   },
   {
    "duration": 13,
    "start_time": "2022-12-15T14:40:48.614Z"
   },
   {
    "duration": 8,
    "start_time": "2022-12-15T14:40:48.628Z"
   },
   {
    "duration": 46,
    "start_time": "2022-12-15T14:40:48.637Z"
   },
   {
    "duration": 16,
    "start_time": "2022-12-15T14:40:48.685Z"
   },
   {
    "duration": 15,
    "start_time": "2022-12-15T14:58:07.977Z"
   },
   {
    "duration": 38,
    "start_time": "2022-12-15T14:58:56.456Z"
   },
   {
    "duration": 6,
    "start_time": "2022-12-15T15:01:50.808Z"
   },
   {
    "duration": 36,
    "start_time": "2022-12-15T15:02:30.898Z"
   },
   {
    "duration": 550,
    "start_time": "2022-12-15T15:03:20.781Z"
   },
   {
    "duration": 51,
    "start_time": "2022-12-15T15:03:21.332Z"
   },
   {
    "duration": 16,
    "start_time": "2022-12-15T15:03:21.391Z"
   },
   {
    "duration": 2157,
    "start_time": "2022-12-15T15:03:21.409Z"
   },
   {
    "duration": 127,
    "start_time": "2022-12-15T15:03:23.568Z"
   },
   {
    "duration": 151,
    "start_time": "2022-12-15T15:03:23.696Z"
   },
   {
    "duration": 166,
    "start_time": "2022-12-15T15:03:23.848Z"
   },
   {
    "duration": 12,
    "start_time": "2022-12-15T15:03:24.015Z"
   },
   {
    "duration": 10,
    "start_time": "2022-12-15T15:03:24.029Z"
   },
   {
    "duration": 12,
    "start_time": "2022-12-15T15:03:24.043Z"
   },
   {
    "duration": 26,
    "start_time": "2022-12-15T15:03:24.057Z"
   },
   {
    "duration": 13,
    "start_time": "2022-12-15T15:03:24.085Z"
   },
   {
    "duration": 22,
    "start_time": "2022-12-15T15:03:24.101Z"
   },
   {
    "duration": 10,
    "start_time": "2022-12-15T15:03:24.126Z"
   },
   {
    "duration": 6,
    "start_time": "2022-12-15T15:03:24.138Z"
   },
   {
    "duration": 20,
    "start_time": "2022-12-15T15:03:24.147Z"
   },
   {
    "duration": 38,
    "start_time": "2022-12-15T15:03:24.170Z"
   },
   {
    "duration": 735,
    "start_time": "2022-12-15T15:03:24.210Z"
   },
   {
    "duration": 737,
    "start_time": "2022-12-15T15:03:24.947Z"
   },
   {
    "duration": 698,
    "start_time": "2022-12-15T15:03:25.686Z"
   },
   {
    "duration": 677,
    "start_time": "2022-12-15T15:03:26.386Z"
   },
   {
    "duration": 16,
    "start_time": "2022-12-15T15:03:27.065Z"
   },
   {
    "duration": 31,
    "start_time": "2022-12-15T15:03:27.083Z"
   },
   {
    "duration": 36,
    "start_time": "2022-12-15T15:03:27.116Z"
   },
   {
    "duration": 28,
    "start_time": "2022-12-15T15:03:27.154Z"
   },
   {
    "duration": 20,
    "start_time": "2022-12-15T15:03:27.183Z"
   },
   {
    "duration": 8,
    "start_time": "2022-12-15T15:03:27.205Z"
   },
   {
    "duration": 71,
    "start_time": "2022-12-15T15:14:25.867Z"
   },
   {
    "duration": 6,
    "start_time": "2022-12-15T15:14:41.720Z"
   },
   {
    "duration": 7,
    "start_time": "2022-12-15T15:17:14.506Z"
   },
   {
    "duration": 512,
    "start_time": "2022-12-15T15:17:29.754Z"
   },
   {
    "duration": 50,
    "start_time": "2022-12-15T15:17:30.268Z"
   },
   {
    "duration": 24,
    "start_time": "2022-12-15T15:17:30.321Z"
   },
   {
    "duration": 2325,
    "start_time": "2022-12-15T15:17:30.348Z"
   },
   {
    "duration": 145,
    "start_time": "2022-12-15T15:17:32.675Z"
   },
   {
    "duration": 162,
    "start_time": "2022-12-15T15:17:32.821Z"
   },
   {
    "duration": 152,
    "start_time": "2022-12-15T15:17:32.986Z"
   },
   {
    "duration": 10,
    "start_time": "2022-12-15T15:17:33.139Z"
   },
   {
    "duration": 4,
    "start_time": "2022-12-15T15:17:33.151Z"
   },
   {
    "duration": 33,
    "start_time": "2022-12-15T15:17:33.158Z"
   },
   {
    "duration": 9,
    "start_time": "2022-12-15T15:17:33.193Z"
   },
   {
    "duration": 6,
    "start_time": "2022-12-15T15:17:33.203Z"
   },
   {
    "duration": 9,
    "start_time": "2022-12-15T15:17:33.210Z"
   },
   {
    "duration": 7,
    "start_time": "2022-12-15T15:17:33.221Z"
   },
   {
    "duration": 10,
    "start_time": "2022-12-15T15:17:33.229Z"
   },
   {
    "duration": 21,
    "start_time": "2022-12-15T15:17:33.240Z"
   },
   {
    "duration": 6,
    "start_time": "2022-12-15T15:17:33.262Z"
   },
   {
    "duration": 743,
    "start_time": "2022-12-15T15:17:33.270Z"
   },
   {
    "duration": 746,
    "start_time": "2022-12-15T15:17:34.015Z"
   },
   {
    "duration": 746,
    "start_time": "2022-12-15T15:17:34.762Z"
   },
   {
    "duration": 701,
    "start_time": "2022-12-15T15:17:35.510Z"
   },
   {
    "duration": 10,
    "start_time": "2022-12-15T15:17:36.213Z"
   },
   {
    "duration": 32,
    "start_time": "2022-12-15T15:17:36.225Z"
   },
   {
    "duration": 59,
    "start_time": "2022-12-15T15:17:36.258Z"
   },
   {
    "duration": 7,
    "start_time": "2022-12-15T15:17:36.318Z"
   },
   {
    "duration": 19,
    "start_time": "2022-12-15T15:17:36.327Z"
   },
   {
    "duration": 9,
    "start_time": "2022-12-15T15:17:36.348Z"
   },
   {
    "duration": 22,
    "start_time": "2022-12-15T15:17:36.359Z"
   },
   {
    "duration": 7,
    "start_time": "2022-12-15T15:17:48.191Z"
   },
   {
    "duration": 505,
    "start_time": "2022-12-15T15:18:27.665Z"
   },
   {
    "duration": 47,
    "start_time": "2022-12-15T15:18:28.172Z"
   },
   {
    "duration": 12,
    "start_time": "2022-12-15T15:18:28.221Z"
   },
   {
    "duration": 2226,
    "start_time": "2022-12-15T15:18:28.235Z"
   },
   {
    "duration": 146,
    "start_time": "2022-12-15T15:18:30.463Z"
   },
   {
    "duration": 154,
    "start_time": "2022-12-15T15:18:30.611Z"
   },
   {
    "duration": 155,
    "start_time": "2022-12-15T15:18:30.767Z"
   },
   {
    "duration": 9,
    "start_time": "2022-12-15T15:18:30.923Z"
   },
   {
    "duration": 43,
    "start_time": "2022-12-15T15:18:30.933Z"
   },
   {
    "duration": 113,
    "start_time": "2022-12-15T15:18:30.982Z"
   },
   {
    "duration": 33,
    "start_time": "2022-12-15T15:18:31.096Z"
   },
   {
    "duration": 32,
    "start_time": "2022-12-15T15:18:31.131Z"
   },
   {
    "duration": 11,
    "start_time": "2022-12-15T15:18:31.164Z"
   },
   {
    "duration": 50,
    "start_time": "2022-12-15T15:18:31.177Z"
   },
   {
    "duration": 27,
    "start_time": "2022-12-15T15:18:31.229Z"
   },
   {
    "duration": 21,
    "start_time": "2022-12-15T15:18:31.258Z"
   },
   {
    "duration": 22,
    "start_time": "2022-12-15T15:18:31.282Z"
   },
   {
    "duration": 710,
    "start_time": "2022-12-15T15:18:31.305Z"
   },
   {
    "duration": 704,
    "start_time": "2022-12-15T15:18:32.016Z"
   },
   {
    "duration": 734,
    "start_time": "2022-12-15T15:18:32.721Z"
   },
   {
    "duration": 750,
    "start_time": "2022-12-15T15:18:33.456Z"
   },
   {
    "duration": 12,
    "start_time": "2022-12-15T15:18:34.208Z"
   },
   {
    "duration": 55,
    "start_time": "2022-12-15T15:18:34.222Z"
   },
   {
    "duration": 61,
    "start_time": "2022-12-15T15:18:34.279Z"
   },
   {
    "duration": 7,
    "start_time": "2022-12-15T15:18:34.343Z"
   },
   {
    "duration": 38,
    "start_time": "2022-12-15T15:18:34.352Z"
   },
   {
    "duration": 28,
    "start_time": "2022-12-15T15:18:34.392Z"
   },
   {
    "duration": 14,
    "start_time": "2022-12-15T15:18:34.422Z"
   },
   {
    "duration": 7,
    "start_time": "2022-12-15T15:18:57.355Z"
   },
   {
    "duration": 497,
    "start_time": "2022-12-15T15:19:34.235Z"
   },
   {
    "duration": 60,
    "start_time": "2022-12-15T15:19:34.734Z"
   },
   {
    "duration": 26,
    "start_time": "2022-12-15T15:19:34.796Z"
   },
   {
    "duration": 2444,
    "start_time": "2022-12-15T15:19:34.825Z"
   },
   {
    "duration": 140,
    "start_time": "2022-12-15T15:19:37.271Z"
   },
   {
    "duration": 147,
    "start_time": "2022-12-15T15:19:37.412Z"
   },
   {
    "duration": 167,
    "start_time": "2022-12-15T15:19:37.561Z"
   },
   {
    "duration": 9,
    "start_time": "2022-12-15T15:19:37.730Z"
   },
   {
    "duration": 10,
    "start_time": "2022-12-15T15:19:37.741Z"
   },
   {
    "duration": 12,
    "start_time": "2022-12-15T15:19:37.754Z"
   },
   {
    "duration": 28,
    "start_time": "2022-12-15T15:19:37.767Z"
   },
   {
    "duration": 14,
    "start_time": "2022-12-15T15:19:37.797Z"
   },
   {
    "duration": 14,
    "start_time": "2022-12-15T15:19:37.813Z"
   },
   {
    "duration": 9,
    "start_time": "2022-12-15T15:19:37.828Z"
   },
   {
    "duration": 10,
    "start_time": "2022-12-15T15:19:37.838Z"
   },
   {
    "duration": 16,
    "start_time": "2022-12-15T15:19:37.850Z"
   },
   {
    "duration": 20,
    "start_time": "2022-12-15T15:19:37.868Z"
   },
   {
    "duration": 739,
    "start_time": "2022-12-15T15:19:37.890Z"
   },
   {
    "duration": 751,
    "start_time": "2022-12-15T15:19:38.630Z"
   },
   {
    "duration": 687,
    "start_time": "2022-12-15T15:19:39.384Z"
   },
   {
    "duration": 672,
    "start_time": "2022-12-15T15:19:40.072Z"
   },
   {
    "duration": 12,
    "start_time": "2022-12-15T15:19:40.745Z"
   },
   {
    "duration": 56,
    "start_time": "2022-12-15T15:19:40.759Z"
   },
   {
    "duration": 36,
    "start_time": "2022-12-15T15:19:40.816Z"
   },
   {
    "duration": 8,
    "start_time": "2022-12-15T15:19:40.853Z"
   },
   {
    "duration": 34,
    "start_time": "2022-12-15T15:19:40.862Z"
   },
   {
    "duration": 8,
    "start_time": "2022-12-15T15:19:40.897Z"
   },
   {
    "duration": 5,
    "start_time": "2022-12-15T15:19:40.908Z"
   },
   {
    "duration": 7,
    "start_time": "2022-12-15T15:24:49.035Z"
   },
   {
    "duration": 5,
    "start_time": "2022-12-15T15:25:19.636Z"
   },
   {
    "duration": 6,
    "start_time": "2022-12-15T15:25:26.087Z"
   },
   {
    "duration": 4,
    "start_time": "2022-12-15T15:27:24.519Z"
   },
   {
    "duration": 4,
    "start_time": "2022-12-15T15:27:42.452Z"
   },
   {
    "duration": 5,
    "start_time": "2022-12-15T15:27:47.854Z"
   },
   {
    "duration": 611,
    "start_time": "2022-12-15T19:33:21.015Z"
   },
   {
    "duration": 61,
    "start_time": "2022-12-15T19:33:21.628Z"
   },
   {
    "duration": 23,
    "start_time": "2022-12-15T19:33:21.691Z"
   },
   {
    "duration": 2693,
    "start_time": "2022-12-15T19:33:21.717Z"
   },
   {
    "duration": 143,
    "start_time": "2022-12-15T19:33:24.412Z"
   },
   {
    "duration": 159,
    "start_time": "2022-12-15T19:33:24.556Z"
   },
   {
    "duration": 165,
    "start_time": "2022-12-15T19:33:24.717Z"
   },
   {
    "duration": 10,
    "start_time": "2022-12-15T19:33:24.884Z"
   },
   {
    "duration": 5,
    "start_time": "2022-12-15T19:33:24.896Z"
   },
   {
    "duration": 7,
    "start_time": "2022-12-15T19:33:24.904Z"
   },
   {
    "duration": 28,
    "start_time": "2022-12-15T19:33:24.913Z"
   },
   {
    "duration": 4,
    "start_time": "2022-12-15T19:33:24.943Z"
   },
   {
    "duration": 10,
    "start_time": "2022-12-15T19:33:24.949Z"
   },
   {
    "duration": 8,
    "start_time": "2022-12-15T19:33:24.961Z"
   },
   {
    "duration": 5,
    "start_time": "2022-12-15T19:33:24.971Z"
   },
   {
    "duration": 8,
    "start_time": "2022-12-15T19:33:24.977Z"
   },
   {
    "duration": 9,
    "start_time": "2022-12-15T19:33:24.987Z"
   },
   {
    "duration": 799,
    "start_time": "2022-12-15T19:33:24.998Z"
   },
   {
    "duration": 735,
    "start_time": "2022-12-15T19:33:25.799Z"
   },
   {
    "duration": 707,
    "start_time": "2022-12-15T19:33:26.539Z"
   },
   {
    "duration": 727,
    "start_time": "2022-12-15T19:33:27.248Z"
   },
   {
    "duration": 11,
    "start_time": "2022-12-15T19:33:27.977Z"
   },
   {
    "duration": 55,
    "start_time": "2022-12-15T19:33:27.991Z"
   },
   {
    "duration": 44,
    "start_time": "2022-12-15T19:33:28.049Z"
   },
   {
    "duration": 11,
    "start_time": "2022-12-15T19:33:28.095Z"
   },
   {
    "duration": 43,
    "start_time": "2022-12-15T19:33:28.108Z"
   },
   {
    "duration": 12,
    "start_time": "2022-12-15T19:33:28.153Z"
   },
   {
    "duration": 8,
    "start_time": "2022-12-15T19:33:28.169Z"
   },
   {
    "duration": 9,
    "start_time": "2022-12-15T19:33:28.179Z"
   },
   {
    "duration": 9,
    "start_time": "2022-12-15T19:33:28.190Z"
   },
   {
    "duration": 16,
    "start_time": "2022-12-15T19:33:28.201Z"
   },
   {
    "duration": 4,
    "start_time": "2022-12-15T19:35:18.915Z"
   },
   {
    "duration": 8,
    "start_time": "2022-12-15T19:35:38.683Z"
   },
   {
    "duration": 7,
    "start_time": "2022-12-15T19:35:47.736Z"
   },
   {
    "duration": 82,
    "start_time": "2022-12-15T19:36:27.161Z"
   },
   {
    "duration": 22,
    "start_time": "2022-12-15T19:36:51.785Z"
   },
   {
    "duration": 20,
    "start_time": "2022-12-15T19:50:51.696Z"
   },
   {
    "duration": 19,
    "start_time": "2022-12-15T19:59:54.496Z"
   },
   {
    "duration": 191,
    "start_time": "2022-12-15T19:59:55.846Z"
   },
   {
    "duration": 19,
    "start_time": "2022-12-15T19:59:56.881Z"
   },
   {
    "duration": 19,
    "start_time": "2022-12-15T20:00:10.346Z"
   },
   {
    "duration": 207,
    "start_time": "2022-12-15T20:05:02.088Z"
   },
   {
    "duration": 19,
    "start_time": "2022-12-15T20:05:03.733Z"
   },
   {
    "duration": 20,
    "start_time": "2022-12-15T20:05:05.280Z"
   },
   {
    "duration": 195,
    "start_time": "2022-12-15T20:08:17.543Z"
   },
   {
    "duration": 19,
    "start_time": "2022-12-15T20:08:18.246Z"
   },
   {
    "duration": 512,
    "start_time": "2022-12-15T20:08:52.750Z"
   },
   {
    "duration": 45,
    "start_time": "2022-12-15T20:08:53.264Z"
   },
   {
    "duration": 27,
    "start_time": "2022-12-15T20:08:53.311Z"
   },
   {
    "duration": 2262,
    "start_time": "2022-12-15T20:08:53.340Z"
   },
   {
    "duration": 124,
    "start_time": "2022-12-15T20:08:55.604Z"
   },
   {
    "duration": 164,
    "start_time": "2022-12-15T20:08:55.730Z"
   },
   {
    "duration": 149,
    "start_time": "2022-12-15T20:08:55.896Z"
   },
   {
    "duration": 10,
    "start_time": "2022-12-15T20:08:56.046Z"
   },
   {
    "duration": 3,
    "start_time": "2022-12-15T20:08:56.058Z"
   },
   {
    "duration": 5,
    "start_time": "2022-12-15T20:08:56.065Z"
   },
   {
    "duration": 7,
    "start_time": "2022-12-15T20:08:56.071Z"
   },
   {
    "duration": 4,
    "start_time": "2022-12-15T20:08:56.080Z"
   },
   {
    "duration": 4,
    "start_time": "2022-12-15T20:08:56.086Z"
   },
   {
    "duration": 6,
    "start_time": "2022-12-15T20:08:56.092Z"
   },
   {
    "duration": 40,
    "start_time": "2022-12-15T20:08:56.099Z"
   },
   {
    "duration": 6,
    "start_time": "2022-12-15T20:08:56.141Z"
   },
   {
    "duration": 10,
    "start_time": "2022-12-15T20:08:56.149Z"
   },
   {
    "duration": 690,
    "start_time": "2022-12-15T20:08:56.161Z"
   },
   {
    "duration": 692,
    "start_time": "2022-12-15T20:08:56.853Z"
   },
   {
    "duration": 710,
    "start_time": "2022-12-15T20:08:57.547Z"
   },
   {
    "duration": 768,
    "start_time": "2022-12-15T20:08:58.259Z"
   },
   {
    "duration": 19,
    "start_time": "2022-12-15T20:08:59.029Z"
   },
   {
    "duration": 44,
    "start_time": "2022-12-15T20:08:59.050Z"
   },
   {
    "duration": 71,
    "start_time": "2022-12-15T20:08:59.096Z"
   },
   {
    "duration": 10,
    "start_time": "2022-12-15T20:08:59.169Z"
   },
   {
    "duration": 19,
    "start_time": "2022-12-15T20:08:59.181Z"
   },
   {
    "duration": 34,
    "start_time": "2022-12-15T20:08:59.203Z"
   },
   {
    "duration": 6,
    "start_time": "2022-12-15T20:08:59.241Z"
   },
   {
    "duration": 12,
    "start_time": "2022-12-15T20:08:59.248Z"
   },
   {
    "duration": 9,
    "start_time": "2022-12-15T20:08:59.262Z"
   },
   {
    "duration": 6,
    "start_time": "2022-12-15T20:08:59.273Z"
   },
   {
    "duration": 21,
    "start_time": "2022-12-15T20:08:59.280Z"
   },
   {
    "duration": 42,
    "start_time": "2022-12-15T20:08:59.302Z"
   },
   {
    "duration": 206,
    "start_time": "2022-12-15T20:08:59.345Z"
   },
   {
    "duration": 19,
    "start_time": "2022-12-15T20:08:59.553Z"
   },
   {
    "duration": 19,
    "start_time": "2022-12-15T20:08:59.574Z"
   },
   {
    "duration": 206,
    "start_time": "2022-12-15T20:09:06.961Z"
   },
   {
    "duration": 21,
    "start_time": "2022-12-15T20:09:07.977Z"
   },
   {
    "duration": 491,
    "start_time": "2022-12-15T20:10:07.460Z"
   },
   {
    "duration": 45,
    "start_time": "2022-12-15T20:10:09.660Z"
   },
   {
    "duration": 16,
    "start_time": "2022-12-15T20:10:13.478Z"
   },
   {
    "duration": 2180,
    "start_time": "2022-12-15T20:10:16.126Z"
   },
   {
    "duration": 129,
    "start_time": "2022-12-15T20:10:20.661Z"
   },
   {
    "duration": 139,
    "start_time": "2022-12-15T20:10:21.842Z"
   },
   {
    "duration": 154,
    "start_time": "2022-12-15T20:10:22.513Z"
   },
   {
    "duration": 10,
    "start_time": "2022-12-15T20:10:25.945Z"
   },
   {
    "duration": 4,
    "start_time": "2022-12-15T20:10:30.876Z"
   },
   {
    "duration": 6,
    "start_time": "2022-12-15T20:10:33.142Z"
   },
   {
    "duration": 5,
    "start_time": "2022-12-15T20:10:34.378Z"
   },
   {
    "duration": 4,
    "start_time": "2022-12-15T20:10:37.363Z"
   },
   {
    "duration": 5,
    "start_time": "2022-12-15T20:10:40.260Z"
   },
   {
    "duration": 6,
    "start_time": "2022-12-15T20:10:43.627Z"
   },
   {
    "duration": 5,
    "start_time": "2022-12-15T20:10:44.128Z"
   },
   {
    "duration": 5,
    "start_time": "2022-12-15T20:10:44.578Z"
   },
   {
    "duration": 5,
    "start_time": "2022-12-15T20:10:45.013Z"
   },
   {
    "duration": 699,
    "start_time": "2022-12-15T20:10:49.096Z"
   },
   {
    "duration": 710,
    "start_time": "2022-12-15T20:10:49.797Z"
   },
   {
    "duration": 700,
    "start_time": "2022-12-15T20:10:50.510Z"
   },
   {
    "duration": 691,
    "start_time": "2022-12-15T20:10:51.378Z"
   },
   {
    "duration": 12,
    "start_time": "2022-12-15T20:10:53.961Z"
   },
   {
    "duration": 35,
    "start_time": "2022-12-15T20:10:55.280Z"
   },
   {
    "duration": 44,
    "start_time": "2022-12-15T20:10:57.810Z"
   },
   {
    "duration": 9,
    "start_time": "2022-12-15T20:11:00.743Z"
   },
   {
    "duration": 14,
    "start_time": "2022-12-15T20:11:03.178Z"
   },
   {
    "duration": 9,
    "start_time": "2022-12-15T20:11:05.010Z"
   },
   {
    "duration": 6,
    "start_time": "2022-12-15T20:11:57.727Z"
   },
   {
    "duration": 4,
    "start_time": "2022-12-15T20:12:00.746Z"
   },
   {
    "duration": 4,
    "start_time": "2022-12-15T20:12:01.746Z"
   },
   {
    "duration": 6,
    "start_time": "2022-12-15T20:12:02.360Z"
   },
   {
    "duration": 22,
    "start_time": "2022-12-15T20:12:06.645Z"
   },
   {
    "duration": 22,
    "start_time": "2022-12-15T20:12:09.143Z"
   },
   {
    "duration": 210,
    "start_time": "2022-12-15T20:12:11.510Z"
   },
   {
    "duration": 21,
    "start_time": "2022-12-15T20:12:14.212Z"
   },
   {
    "duration": 20,
    "start_time": "2022-12-15T20:12:15.710Z"
   },
   {
    "duration": 201,
    "start_time": "2022-12-15T20:15:14.981Z"
   },
   {
    "duration": 21,
    "start_time": "2022-12-15T20:15:15.893Z"
   },
   {
    "duration": 208,
    "start_time": "2022-12-15T20:15:17.760Z"
   },
   {
    "duration": 19,
    "start_time": "2022-12-15T20:15:18.495Z"
   },
   {
    "duration": 196,
    "start_time": "2022-12-15T20:15:19.593Z"
   },
   {
    "duration": 19,
    "start_time": "2022-12-15T20:15:20.044Z"
   },
   {
    "duration": 522,
    "start_time": "2022-12-15T20:17:32.843Z"
   },
   {
    "duration": 46,
    "start_time": "2022-12-15T20:17:33.367Z"
   },
   {
    "duration": 25,
    "start_time": "2022-12-15T20:17:33.415Z"
   },
   {
    "duration": 2236,
    "start_time": "2022-12-15T20:17:33.442Z"
   },
   {
    "duration": 152,
    "start_time": "2022-12-15T20:17:35.680Z"
   },
   {
    "duration": 153,
    "start_time": "2022-12-15T20:17:35.838Z"
   },
   {
    "duration": 150,
    "start_time": "2022-12-15T20:17:35.992Z"
   },
   {
    "duration": 10,
    "start_time": "2022-12-15T20:17:36.144Z"
   },
   {
    "duration": 5,
    "start_time": "2022-12-15T20:17:36.156Z"
   },
   {
    "duration": 5,
    "start_time": "2022-12-15T20:17:36.164Z"
   },
   {
    "duration": 7,
    "start_time": "2022-12-15T20:17:36.171Z"
   },
   {
    "duration": 5,
    "start_time": "2022-12-15T20:17:36.179Z"
   },
   {
    "duration": 4,
    "start_time": "2022-12-15T20:17:36.186Z"
   },
   {
    "duration": 6,
    "start_time": "2022-12-15T20:17:36.192Z"
   },
   {
    "duration": 39,
    "start_time": "2022-12-15T20:17:36.200Z"
   },
   {
    "duration": 9,
    "start_time": "2022-12-15T20:17:36.241Z"
   },
   {
    "duration": 11,
    "start_time": "2022-12-15T20:17:36.252Z"
   },
   {
    "duration": 685,
    "start_time": "2022-12-15T20:17:36.265Z"
   },
   {
    "duration": 685,
    "start_time": "2022-12-15T20:17:36.952Z"
   },
   {
    "duration": 686,
    "start_time": "2022-12-15T20:17:37.639Z"
   },
   {
    "duration": 739,
    "start_time": "2022-12-15T20:17:38.327Z"
   },
   {
    "duration": 11,
    "start_time": "2022-12-15T20:17:39.067Z"
   },
   {
    "duration": 34,
    "start_time": "2022-12-15T20:17:39.080Z"
   },
   {
    "duration": 58,
    "start_time": "2022-12-15T20:17:39.115Z"
   },
   {
    "duration": 9,
    "start_time": "2022-12-15T20:17:39.174Z"
   },
   {
    "duration": 17,
    "start_time": "2022-12-15T20:17:39.185Z"
   },
   {
    "duration": 34,
    "start_time": "2022-12-15T20:17:39.204Z"
   },
   {
    "duration": 5,
    "start_time": "2022-12-15T20:17:39.241Z"
   },
   {
    "duration": 6,
    "start_time": "2022-12-15T20:17:39.248Z"
   },
   {
    "duration": 12,
    "start_time": "2022-12-15T20:17:39.255Z"
   },
   {
    "duration": 7,
    "start_time": "2022-12-15T20:17:39.269Z"
   },
   {
    "duration": 23,
    "start_time": "2022-12-15T20:17:39.277Z"
   },
   {
    "duration": 39,
    "start_time": "2022-12-15T20:17:39.302Z"
   },
   {
    "duration": 223,
    "start_time": "2022-12-15T20:17:39.343Z"
   },
   {
    "duration": 20,
    "start_time": "2022-12-15T20:17:39.568Z"
   },
   {
    "duration": 19,
    "start_time": "2022-12-15T20:17:39.590Z"
   },
   {
    "duration": 2133,
    "start_time": "2022-12-15T20:32:39.128Z"
   },
   {
    "duration": 5,
    "start_time": "2022-12-15T20:35:01.524Z"
   },
   {
    "duration": 75,
    "start_time": "2022-12-15T20:35:14.889Z"
   },
   {
    "duration": 6,
    "start_time": "2022-12-15T20:35:27.591Z"
   },
   {
    "duration": 16,
    "start_time": "2022-12-15T20:35:48.796Z"
   },
   {
    "duration": 8,
    "start_time": "2022-12-15T20:37:23.299Z"
   },
   {
    "duration": 9,
    "start_time": "2022-12-15T20:37:42.226Z"
   },
   {
    "duration": 125,
    "start_time": "2022-12-15T20:38:20.475Z"
   },
   {
    "duration": 107,
    "start_time": "2022-12-15T20:38:30.089Z"
   },
   {
    "duration": 4,
    "start_time": "2022-12-15T20:40:23.192Z"
   },
   {
    "duration": 6,
    "start_time": "2022-12-15T20:40:33.342Z"
   },
   {
    "duration": 6,
    "start_time": "2022-12-15T20:40:48.059Z"
   },
   {
    "duration": 8,
    "start_time": "2022-12-15T20:41:10.037Z"
   },
   {
    "duration": 8,
    "start_time": "2022-12-15T20:41:42.212Z"
   },
   {
    "duration": 8,
    "start_time": "2022-12-15T20:42:07.191Z"
   },
   {
    "duration": 7,
    "start_time": "2022-12-15T20:42:37.111Z"
   },
   {
    "duration": 7,
    "start_time": "2022-12-15T20:42:53.058Z"
   },
   {
    "duration": 7,
    "start_time": "2022-12-15T20:43:46.025Z"
   },
   {
    "duration": 6,
    "start_time": "2022-12-15T20:44:02.708Z"
   },
   {
    "duration": 5,
    "start_time": "2022-12-15T20:44:39.209Z"
   },
   {
    "duration": 24,
    "start_time": "2022-12-15T20:44:51.172Z"
   },
   {
    "duration": 22,
    "start_time": "2022-12-15T20:45:44.019Z"
   },
   {
    "duration": 23,
    "start_time": "2022-12-15T20:46:17.675Z"
   },
   {
    "duration": 36,
    "start_time": "2022-12-15T20:46:41.259Z"
   },
   {
    "duration": 769,
    "start_time": "2022-12-15T20:56:16.456Z"
   },
   {
    "duration": 9,
    "start_time": "2022-12-15T20:56:28.274Z"
   },
   {
    "duration": 145,
    "start_time": "2022-12-15T20:57:27.338Z"
   },
   {
    "duration": 122,
    "start_time": "2022-12-15T20:58:00.858Z"
   },
   {
    "duration": 104,
    "start_time": "2022-12-15T20:59:20.521Z"
   },
   {
    "duration": 129,
    "start_time": "2022-12-15T20:59:47.638Z"
   },
   {
    "duration": 23,
    "start_time": "2022-12-15T21:03:24.738Z"
   },
   {
    "duration": 6,
    "start_time": "2022-12-15T21:03:46.108Z"
   },
   {
    "duration": 6,
    "start_time": "2022-12-15T21:04:48.540Z"
   },
   {
    "duration": 7,
    "start_time": "2022-12-15T21:06:21.905Z"
   },
   {
    "duration": 7,
    "start_time": "2022-12-15T21:07:20.506Z"
   },
   {
    "duration": 10,
    "start_time": "2022-12-15T21:09:49.589Z"
   },
   {
    "duration": 8,
    "start_time": "2022-12-15T21:10:13.173Z"
   },
   {
    "duration": 6,
    "start_time": "2022-12-15T21:10:39.406Z"
   },
   {
    "duration": 11,
    "start_time": "2022-12-15T21:11:03.539Z"
   },
   {
    "duration": 8,
    "start_time": "2022-12-15T21:11:35.272Z"
   },
   {
    "duration": 9,
    "start_time": "2022-12-15T21:12:01.654Z"
   },
   {
    "duration": 8,
    "start_time": "2022-12-15T21:12:29.505Z"
   },
   {
    "duration": 7,
    "start_time": "2022-12-15T21:12:49.852Z"
   },
   {
    "duration": 37,
    "start_time": "2022-12-15T21:13:57.351Z"
   },
   {
    "duration": 6,
    "start_time": "2022-12-15T21:14:56.920Z"
   },
   {
    "duration": 8,
    "start_time": "2022-12-15T21:15:16.837Z"
   },
   {
    "duration": 7,
    "start_time": "2022-12-15T21:15:53.922Z"
   },
   {
    "duration": 7,
    "start_time": "2022-12-15T21:17:44.286Z"
   },
   {
    "duration": 7,
    "start_time": "2022-12-15T21:18:17.470Z"
   },
   {
    "duration": 8,
    "start_time": "2022-12-15T21:19:17.655Z"
   },
   {
    "duration": 6,
    "start_time": "2022-12-15T21:19:51.903Z"
   },
   {
    "duration": 10,
    "start_time": "2022-12-15T21:21:32.749Z"
   },
   {
    "duration": 31,
    "start_time": "2022-12-15T21:23:28.603Z"
   },
   {
    "duration": 73,
    "start_time": "2022-12-15T21:25:10.255Z"
   },
   {
    "duration": 7,
    "start_time": "2022-12-15T21:25:26.118Z"
   },
   {
    "duration": 28,
    "start_time": "2022-12-15T21:26:27.835Z"
   },
   {
    "duration": 36,
    "start_time": "2022-12-15T21:29:48.115Z"
   },
   {
    "duration": 37,
    "start_time": "2022-12-15T21:30:09.636Z"
   },
   {
    "duration": 9,
    "start_time": "2022-12-15T21:30:19.302Z"
   },
   {
    "duration": 54,
    "start_time": "2022-12-15T21:30:28.588Z"
   },
   {
    "duration": 35,
    "start_time": "2022-12-15T21:31:33.917Z"
   },
   {
    "duration": 38,
    "start_time": "2022-12-15T21:31:42.518Z"
   },
   {
    "duration": 37,
    "start_time": "2022-12-15T21:31:49.583Z"
   },
   {
    "duration": 28,
    "start_time": "2022-12-15T21:31:59.952Z"
   },
   {
    "duration": 31,
    "start_time": "2022-12-15T21:33:18.419Z"
   },
   {
    "duration": 42,
    "start_time": "2022-12-15T21:34:00.500Z"
   },
   {
    "duration": 727,
    "start_time": "2022-12-18T12:01:03.565Z"
   },
   {
    "duration": 58,
    "start_time": "2022-12-18T12:01:05.243Z"
   },
   {
    "duration": 15,
    "start_time": "2022-12-18T12:01:09.708Z"
   },
   {
    "duration": 2895,
    "start_time": "2022-12-18T12:01:12.264Z"
   },
   {
    "duration": 163,
    "start_time": "2022-12-18T12:01:19.820Z"
   },
   {
    "duration": 153,
    "start_time": "2022-12-18T12:01:22.354Z"
   },
   {
    "duration": 163,
    "start_time": "2022-12-18T12:01:24.520Z"
   },
   {
    "duration": 10,
    "start_time": "2022-12-18T12:01:35.549Z"
   },
   {
    "duration": 29,
    "start_time": "2022-12-18T12:16:14.715Z"
   },
   {
    "duration": 86,
    "start_time": "2022-12-18T12:20:20.832Z"
   },
   {
    "duration": 19,
    "start_time": "2022-12-18T12:20:54.615Z"
   },
   {
    "duration": 72,
    "start_time": "2022-12-18T12:22:01.108Z"
   },
   {
    "duration": 23,
    "start_time": "2022-12-18T12:22:08.017Z"
   },
   {
    "duration": 22,
    "start_time": "2022-12-18T12:23:00.515Z"
   },
   {
    "duration": 540,
    "start_time": "2022-12-18T12:24:47.520Z"
   },
   {
    "duration": 67,
    "start_time": "2022-12-18T12:24:48.246Z"
   },
   {
    "duration": 20,
    "start_time": "2022-12-18T12:24:51.661Z"
   },
   {
    "duration": 2628,
    "start_time": "2022-12-18T12:24:52.112Z"
   },
   {
    "duration": 146,
    "start_time": "2022-12-18T12:24:54.743Z"
   },
   {
    "duration": 154,
    "start_time": "2022-12-18T12:24:55.561Z"
   },
   {
    "duration": 157,
    "start_time": "2022-12-18T12:24:56.544Z"
   },
   {
    "duration": 9,
    "start_time": "2022-12-18T12:24:58.778Z"
   },
   {
    "duration": 12,
    "start_time": "2022-12-18T12:25:06.840Z"
   },
   {
    "duration": 102,
    "start_time": "2022-12-18T12:25:18.908Z"
   },
   {
    "duration": 12,
    "start_time": "2022-12-18T12:25:55.035Z"
   },
   {
    "duration": 21,
    "start_time": "2022-12-18T12:26:43.737Z"
   },
   {
    "duration": 25,
    "start_time": "2022-12-18T12:26:54.017Z"
   },
   {
    "duration": 4,
    "start_time": "2022-12-18T12:27:51.578Z"
   },
   {
    "duration": 26,
    "start_time": "2022-12-18T12:27:59.814Z"
   },
   {
    "duration": 6,
    "start_time": "2022-12-18T12:30:09.278Z"
   },
   {
    "duration": 7,
    "start_time": "2022-12-18T12:30:10.529Z"
   },
   {
    "duration": 5,
    "start_time": "2022-12-18T12:30:11.262Z"
   },
   {
    "duration": 6,
    "start_time": "2022-12-18T12:30:12.642Z"
   },
   {
    "duration": 5,
    "start_time": "2022-12-18T12:30:13.177Z"
   },
   {
    "duration": 13,
    "start_time": "2022-12-18T12:30:13.725Z"
   },
   {
    "duration": 8,
    "start_time": "2022-12-18T12:30:14.143Z"
   },
   {
    "duration": 39,
    "start_time": "2022-12-18T12:30:19.511Z"
   },
   {
    "duration": 824,
    "start_time": "2022-12-18T12:30:20.961Z"
   },
   {
    "duration": 9,
    "start_time": "2022-12-18T12:30:21.787Z"
   },
   {
    "duration": 8,
    "start_time": "2022-12-18T12:30:59.942Z"
   },
   {
    "duration": 22,
    "start_time": "2022-12-18T12:31:01.044Z"
   },
   {
    "duration": 10,
    "start_time": "2022-12-18T12:31:02.008Z"
   },
   {
    "duration": 21,
    "start_time": "2022-12-18T12:32:10.259Z"
   },
   {
    "duration": 529,
    "start_time": "2022-12-18T12:32:35.545Z"
   },
   {
    "duration": 46,
    "start_time": "2022-12-18T12:32:36.261Z"
   },
   {
    "duration": 18,
    "start_time": "2022-12-18T12:32:39.537Z"
   },
   {
    "duration": 2539,
    "start_time": "2022-12-18T12:32:41.904Z"
   },
   {
    "duration": 147,
    "start_time": "2022-12-18T12:32:44.976Z"
   },
   {
    "duration": 182,
    "start_time": "2022-12-18T12:32:45.961Z"
   },
   {
    "duration": 144,
    "start_time": "2022-12-18T12:32:46.736Z"
   },
   {
    "duration": 12,
    "start_time": "2022-12-18T12:32:49.614Z"
   },
   {
    "duration": 15,
    "start_time": "2022-12-18T12:32:57.710Z"
   },
   {
    "duration": 848,
    "start_time": "2022-12-18T12:32:59.949Z"
   },
   {
    "duration": 538,
    "start_time": "2022-12-18T12:33:42.533Z"
   },
   {
    "duration": 69,
    "start_time": "2022-12-18T12:33:43.073Z"
   },
   {
    "duration": 20,
    "start_time": "2022-12-18T12:33:43.628Z"
   },
   {
    "duration": 2387,
    "start_time": "2022-12-18T12:33:44.259Z"
   },
   {
    "duration": 182,
    "start_time": "2022-12-18T12:33:46.680Z"
   },
   {
    "duration": 164,
    "start_time": "2022-12-18T12:33:46.864Z"
   },
   {
    "duration": 152,
    "start_time": "2022-12-18T12:33:47.039Z"
   },
   {
    "duration": 11,
    "start_time": "2022-12-18T12:33:50.778Z"
   },
   {
    "duration": 15,
    "start_time": "2022-12-18T12:33:54.060Z"
   },
   {
    "duration": 773,
    "start_time": "2022-12-18T12:33:55.864Z"
   },
   {
    "duration": 4,
    "start_time": "2022-12-18T12:36:28.415Z"
   },
   {
    "duration": 5,
    "start_time": "2022-12-18T12:36:29.607Z"
   },
   {
    "duration": 3,
    "start_time": "2022-12-18T12:37:13.939Z"
   },
   {
    "duration": 18,
    "start_time": "2022-12-18T12:39:46.111Z"
   },
   {
    "duration": 7,
    "start_time": "2022-12-18T12:39:47.610Z"
   },
   {
    "duration": 4,
    "start_time": "2022-12-18T12:41:43.712Z"
   },
   {
    "duration": 5,
    "start_time": "2022-12-18T12:41:44.460Z"
   },
   {
    "duration": 5,
    "start_time": "2022-12-18T12:41:45.077Z"
   },
   {
    "duration": 6,
    "start_time": "2022-12-18T12:41:45.874Z"
   },
   {
    "duration": 43,
    "start_time": "2022-12-18T12:42:36.574Z"
   },
   {
    "duration": 44,
    "start_time": "2022-12-18T12:43:09.739Z"
   },
   {
    "duration": 9,
    "start_time": "2022-12-18T12:43:21.176Z"
   },
   {
    "duration": 17,
    "start_time": "2022-12-18T12:44:01.940Z"
   },
   {
    "duration": 9,
    "start_time": "2022-12-18T12:45:06.639Z"
   },
   {
    "duration": 6,
    "start_time": "2022-12-18T12:47:39.508Z"
   },
   {
    "duration": 4,
    "start_time": "2022-12-18T12:47:58.075Z"
   },
   {
    "duration": 4,
    "start_time": "2022-12-18T12:47:59.143Z"
   },
   {
    "duration": 7,
    "start_time": "2022-12-18T12:47:59.860Z"
   },
   {
    "duration": 18,
    "start_time": "2022-12-18T12:48:18.539Z"
   },
   {
    "duration": 30,
    "start_time": "2022-12-18T12:48:22.211Z"
   },
   {
    "duration": 241,
    "start_time": "2022-12-18T12:48:25.559Z"
   },
   {
    "duration": 31,
    "start_time": "2022-12-18T12:48:26.938Z"
   },
   {
    "duration": 23,
    "start_time": "2022-12-18T12:48:27.928Z"
   },
   {
    "duration": 162,
    "start_time": "2022-12-18T13:06:13.940Z"
   },
   {
    "duration": 116,
    "start_time": "2022-12-18T13:06:43.518Z"
   },
   {
    "duration": 12,
    "start_time": "2022-12-18T13:06:51.205Z"
   },
   {
    "duration": 6,
    "start_time": "2022-12-18T13:07:03.515Z"
   },
   {
    "duration": 7,
    "start_time": "2022-12-18T13:07:17.262Z"
   },
   {
    "duration": 175,
    "start_time": "2022-12-18T13:07:34.060Z"
   },
   {
    "duration": 13,
    "start_time": "2022-12-18T13:10:11.027Z"
   },
   {
    "duration": 217,
    "start_time": "2022-12-18T13:10:12.359Z"
   },
   {
    "duration": 11,
    "start_time": "2022-12-18T13:10:22.490Z"
   },
   {
    "duration": 191,
    "start_time": "2022-12-18T13:10:25.260Z"
   },
   {
    "duration": 119,
    "start_time": "2022-12-18T13:10:53.176Z"
   },
   {
    "duration": 7,
    "start_time": "2022-12-18T13:10:57.090Z"
   },
   {
    "duration": 117,
    "start_time": "2022-12-18T13:10:58.291Z"
   },
   {
    "duration": 47,
    "start_time": "2022-12-18T13:11:24.610Z"
   },
   {
    "duration": 7,
    "start_time": "2022-12-18T13:11:27.976Z"
   },
   {
    "duration": 120,
    "start_time": "2022-12-18T13:11:32.358Z"
   },
   {
    "duration": 29,
    "start_time": "2022-12-18T13:12:06.677Z"
   },
   {
    "duration": 9,
    "start_time": "2022-12-18T13:12:15.408Z"
   },
   {
    "duration": 145,
    "start_time": "2022-12-18T13:12:19.193Z"
   },
   {
    "duration": 70,
    "start_time": "2022-12-18T13:12:26.776Z"
   },
   {
    "duration": 34,
    "start_time": "2022-12-18T13:12:30.242Z"
   },
   {
    "duration": 9,
    "start_time": "2022-12-18T13:12:30.991Z"
   },
   {
    "duration": 149,
    "start_time": "2022-12-18T13:12:33.591Z"
   },
   {
    "duration": 51,
    "start_time": "2022-12-18T13:12:42.487Z"
   },
   {
    "duration": 59,
    "start_time": "2022-12-18T13:12:48.375Z"
   },
   {
    "duration": 9,
    "start_time": "2022-12-18T13:13:09.439Z"
   },
   {
    "duration": 137,
    "start_time": "2022-12-18T13:13:20.675Z"
   },
   {
    "duration": 7,
    "start_time": "2022-12-18T13:13:25.661Z"
   },
   {
    "duration": 122,
    "start_time": "2022-12-18T13:13:26.743Z"
   },
   {
    "duration": 14,
    "start_time": "2022-12-18T13:13:34.326Z"
   },
   {
    "duration": 114,
    "start_time": "2022-12-18T13:13:36.542Z"
   },
   {
    "duration": 9,
    "start_time": "2022-12-18T13:13:44.532Z"
   },
   {
    "duration": 140,
    "start_time": "2022-12-18T13:13:45.508Z"
   },
   {
    "duration": 7,
    "start_time": "2022-12-18T13:13:50.290Z"
   },
   {
    "duration": 130,
    "start_time": "2022-12-18T13:13:51.688Z"
   },
   {
    "duration": 7,
    "start_time": "2022-12-18T13:14:02.792Z"
   },
   {
    "duration": 122,
    "start_time": "2022-12-18T13:14:07.540Z"
   },
   {
    "duration": 11,
    "start_time": "2022-12-18T13:14:29.622Z"
   },
   {
    "duration": 114,
    "start_time": "2022-12-18T13:14:33.494Z"
   },
   {
    "duration": 113,
    "start_time": "2022-12-18T13:23:27.393Z"
   },
   {
    "duration": 31,
    "start_time": "2022-12-18T13:29:21.444Z"
   },
   {
    "duration": 17,
    "start_time": "2022-12-18T13:32:45.171Z"
   },
   {
    "duration": 127,
    "start_time": "2022-12-18T13:34:11.571Z"
   },
   {
    "duration": 10,
    "start_time": "2022-12-18T13:34:33.919Z"
   },
   {
    "duration": 12,
    "start_time": "2022-12-18T13:34:41.271Z"
   },
   {
    "duration": 7,
    "start_time": "2022-12-18T13:34:53.270Z"
   },
   {
    "duration": 73,
    "start_time": "2022-12-18T13:42:30.336Z"
   },
   {
    "duration": 11,
    "start_time": "2022-12-18T13:42:41.417Z"
   },
   {
    "duration": 5,
    "start_time": "2022-12-18T13:42:58.137Z"
   },
   {
    "duration": 481,
    "start_time": "2022-12-18T13:43:35.974Z"
   },
   {
    "duration": 45,
    "start_time": "2022-12-18T13:43:36.457Z"
   },
   {
    "duration": 16,
    "start_time": "2022-12-18T13:43:37.168Z"
   },
   {
    "duration": 2286,
    "start_time": "2022-12-18T13:43:37.701Z"
   },
   {
    "duration": 133,
    "start_time": "2022-12-18T13:43:39.990Z"
   },
   {
    "duration": 155,
    "start_time": "2022-12-18T13:43:40.125Z"
   },
   {
    "duration": 151,
    "start_time": "2022-12-18T13:43:40.281Z"
   },
   {
    "duration": 9,
    "start_time": "2022-12-18T13:43:40.819Z"
   },
   {
    "duration": 12,
    "start_time": "2022-12-18T13:43:42.701Z"
   },
   {
    "duration": 701,
    "start_time": "2022-12-18T13:43:44.252Z"
   },
   {
    "duration": 4,
    "start_time": "2022-12-18T13:43:45.284Z"
   },
   {
    "duration": 5,
    "start_time": "2022-12-18T13:43:45.986Z"
   },
   {
    "duration": 4,
    "start_time": "2022-12-18T13:43:47.000Z"
   },
   {
    "duration": 6,
    "start_time": "2022-12-18T13:43:47.938Z"
   },
   {
    "duration": 6,
    "start_time": "2022-12-18T13:43:48.353Z"
   },
   {
    "duration": 6,
    "start_time": "2022-12-18T13:43:49.052Z"
   },
   {
    "duration": 5,
    "start_time": "2022-12-18T13:43:49.441Z"
   },
   {
    "duration": 5,
    "start_time": "2022-12-18T13:43:49.784Z"
   },
   {
    "duration": 6,
    "start_time": "2022-12-18T13:43:50.183Z"
   },
   {
    "duration": 42,
    "start_time": "2022-12-18T13:43:51.319Z"
   },
   {
    "duration": 44,
    "start_time": "2022-12-18T13:43:52.067Z"
   },
   {
    "duration": 10,
    "start_time": "2022-12-18T13:43:52.600Z"
   },
   {
    "duration": 16,
    "start_time": "2022-12-18T13:43:53.617Z"
   },
   {
    "duration": 11,
    "start_time": "2022-12-18T13:43:54.300Z"
   },
   {
    "duration": 6,
    "start_time": "2022-12-18T13:43:56.602Z"
   },
   {
    "duration": 5,
    "start_time": "2022-12-18T13:43:57.782Z"
   },
   {
    "duration": 5,
    "start_time": "2022-12-18T13:43:58.182Z"
   },
   {
    "duration": 6,
    "start_time": "2022-12-18T13:43:58.638Z"
   },
   {
    "duration": 20,
    "start_time": "2022-12-18T13:44:00.950Z"
   },
   {
    "duration": 22,
    "start_time": "2022-12-18T13:44:01.665Z"
   },
   {
    "duration": 220,
    "start_time": "2022-12-18T13:44:02.365Z"
   },
   {
    "duration": 20,
    "start_time": "2022-12-18T13:44:02.662Z"
   },
   {
    "duration": 17,
    "start_time": "2022-12-18T13:44:03.248Z"
   },
   {
    "duration": 7,
    "start_time": "2022-12-18T13:44:05.100Z"
   },
   {
    "duration": 151,
    "start_time": "2022-12-18T13:44:05.700Z"
   },
   {
    "duration": 75,
    "start_time": "2022-12-18T13:44:06.667Z"
   },
   {
    "duration": 10,
    "start_time": "2022-12-18T13:45:07.183Z"
   },
   {
    "duration": 10,
    "start_time": "2022-12-18T13:47:52.134Z"
   },
   {
    "duration": 12,
    "start_time": "2022-12-18T13:48:10.457Z"
   },
   {
    "duration": 12,
    "start_time": "2022-12-18T13:48:27.423Z"
   },
   {
    "duration": 9,
    "start_time": "2022-12-18T13:48:32.862Z"
   },
   {
    "duration": 10,
    "start_time": "2022-12-18T13:48:53.419Z"
   },
   {
    "duration": 10,
    "start_time": "2022-12-18T13:49:11.066Z"
   },
   {
    "duration": 9,
    "start_time": "2022-12-18T13:49:24.683Z"
   },
   {
    "duration": 11,
    "start_time": "2022-12-18T13:49:40.435Z"
   },
   {
    "duration": 126,
    "start_time": "2022-12-18T13:52:09.465Z"
   },
   {
    "duration": 539,
    "start_time": "2022-12-18T14:14:56.696Z"
   },
   {
    "duration": 45,
    "start_time": "2022-12-18T14:14:57.328Z"
   },
   {
    "duration": 16,
    "start_time": "2022-12-18T14:14:57.880Z"
   },
   {
    "duration": 2318,
    "start_time": "2022-12-18T14:14:58.430Z"
   },
   {
    "duration": 133,
    "start_time": "2022-12-18T14:15:00.750Z"
   },
   {
    "duration": 155,
    "start_time": "2022-12-18T14:15:00.885Z"
   },
   {
    "duration": 148,
    "start_time": "2022-12-18T14:15:01.060Z"
   },
   {
    "duration": 9,
    "start_time": "2022-12-18T14:15:03.231Z"
   },
   {
    "duration": 13,
    "start_time": "2022-12-18T14:15:05.529Z"
   },
   {
    "duration": 686,
    "start_time": "2022-12-18T14:15:07.064Z"
   },
   {
    "duration": 4,
    "start_time": "2022-12-18T14:15:08.064Z"
   },
   {
    "duration": 4,
    "start_time": "2022-12-18T14:15:08.548Z"
   },
   {
    "duration": 3,
    "start_time": "2022-12-18T14:15:09.512Z"
   },
   {
    "duration": 6,
    "start_time": "2022-12-18T14:15:10.631Z"
   },
   {
    "duration": 6,
    "start_time": "2022-12-18T14:15:11.113Z"
   },
   {
    "duration": 5,
    "start_time": "2022-12-18T14:15:11.895Z"
   },
   {
    "duration": 4,
    "start_time": "2022-12-18T14:15:12.430Z"
   },
   {
    "duration": 5,
    "start_time": "2022-12-18T14:15:13.063Z"
   },
   {
    "duration": 6,
    "start_time": "2022-12-18T14:15:14.229Z"
   },
   {
    "duration": 55,
    "start_time": "2022-12-18T14:15:15.848Z"
   },
   {
    "duration": 8,
    "start_time": "2022-12-18T14:15:17.629Z"
   },
   {
    "duration": 6,
    "start_time": "2022-12-18T14:16:02.700Z"
   },
   {
    "duration": 11,
    "start_time": "2022-12-18T14:17:56.812Z"
   },
   {
    "duration": 7,
    "start_time": "2022-12-18T14:18:00.069Z"
   },
   {
    "duration": 5,
    "start_time": "2022-12-18T14:18:01.263Z"
   },
   {
    "duration": 80,
    "start_time": "2022-12-18T14:18:28.014Z"
   },
   {
    "duration": 6,
    "start_time": "2022-12-18T14:19:25.147Z"
   },
   {
    "duration": 19,
    "start_time": "2022-12-18T14:19:40.412Z"
   },
   {
    "duration": 18,
    "start_time": "2022-12-18T14:19:41.377Z"
   },
   {
    "duration": 220,
    "start_time": "2022-12-18T14:19:42.415Z"
   },
   {
    "duration": 17,
    "start_time": "2022-12-18T14:19:42.848Z"
   },
   {
    "duration": 19,
    "start_time": "2022-12-18T14:19:43.461Z"
   },
   {
    "duration": 7,
    "start_time": "2022-12-18T14:19:59.310Z"
   },
   {
    "duration": 112,
    "start_time": "2022-12-18T14:20:00.185Z"
   },
   {
    "duration": 124,
    "start_time": "2022-12-18T14:20:03.063Z"
   },
   {
    "duration": 11,
    "start_time": "2022-12-18T14:20:05.401Z"
   },
   {
    "duration": 10,
    "start_time": "2022-12-18T14:20:26.337Z"
   },
   {
    "duration": 10,
    "start_time": "2022-12-18T14:22:58.840Z"
   },
   {
    "duration": 12,
    "start_time": "2022-12-18T14:30:11.941Z"
   },
   {
    "duration": 503,
    "start_time": "2022-12-18T14:32:12.312Z"
   },
   {
    "duration": 45,
    "start_time": "2022-12-18T14:32:12.845Z"
   },
   {
    "duration": 16,
    "start_time": "2022-12-18T14:32:13.326Z"
   },
   {
    "duration": 2307,
    "start_time": "2022-12-18T14:32:13.828Z"
   },
   {
    "duration": 127,
    "start_time": "2022-12-18T14:32:16.137Z"
   },
   {
    "duration": 146,
    "start_time": "2022-12-18T14:32:16.266Z"
   },
   {
    "duration": 150,
    "start_time": "2022-12-18T14:32:16.414Z"
   },
   {
    "duration": 10,
    "start_time": "2022-12-18T14:32:16.567Z"
   },
   {
    "duration": 11,
    "start_time": "2022-12-18T14:32:17.878Z"
   },
   {
    "duration": 702,
    "start_time": "2022-12-18T14:32:18.728Z"
   },
   {
    "duration": 3,
    "start_time": "2022-12-18T14:32:19.432Z"
   },
   {
    "duration": 4,
    "start_time": "2022-12-18T14:32:19.574Z"
   },
   {
    "duration": 3,
    "start_time": "2022-12-18T14:32:20.110Z"
   },
   {
    "duration": 5,
    "start_time": "2022-12-18T14:32:20.610Z"
   },
   {
    "duration": 6,
    "start_time": "2022-12-18T14:32:20.827Z"
   },
   {
    "duration": 4,
    "start_time": "2022-12-18T14:32:21.327Z"
   },
   {
    "duration": 5,
    "start_time": "2022-12-18T14:32:21.561Z"
   },
   {
    "duration": 5,
    "start_time": "2022-12-18T14:32:21.741Z"
   },
   {
    "duration": 5,
    "start_time": "2022-12-18T14:32:21.942Z"
   },
   {
    "duration": 39,
    "start_time": "2022-12-18T14:32:22.675Z"
   },
   {
    "duration": 8,
    "start_time": "2022-12-18T14:32:23.195Z"
   },
   {
    "duration": 6,
    "start_time": "2022-12-18T14:32:24.526Z"
   },
   {
    "duration": 8,
    "start_time": "2022-12-18T14:32:26.712Z"
   },
   {
    "duration": 5,
    "start_time": "2022-12-18T14:32:27.394Z"
   },
   {
    "duration": 5,
    "start_time": "2022-12-18T14:32:27.894Z"
   },
   {
    "duration": 5,
    "start_time": "2022-12-18T14:32:28.345Z"
   },
   {
    "duration": 18,
    "start_time": "2022-12-18T14:32:50.344Z"
   },
   {
    "duration": 16,
    "start_time": "2022-12-18T14:32:53.312Z"
   },
   {
    "duration": 212,
    "start_time": "2022-12-18T14:32:54.277Z"
   },
   {
    "duration": 18,
    "start_time": "2022-12-18T14:32:54.762Z"
   },
   {
    "duration": 19,
    "start_time": "2022-12-18T14:32:55.113Z"
   },
   {
    "duration": 9,
    "start_time": "2022-12-18T14:33:26.844Z"
   },
   {
    "duration": 119,
    "start_time": "2022-12-18T14:33:45.428Z"
   },
   {
    "duration": 71,
    "start_time": "2022-12-18T14:33:52.627Z"
   },
   {
    "duration": 10,
    "start_time": "2022-12-18T14:34:42.626Z"
   },
   {
    "duration": 4,
    "start_time": "2022-12-18T14:36:56.392Z"
   },
   {
    "duration": 16,
    "start_time": "2022-12-18T14:37:18.009Z"
   },
   {
    "duration": 1112,
    "start_time": "2022-12-18T14:38:56.836Z"
   },
   {
    "duration": 1164,
    "start_time": "2022-12-18T14:39:25.043Z"
   },
   {
    "duration": 11,
    "start_time": "2022-12-18T14:39:34.136Z"
   },
   {
    "duration": 10,
    "start_time": "2022-12-18T14:39:39.425Z"
   },
   {
    "duration": 10,
    "start_time": "2022-12-18T14:39:58.249Z"
   },
   {
    "duration": 114,
    "start_time": "2022-12-18T14:40:13.708Z"
   },
   {
    "duration": 10,
    "start_time": "2022-12-18T14:40:47.139Z"
   },
   {
    "duration": 9,
    "start_time": "2022-12-18T14:43:58.276Z"
   },
   {
    "duration": 127,
    "start_time": "2022-12-18T14:43:58.991Z"
   },
   {
    "duration": 66,
    "start_time": "2022-12-18T14:46:05.843Z"
   },
   {
    "duration": 209,
    "start_time": "2022-12-18T14:46:13.893Z"
   },
   {
    "duration": 10,
    "start_time": "2022-12-18T14:46:15.307Z"
   },
   {
    "duration": 9,
    "start_time": "2022-12-18T14:47:51.477Z"
   },
   {
    "duration": 125,
    "start_time": "2022-12-18T14:48:17.941Z"
   },
   {
    "duration": 6,
    "start_time": "2022-12-18T14:51:28.992Z"
   },
   {
    "duration": 106,
    "start_time": "2022-12-18T14:51:29.743Z"
   },
   {
    "duration": 9,
    "start_time": "2022-12-18T14:51:34.621Z"
   },
   {
    "duration": 24,
    "start_time": "2022-12-18T14:54:07.108Z"
   },
   {
    "duration": 11,
    "start_time": "2022-12-18T14:54:28.207Z"
   },
   {
    "duration": 27,
    "start_time": "2022-12-18T14:54:42.306Z"
   },
   {
    "duration": 6,
    "start_time": "2022-12-18T14:56:32.591Z"
   },
   {
    "duration": 112,
    "start_time": "2022-12-18T14:56:33.525Z"
   },
   {
    "duration": 10,
    "start_time": "2022-12-18T14:56:35.989Z"
   },
   {
    "duration": 26,
    "start_time": "2022-12-18T14:56:39.740Z"
   },
   {
    "duration": 7,
    "start_time": "2022-12-18T14:58:26.457Z"
   },
   {
    "duration": 126,
    "start_time": "2022-12-18T14:58:27.074Z"
   },
   {
    "duration": 9,
    "start_time": "2022-12-18T14:58:30.990Z"
   },
   {
    "duration": 120,
    "start_time": "2022-12-18T14:58:31.543Z"
   },
   {
    "duration": 7,
    "start_time": "2022-12-18T14:58:49.176Z"
   },
   {
    "duration": 112,
    "start_time": "2022-12-18T14:58:49.949Z"
   },
   {
    "duration": 9,
    "start_time": "2022-12-18T15:00:55.640Z"
   },
   {
    "duration": 107,
    "start_time": "2022-12-18T15:01:14.243Z"
   },
   {
    "duration": 3,
    "start_time": "2022-12-18T15:01:57.737Z"
   },
   {
    "duration": 7,
    "start_time": "2022-12-18T15:02:04.875Z"
   },
   {
    "duration": 112,
    "start_time": "2022-12-18T15:02:12.256Z"
   },
   {
    "duration": 10,
    "start_time": "2022-12-18T15:02:26.523Z"
   },
   {
    "duration": 10,
    "start_time": "2022-12-18T15:05:00.956Z"
   },
   {
    "duration": 10,
    "start_time": "2022-12-18T15:05:05.357Z"
   },
   {
    "duration": 12,
    "start_time": "2022-12-18T15:05:08.255Z"
   },
   {
    "duration": 117,
    "start_time": "2022-12-18T15:06:46.808Z"
   },
   {
    "duration": 118,
    "start_time": "2022-12-18T15:07:29.259Z"
   },
   {
    "duration": 119,
    "start_time": "2022-12-18T15:07:40.669Z"
   },
   {
    "duration": 14,
    "start_time": "2022-12-18T15:08:23.072Z"
   },
   {
    "duration": 69,
    "start_time": "2022-12-18T15:09:24.305Z"
   },
   {
    "duration": 203,
    "start_time": "2022-12-18T15:09:34.083Z"
   },
   {
    "duration": 166,
    "start_time": "2022-12-18T15:10:12.556Z"
   },
   {
    "duration": 199,
    "start_time": "2022-12-18T15:10:24.173Z"
   },
   {
    "duration": 10,
    "start_time": "2022-12-18T15:19:47.687Z"
   },
   {
    "duration": 136,
    "start_time": "2022-12-18T15:20:12.804Z"
   },
   {
    "duration": 11,
    "start_time": "2022-12-18T15:20:25.939Z"
   },
   {
    "duration": 235,
    "start_time": "2022-12-18T15:20:27.591Z"
   },
   {
    "duration": 133,
    "start_time": "2022-12-18T15:20:45.403Z"
   },
   {
    "duration": 135,
    "start_time": "2022-12-18T15:21:00.152Z"
   },
   {
    "duration": 14,
    "start_time": "2022-12-18T15:21:08.040Z"
   },
   {
    "duration": 9,
    "start_time": "2022-12-18T15:22:21.424Z"
   },
   {
    "duration": 11,
    "start_time": "2022-12-18T15:22:22.407Z"
   },
   {
    "duration": 11,
    "start_time": "2022-12-18T15:22:22.839Z"
   },
   {
    "duration": 1123,
    "start_time": "2022-12-18T15:25:31.823Z"
   },
   {
    "duration": 1118,
    "start_time": "2022-12-18T15:25:35.919Z"
   },
   {
    "duration": 8,
    "start_time": "2022-12-18T15:25:45.989Z"
   },
   {
    "duration": 10,
    "start_time": "2022-12-18T15:25:54.940Z"
   },
   {
    "duration": 106,
    "start_time": "2022-12-18T15:26:32.870Z"
   },
   {
    "duration": 146,
    "start_time": "2022-12-18T15:26:52.173Z"
   },
   {
    "duration": 447,
    "start_time": "2022-12-18T16:03:16.584Z"
   },
   {
    "duration": 47,
    "start_time": "2022-12-18T16:03:17.333Z"
   },
   {
    "duration": 15,
    "start_time": "2022-12-18T16:03:17.798Z"
   },
   {
    "duration": 2239,
    "start_time": "2022-12-18T16:03:18.217Z"
   },
   {
    "duration": 129,
    "start_time": "2022-12-18T16:03:20.458Z"
   },
   {
    "duration": 160,
    "start_time": "2022-12-18T16:03:20.589Z"
   },
   {
    "duration": 155,
    "start_time": "2022-12-18T16:03:20.750Z"
   },
   {
    "duration": 16,
    "start_time": "2022-12-18T16:03:20.907Z"
   },
   {
    "duration": 17,
    "start_time": "2022-12-18T16:03:21.497Z"
   },
   {
    "duration": 731,
    "start_time": "2022-12-18T16:03:22.131Z"
   },
   {
    "duration": 4,
    "start_time": "2022-12-18T16:03:22.864Z"
   },
   {
    "duration": 6,
    "start_time": "2022-12-18T16:03:22.870Z"
   },
   {
    "duration": 4,
    "start_time": "2022-12-18T16:03:23.126Z"
   },
   {
    "duration": 5,
    "start_time": "2022-12-18T16:03:23.515Z"
   },
   {
    "duration": 5,
    "start_time": "2022-12-18T16:03:23.712Z"
   },
   {
    "duration": 5,
    "start_time": "2022-12-18T16:03:24.079Z"
   },
   {
    "duration": 5,
    "start_time": "2022-12-18T16:03:24.245Z"
   },
   {
    "duration": 5,
    "start_time": "2022-12-18T16:03:24.447Z"
   },
   {
    "duration": 5,
    "start_time": "2022-12-18T16:03:24.611Z"
   },
   {
    "duration": 40,
    "start_time": "2022-12-18T16:03:25.196Z"
   },
   {
    "duration": 9,
    "start_time": "2022-12-18T16:03:25.564Z"
   },
   {
    "duration": 6,
    "start_time": "2022-12-18T16:03:26.396Z"
   },
   {
    "duration": 8,
    "start_time": "2022-12-18T16:03:26.829Z"
   },
   {
    "duration": 6,
    "start_time": "2022-12-18T16:03:27.065Z"
   },
   {
    "duration": 5,
    "start_time": "2022-12-18T16:03:27.279Z"
   },
   {
    "duration": 5,
    "start_time": "2022-12-18T16:03:27.498Z"
   },
   {
    "duration": 18,
    "start_time": "2022-12-18T16:03:28.666Z"
   },
   {
    "duration": 19,
    "start_time": "2022-12-18T16:03:28.912Z"
   },
   {
    "duration": 212,
    "start_time": "2022-12-18T16:03:29.465Z"
   },
   {
    "duration": 17,
    "start_time": "2022-12-18T16:03:29.746Z"
   },
   {
    "duration": 17,
    "start_time": "2022-12-18T16:03:30.051Z"
   },
   {
    "duration": 9,
    "start_time": "2022-12-18T16:03:32.367Z"
   },
   {
    "duration": 109,
    "start_time": "2022-12-18T16:03:32.667Z"
   },
   {
    "duration": 14,
    "start_time": "2022-12-18T16:03:33.266Z"
   },
   {
    "duration": 127,
    "start_time": "2022-12-18T16:03:33.793Z"
   },
   {
    "duration": 12,
    "start_time": "2022-12-18T16:03:34.032Z"
   },
   {
    "duration": 8,
    "start_time": "2022-12-18T16:03:34.501Z"
   },
   {
    "duration": 125,
    "start_time": "2022-12-18T16:03:34.711Z"
   },
   {
    "duration": 7,
    "start_time": "2022-12-18T16:03:35.143Z"
   },
   {
    "duration": 183,
    "start_time": "2022-12-18T16:03:35.343Z"
   },
   {
    "duration": 9,
    "start_time": "2022-12-18T16:03:35.564Z"
   },
   {
    "duration": 9,
    "start_time": "2022-12-18T16:03:35.980Z"
   },
   {
    "duration": 109,
    "start_time": "2022-12-18T16:03:36.264Z"
   },
   {
    "duration": 8,
    "start_time": "2022-12-18T16:03:37.033Z"
   },
   {
    "duration": 112,
    "start_time": "2022-12-18T16:03:37.364Z"
   },
   {
    "duration": 9,
    "start_time": "2022-12-18T16:03:37.592Z"
   },
   {
    "duration": 11,
    "start_time": "2022-12-18T16:03:38.077Z"
   },
   {
    "duration": 150,
    "start_time": "2022-12-18T16:03:38.294Z"
   },
   {
    "duration": 10,
    "start_time": "2022-12-18T16:03:38.545Z"
   },
   {
    "duration": 154,
    "start_time": "2022-12-18T16:03:38.779Z"
   },
   {
    "duration": 9,
    "start_time": "2022-12-18T16:03:39.011Z"
   },
   {
    "duration": 164,
    "start_time": "2022-12-18T16:03:39.229Z"
   },
   {
    "duration": 10,
    "start_time": "2022-12-18T16:03:39.431Z"
   },
   {
    "duration": 129,
    "start_time": "2022-12-18T16:03:39.647Z"
   },
   {
    "duration": 117,
    "start_time": "2022-12-18T16:03:39.912Z"
   },
   {
    "duration": 123,
    "start_time": "2022-12-18T16:03:40.109Z"
   },
   {
    "duration": 9,
    "start_time": "2022-12-18T16:03:40.344Z"
   },
   {
    "duration": 8,
    "start_time": "2022-12-18T16:03:40.545Z"
   },
   {
    "duration": 10,
    "start_time": "2022-12-18T16:03:40.777Z"
   },
   {
    "duration": 14,
    "start_time": "2022-12-18T16:03:45.915Z"
   },
   {
    "duration": 4,
    "start_time": "2022-12-18T16:04:18.849Z"
   },
   {
    "duration": 8,
    "start_time": "2022-12-18T16:08:17.215Z"
   },
   {
    "duration": 3,
    "start_time": "2022-12-18T16:08:45.335Z"
   },
   {
    "duration": 82,
    "start_time": "2022-12-18T16:12:29.697Z"
   },
   {
    "duration": 13,
    "start_time": "2022-12-18T16:14:13.315Z"
   },
   {
    "duration": 6,
    "start_time": "2022-12-18T16:24:18.237Z"
   },
   {
    "duration": 5,
    "start_time": "2022-12-18T16:24:44.496Z"
   },
   {
    "duration": 5,
    "start_time": "2022-12-18T16:25:29.680Z"
   },
   {
    "duration": 13,
    "start_time": "2022-12-18T16:27:34.312Z"
   },
   {
    "duration": 328,
    "start_time": "2022-12-18T16:31:25.145Z"
   },
   {
    "duration": 297,
    "start_time": "2022-12-18T16:31:45.645Z"
   },
   {
    "duration": 813,
    "start_time": "2022-12-18T16:33:22.843Z"
   },
   {
    "duration": 324,
    "start_time": "2022-12-18T16:34:40.147Z"
   },
   {
    "duration": 496,
    "start_time": "2022-12-18T16:35:17.911Z"
   },
   {
    "duration": 46,
    "start_time": "2022-12-18T16:35:18.677Z"
   },
   {
    "duration": 15,
    "start_time": "2022-12-18T16:35:19.575Z"
   },
   {
    "duration": 2149,
    "start_time": "2022-12-18T16:35:20.135Z"
   },
   {
    "duration": 121,
    "start_time": "2022-12-18T16:35:22.285Z"
   },
   {
    "duration": 142,
    "start_time": "2022-12-18T16:35:22.408Z"
   },
   {
    "duration": 155,
    "start_time": "2022-12-18T16:35:22.551Z"
   },
   {
    "duration": 10,
    "start_time": "2022-12-18T16:35:23.312Z"
   },
   {
    "duration": 12,
    "start_time": "2022-12-18T16:35:24.910Z"
   },
   {
    "duration": 651,
    "start_time": "2022-12-18T16:35:26.109Z"
   },
   {
    "duration": 4,
    "start_time": "2022-12-18T16:35:26.806Z"
   },
   {
    "duration": 4,
    "start_time": "2022-12-18T16:35:27.192Z"
   },
   {
    "duration": 4,
    "start_time": "2022-12-18T16:35:27.896Z"
   },
   {
    "duration": 5,
    "start_time": "2022-12-18T16:35:28.647Z"
   },
   {
    "duration": 5,
    "start_time": "2022-12-18T16:35:29.057Z"
   },
   {
    "duration": 5,
    "start_time": "2022-12-18T16:35:29.996Z"
   },
   {
    "duration": 4,
    "start_time": "2022-12-18T16:35:30.411Z"
   },
   {
    "duration": 5,
    "start_time": "2022-12-18T16:35:30.793Z"
   },
   {
    "duration": 5,
    "start_time": "2022-12-18T16:35:31.196Z"
   },
   {
    "duration": 41,
    "start_time": "2022-12-18T16:35:32.314Z"
   },
   {
    "duration": 9,
    "start_time": "2022-12-18T16:35:33.076Z"
   },
   {
    "duration": 6,
    "start_time": "2022-12-18T16:35:34.560Z"
   },
   {
    "duration": 11,
    "start_time": "2022-12-18T16:35:35.450Z"
   },
   {
    "duration": 5,
    "start_time": "2022-12-18T16:35:35.776Z"
   },
   {
    "duration": 5,
    "start_time": "2022-12-18T16:35:36.080Z"
   },
   {
    "duration": 6,
    "start_time": "2022-12-18T16:35:36.382Z"
   },
   {
    "duration": 18,
    "start_time": "2022-12-18T16:35:37.777Z"
   },
   {
    "duration": 18,
    "start_time": "2022-12-18T16:35:38.113Z"
   },
   {
    "duration": 217,
    "start_time": "2022-12-18T16:35:38.774Z"
   },
   {
    "duration": 17,
    "start_time": "2022-12-18T16:35:39.092Z"
   },
   {
    "duration": 17,
    "start_time": "2022-12-18T16:35:39.454Z"
   },
   {
    "duration": 9,
    "start_time": "2022-12-18T16:35:41.462Z"
   },
   {
    "duration": 118,
    "start_time": "2022-12-18T16:35:41.851Z"
   },
   {
    "duration": 14,
    "start_time": "2022-12-18T16:35:42.593Z"
   },
   {
    "duration": 111,
    "start_time": "2022-12-18T16:35:43.451Z"
   },
   {
    "duration": 9,
    "start_time": "2022-12-18T16:35:43.844Z"
   },
   {
    "duration": 9,
    "start_time": "2022-12-18T16:35:44.551Z"
   },
   {
    "duration": 122,
    "start_time": "2022-12-18T16:35:44.977Z"
   },
   {
    "duration": 6,
    "start_time": "2022-12-18T16:35:46.597Z"
   },
   {
    "duration": 175,
    "start_time": "2022-12-18T16:35:46.951Z"
   },
   {
    "duration": 9,
    "start_time": "2022-12-18T16:35:47.351Z"
   },
   {
    "duration": 9,
    "start_time": "2022-12-18T16:35:48.143Z"
   },
   {
    "duration": 109,
    "start_time": "2022-12-18T16:35:48.578Z"
   },
   {
    "duration": 7,
    "start_time": "2022-12-18T16:35:49.580Z"
   },
   {
    "duration": 114,
    "start_time": "2022-12-18T16:35:50.025Z"
   },
   {
    "duration": 9,
    "start_time": "2022-12-18T16:35:50.539Z"
   },
   {
    "duration": 9,
    "start_time": "2022-12-18T16:35:51.461Z"
   },
   {
    "duration": 140,
    "start_time": "2022-12-18T16:35:52.009Z"
   },
   {
    "duration": 9,
    "start_time": "2022-12-18T16:35:52.546Z"
   },
   {
    "duration": 155,
    "start_time": "2022-12-18T16:35:52.859Z"
   },
   {
    "duration": 9,
    "start_time": "2022-12-18T16:35:53.346Z"
   },
   {
    "duration": 143,
    "start_time": "2022-12-18T16:35:53.794Z"
   },
   {
    "duration": 11,
    "start_time": "2022-12-18T16:35:54.193Z"
   },
   {
    "duration": 129,
    "start_time": "2022-12-18T16:35:54.612Z"
   },
   {
    "duration": 124,
    "start_time": "2022-12-18T16:35:55.009Z"
   },
   {
    "duration": 113,
    "start_time": "2022-12-18T16:35:55.358Z"
   },
   {
    "duration": 10,
    "start_time": "2022-12-18T16:35:55.676Z"
   },
   {
    "duration": 9,
    "start_time": "2022-12-18T16:35:56.040Z"
   },
   {
    "duration": 9,
    "start_time": "2022-12-18T16:35:56.780Z"
   },
   {
    "duration": 15,
    "start_time": "2022-12-18T16:35:58.110Z"
   },
   {
    "duration": 4,
    "start_time": "2022-12-18T16:36:00.559Z"
   },
   {
    "duration": 6,
    "start_time": "2022-12-18T16:36:01.976Z"
   },
   {
    "duration": 6,
    "start_time": "2022-12-18T16:36:02.944Z"
   },
   {
    "duration": 7,
    "start_time": "2022-12-18T16:36:04.078Z"
   },
   {
    "duration": 346,
    "start_time": "2022-12-18T16:36:05.094Z"
   },
   {
    "duration": 4,
    "start_time": "2022-12-18T16:36:06.527Z"
   },
   {
    "duration": 15,
    "start_time": "2022-12-18T16:36:07.196Z"
   },
   {
    "duration": 23,
    "start_time": "2022-12-18T16:36:23.409Z"
   },
   {
    "duration": 159,
    "start_time": "2022-12-18T16:56:23.841Z"
   },
   {
    "duration": 243,
    "start_time": "2022-12-18T16:57:01.993Z"
   },
   {
    "duration": 176,
    "start_time": "2022-12-18T16:57:20.488Z"
   },
   {
    "duration": 162,
    "start_time": "2022-12-18T16:57:24.972Z"
   },
   {
    "duration": 162,
    "start_time": "2022-12-18T16:59:12.073Z"
   },
   {
    "duration": 151,
    "start_time": "2022-12-18T16:59:41.941Z"
   },
   {
    "duration": 173,
    "start_time": "2022-12-18T17:00:11.344Z"
   },
   {
    "duration": 246,
    "start_time": "2022-12-18T17:00:44.000Z"
   },
   {
    "duration": 218,
    "start_time": "2022-12-18T17:00:51.088Z"
   },
   {
    "duration": 540,
    "start_time": "2022-12-18T17:03:03.002Z"
   },
   {
    "duration": 50,
    "start_time": "2022-12-18T17:03:03.544Z"
   },
   {
    "duration": 27,
    "start_time": "2022-12-18T17:03:03.596Z"
   },
   {
    "duration": 2602,
    "start_time": "2022-12-18T17:03:03.626Z"
   },
   {
    "duration": 137,
    "start_time": "2022-12-18T17:03:06.229Z"
   },
   {
    "duration": 189,
    "start_time": "2022-12-18T17:03:06.369Z"
   },
   {
    "duration": 152,
    "start_time": "2022-12-18T17:03:06.560Z"
   },
   {
    "duration": 13,
    "start_time": "2022-12-18T17:03:06.713Z"
   },
   {
    "duration": 16,
    "start_time": "2022-12-18T17:03:06.728Z"
   },
   {
    "duration": 752,
    "start_time": "2022-12-18T17:03:06.747Z"
   },
   {
    "duration": 4,
    "start_time": "2022-12-18T17:03:07.501Z"
   },
   {
    "duration": 15,
    "start_time": "2022-12-18T17:03:07.507Z"
   },
   {
    "duration": 9,
    "start_time": "2022-12-18T17:03:07.524Z"
   },
   {
    "duration": 8,
    "start_time": "2022-12-18T17:03:07.535Z"
   },
   {
    "duration": 8,
    "start_time": "2022-12-18T17:03:07.545Z"
   },
   {
    "duration": 5,
    "start_time": "2022-12-18T17:03:07.556Z"
   },
   {
    "duration": 10,
    "start_time": "2022-12-18T17:03:07.562Z"
   },
   {
    "duration": 7,
    "start_time": "2022-12-18T17:03:07.575Z"
   },
   {
    "duration": 7,
    "start_time": "2022-12-18T17:03:07.584Z"
   },
   {
    "duration": 75,
    "start_time": "2022-12-18T17:03:07.592Z"
   },
   {
    "duration": 12,
    "start_time": "2022-12-18T17:03:07.670Z"
   },
   {
    "duration": 7,
    "start_time": "2022-12-18T17:03:07.684Z"
   },
   {
    "duration": 15,
    "start_time": "2022-12-18T17:03:07.693Z"
   },
   {
    "duration": 6,
    "start_time": "2022-12-18T17:03:07.722Z"
   },
   {
    "duration": 8,
    "start_time": "2022-12-18T17:03:07.731Z"
   },
   {
    "duration": 10,
    "start_time": "2022-12-18T17:03:07.741Z"
   },
   {
    "duration": 34,
    "start_time": "2022-12-18T17:03:07.753Z"
   },
   {
    "duration": 41,
    "start_time": "2022-12-18T17:03:07.793Z"
   },
   {
    "duration": 354,
    "start_time": "2022-12-18T17:03:07.836Z"
   },
   {
    "duration": 17,
    "start_time": "2022-12-18T17:03:08.191Z"
   },
   {
    "duration": 32,
    "start_time": "2022-12-18T17:03:08.210Z"
   },
   {
    "duration": 9,
    "start_time": "2022-12-18T17:03:08.244Z"
   },
   {
    "duration": 133,
    "start_time": "2022-12-18T17:03:08.255Z"
   },
   {
    "duration": 15,
    "start_time": "2022-12-18T17:03:08.390Z"
   },
   {
    "duration": 164,
    "start_time": "2022-12-18T17:03:08.407Z"
   },
   {
    "duration": 12,
    "start_time": "2022-12-18T17:03:08.573Z"
   },
   {
    "duration": 16,
    "start_time": "2022-12-18T17:03:08.587Z"
   },
   {
    "duration": 177,
    "start_time": "2022-12-18T17:03:08.604Z"
   },
   {
    "duration": 8,
    "start_time": "2022-12-18T17:03:08.783Z"
   },
   {
    "duration": 205,
    "start_time": "2022-12-18T17:03:08.793Z"
   },
   {
    "duration": 24,
    "start_time": "2022-12-18T17:03:08.999Z"
   },
   {
    "duration": 9,
    "start_time": "2022-12-18T17:03:09.025Z"
   },
   {
    "duration": 144,
    "start_time": "2022-12-18T17:03:09.036Z"
   },
   {
    "duration": 6,
    "start_time": "2022-12-18T17:03:09.182Z"
   },
   {
    "duration": 126,
    "start_time": "2022-12-18T17:03:09.190Z"
   },
   {
    "duration": 10,
    "start_time": "2022-12-18T17:03:09.321Z"
   },
   {
    "duration": 10,
    "start_time": "2022-12-18T17:03:09.334Z"
   },
   {
    "duration": 193,
    "start_time": "2022-12-18T17:03:09.346Z"
   },
   {
    "duration": 12,
    "start_time": "2022-12-18T17:03:09.541Z"
   },
   {
    "duration": 178,
    "start_time": "2022-12-18T17:03:09.555Z"
   },
   {
    "duration": 10,
    "start_time": "2022-12-18T17:03:09.735Z"
   },
   {
    "duration": 180,
    "start_time": "2022-12-18T17:03:09.747Z"
   },
   {
    "duration": 12,
    "start_time": "2022-12-18T17:03:09.928Z"
   },
   {
    "duration": 142,
    "start_time": "2022-12-18T17:03:09.942Z"
   },
   {
    "duration": 150,
    "start_time": "2022-12-18T17:03:10.086Z"
   },
   {
    "duration": 165,
    "start_time": "2022-12-18T17:03:10.238Z"
   },
   {
    "duration": 18,
    "start_time": "2022-12-18T17:03:10.405Z"
   },
   {
    "duration": 11,
    "start_time": "2022-12-18T17:03:10.424Z"
   },
   {
    "duration": 8,
    "start_time": "2022-12-18T17:03:10.437Z"
   },
   {
    "duration": 16,
    "start_time": "2022-12-18T17:03:10.447Z"
   },
   {
    "duration": 4,
    "start_time": "2022-12-18T17:03:10.465Z"
   },
   {
    "duration": 13,
    "start_time": "2022-12-18T17:03:10.471Z"
   },
   {
    "duration": 7,
    "start_time": "2022-12-18T17:03:10.486Z"
   },
   {
    "duration": 7,
    "start_time": "2022-12-18T17:03:10.523Z"
   },
   {
    "duration": 355,
    "start_time": "2022-12-18T17:03:10.532Z"
   },
   {
    "duration": 4,
    "start_time": "2022-12-18T17:03:10.889Z"
   },
   {
    "duration": 19,
    "start_time": "2022-12-18T17:03:10.895Z"
   },
   {
    "duration": 23,
    "start_time": "2022-12-18T17:03:10.921Z"
   },
   {
    "duration": 165,
    "start_time": "2022-12-18T17:03:10.946Z"
   },
   {
    "duration": 45405,
    "start_time": "2022-12-18T17:03:11.113Z"
   },
   {
    "duration": 0,
    "start_time": "2022-12-18T17:03:56.522Z"
   },
   {
    "duration": 0,
    "start_time": "2022-12-18T17:03:56.523Z"
   },
   {
    "duration": 0,
    "start_time": "2022-12-18T17:03:56.524Z"
   },
   {
    "duration": 0,
    "start_time": "2022-12-18T17:03:56.526Z"
   },
   {
    "duration": 0,
    "start_time": "2022-12-18T17:03:56.527Z"
   },
   {
    "duration": 0,
    "start_time": "2022-12-18T17:03:56.528Z"
   },
   {
    "duration": 0,
    "start_time": "2022-12-18T17:03:56.529Z"
   },
   {
    "duration": 0,
    "start_time": "2022-12-18T17:03:56.531Z"
   },
   {
    "duration": 0,
    "start_time": "2022-12-18T17:03:56.532Z"
   },
   {
    "duration": 0,
    "start_time": "2022-12-18T17:03:56.534Z"
   },
   {
    "duration": 0,
    "start_time": "2022-12-18T17:03:56.535Z"
   },
   {
    "duration": 1,
    "start_time": "2022-12-18T17:03:56.536Z"
   },
   {
    "duration": 0,
    "start_time": "2022-12-18T17:03:56.537Z"
   },
   {
    "duration": 184,
    "start_time": "2022-12-18T17:06:11.539Z"
   },
   {
    "duration": 1360,
    "start_time": "2022-12-18T17:06:14.903Z"
   },
   {
    "duration": 252,
    "start_time": "2022-12-18T17:06:19.099Z"
   },
   {
    "duration": 154,
    "start_time": "2022-12-18T17:06:22.654Z"
   },
   {
    "duration": 169,
    "start_time": "2022-12-18T17:06:42.387Z"
   },
   {
    "duration": 208,
    "start_time": "2022-12-18T17:07:00.754Z"
   },
   {
    "duration": 185,
    "start_time": "2022-12-18T17:07:17.340Z"
   },
   {
    "duration": 170,
    "start_time": "2022-12-18T17:07:24.854Z"
   },
   {
    "duration": 156,
    "start_time": "2022-12-18T17:07:46.092Z"
   },
   {
    "duration": 203,
    "start_time": "2022-12-18T17:08:14.038Z"
   },
   {
    "duration": 14,
    "start_time": "2022-12-18T17:08:33.742Z"
   },
   {
    "duration": 153,
    "start_time": "2022-12-18T17:11:31.125Z"
   },
   {
    "duration": 84,
    "start_time": "2022-12-18T17:12:34.805Z"
   },
   {
    "duration": 7,
    "start_time": "2022-12-18T17:12:44.306Z"
   },
   {
    "duration": 337,
    "start_time": "2022-12-18T17:12:56.648Z"
   },
   {
    "duration": 7,
    "start_time": "2022-12-18T17:12:57.561Z"
   },
   {
    "duration": 342,
    "start_time": "2022-12-18T17:13:08.143Z"
   },
   {
    "duration": 7,
    "start_time": "2022-12-18T17:13:08.789Z"
   },
   {
    "duration": 139,
    "start_time": "2022-12-18T17:13:36.391Z"
   },
   {
    "duration": 156,
    "start_time": "2022-12-18T17:13:47.287Z"
   },
   {
    "duration": 120,
    "start_time": "2022-12-18T17:13:53.702Z"
   },
   {
    "duration": 148,
    "start_time": "2022-12-18T17:13:59.256Z"
   },
   {
    "duration": 137,
    "start_time": "2022-12-18T17:14:29.589Z"
   },
   {
    "duration": 141,
    "start_time": "2022-12-18T17:14:37.974Z"
   },
   {
    "duration": 155,
    "start_time": "2022-12-18T17:14:52.506Z"
   },
   {
    "duration": 148,
    "start_time": "2022-12-18T17:15:11.291Z"
   },
   {
    "duration": 175,
    "start_time": "2022-12-18T17:15:46.827Z"
   },
   {
    "duration": 180,
    "start_time": "2022-12-18T17:16:19.544Z"
   },
   {
    "duration": 215,
    "start_time": "2022-12-18T17:16:30.570Z"
   },
   {
    "duration": 222,
    "start_time": "2022-12-18T17:16:39.662Z"
   },
   {
    "duration": 187,
    "start_time": "2022-12-18T17:17:10.158Z"
   },
   {
    "duration": 172,
    "start_time": "2022-12-18T17:17:19.109Z"
   },
   {
    "duration": 191,
    "start_time": "2022-12-18T17:17:24.847Z"
   },
   {
    "duration": 261,
    "start_time": "2022-12-18T17:17:47.443Z"
   },
   {
    "duration": 70,
    "start_time": "2022-12-18T17:18:41.511Z"
   },
   {
    "duration": 272,
    "start_time": "2022-12-18T17:19:08.889Z"
   },
   {
    "duration": 250,
    "start_time": "2022-12-18T17:19:38.021Z"
   },
   {
    "duration": 269,
    "start_time": "2022-12-18T17:19:51.808Z"
   },
   {
    "duration": 249,
    "start_time": "2022-12-18T17:21:06.993Z"
   },
   {
    "duration": 198,
    "start_time": "2022-12-18T17:21:45.643Z"
   },
   {
    "duration": 272,
    "start_time": "2022-12-18T17:21:55.268Z"
   },
   {
    "duration": 230,
    "start_time": "2022-12-18T17:22:03.618Z"
   },
   {
    "duration": 192,
    "start_time": "2022-12-18T17:22:20.620Z"
   },
   {
    "duration": 189,
    "start_time": "2022-12-18T17:22:26.527Z"
   },
   {
    "duration": 154,
    "start_time": "2022-12-18T17:22:32.359Z"
   },
   {
    "duration": 197,
    "start_time": "2022-12-18T17:22:42.189Z"
   },
   {
    "duration": 209,
    "start_time": "2022-12-18T17:23:05.350Z"
   },
   {
    "duration": 207,
    "start_time": "2022-12-18T17:23:16.946Z"
   },
   {
    "duration": 198,
    "start_time": "2022-12-18T17:23:30.026Z"
   },
   {
    "duration": 199,
    "start_time": "2022-12-18T17:24:27.216Z"
   },
   {
    "duration": 287,
    "start_time": "2022-12-18T17:25:03.670Z"
   },
   {
    "duration": 213,
    "start_time": "2022-12-18T17:25:38.515Z"
   },
   {
    "duration": 171,
    "start_time": "2022-12-18T17:25:50.147Z"
   },
   {
    "duration": 179,
    "start_time": "2022-12-18T17:26:08.852Z"
   },
   {
    "duration": 187,
    "start_time": "2022-12-18T17:26:28.236Z"
   },
   {
    "duration": 181,
    "start_time": "2022-12-18T17:26:36.991Z"
   },
   {
    "duration": 189,
    "start_time": "2022-12-18T17:26:49.385Z"
   },
   {
    "duration": 146,
    "start_time": "2022-12-18T17:27:05.707Z"
   },
   {
    "duration": 183,
    "start_time": "2022-12-18T17:27:20.553Z"
   },
   {
    "duration": 183,
    "start_time": "2022-12-18T17:27:32.854Z"
   },
   {
    "duration": 15,
    "start_time": "2022-12-18T17:27:59.320Z"
   },
   {
    "duration": 177,
    "start_time": "2022-12-18T17:28:17.746Z"
   },
   {
    "duration": 231,
    "start_time": "2022-12-18T17:28:59.403Z"
   },
   {
    "duration": 169,
    "start_time": "2022-12-18T17:29:06.176Z"
   },
   {
    "duration": 190,
    "start_time": "2022-12-18T17:30:03.969Z"
   },
   {
    "duration": 196,
    "start_time": "2022-12-18T17:30:18.367Z"
   },
   {
    "duration": 149,
    "start_time": "2022-12-18T17:30:55.336Z"
   },
   {
    "duration": 168,
    "start_time": "2022-12-18T17:31:01.071Z"
   },
   {
    "duration": 167,
    "start_time": "2022-12-18T17:31:32.541Z"
   },
   {
    "duration": 264,
    "start_time": "2022-12-18T17:31:37.819Z"
   },
   {
    "duration": 150,
    "start_time": "2022-12-18T17:32:12.541Z"
   },
   {
    "duration": 172,
    "start_time": "2022-12-18T17:32:29.625Z"
   },
   {
    "duration": 152,
    "start_time": "2022-12-18T17:33:23.120Z"
   },
   {
    "duration": 264,
    "start_time": "2022-12-18T17:42:55.900Z"
   },
   {
    "duration": 275,
    "start_time": "2022-12-18T17:43:31.847Z"
   },
   {
    "duration": 205,
    "start_time": "2022-12-18T17:43:39.419Z"
   },
   {
    "duration": 167,
    "start_time": "2022-12-18T17:55:09.599Z"
   },
   {
    "duration": 199,
    "start_time": "2022-12-18T17:55:48.467Z"
   },
   {
    "duration": 218,
    "start_time": "2022-12-18T17:57:53.486Z"
   },
   {
    "duration": 171,
    "start_time": "2022-12-18T18:04:00.284Z"
   },
   {
    "duration": 259,
    "start_time": "2022-12-18T18:04:18.266Z"
   },
   {
    "duration": 5,
    "start_time": "2022-12-18T18:04:51.112Z"
   },
   {
    "duration": 6,
    "start_time": "2022-12-18T18:04:59.566Z"
   },
   {
    "duration": 11,
    "start_time": "2022-12-18T18:05:31.296Z"
   },
   {
    "duration": 536,
    "start_time": "2022-12-18T18:37:13.656Z"
   },
   {
    "duration": 57,
    "start_time": "2022-12-18T18:37:15.274Z"
   },
   {
    "duration": 19,
    "start_time": "2022-12-18T18:37:16.134Z"
   },
   {
    "duration": 2233,
    "start_time": "2022-12-18T18:37:16.675Z"
   },
   {
    "duration": 149,
    "start_time": "2022-12-18T18:37:18.910Z"
   },
   {
    "duration": 140,
    "start_time": "2022-12-18T18:37:19.659Z"
   },
   {
    "duration": 150,
    "start_time": "2022-12-18T18:37:20.491Z"
   },
   {
    "duration": 11,
    "start_time": "2022-12-18T18:37:22.335Z"
   },
   {
    "duration": 12,
    "start_time": "2022-12-18T18:37:24.315Z"
   },
   {
    "duration": 717,
    "start_time": "2022-12-18T18:37:25.760Z"
   },
   {
    "duration": 4,
    "start_time": "2022-12-18T18:37:26.740Z"
   },
   {
    "duration": 4,
    "start_time": "2022-12-18T18:37:27.156Z"
   },
   {
    "duration": 4,
    "start_time": "2022-12-18T18:37:28.023Z"
   },
   {
    "duration": 6,
    "start_time": "2022-12-18T18:37:28.907Z"
   },
   {
    "duration": 9,
    "start_time": "2022-12-18T18:37:29.308Z"
   },
   {
    "duration": 6,
    "start_time": "2022-12-18T18:37:30.075Z"
   },
   {
    "duration": 6,
    "start_time": "2022-12-18T18:37:30.436Z"
   },
   {
    "duration": 6,
    "start_time": "2022-12-18T18:37:30.777Z"
   },
   {
    "duration": 5,
    "start_time": "2022-12-18T18:37:31.190Z"
   },
   {
    "duration": 45,
    "start_time": "2022-12-18T18:37:32.210Z"
   },
   {
    "duration": 10,
    "start_time": "2022-12-18T18:37:32.921Z"
   },
   {
    "duration": 6,
    "start_time": "2022-12-18T18:37:34.424Z"
   },
   {
    "duration": 13,
    "start_time": "2022-12-18T18:37:35.109Z"
   },
   {
    "duration": 6,
    "start_time": "2022-12-18T18:37:35.422Z"
   },
   {
    "duration": 5,
    "start_time": "2022-12-18T18:37:35.735Z"
   },
   {
    "duration": 7,
    "start_time": "2022-12-18T18:37:36.043Z"
   },
   {
    "duration": 23,
    "start_time": "2022-12-18T18:37:37.292Z"
   },
   {
    "duration": 26,
    "start_time": "2022-12-18T18:37:37.641Z"
   },
   {
    "duration": 282,
    "start_time": "2022-12-18T18:37:38.235Z"
   },
   {
    "duration": 25,
    "start_time": "2022-12-18T18:37:38.742Z"
   },
   {
    "duration": 18,
    "start_time": "2022-12-18T18:37:39.159Z"
   },
   {
    "duration": 12,
    "start_time": "2022-12-18T18:37:41.275Z"
   },
   {
    "duration": 178,
    "start_time": "2022-12-18T18:37:41.656Z"
   },
   {
    "duration": 19,
    "start_time": "2022-12-18T18:37:42.492Z"
   },
   {
    "duration": 118,
    "start_time": "2022-12-18T18:37:43.259Z"
   },
   {
    "duration": 13,
    "start_time": "2022-12-18T18:37:43.624Z"
   },
   {
    "duration": 12,
    "start_time": "2022-12-18T18:37:44.287Z"
   },
   {
    "duration": 175,
    "start_time": "2022-12-18T18:37:44.635Z"
   },
   {
    "duration": 8,
    "start_time": "2022-12-18T18:37:45.360Z"
   },
   {
    "duration": 211,
    "start_time": "2022-12-18T18:37:45.691Z"
   },
   {
    "duration": 14,
    "start_time": "2022-12-18T18:37:45.985Z"
   },
   {
    "duration": 9,
    "start_time": "2022-12-18T18:37:46.639Z"
   },
   {
    "duration": 173,
    "start_time": "2022-12-18T18:37:47.035Z"
   },
   {
    "duration": 7,
    "start_time": "2022-12-18T18:37:47.724Z"
   },
   {
    "duration": 131,
    "start_time": "2022-12-18T18:37:48.091Z"
   },
   {
    "duration": 11,
    "start_time": "2022-12-18T18:37:48.440Z"
   },
   {
    "duration": 12,
    "start_time": "2022-12-18T18:37:49.106Z"
   },
   {
    "duration": 173,
    "start_time": "2022-12-18T18:37:49.512Z"
   },
   {
    "duration": 10,
    "start_time": "2022-12-18T18:37:49.961Z"
   },
   {
    "duration": 168,
    "start_time": "2022-12-18T18:37:50.345Z"
   },
   {
    "duration": 15,
    "start_time": "2022-12-18T18:37:50.655Z"
   },
   {
    "duration": 154,
    "start_time": "2022-12-18T18:37:50.965Z"
   },
   {
    "duration": 13,
    "start_time": "2022-12-18T18:37:51.241Z"
   },
   {
    "duration": 202,
    "start_time": "2022-12-18T18:37:51.635Z"
   },
   {
    "duration": 194,
    "start_time": "2022-12-18T18:37:51.922Z"
   },
   {
    "duration": 187,
    "start_time": "2022-12-18T18:37:52.272Z"
   },
   {
    "duration": 11,
    "start_time": "2022-12-18T18:37:52.604Z"
   },
   {
    "duration": 13,
    "start_time": "2022-12-18T18:37:52.978Z"
   },
   {
    "duration": 12,
    "start_time": "2022-12-18T18:37:53.416Z"
   },
   {
    "duration": 20,
    "start_time": "2022-12-18T18:37:54.273Z"
   },
   {
    "duration": 4,
    "start_time": "2022-12-18T18:37:55.771Z"
   },
   {
    "duration": 7,
    "start_time": "2022-12-18T18:37:56.498Z"
   },
   {
    "duration": 6,
    "start_time": "2022-12-18T18:37:57.220Z"
   },
   {
    "duration": 5,
    "start_time": "2022-12-18T18:37:58.039Z"
   },
   {
    "duration": 460,
    "start_time": "2022-12-18T18:37:58.824Z"
   },
   {
    "duration": 6,
    "start_time": "2022-12-18T18:37:59.835Z"
   },
   {
    "duration": 22,
    "start_time": "2022-12-18T18:38:00.235Z"
   },
   {
    "duration": 32,
    "start_time": "2022-12-18T18:38:00.735Z"
   },
   {
    "duration": 273,
    "start_time": "2022-12-18T18:38:04.007Z"
   },
   {
    "duration": 420,
    "start_time": "2022-12-18T18:38:05.057Z"
   },
   {
    "duration": 196,
    "start_time": "2022-12-18T18:38:05.989Z"
   },
   {
    "duration": 277,
    "start_time": "2022-12-18T18:38:07.156Z"
   },
   {
    "duration": 193,
    "start_time": "2022-12-18T18:38:08.357Z"
   },
   {
    "duration": 181,
    "start_time": "2022-12-18T18:38:09.460Z"
   },
   {
    "duration": 203,
    "start_time": "2022-12-18T18:38:10.722Z"
   },
   {
    "duration": 120,
    "start_time": "2022-12-18T18:38:11.992Z"
   },
   {
    "duration": 178,
    "start_time": "2022-12-18T18:38:13.110Z"
   },
   {
    "duration": 240,
    "start_time": "2022-12-18T18:38:14.235Z"
   },
   {
    "duration": 331,
    "start_time": "2022-12-18T18:38:15.306Z"
   },
   {
    "duration": 190,
    "start_time": "2022-12-18T18:38:16.336Z"
   },
   {
    "duration": 162,
    "start_time": "2022-12-18T18:38:17.322Z"
   },
   {
    "duration": 215,
    "start_time": "2022-12-18T18:38:18.292Z"
   },
   {
    "duration": 281,
    "start_time": "2022-12-18T18:38:20.175Z"
   },
   {
    "duration": 10,
    "start_time": "2022-12-18T18:38:20.908Z"
   },
   {
    "duration": 7,
    "start_time": "2022-12-18T18:38:24.236Z"
   },
   {
    "duration": 7,
    "start_time": "2022-12-18T18:38:27.731Z"
   },
   {
    "duration": 7,
    "start_time": "2022-12-18T18:38:28.706Z"
   },
   {
    "duration": 6,
    "start_time": "2022-12-18T18:38:29.590Z"
   },
   {
    "duration": 426,
    "start_time": "2022-12-18T18:38:30.443Z"
   },
   {
    "duration": 8,
    "start_time": "2022-12-18T18:38:31.774Z"
   },
   {
    "duration": 6,
    "start_time": "2022-12-18T18:39:03.434Z"
   },
   {
    "duration": 5,
    "start_time": "2022-12-18T18:39:04.426Z"
   },
   {
    "duration": 183,
    "start_time": "2022-12-18T18:42:38.272Z"
   },
   {
    "duration": 148,
    "start_time": "2022-12-18T18:44:17.655Z"
   },
   {
    "duration": 176,
    "start_time": "2022-12-18T18:45:31.657Z"
   },
   {
    "duration": 176,
    "start_time": "2022-12-18T18:46:26.737Z"
   },
   {
    "duration": 2,
    "start_time": "2022-12-18T18:47:40.459Z"
   },
   {
    "duration": 181,
    "start_time": "2022-12-18T18:47:47.075Z"
   },
   {
    "duration": 25711,
    "start_time": "2022-12-18T18:48:43.855Z"
   },
   {
    "duration": 25512,
    "start_time": "2022-12-18T18:50:05.157Z"
   },
   {
    "duration": 25862,
    "start_time": "2022-12-18T18:51:48.788Z"
   },
   {
    "duration": 195,
    "start_time": "2022-12-18T18:52:37.609Z"
   },
   {
    "duration": 8,
    "start_time": "2022-12-18T18:54:29.938Z"
   },
   {
    "duration": 28083,
    "start_time": "2022-12-18T18:54:36.837Z"
   },
   {
    "duration": 23757,
    "start_time": "2022-12-18T18:55:28.891Z"
   },
   {
    "duration": 29,
    "start_time": "2022-12-18T18:56:43.407Z"
   },
   {
    "duration": 1270,
    "start_time": "2022-12-18T18:57:05.609Z"
   },
   {
    "duration": 195,
    "start_time": "2022-12-18T18:57:28.194Z"
   },
   {
    "duration": 199,
    "start_time": "2022-12-18T19:02:54.805Z"
   },
   {
    "duration": 190,
    "start_time": "2022-12-18T19:02:55.006Z"
   },
   {
    "duration": 208,
    "start_time": "2022-12-18T19:02:55.198Z"
   },
   {
    "duration": 516,
    "start_time": "2022-12-18T19:04:00.075Z"
   },
   {
    "duration": 50,
    "start_time": "2022-12-18T19:04:00.592Z"
   },
   {
    "duration": 15,
    "start_time": "2022-12-18T19:04:00.934Z"
   },
   {
    "duration": 2197,
    "start_time": "2022-12-18T19:04:01.338Z"
   },
   {
    "duration": 121,
    "start_time": "2022-12-18T19:04:03.537Z"
   },
   {
    "duration": 142,
    "start_time": "2022-12-18T19:04:03.659Z"
   },
   {
    "duration": 150,
    "start_time": "2022-12-18T19:04:03.803Z"
   },
   {
    "duration": 9,
    "start_time": "2022-12-18T19:04:03.955Z"
   },
   {
    "duration": 11,
    "start_time": "2022-12-18T19:04:04.016Z"
   },
   {
    "duration": 708,
    "start_time": "2022-12-18T19:04:04.601Z"
   },
   {
    "duration": 4,
    "start_time": "2022-12-18T19:04:05.311Z"
   },
   {
    "duration": 5,
    "start_time": "2022-12-18T19:04:05.322Z"
   },
   {
    "duration": 4,
    "start_time": "2022-12-18T19:04:05.540Z"
   },
   {
    "duration": 5,
    "start_time": "2022-12-18T19:04:05.901Z"
   },
   {
    "duration": 5,
    "start_time": "2022-12-18T19:04:06.084Z"
   },
   {
    "duration": 4,
    "start_time": "2022-12-18T19:04:06.504Z"
   },
   {
    "duration": 5,
    "start_time": "2022-12-18T19:04:06.666Z"
   },
   {
    "duration": 4,
    "start_time": "2022-12-18T19:04:06.852Z"
   },
   {
    "duration": 5,
    "start_time": "2022-12-18T19:04:07.051Z"
   },
   {
    "duration": 41,
    "start_time": "2022-12-18T19:04:07.669Z"
   },
   {
    "duration": 9,
    "start_time": "2022-12-18T19:04:08.051Z"
   },
   {
    "duration": 6,
    "start_time": "2022-12-18T19:04:08.818Z"
   },
   {
    "duration": 8,
    "start_time": "2022-12-18T19:04:09.184Z"
   },
   {
    "duration": 6,
    "start_time": "2022-12-18T19:04:09.365Z"
   },
   {
    "duration": 5,
    "start_time": "2022-12-18T19:04:09.722Z"
   },
   {
    "duration": 7,
    "start_time": "2022-12-18T19:04:09.887Z"
   },
   {
    "duration": 23,
    "start_time": "2022-12-18T19:04:10.684Z"
   },
   {
    "duration": 24,
    "start_time": "2022-12-18T19:04:10.866Z"
   },
   {
    "duration": 205,
    "start_time": "2022-12-18T19:04:11.251Z"
   },
   {
    "duration": 19,
    "start_time": "2022-12-18T19:04:11.458Z"
   },
   {
    "duration": 26,
    "start_time": "2022-12-18T19:04:11.599Z"
   },
   {
    "duration": 10,
    "start_time": "2022-12-18T19:04:12.706Z"
   },
   {
    "duration": 113,
    "start_time": "2022-12-18T19:04:12.883Z"
   },
   {
    "duration": 15,
    "start_time": "2022-12-18T19:04:13.284Z"
   },
   {
    "duration": 108,
    "start_time": "2022-12-18T19:04:13.685Z"
   },
   {
    "duration": 8,
    "start_time": "2022-12-18T19:04:13.917Z"
   },
   {
    "duration": 9,
    "start_time": "2022-12-18T19:04:14.274Z"
   },
   {
    "duration": 119,
    "start_time": "2022-12-18T19:04:14.467Z"
   },
   {
    "duration": 6,
    "start_time": "2022-12-18T19:04:14.867Z"
   },
   {
    "duration": 184,
    "start_time": "2022-12-18T19:04:15.068Z"
   },
   {
    "duration": 9,
    "start_time": "2022-12-18T19:04:15.270Z"
   },
   {
    "duration": 12,
    "start_time": "2022-12-18T19:04:15.668Z"
   },
   {
    "duration": 113,
    "start_time": "2022-12-18T19:04:15.867Z"
   },
   {
    "duration": 5,
    "start_time": "2022-12-18T19:04:16.268Z"
   },
   {
    "duration": 109,
    "start_time": "2022-12-18T19:04:16.435Z"
   },
   {
    "duration": 8,
    "start_time": "2022-12-18T19:04:16.616Z"
   },
   {
    "duration": 8,
    "start_time": "2022-12-18T19:04:17.054Z"
   },
   {
    "duration": 136,
    "start_time": "2022-12-18T19:04:17.236Z"
   },
   {
    "duration": 9,
    "start_time": "2022-12-18T19:04:17.432Z"
   },
   {
    "duration": 151,
    "start_time": "2022-12-18T19:04:17.634Z"
   },
   {
    "duration": 9,
    "start_time": "2022-12-18T19:04:17.799Z"
   },
   {
    "duration": 153,
    "start_time": "2022-12-18T19:04:18.018Z"
   },
   {
    "duration": 10,
    "start_time": "2022-12-18T19:04:18.219Z"
   },
   {
    "duration": 128,
    "start_time": "2022-12-18T19:04:18.400Z"
   },
   {
    "duration": 115,
    "start_time": "2022-12-18T19:04:18.587Z"
   },
   {
    "duration": 118,
    "start_time": "2022-12-18T19:04:18.766Z"
   },
   {
    "duration": 10,
    "start_time": "2022-12-18T19:04:18.965Z"
   },
   {
    "duration": 10,
    "start_time": "2022-12-18T19:04:19.183Z"
   },
   {
    "duration": 12,
    "start_time": "2022-12-18T19:04:19.402Z"
   },
   {
    "duration": 17,
    "start_time": "2022-12-18T19:04:19.785Z"
   },
   {
    "duration": 5,
    "start_time": "2022-12-18T19:04:20.934Z"
   },
   {
    "duration": 5,
    "start_time": "2022-12-18T19:04:21.317Z"
   },
   {
    "duration": 7,
    "start_time": "2022-12-18T19:04:21.737Z"
   },
   {
    "duration": 7,
    "start_time": "2022-12-18T19:04:22.120Z"
   },
   {
    "duration": 353,
    "start_time": "2022-12-18T19:04:22.517Z"
   },
   {
    "duration": 5,
    "start_time": "2022-12-18T19:04:22.934Z"
   },
   {
    "duration": 14,
    "start_time": "2022-12-18T19:04:23.135Z"
   },
   {
    "duration": 26,
    "start_time": "2022-12-18T19:04:23.334Z"
   },
   {
    "duration": 194,
    "start_time": "2022-12-18T19:04:24.206Z"
   },
   {
    "duration": 341,
    "start_time": "2022-12-18T19:04:25.108Z"
   },
   {
    "duration": 193,
    "start_time": "2022-12-18T19:04:26.688Z"
   },
   {
    "duration": 260,
    "start_time": "2022-12-18T19:04:27.187Z"
   },
   {
    "duration": 161,
    "start_time": "2022-12-18T19:04:27.735Z"
   },
   {
    "duration": 178,
    "start_time": "2022-12-18T19:04:28.151Z"
   },
   {
    "duration": 186,
    "start_time": "2022-12-18T19:04:28.584Z"
   },
   {
    "duration": 121,
    "start_time": "2022-12-18T19:04:29.018Z"
   },
   {
    "duration": 154,
    "start_time": "2022-12-18T19:04:29.452Z"
   },
   {
    "duration": 193,
    "start_time": "2022-12-18T19:04:29.868Z"
   },
   {
    "duration": 335,
    "start_time": "2022-12-18T19:04:30.268Z"
   },
   {
    "duration": 207,
    "start_time": "2022-12-18T19:04:30.717Z"
   },
   {
    "duration": 143,
    "start_time": "2022-12-18T19:04:31.136Z"
   },
   {
    "duration": 139,
    "start_time": "2022-12-18T19:04:31.671Z"
   },
   {
    "duration": 247,
    "start_time": "2022-12-18T19:04:33.157Z"
   },
   {
    "duration": 9,
    "start_time": "2022-12-18T19:04:33.471Z"
   },
   {
    "duration": 3,
    "start_time": "2022-12-18T19:04:34.338Z"
   },
   {
    "duration": 175,
    "start_time": "2022-12-18T19:04:34.654Z"
   },
   {
    "duration": 189,
    "start_time": "2022-12-18T19:04:35.020Z"
   },
   {
    "duration": 5,
    "start_time": "2022-12-18T19:04:35.302Z"
   },
   {
    "duration": 189,
    "start_time": "2022-12-18T19:04:35.553Z"
   },
   {
    "duration": 9,
    "start_time": "2022-12-18T19:04:35.823Z"
   },
   {
    "duration": 174,
    "start_time": "2022-12-18T19:04:36.070Z"
   },
   {
    "duration": 5,
    "start_time": "2022-12-18T19:04:36.335Z"
   },
   {
    "duration": 182,
    "start_time": "2022-12-18T19:04:36.606Z"
   },
   {
    "duration": 6,
    "start_time": "2022-12-18T19:04:36.834Z"
   },
   {
    "duration": 130,
    "start_time": "2022-12-18T19:04:37.068Z"
   },
   {
    "duration": 377,
    "start_time": "2022-12-18T19:04:37.320Z"
   },
   {
    "duration": 0,
    "start_time": "2022-12-18T19:04:37.698Z"
   },
   {
    "duration": 5,
    "start_time": "2022-12-18T19:04:37.739Z"
   },
   {
    "duration": 164,
    "start_time": "2022-12-18T19:04:38.039Z"
   },
   {
    "duration": 6,
    "start_time": "2022-12-18T19:04:38.251Z"
   },
   {
    "duration": 172,
    "start_time": "2022-12-18T19:04:38.467Z"
   },
   {
    "duration": 5,
    "start_time": "2022-12-18T19:04:38.685Z"
   },
   {
    "duration": 169,
    "start_time": "2022-12-18T19:05:02.853Z"
   },
   {
    "duration": 194,
    "start_time": "2022-12-18T19:06:00.324Z"
   },
   {
    "duration": 315,
    "start_time": "2022-12-18T19:06:07.040Z"
   },
   {
    "duration": 180,
    "start_time": "2022-12-18T19:06:54.942Z"
   },
   {
    "duration": 207,
    "start_time": "2022-12-18T19:10:22.554Z"
   },
   {
    "duration": 266146,
    "start_time": "2022-12-18T19:12:31.857Z"
   },
   {
    "duration": 0,
    "start_time": "2022-12-18T19:16:58.005Z"
   },
   {
    "duration": 2813,
    "start_time": "2022-12-18T19:16:58.430Z"
   },
   {
    "duration": 13,
    "start_time": "2022-12-18T19:17:25.087Z"
   },
   {
    "duration": 15,
    "start_time": "2022-12-18T19:18:08.108Z"
   },
   {
    "duration": 12,
    "start_time": "2022-12-18T19:19:13.524Z"
   },
   {
    "duration": 145,
    "start_time": "2022-12-18T19:20:02.608Z"
   },
   {
    "duration": 164,
    "start_time": "2022-12-18T19:20:44.639Z"
   },
   {
    "duration": 134,
    "start_time": "2022-12-18T19:21:28.508Z"
   },
   {
    "duration": 148,
    "start_time": "2022-12-18T19:44:16.351Z"
   },
   {
    "duration": 173,
    "start_time": "2022-12-18T19:44:29.217Z"
   },
   {
    "duration": 165,
    "start_time": "2022-12-18T19:44:35.002Z"
   },
   {
    "duration": 8,
    "start_time": "2022-12-18T19:55:41.166Z"
   },
   {
    "duration": 14,
    "start_time": "2022-12-18T20:05:28.104Z"
   },
   {
    "duration": 27,
    "start_time": "2022-12-18T20:05:28.119Z"
   },
   {
    "duration": 14,
    "start_time": "2022-12-18T20:05:42.236Z"
   },
   {
    "duration": 12,
    "start_time": "2022-12-18T20:06:14.768Z"
   },
   {
    "duration": 12,
    "start_time": "2022-12-18T20:06:40.823Z"
   },
   {
    "duration": 9,
    "start_time": "2022-12-18T20:08:00.095Z"
   },
   {
    "duration": 16,
    "start_time": "2022-12-18T20:08:45.072Z"
   },
   {
    "duration": 14,
    "start_time": "2022-12-18T20:08:55.383Z"
   },
   {
    "duration": 14,
    "start_time": "2022-12-18T20:10:34.901Z"
   },
   {
    "duration": 9,
    "start_time": "2022-12-18T20:10:35.679Z"
   },
   {
    "duration": 11,
    "start_time": "2022-12-18T20:11:18.016Z"
   },
   {
    "duration": 14,
    "start_time": "2022-12-18T20:11:31.654Z"
   },
   {
    "duration": 8,
    "start_time": "2022-12-18T20:11:41.487Z"
   },
   {
    "duration": 9,
    "start_time": "2022-12-18T20:12:07.668Z"
   },
   {
    "duration": 9,
    "start_time": "2022-12-18T20:12:12.218Z"
   },
   {
    "duration": 8,
    "start_time": "2022-12-18T20:12:47.704Z"
   },
   {
    "duration": 20,
    "start_time": "2022-12-18T20:13:24.803Z"
   },
   {
    "duration": 19,
    "start_time": "2022-12-18T20:14:56.887Z"
   },
   {
    "duration": 17,
    "start_time": "2022-12-18T20:15:13.923Z"
   },
   {
    "duration": 21,
    "start_time": "2022-12-18T20:25:47.123Z"
   },
   {
    "duration": 20,
    "start_time": "2022-12-18T20:26:03.046Z"
   },
   {
    "duration": 31,
    "start_time": "2022-12-18T20:26:08.364Z"
   },
   {
    "duration": 32,
    "start_time": "2022-12-18T20:26:19.732Z"
   },
   {
    "duration": 19,
    "start_time": "2022-12-18T20:26:33.249Z"
   },
   {
    "duration": 23,
    "start_time": "2022-12-18T20:34:32.906Z"
   },
   {
    "duration": 30,
    "start_time": "2022-12-18T20:36:04.048Z"
   },
   {
    "duration": 8,
    "start_time": "2022-12-18T20:36:27.128Z"
   },
   {
    "duration": 3,
    "start_time": "2022-12-18T20:40:51.680Z"
   },
   {
    "duration": 1148,
    "start_time": "2022-12-18T20:41:02.360Z"
   },
   {
    "duration": 87,
    "start_time": "2022-12-18T20:43:51.029Z"
   },
   {
    "duration": 63,
    "start_time": "2022-12-18T20:44:08.141Z"
   },
   {
    "duration": 12,
    "start_time": "2022-12-18T20:44:24.175Z"
   },
   {
    "duration": 10,
    "start_time": "2022-12-18T20:44:40.250Z"
   },
   {
    "duration": 26,
    "start_time": "2022-12-18T20:46:41.732Z"
   },
   {
    "duration": 29,
    "start_time": "2022-12-18T20:46:58.810Z"
   },
   {
    "duration": 41,
    "start_time": "2022-12-18T20:47:03.762Z"
   },
   {
    "duration": 23,
    "start_time": "2022-12-18T20:47:40.145Z"
   },
   {
    "duration": 11,
    "start_time": "2022-12-18T20:47:43.631Z"
   },
   {
    "duration": 11,
    "start_time": "2022-12-18T20:47:55.536Z"
   },
   {
    "duration": 14,
    "start_time": "2022-12-18T20:49:14.080Z"
   },
   {
    "duration": 13,
    "start_time": "2022-12-18T20:49:27.233Z"
   },
   {
    "duration": 69,
    "start_time": "2022-12-18T20:52:34.655Z"
   },
   {
    "duration": 1173,
    "start_time": "2022-12-18T20:52:44.478Z"
   },
   {
    "duration": 1093,
    "start_time": "2022-12-18T20:52:53.545Z"
   },
   {
    "duration": 1140,
    "start_time": "2022-12-18T20:53:53.233Z"
   },
   {
    "duration": 1165,
    "start_time": "2022-12-18T20:54:01.536Z"
   },
   {
    "duration": 20,
    "start_time": "2022-12-18T20:54:16.858Z"
   },
   {
    "duration": 26,
    "start_time": "2022-12-18T20:54:24.061Z"
   },
   {
    "duration": 11,
    "start_time": "2022-12-18T20:55:57.893Z"
   },
   {
    "duration": 7,
    "start_time": "2022-12-18T20:56:03.838Z"
   },
   {
    "duration": 469,
    "start_time": "2022-12-18T20:56:28.473Z"
   },
   {
    "duration": 43,
    "start_time": "2022-12-18T20:56:28.944Z"
   },
   {
    "duration": 14,
    "start_time": "2022-12-18T20:56:28.988Z"
   },
   {
    "duration": 2308,
    "start_time": "2022-12-18T20:56:29.022Z"
   },
   {
    "duration": 139,
    "start_time": "2022-12-18T20:56:31.335Z"
   },
   {
    "duration": 161,
    "start_time": "2022-12-18T20:56:31.476Z"
   },
   {
    "duration": 165,
    "start_time": "2022-12-18T20:56:31.639Z"
   },
   {
    "duration": 19,
    "start_time": "2022-12-18T20:56:31.807Z"
   },
   {
    "duration": 40,
    "start_time": "2022-12-18T20:56:31.829Z"
   },
   {
    "duration": 690,
    "start_time": "2022-12-18T20:56:31.871Z"
   },
   {
    "duration": 3,
    "start_time": "2022-12-18T20:56:32.563Z"
   },
   {
    "duration": 23,
    "start_time": "2022-12-18T20:56:32.567Z"
   },
   {
    "duration": 4,
    "start_time": "2022-12-18T20:56:32.592Z"
   },
   {
    "duration": 12,
    "start_time": "2022-12-18T20:56:32.598Z"
   },
   {
    "duration": 41,
    "start_time": "2022-12-18T20:56:32.612Z"
   },
   {
    "duration": 22,
    "start_time": "2022-12-18T20:56:32.655Z"
   },
   {
    "duration": 20,
    "start_time": "2022-12-18T20:56:32.679Z"
   },
   {
    "duration": 9,
    "start_time": "2022-12-18T20:56:32.701Z"
   },
   {
    "duration": 28,
    "start_time": "2022-12-18T20:56:32.711Z"
   },
   {
    "duration": 38,
    "start_time": "2022-12-18T20:56:32.741Z"
   },
   {
    "duration": 8,
    "start_time": "2022-12-18T20:56:32.780Z"
   },
   {
    "duration": 15,
    "start_time": "2022-12-18T20:56:32.789Z"
   },
   {
    "duration": 29,
    "start_time": "2022-12-18T20:56:32.806Z"
   },
   {
    "duration": 29,
    "start_time": "2022-12-18T20:56:32.837Z"
   },
   {
    "duration": 7,
    "start_time": "2022-12-18T20:56:32.868Z"
   },
   {
    "duration": 13,
    "start_time": "2022-12-18T20:56:32.876Z"
   },
   {
    "duration": 28,
    "start_time": "2022-12-18T20:56:32.891Z"
   },
   {
    "duration": 35,
    "start_time": "2022-12-18T20:56:32.920Z"
   },
   {
    "duration": 210,
    "start_time": "2022-12-18T20:56:32.957Z"
   },
   {
    "duration": 17,
    "start_time": "2022-12-18T20:56:33.168Z"
   },
   {
    "duration": 48,
    "start_time": "2022-12-18T20:56:33.186Z"
   },
   {
    "duration": 21,
    "start_time": "2022-12-18T20:56:33.236Z"
   },
   {
    "duration": 121,
    "start_time": "2022-12-18T20:56:33.259Z"
   },
   {
    "duration": 13,
    "start_time": "2022-12-18T20:56:33.382Z"
   },
   {
    "duration": 117,
    "start_time": "2022-12-18T20:56:33.396Z"
   },
   {
    "duration": 17,
    "start_time": "2022-12-18T20:56:33.521Z"
   },
   {
    "duration": 10,
    "start_time": "2022-12-18T20:56:33.540Z"
   },
   {
    "duration": 143,
    "start_time": "2022-12-18T20:56:33.552Z"
   },
   {
    "duration": 7,
    "start_time": "2022-12-18T20:56:33.696Z"
   },
   {
    "duration": 232,
    "start_time": "2022-12-18T20:56:33.705Z"
   },
   {
    "duration": 10,
    "start_time": "2022-12-18T20:56:33.941Z"
   },
   {
    "duration": 9,
    "start_time": "2022-12-18T20:56:33.952Z"
   },
   {
    "duration": 143,
    "start_time": "2022-12-18T20:56:33.963Z"
   },
   {
    "duration": 7,
    "start_time": "2022-12-18T20:56:34.108Z"
   },
   {
    "duration": 159,
    "start_time": "2022-12-18T20:56:34.117Z"
   },
   {
    "duration": 10,
    "start_time": "2022-12-18T20:56:34.278Z"
   },
   {
    "duration": 13,
    "start_time": "2022-12-18T20:56:34.289Z"
   },
   {
    "duration": 162,
    "start_time": "2022-12-18T20:56:34.305Z"
   },
   {
    "duration": 9,
    "start_time": "2022-12-18T20:56:34.469Z"
   },
   {
    "duration": 181,
    "start_time": "2022-12-18T20:56:34.479Z"
   },
   {
    "duration": 8,
    "start_time": "2022-12-18T20:56:34.662Z"
   },
   {
    "duration": 151,
    "start_time": "2022-12-18T20:56:34.671Z"
   },
   {
    "duration": 11,
    "start_time": "2022-12-18T20:56:34.828Z"
   },
   {
    "duration": 129,
    "start_time": "2022-12-18T20:56:34.840Z"
   },
   {
    "duration": 138,
    "start_time": "2022-12-18T20:56:34.971Z"
   },
   {
    "duration": 138,
    "start_time": "2022-12-18T20:56:35.111Z"
   },
   {
    "duration": 9,
    "start_time": "2022-12-18T20:56:35.250Z"
   },
   {
    "duration": 8,
    "start_time": "2022-12-18T20:56:35.261Z"
   },
   {
    "duration": 7,
    "start_time": "2022-12-18T20:56:35.271Z"
   },
   {
    "duration": 11,
    "start_time": "2022-12-18T20:56:35.280Z"
   },
   {
    "duration": 40,
    "start_time": "2022-12-18T20:56:35.293Z"
   },
   {
    "duration": 10,
    "start_time": "2022-12-18T20:56:35.335Z"
   },
   {
    "duration": 5,
    "start_time": "2022-12-18T20:56:35.347Z"
   },
   {
    "duration": 5,
    "start_time": "2022-12-18T20:56:35.353Z"
   },
   {
    "duration": 384,
    "start_time": "2022-12-18T20:56:35.360Z"
   },
   {
    "duration": 4,
    "start_time": "2022-12-18T20:56:35.746Z"
   },
   {
    "duration": 18,
    "start_time": "2022-12-18T20:56:35.751Z"
   },
   {
    "duration": 30,
    "start_time": "2022-12-18T20:56:35.770Z"
   },
   {
    "duration": 306,
    "start_time": "2022-12-18T20:56:35.802Z"
   },
   {
    "duration": 270,
    "start_time": "2022-12-18T20:56:36.109Z"
   },
   {
    "duration": 206,
    "start_time": "2022-12-18T20:56:36.381Z"
   },
   {
    "duration": 327,
    "start_time": "2022-12-18T20:56:36.589Z"
   },
   {
    "duration": 177,
    "start_time": "2022-12-18T20:56:36.917Z"
   },
   {
    "duration": 218,
    "start_time": "2022-12-18T20:56:37.095Z"
   },
   {
    "duration": 207,
    "start_time": "2022-12-18T20:56:37.315Z"
   },
   {
    "duration": 145,
    "start_time": "2022-12-18T20:56:37.523Z"
   },
   {
    "duration": 219,
    "start_time": "2022-12-18T20:56:37.670Z"
   },
   {
    "duration": 330,
    "start_time": "2022-12-18T20:56:37.892Z"
   },
   {
    "duration": 244,
    "start_time": "2022-12-18T20:56:38.223Z"
   },
   {
    "duration": 219,
    "start_time": "2022-12-18T20:56:38.469Z"
   },
   {
    "duration": 195,
    "start_time": "2022-12-18T20:56:38.690Z"
   },
   {
    "duration": 166,
    "start_time": "2022-12-18T20:56:38.887Z"
   },
   {
    "duration": 282,
    "start_time": "2022-12-18T20:56:39.055Z"
   },
   {
    "duration": 9,
    "start_time": "2022-12-18T20:56:39.339Z"
   },
   {
    "duration": 7,
    "start_time": "2022-12-18T20:56:39.350Z"
   },
   {
    "duration": 204,
    "start_time": "2022-12-18T20:56:39.359Z"
   },
   {
    "duration": 6,
    "start_time": "2022-12-18T20:56:39.565Z"
   },
   {
    "duration": 207,
    "start_time": "2022-12-18T20:56:39.573Z"
   },
   {
    "duration": 6,
    "start_time": "2022-12-18T20:56:39.783Z"
   },
   {
    "duration": 220,
    "start_time": "2022-12-18T20:56:39.790Z"
   },
   {
    "duration": 14,
    "start_time": "2022-12-18T20:56:40.012Z"
   },
   {
    "duration": 211,
    "start_time": "2022-12-18T20:56:40.028Z"
   },
   {
    "duration": 7,
    "start_time": "2022-12-18T20:56:40.241Z"
   },
   {
    "duration": 155,
    "start_time": "2022-12-18T20:56:40.250Z"
   },
   {
    "duration": 68,
    "start_time": "2022-12-18T20:56:40.407Z"
   },
   {
    "duration": 0,
    "start_time": "2022-12-18T20:56:40.476Z"
   },
   {
    "duration": 0,
    "start_time": "2022-12-18T20:56:40.478Z"
   },
   {
    "duration": 0,
    "start_time": "2022-12-18T20:56:40.479Z"
   },
   {
    "duration": 0,
    "start_time": "2022-12-18T20:56:40.480Z"
   },
   {
    "duration": 0,
    "start_time": "2022-12-18T20:56:40.481Z"
   },
   {
    "duration": 0,
    "start_time": "2022-12-18T20:56:40.483Z"
   },
   {
    "duration": 0,
    "start_time": "2022-12-18T20:56:40.484Z"
   },
   {
    "duration": 0,
    "start_time": "2022-12-18T20:56:40.485Z"
   },
   {
    "duration": 0,
    "start_time": "2022-12-18T20:56:40.486Z"
   },
   {
    "duration": 0,
    "start_time": "2022-12-18T20:56:40.487Z"
   },
   {
    "duration": 0,
    "start_time": "2022-12-18T20:56:40.488Z"
   },
   {
    "duration": 0,
    "start_time": "2022-12-18T20:56:40.489Z"
   },
   {
    "duration": 533,
    "start_time": "2022-12-18T20:56:59.801Z"
   },
   {
    "duration": 47,
    "start_time": "2022-12-18T20:57:00.336Z"
   },
   {
    "duration": 15,
    "start_time": "2022-12-18T20:57:00.385Z"
   },
   {
    "duration": 2484,
    "start_time": "2022-12-18T20:57:00.403Z"
   },
   {
    "duration": 130,
    "start_time": "2022-12-18T20:57:02.889Z"
   },
   {
    "duration": 168,
    "start_time": "2022-12-18T20:57:03.021Z"
   },
   {
    "duration": 171,
    "start_time": "2022-12-18T20:57:03.191Z"
   },
   {
    "duration": 9,
    "start_time": "2022-12-18T20:57:03.364Z"
   },
   {
    "duration": 22,
    "start_time": "2022-12-18T20:57:03.375Z"
   },
   {
    "duration": 732,
    "start_time": "2022-12-18T20:57:03.399Z"
   },
   {
    "duration": 6,
    "start_time": "2022-12-18T20:57:04.133Z"
   },
   {
    "duration": 25,
    "start_time": "2022-12-18T20:57:04.140Z"
   },
   {
    "duration": 14,
    "start_time": "2022-12-18T20:57:04.167Z"
   },
   {
    "duration": 13,
    "start_time": "2022-12-18T20:57:04.184Z"
   },
   {
    "duration": 17,
    "start_time": "2022-12-18T20:57:04.199Z"
   },
   {
    "duration": 38,
    "start_time": "2022-12-18T20:57:04.218Z"
   },
   {
    "duration": 11,
    "start_time": "2022-12-18T20:57:04.258Z"
   },
   {
    "duration": 19,
    "start_time": "2022-12-18T20:57:04.272Z"
   },
   {
    "duration": 20,
    "start_time": "2022-12-18T20:57:04.293Z"
   },
   {
    "duration": 69,
    "start_time": "2022-12-18T20:57:04.315Z"
   },
   {
    "duration": 12,
    "start_time": "2022-12-18T20:57:04.385Z"
   },
   {
    "duration": 11,
    "start_time": "2022-12-18T20:57:04.400Z"
   },
   {
    "duration": 21,
    "start_time": "2022-12-18T20:57:04.413Z"
   },
   {
    "duration": 16,
    "start_time": "2022-12-18T20:57:04.437Z"
   },
   {
    "duration": 7,
    "start_time": "2022-12-18T20:57:04.455Z"
   },
   {
    "duration": 9,
    "start_time": "2022-12-18T20:57:04.464Z"
   },
   {
    "duration": 27,
    "start_time": "2022-12-18T20:57:04.475Z"
   },
   {
    "duration": 24,
    "start_time": "2022-12-18T20:57:04.509Z"
   },
   {
    "duration": 271,
    "start_time": "2022-12-18T20:57:04.537Z"
   },
   {
    "duration": 32,
    "start_time": "2022-12-18T20:57:04.810Z"
   },
   {
    "duration": 17,
    "start_time": "2022-12-18T20:57:04.844Z"
   },
   {
    "duration": 8,
    "start_time": "2022-12-18T20:57:04.863Z"
   },
   {
    "duration": 147,
    "start_time": "2022-12-18T20:57:04.873Z"
   },
   {
    "duration": 18,
    "start_time": "2022-12-18T20:57:05.024Z"
   },
   {
    "duration": 136,
    "start_time": "2022-12-18T20:57:05.044Z"
   },
   {
    "duration": 8,
    "start_time": "2022-12-18T20:57:05.182Z"
   },
   {
    "duration": 7,
    "start_time": "2022-12-18T20:57:05.192Z"
   },
   {
    "duration": 155,
    "start_time": "2022-12-18T20:57:05.201Z"
   },
   {
    "duration": 7,
    "start_time": "2022-12-18T20:57:05.358Z"
   },
   {
    "duration": 232,
    "start_time": "2022-12-18T20:57:05.366Z"
   },
   {
    "duration": 9,
    "start_time": "2022-12-18T20:57:05.600Z"
   },
   {
    "duration": 27,
    "start_time": "2022-12-18T20:57:05.611Z"
   },
   {
    "duration": 129,
    "start_time": "2022-12-18T20:57:05.640Z"
   },
   {
    "duration": 7,
    "start_time": "2022-12-18T20:57:05.770Z"
   },
   {
    "duration": 149,
    "start_time": "2022-12-18T20:57:05.778Z"
   },
   {
    "duration": 9,
    "start_time": "2022-12-18T20:57:05.936Z"
   },
   {
    "duration": 10,
    "start_time": "2022-12-18T20:57:05.946Z"
   },
   {
    "duration": 149,
    "start_time": "2022-12-18T20:57:05.958Z"
   },
   {
    "duration": 26,
    "start_time": "2022-12-18T20:57:06.109Z"
   },
   {
    "duration": 161,
    "start_time": "2022-12-18T20:57:06.136Z"
   },
   {
    "duration": 10,
    "start_time": "2022-12-18T20:57:06.298Z"
   },
   {
    "duration": 161,
    "start_time": "2022-12-18T20:57:06.309Z"
   },
   {
    "duration": 12,
    "start_time": "2022-12-18T20:57:06.472Z"
   },
   {
    "duration": 171,
    "start_time": "2022-12-18T20:57:06.485Z"
   },
   {
    "duration": 160,
    "start_time": "2022-12-18T20:57:06.658Z"
   },
   {
    "duration": 186,
    "start_time": "2022-12-18T20:57:06.820Z"
   },
   {
    "duration": 24,
    "start_time": "2022-12-18T20:57:07.007Z"
   },
   {
    "duration": 12,
    "start_time": "2022-12-18T20:57:07.035Z"
   },
   {
    "duration": 10,
    "start_time": "2022-12-18T20:57:07.049Z"
   },
   {
    "duration": 12,
    "start_time": "2022-12-18T20:57:07.061Z"
   },
   {
    "duration": 3,
    "start_time": "2022-12-18T20:57:07.076Z"
   },
   {
    "duration": 12,
    "start_time": "2022-12-18T20:57:07.081Z"
   },
   {
    "duration": 10,
    "start_time": "2022-12-18T20:57:07.095Z"
   },
   {
    "duration": 9,
    "start_time": "2022-12-18T20:57:07.128Z"
   },
   {
    "duration": 364,
    "start_time": "2022-12-18T20:57:07.141Z"
   },
   {
    "duration": 5,
    "start_time": "2022-12-18T20:57:07.506Z"
   },
   {
    "duration": 36,
    "start_time": "2022-12-18T20:57:07.513Z"
   },
   {
    "duration": 23,
    "start_time": "2022-12-18T20:57:07.551Z"
   },
   {
    "duration": 208,
    "start_time": "2022-12-18T20:57:07.575Z"
   },
   {
    "duration": 437,
    "start_time": "2022-12-18T20:57:07.785Z"
   },
   {
    "duration": 227,
    "start_time": "2022-12-18T20:57:08.237Z"
   },
   {
    "duration": 285,
    "start_time": "2022-12-18T20:57:08.465Z"
   },
   {
    "duration": 194,
    "start_time": "2022-12-18T20:57:08.752Z"
   },
   {
    "duration": 234,
    "start_time": "2022-12-18T20:57:08.948Z"
   },
   {
    "duration": 214,
    "start_time": "2022-12-18T20:57:09.183Z"
   },
   {
    "duration": 147,
    "start_time": "2022-12-18T20:57:09.399Z"
   },
   {
    "duration": 195,
    "start_time": "2022-12-18T20:57:09.548Z"
   },
   {
    "duration": 223,
    "start_time": "2022-12-18T20:57:09.744Z"
   },
   {
    "duration": 345,
    "start_time": "2022-12-18T20:57:09.968Z"
   },
   {
    "duration": 217,
    "start_time": "2022-12-18T20:57:10.321Z"
   },
   {
    "duration": 171,
    "start_time": "2022-12-18T20:57:10.540Z"
   },
   {
    "duration": 153,
    "start_time": "2022-12-18T20:57:10.722Z"
   },
   {
    "duration": 285,
    "start_time": "2022-12-18T20:57:10.877Z"
   },
   {
    "duration": 8,
    "start_time": "2022-12-18T20:57:11.164Z"
   },
   {
    "duration": 2,
    "start_time": "2022-12-18T20:57:11.174Z"
   },
   {
    "duration": 229,
    "start_time": "2022-12-18T20:57:11.177Z"
   },
   {
    "duration": 14,
    "start_time": "2022-12-18T20:57:11.408Z"
   },
   {
    "duration": 222,
    "start_time": "2022-12-18T20:57:11.425Z"
   },
   {
    "duration": 10,
    "start_time": "2022-12-18T20:57:11.649Z"
   },
   {
    "duration": 216,
    "start_time": "2022-12-18T20:57:11.661Z"
   },
   {
    "duration": 7,
    "start_time": "2022-12-18T20:57:11.879Z"
   },
   {
    "duration": 215,
    "start_time": "2022-12-18T20:57:11.888Z"
   },
   {
    "duration": 5,
    "start_time": "2022-12-18T20:57:12.105Z"
   },
   {
    "duration": 152,
    "start_time": "2022-12-18T20:57:12.111Z"
   },
   {
    "duration": 172,
    "start_time": "2022-12-18T20:57:12.265Z"
   },
   {
    "duration": 5,
    "start_time": "2022-12-18T20:57:12.440Z"
   },
   {
    "duration": 200,
    "start_time": "2022-12-18T20:57:12.447Z"
   },
   {
    "duration": 5,
    "start_time": "2022-12-18T20:57:12.649Z"
   },
   {
    "duration": 166,
    "start_time": "2022-12-18T20:57:12.656Z"
   },
   {
    "duration": 10,
    "start_time": "2022-12-18T20:57:12.823Z"
   },
   {
    "duration": 110,
    "start_time": "2022-12-18T20:57:12.838Z"
   },
   {
    "duration": 0,
    "start_time": "2022-12-18T20:57:12.949Z"
   },
   {
    "duration": 0,
    "start_time": "2022-12-18T20:57:12.951Z"
   },
   {
    "duration": 0,
    "start_time": "2022-12-18T20:57:12.953Z"
   },
   {
    "duration": 0,
    "start_time": "2022-12-18T20:57:12.954Z"
   },
   {
    "duration": 0,
    "start_time": "2022-12-18T20:57:12.956Z"
   },
   {
    "duration": 523,
    "start_time": "2022-12-18T20:57:56.092Z"
   },
   {
    "duration": 53,
    "start_time": "2022-12-18T20:57:56.617Z"
   },
   {
    "duration": 15,
    "start_time": "2022-12-18T20:57:56.671Z"
   },
   {
    "duration": 2307,
    "start_time": "2022-12-18T20:57:56.688Z"
   },
   {
    "duration": 145,
    "start_time": "2022-12-18T20:57:58.997Z"
   },
   {
    "duration": 140,
    "start_time": "2022-12-18T20:57:59.144Z"
   },
   {
    "duration": 155,
    "start_time": "2022-12-18T20:57:59.285Z"
   },
   {
    "duration": 9,
    "start_time": "2022-12-18T20:57:59.442Z"
   },
   {
    "duration": 11,
    "start_time": "2022-12-18T20:57:59.452Z"
   },
   {
    "duration": 733,
    "start_time": "2022-12-18T20:57:59.466Z"
   },
   {
    "duration": 3,
    "start_time": "2022-12-18T20:58:00.201Z"
   },
   {
    "duration": 39,
    "start_time": "2022-12-18T20:58:00.206Z"
   },
   {
    "duration": 28,
    "start_time": "2022-12-18T20:58:00.247Z"
   },
   {
    "duration": 19,
    "start_time": "2022-12-18T20:58:00.277Z"
   },
   {
    "duration": 29,
    "start_time": "2022-12-18T20:58:00.297Z"
   },
   {
    "duration": 38,
    "start_time": "2022-12-18T20:58:00.327Z"
   },
   {
    "duration": 23,
    "start_time": "2022-12-18T20:58:00.367Z"
   },
   {
    "duration": 48,
    "start_time": "2022-12-18T20:58:00.392Z"
   },
   {
    "duration": 33,
    "start_time": "2022-12-18T20:58:00.442Z"
   },
   {
    "duration": 61,
    "start_time": "2022-12-18T20:58:00.476Z"
   },
   {
    "duration": 7,
    "start_time": "2022-12-18T20:58:00.539Z"
   },
   {
    "duration": 10,
    "start_time": "2022-12-18T20:58:00.548Z"
   },
   {
    "duration": 25,
    "start_time": "2022-12-18T20:58:00.559Z"
   },
   {
    "duration": 34,
    "start_time": "2022-12-18T20:58:00.585Z"
   },
   {
    "duration": 30,
    "start_time": "2022-12-18T20:58:00.621Z"
   },
   {
    "duration": 8,
    "start_time": "2022-12-18T20:58:00.653Z"
   },
   {
    "duration": 34,
    "start_time": "2022-12-18T20:58:00.662Z"
   },
   {
    "duration": 16,
    "start_time": "2022-12-18T20:58:00.701Z"
   },
   {
    "duration": 226,
    "start_time": "2022-12-18T20:58:00.718Z"
   },
   {
    "duration": 16,
    "start_time": "2022-12-18T20:58:00.945Z"
   },
   {
    "duration": 28,
    "start_time": "2022-12-18T20:58:00.962Z"
   },
   {
    "duration": 12,
    "start_time": "2022-12-18T20:58:00.992Z"
   },
   {
    "duration": 127,
    "start_time": "2022-12-18T20:58:01.005Z"
   },
   {
    "duration": 21,
    "start_time": "2022-12-18T20:58:01.134Z"
   },
   {
    "duration": 156,
    "start_time": "2022-12-18T20:58:01.157Z"
   },
   {
    "duration": 28,
    "start_time": "2022-12-18T20:58:01.315Z"
   },
   {
    "duration": 18,
    "start_time": "2022-12-18T20:58:01.344Z"
   },
   {
    "duration": 139,
    "start_time": "2022-12-18T20:58:01.364Z"
   },
   {
    "duration": 19,
    "start_time": "2022-12-18T20:58:01.505Z"
   },
   {
    "duration": 229,
    "start_time": "2022-12-18T20:58:01.526Z"
   },
   {
    "duration": 8,
    "start_time": "2022-12-18T20:58:01.757Z"
   },
   {
    "duration": 23,
    "start_time": "2022-12-18T20:58:01.767Z"
   },
   {
    "duration": 153,
    "start_time": "2022-12-18T20:58:01.792Z"
   },
   {
    "duration": 6,
    "start_time": "2022-12-18T20:58:01.947Z"
   },
   {
    "duration": 142,
    "start_time": "2022-12-18T20:58:01.955Z"
   },
   {
    "duration": 8,
    "start_time": "2022-12-18T20:58:02.099Z"
   },
   {
    "duration": 23,
    "start_time": "2022-12-18T20:58:02.108Z"
   },
   {
    "duration": 168,
    "start_time": "2022-12-18T20:58:02.133Z"
   },
   {
    "duration": 12,
    "start_time": "2022-12-18T20:58:02.303Z"
   },
   {
    "duration": 187,
    "start_time": "2022-12-18T20:58:02.325Z"
   },
   {
    "duration": 24,
    "start_time": "2022-12-18T20:58:02.514Z"
   },
   {
    "duration": 172,
    "start_time": "2022-12-18T20:58:02.540Z"
   },
   {
    "duration": 22,
    "start_time": "2022-12-18T20:58:02.713Z"
   },
   {
    "duration": 154,
    "start_time": "2022-12-18T20:58:02.738Z"
   },
   {
    "duration": 136,
    "start_time": "2022-12-18T20:58:02.894Z"
   },
   {
    "duration": 134,
    "start_time": "2022-12-18T20:58:03.032Z"
   },
   {
    "duration": 10,
    "start_time": "2022-12-18T20:58:03.168Z"
   },
   {
    "duration": 13,
    "start_time": "2022-12-18T20:58:03.179Z"
   },
   {
    "duration": 10,
    "start_time": "2022-12-18T20:58:03.193Z"
   },
   {
    "duration": 39,
    "start_time": "2022-12-18T20:58:03.204Z"
   },
   {
    "duration": 9,
    "start_time": "2022-12-18T20:58:03.244Z"
   },
   {
    "duration": 12,
    "start_time": "2022-12-18T20:58:03.255Z"
   },
   {
    "duration": 9,
    "start_time": "2022-12-18T20:58:03.269Z"
   },
   {
    "duration": 19,
    "start_time": "2022-12-18T20:58:03.280Z"
   },
   {
    "duration": 381,
    "start_time": "2022-12-18T20:58:03.301Z"
   },
   {
    "duration": 5,
    "start_time": "2022-12-18T20:58:03.683Z"
   },
   {
    "duration": 17,
    "start_time": "2022-12-18T20:58:03.689Z"
   },
   {
    "duration": 40,
    "start_time": "2022-12-18T20:58:03.707Z"
   },
   {
    "duration": 207,
    "start_time": "2022-12-18T20:58:03.749Z"
   },
   {
    "duration": 410,
    "start_time": "2022-12-18T20:58:03.958Z"
   },
   {
    "duration": 227,
    "start_time": "2022-12-18T20:58:04.370Z"
   },
   {
    "duration": 290,
    "start_time": "2022-12-18T20:58:04.599Z"
   },
   {
    "duration": 182,
    "start_time": "2022-12-18T20:58:04.890Z"
   },
   {
    "duration": 197,
    "start_time": "2022-12-18T20:58:05.073Z"
   },
   {
    "duration": 238,
    "start_time": "2022-12-18T20:58:05.272Z"
   },
   {
    "duration": 156,
    "start_time": "2022-12-18T20:58:05.512Z"
   },
   {
    "duration": 197,
    "start_time": "2022-12-18T20:58:05.670Z"
   },
   {
    "duration": 270,
    "start_time": "2022-12-18T20:58:05.869Z"
   },
   {
    "duration": 406,
    "start_time": "2022-12-18T20:58:06.141Z"
   },
   {
    "duration": 243,
    "start_time": "2022-12-18T20:58:06.550Z"
   },
   {
    "duration": 182,
    "start_time": "2022-12-18T20:58:06.795Z"
   },
   {
    "duration": 180,
    "start_time": "2022-12-18T20:58:06.982Z"
   },
   {
    "duration": 290,
    "start_time": "2022-12-18T20:58:07.164Z"
   },
   {
    "duration": 10,
    "start_time": "2022-12-18T20:58:07.455Z"
   },
   {
    "duration": 19,
    "start_time": "2022-12-18T20:58:07.466Z"
   },
   {
    "duration": 230,
    "start_time": "2022-12-18T20:58:07.487Z"
   },
   {
    "duration": 9,
    "start_time": "2022-12-18T20:58:07.719Z"
   },
   {
    "duration": 279,
    "start_time": "2022-12-18T20:58:07.731Z"
   },
   {
    "duration": 17,
    "start_time": "2022-12-18T20:58:08.012Z"
   },
   {
    "duration": 236,
    "start_time": "2022-12-18T20:58:08.031Z"
   },
   {
    "duration": 5,
    "start_time": "2022-12-18T20:58:08.269Z"
   },
   {
    "duration": 240,
    "start_time": "2022-12-18T20:58:08.276Z"
   },
   {
    "duration": 8,
    "start_time": "2022-12-18T20:58:08.523Z"
   },
   {
    "duration": 175,
    "start_time": "2022-12-18T20:58:08.540Z"
   },
   {
    "duration": 183,
    "start_time": "2022-12-18T20:58:08.728Z"
   },
   {
    "duration": 10,
    "start_time": "2022-12-18T20:58:08.913Z"
   },
   {
    "duration": 216,
    "start_time": "2022-12-18T20:58:08.925Z"
   },
   {
    "duration": 5,
    "start_time": "2022-12-18T20:58:09.143Z"
   },
   {
    "duration": 163,
    "start_time": "2022-12-18T20:58:09.150Z"
   },
   {
    "duration": 16,
    "start_time": "2022-12-18T20:58:09.315Z"
   },
   {
    "duration": 26,
    "start_time": "2022-12-18T20:58:09.332Z"
   },
   {
    "duration": 10,
    "start_time": "2022-12-18T20:58:09.360Z"
   },
   {
    "duration": 10,
    "start_time": "2022-12-18T20:58:09.371Z"
   },
   {
    "duration": 13,
    "start_time": "2022-12-18T20:58:09.383Z"
   },
   {
    "duration": 40,
    "start_time": "2022-12-18T20:58:09.398Z"
   },
   {
    "duration": 10,
    "start_time": "2022-12-18T20:58:09.442Z"
   },
   {
    "duration": 481,
    "start_time": "2022-12-18T20:59:21.896Z"
   },
   {
    "duration": 61,
    "start_time": "2022-12-18T20:59:22.379Z"
   },
   {
    "duration": 18,
    "start_time": "2022-12-18T20:59:22.446Z"
   },
   {
    "duration": 2407,
    "start_time": "2022-12-18T20:59:22.466Z"
   },
   {
    "duration": 184,
    "start_time": "2022-12-18T20:59:24.876Z"
   },
   {
    "duration": 193,
    "start_time": "2022-12-18T20:59:25.063Z"
   },
   {
    "duration": 155,
    "start_time": "2022-12-18T20:59:25.257Z"
   },
   {
    "duration": 19,
    "start_time": "2022-12-18T20:59:25.414Z"
   },
   {
    "duration": 27,
    "start_time": "2022-12-18T20:59:25.435Z"
   },
   {
    "duration": 765,
    "start_time": "2022-12-18T20:59:25.465Z"
   },
   {
    "duration": 8,
    "start_time": "2022-12-18T20:59:26.231Z"
   },
   {
    "duration": 15,
    "start_time": "2022-12-18T20:59:26.242Z"
   },
   {
    "duration": 7,
    "start_time": "2022-12-18T20:59:26.258Z"
   },
   {
    "duration": 10,
    "start_time": "2022-12-18T20:59:26.266Z"
   },
   {
    "duration": 7,
    "start_time": "2022-12-18T20:59:26.278Z"
   },
   {
    "duration": 6,
    "start_time": "2022-12-18T20:59:26.287Z"
   },
   {
    "duration": 10,
    "start_time": "2022-12-18T20:59:26.295Z"
   },
   {
    "duration": 9,
    "start_time": "2022-12-18T20:59:26.306Z"
   },
   {
    "duration": 41,
    "start_time": "2022-12-18T20:59:26.317Z"
   },
   {
    "duration": 41,
    "start_time": "2022-12-18T20:59:26.359Z"
   },
   {
    "duration": 7,
    "start_time": "2022-12-18T20:59:26.402Z"
   },
   {
    "duration": 5,
    "start_time": "2022-12-18T20:59:26.411Z"
   },
   {
    "duration": 40,
    "start_time": "2022-12-18T20:59:26.418Z"
   },
   {
    "duration": 9,
    "start_time": "2022-12-18T20:59:26.459Z"
   },
   {
    "duration": 5,
    "start_time": "2022-12-18T20:59:26.470Z"
   },
   {
    "duration": 9,
    "start_time": "2022-12-18T20:59:26.477Z"
   },
   {
    "duration": 20,
    "start_time": "2022-12-18T20:59:26.487Z"
   },
   {
    "duration": 30,
    "start_time": "2022-12-18T20:59:26.512Z"
   },
   {
    "duration": 236,
    "start_time": "2022-12-18T20:59:26.543Z"
   },
   {
    "duration": 18,
    "start_time": "2022-12-18T20:59:26.781Z"
   },
   {
    "duration": 48,
    "start_time": "2022-12-18T20:59:26.801Z"
   },
   {
    "duration": 10,
    "start_time": "2022-12-18T20:59:26.851Z"
   },
   {
    "duration": 124,
    "start_time": "2022-12-18T20:59:26.863Z"
   },
   {
    "duration": 15,
    "start_time": "2022-12-18T20:59:26.989Z"
   },
   {
    "duration": 148,
    "start_time": "2022-12-18T20:59:27.006Z"
   },
   {
    "duration": 10,
    "start_time": "2022-12-18T20:59:27.156Z"
   },
   {
    "duration": 10,
    "start_time": "2022-12-18T20:59:27.168Z"
   },
   {
    "duration": 159,
    "start_time": "2022-12-18T20:59:27.180Z"
   },
   {
    "duration": 12,
    "start_time": "2022-12-18T20:59:27.341Z"
   },
   {
    "duration": 201,
    "start_time": "2022-12-18T20:59:27.354Z"
   },
   {
    "duration": 10,
    "start_time": "2022-12-18T20:59:27.557Z"
   },
   {
    "duration": 8,
    "start_time": "2022-12-18T20:59:27.569Z"
   },
   {
    "duration": 149,
    "start_time": "2022-12-18T20:59:27.579Z"
   },
   {
    "duration": 9,
    "start_time": "2022-12-18T20:59:27.729Z"
   },
   {
    "duration": 147,
    "start_time": "2022-12-18T20:59:27.740Z"
   },
   {
    "duration": 8,
    "start_time": "2022-12-18T20:59:27.888Z"
   },
   {
    "duration": 9,
    "start_time": "2022-12-18T20:59:27.898Z"
   },
   {
    "duration": 163,
    "start_time": "2022-12-18T20:59:27.908Z"
   },
   {
    "duration": 9,
    "start_time": "2022-12-18T20:59:28.073Z"
   },
   {
    "duration": 182,
    "start_time": "2022-12-18T20:59:28.083Z"
   },
   {
    "duration": 9,
    "start_time": "2022-12-18T20:59:28.267Z"
   },
   {
    "duration": 174,
    "start_time": "2022-12-18T20:59:28.278Z"
   },
   {
    "duration": 10,
    "start_time": "2022-12-18T20:59:28.454Z"
   },
   {
    "duration": 139,
    "start_time": "2022-12-18T20:59:28.465Z"
   },
   {
    "duration": 145,
    "start_time": "2022-12-18T20:59:28.606Z"
   },
   {
    "duration": 131,
    "start_time": "2022-12-18T20:59:28.752Z"
   },
   {
    "duration": 9,
    "start_time": "2022-12-18T20:59:28.884Z"
   },
   {
    "duration": 10,
    "start_time": "2022-12-18T20:59:28.895Z"
   },
   {
    "duration": 22,
    "start_time": "2022-12-18T20:59:28.922Z"
   },
   {
    "duration": 21,
    "start_time": "2022-12-18T20:59:28.949Z"
   },
   {
    "duration": 4,
    "start_time": "2022-12-18T20:59:28.972Z"
   },
   {
    "duration": 12,
    "start_time": "2022-12-18T20:59:28.978Z"
   },
   {
    "duration": 11,
    "start_time": "2022-12-18T20:59:28.991Z"
   },
   {
    "duration": 13,
    "start_time": "2022-12-18T20:59:29.004Z"
   },
   {
    "duration": 369,
    "start_time": "2022-12-18T20:59:29.019Z"
   },
   {
    "duration": 4,
    "start_time": "2022-12-18T20:59:29.390Z"
   },
   {
    "duration": 30,
    "start_time": "2022-12-18T20:59:29.396Z"
   },
   {
    "duration": 32,
    "start_time": "2022-12-18T20:59:29.432Z"
   },
   {
    "duration": 189,
    "start_time": "2022-12-18T20:59:29.465Z"
   },
   {
    "duration": 381,
    "start_time": "2022-12-18T20:59:29.656Z"
   },
   {
    "duration": 215,
    "start_time": "2022-12-18T20:59:30.043Z"
   },
   {
    "duration": 304,
    "start_time": "2022-12-18T20:59:30.260Z"
   },
   {
    "duration": 170,
    "start_time": "2022-12-18T20:59:30.565Z"
   },
   {
    "duration": 198,
    "start_time": "2022-12-18T20:59:30.737Z"
   },
   {
    "duration": 198,
    "start_time": "2022-12-18T20:59:30.937Z"
   },
   {
    "duration": 151,
    "start_time": "2022-12-18T20:59:31.137Z"
   },
   {
    "duration": 222,
    "start_time": "2022-12-18T20:59:31.290Z"
   },
   {
    "duration": 269,
    "start_time": "2022-12-18T20:59:31.514Z"
   },
   {
    "duration": 371,
    "start_time": "2022-12-18T20:59:31.785Z"
   },
   {
    "duration": 224,
    "start_time": "2022-12-18T20:59:32.158Z"
   },
   {
    "duration": 178,
    "start_time": "2022-12-18T20:59:32.383Z"
   },
   {
    "duration": 179,
    "start_time": "2022-12-18T20:59:32.566Z"
   },
   {
    "duration": 291,
    "start_time": "2022-12-18T20:59:32.748Z"
   },
   {
    "duration": 8,
    "start_time": "2022-12-18T20:59:33.041Z"
   },
   {
    "duration": 3,
    "start_time": "2022-12-18T20:59:33.050Z"
   },
   {
    "duration": 209,
    "start_time": "2022-12-18T20:59:33.054Z"
   },
   {
    "duration": 4,
    "start_time": "2022-12-18T20:59:33.265Z"
   },
   {
    "duration": 200,
    "start_time": "2022-12-18T20:59:33.271Z"
   },
   {
    "duration": 5,
    "start_time": "2022-12-18T20:59:33.473Z"
   },
   {
    "duration": 209,
    "start_time": "2022-12-18T20:59:33.480Z"
   },
   {
    "duration": 6,
    "start_time": "2022-12-18T20:59:33.691Z"
   },
   {
    "duration": 222,
    "start_time": "2022-12-18T20:59:33.698Z"
   },
   {
    "duration": 15,
    "start_time": "2022-12-18T20:59:33.921Z"
   },
   {
    "duration": 177,
    "start_time": "2022-12-18T20:59:33.938Z"
   },
   {
    "duration": 218,
    "start_time": "2022-12-18T20:59:34.117Z"
   },
   {
    "duration": 6,
    "start_time": "2022-12-18T20:59:34.337Z"
   },
   {
    "duration": 199,
    "start_time": "2022-12-18T20:59:34.345Z"
   },
   {
    "duration": 6,
    "start_time": "2022-12-18T20:59:34.546Z"
   },
   {
    "duration": 166,
    "start_time": "2022-12-18T20:59:34.553Z"
   },
   {
    "duration": 11,
    "start_time": "2022-12-18T20:59:34.726Z"
   },
   {
    "duration": 23,
    "start_time": "2022-12-18T20:59:34.740Z"
   },
   {
    "duration": 8,
    "start_time": "2022-12-18T20:59:34.765Z"
   },
   {
    "duration": 11,
    "start_time": "2022-12-18T20:59:34.774Z"
   },
   {
    "duration": 12,
    "start_time": "2022-12-18T20:59:34.787Z"
   },
   {
    "duration": 31,
    "start_time": "2022-12-18T20:59:34.801Z"
   },
   {
    "duration": 14,
    "start_time": "2022-12-18T20:59:34.836Z"
   },
   {
    "duration": 11,
    "start_time": "2022-12-18T21:05:06.754Z"
   },
   {
    "duration": 10,
    "start_time": "2022-12-18T21:05:27.305Z"
   },
   {
    "duration": 12,
    "start_time": "2022-12-18T21:13:18.510Z"
   },
   {
    "duration": 88,
    "start_time": "2022-12-18T21:15:50.990Z"
   },
   {
    "duration": 16,
    "start_time": "2022-12-18T21:15:56.539Z"
   },
   {
    "duration": 12,
    "start_time": "2022-12-18T21:16:07.492Z"
   },
   {
    "duration": 28,
    "start_time": "2022-12-18T21:16:26.157Z"
   },
   {
    "duration": 88,
    "start_time": "2022-12-18T21:18:39.215Z"
   },
   {
    "duration": 35,
    "start_time": "2022-12-18T21:18:47.227Z"
   },
   {
    "duration": 39,
    "start_time": "2022-12-18T21:18:55.991Z"
   },
   {
    "duration": 16,
    "start_time": "2022-12-18T21:19:25.700Z"
   },
   {
    "duration": 512,
    "start_time": "2022-12-18T21:19:57.789Z"
   },
   {
    "duration": 47,
    "start_time": "2022-12-18T21:19:58.302Z"
   },
   {
    "duration": 15,
    "start_time": "2022-12-18T21:19:58.350Z"
   },
   {
    "duration": 2148,
    "start_time": "2022-12-18T21:19:58.367Z"
   },
   {
    "duration": 132,
    "start_time": "2022-12-18T21:20:00.518Z"
   },
   {
    "duration": 147,
    "start_time": "2022-12-18T21:20:00.652Z"
   },
   {
    "duration": 148,
    "start_time": "2022-12-18T21:20:00.801Z"
   },
   {
    "duration": 9,
    "start_time": "2022-12-18T21:20:00.951Z"
   },
   {
    "duration": 27,
    "start_time": "2022-12-18T21:20:00.962Z"
   },
   {
    "duration": 663,
    "start_time": "2022-12-18T21:20:00.992Z"
   },
   {
    "duration": 4,
    "start_time": "2022-12-18T21:20:01.657Z"
   },
   {
    "duration": 14,
    "start_time": "2022-12-18T21:20:01.663Z"
   },
   {
    "duration": 19,
    "start_time": "2022-12-18T21:20:01.679Z"
   },
   {
    "duration": 50,
    "start_time": "2022-12-18T21:20:01.700Z"
   },
   {
    "duration": 23,
    "start_time": "2022-12-18T21:20:01.752Z"
   },
   {
    "duration": 50,
    "start_time": "2022-12-18T21:20:01.776Z"
   },
   {
    "duration": 29,
    "start_time": "2022-12-18T21:20:01.828Z"
   },
   {
    "duration": 14,
    "start_time": "2022-12-18T21:20:01.859Z"
   },
   {
    "duration": 16,
    "start_time": "2022-12-18T21:20:01.875Z"
   },
   {
    "duration": 44,
    "start_time": "2022-12-18T21:20:01.893Z"
   },
   {
    "duration": 7,
    "start_time": "2022-12-18T21:20:01.939Z"
   },
   {
    "duration": 13,
    "start_time": "2022-12-18T21:20:01.948Z"
   },
   {
    "duration": 11,
    "start_time": "2022-12-18T21:20:01.962Z"
   },
   {
    "duration": 20,
    "start_time": "2022-12-18T21:20:01.975Z"
   },
   {
    "duration": 11,
    "start_time": "2022-12-18T21:20:01.997Z"
   },
   {
    "duration": 14,
    "start_time": "2022-12-18T21:20:02.010Z"
   },
   {
    "duration": 28,
    "start_time": "2022-12-18T21:20:02.025Z"
   },
   {
    "duration": 19,
    "start_time": "2022-12-18T21:20:02.058Z"
   },
   {
    "duration": 216,
    "start_time": "2022-12-18T21:20:02.079Z"
   },
   {
    "duration": 27,
    "start_time": "2022-12-18T21:20:02.297Z"
   },
   {
    "duration": 16,
    "start_time": "2022-12-18T21:20:02.326Z"
   },
   {
    "duration": 9,
    "start_time": "2022-12-18T21:20:02.344Z"
   },
   {
    "duration": 131,
    "start_time": "2022-12-18T21:20:02.354Z"
   },
   {
    "duration": 14,
    "start_time": "2022-12-18T21:20:02.487Z"
   },
   {
    "duration": 141,
    "start_time": "2022-12-18T21:20:02.503Z"
   },
   {
    "duration": 10,
    "start_time": "2022-12-18T21:20:02.646Z"
   },
   {
    "duration": 20,
    "start_time": "2022-12-18T21:20:02.658Z"
   },
   {
    "duration": 127,
    "start_time": "2022-12-18T21:20:02.680Z"
   },
   {
    "duration": 18,
    "start_time": "2022-12-18T21:20:02.809Z"
   },
   {
    "duration": 210,
    "start_time": "2022-12-18T21:20:02.829Z"
   },
   {
    "duration": 11,
    "start_time": "2022-12-18T21:20:03.041Z"
   },
   {
    "duration": 23,
    "start_time": "2022-12-18T21:20:03.053Z"
   },
   {
    "duration": 124,
    "start_time": "2022-12-18T21:20:03.079Z"
   },
   {
    "duration": 22,
    "start_time": "2022-12-18T21:20:03.205Z"
   },
   {
    "duration": 130,
    "start_time": "2022-12-18T21:20:03.229Z"
   },
   {
    "duration": 11,
    "start_time": "2022-12-18T21:20:03.361Z"
   },
   {
    "duration": 18,
    "start_time": "2022-12-18T21:20:03.373Z"
   },
   {
    "duration": 160,
    "start_time": "2022-12-18T21:20:03.393Z"
   },
   {
    "duration": 9,
    "start_time": "2022-12-18T21:20:03.555Z"
   },
   {
    "duration": 164,
    "start_time": "2022-12-18T21:20:03.565Z"
   },
   {
    "duration": 9,
    "start_time": "2022-12-18T21:20:03.730Z"
   },
   {
    "duration": 163,
    "start_time": "2022-12-18T21:20:03.740Z"
   },
   {
    "duration": 23,
    "start_time": "2022-12-18T21:20:03.904Z"
   },
   {
    "duration": 139,
    "start_time": "2022-12-18T21:20:03.929Z"
   },
   {
    "duration": 160,
    "start_time": "2022-12-18T21:20:04.069Z"
   },
   {
    "duration": 128,
    "start_time": "2022-12-18T21:20:04.231Z"
   },
   {
    "duration": 9,
    "start_time": "2022-12-18T21:20:04.360Z"
   },
   {
    "duration": 13,
    "start_time": "2022-12-18T21:20:04.370Z"
   },
   {
    "duration": 16,
    "start_time": "2022-12-18T21:20:04.385Z"
   },
   {
    "duration": 21,
    "start_time": "2022-12-18T21:20:04.403Z"
   },
   {
    "duration": 12,
    "start_time": "2022-12-18T21:20:04.425Z"
   },
   {
    "duration": 26,
    "start_time": "2022-12-18T21:20:04.439Z"
   },
   {
    "duration": 17,
    "start_time": "2022-12-18T21:20:04.467Z"
   },
   {
    "duration": 21,
    "start_time": "2022-12-18T21:20:04.486Z"
   },
   {
    "duration": 369,
    "start_time": "2022-12-18T21:20:04.509Z"
   },
   {
    "duration": 5,
    "start_time": "2022-12-18T21:20:04.880Z"
   },
   {
    "duration": 32,
    "start_time": "2022-12-18T21:20:04.887Z"
   },
   {
    "duration": 29,
    "start_time": "2022-12-18T21:20:04.921Z"
   },
   {
    "duration": 195,
    "start_time": "2022-12-18T21:20:04.951Z"
   },
   {
    "duration": 344,
    "start_time": "2022-12-18T21:20:05.148Z"
   },
   {
    "duration": 197,
    "start_time": "2022-12-18T21:20:05.493Z"
   },
   {
    "duration": 286,
    "start_time": "2022-12-18T21:20:05.692Z"
   },
   {
    "duration": 167,
    "start_time": "2022-12-18T21:20:05.980Z"
   },
   {
    "duration": 196,
    "start_time": "2022-12-18T21:20:06.148Z"
   },
   {
    "duration": 183,
    "start_time": "2022-12-18T21:20:06.346Z"
   },
   {
    "duration": 127,
    "start_time": "2022-12-18T21:20:06.531Z"
   },
   {
    "duration": 177,
    "start_time": "2022-12-18T21:20:06.660Z"
   },
   {
    "duration": 210,
    "start_time": "2022-12-18T21:20:06.839Z"
   },
   {
    "duration": 343,
    "start_time": "2022-12-18T21:20:07.051Z"
   },
   {
    "duration": 196,
    "start_time": "2022-12-18T21:20:07.395Z"
   },
   {
    "duration": 163,
    "start_time": "2022-12-18T21:20:07.592Z"
   },
   {
    "duration": 170,
    "start_time": "2022-12-18T21:20:07.760Z"
   },
   {
    "duration": 263,
    "start_time": "2022-12-18T21:20:07.931Z"
   },
   {
    "duration": 10,
    "start_time": "2022-12-18T21:20:08.195Z"
   },
   {
    "duration": 16,
    "start_time": "2022-12-18T21:20:08.206Z"
   },
   {
    "duration": 191,
    "start_time": "2022-12-18T21:20:08.223Z"
   },
   {
    "duration": 10,
    "start_time": "2022-12-18T21:20:08.415Z"
   },
   {
    "duration": 192,
    "start_time": "2022-12-18T21:20:08.426Z"
   },
   {
    "duration": 6,
    "start_time": "2022-12-18T21:20:08.619Z"
   },
   {
    "duration": 188,
    "start_time": "2022-12-18T21:20:08.626Z"
   },
   {
    "duration": 9,
    "start_time": "2022-12-18T21:20:08.816Z"
   },
   {
    "duration": 191,
    "start_time": "2022-12-18T21:20:08.826Z"
   },
   {
    "duration": 5,
    "start_time": "2022-12-18T21:20:09.021Z"
   },
   {
    "duration": 137,
    "start_time": "2022-12-18T21:20:09.028Z"
   },
   {
    "duration": 149,
    "start_time": "2022-12-18T21:20:09.167Z"
   },
   {
    "duration": 8,
    "start_time": "2022-12-18T21:20:09.317Z"
   },
   {
    "duration": 189,
    "start_time": "2022-12-18T21:20:09.327Z"
   },
   {
    "duration": 8,
    "start_time": "2022-12-18T21:20:09.518Z"
   },
   {
    "duration": 155,
    "start_time": "2022-12-18T21:20:09.528Z"
   },
   {
    "duration": 5,
    "start_time": "2022-12-18T21:20:09.684Z"
   },
   {
    "duration": 35,
    "start_time": "2022-12-18T21:20:09.691Z"
   },
   {
    "duration": 9,
    "start_time": "2022-12-18T21:20:09.728Z"
   },
   {
    "duration": 12,
    "start_time": "2022-12-18T21:20:09.738Z"
   },
   {
    "duration": 11,
    "start_time": "2022-12-18T21:20:09.752Z"
   },
   {
    "duration": 11,
    "start_time": "2022-12-18T21:20:09.765Z"
   },
   {
    "duration": 10,
    "start_time": "2022-12-18T21:20:09.777Z"
   },
   {
    "duration": 5,
    "start_time": "2022-12-18T21:20:09.788Z"
   },
   {
    "duration": 28,
    "start_time": "2022-12-18T21:20:09.795Z"
   },
   {
    "duration": 8,
    "start_time": "2022-12-18T21:21:44.906Z"
   },
   {
    "duration": 172,
    "start_time": "2022-12-18T21:22:14.154Z"
   },
   {
    "duration": 78,
    "start_time": "2022-12-18T21:23:38.802Z"
   },
   {
    "duration": 10,
    "start_time": "2022-12-18T21:24:47.865Z"
   },
   {
    "duration": 8,
    "start_time": "2022-12-18T21:24:49.059Z"
   },
   {
    "duration": 15,
    "start_time": "2022-12-18T21:30:44.423Z"
   },
   {
    "duration": 9,
    "start_time": "2022-12-18T21:33:44.935Z"
   },
   {
    "duration": 177,
    "start_time": "2022-12-18T21:33:54.336Z"
   },
   {
    "duration": 12,
    "start_time": "2022-12-18T21:34:07.463Z"
   },
   {
    "duration": 7,
    "start_time": "2022-12-18T21:34:59.306Z"
   },
   {
    "duration": 7,
    "start_time": "2022-12-18T21:35:58.666Z"
   },
   {
    "duration": 65,
    "start_time": "2022-12-18T21:38:38.101Z"
   },
   {
    "duration": 197,
    "start_time": "2022-12-18T21:38:49.739Z"
   },
   {
    "duration": 81,
    "start_time": "2022-12-18T21:41:14.155Z"
   },
   {
    "duration": 113,
    "start_time": "2022-12-18T21:41:26.048Z"
   },
   {
    "duration": 151,
    "start_time": "2022-12-18T21:42:02.368Z"
   },
   {
    "duration": 12,
    "start_time": "2022-12-18T21:43:27.949Z"
   },
   {
    "duration": 10,
    "start_time": "2022-12-18T21:43:40.082Z"
   },
   {
    "duration": 268,
    "start_time": "2022-12-18T21:44:16.046Z"
   },
   {
    "duration": 7,
    "start_time": "2022-12-18T21:45:30.867Z"
   },
   {
    "duration": 505,
    "start_time": "2022-12-18T22:10:28.504Z"
   },
   {
    "duration": 38,
    "start_time": "2022-12-18T22:10:29.011Z"
   },
   {
    "duration": 13,
    "start_time": "2022-12-18T22:10:29.051Z"
   },
   {
    "duration": 2057,
    "start_time": "2022-12-18T22:10:29.066Z"
   },
   {
    "duration": 122,
    "start_time": "2022-12-18T22:10:31.125Z"
   },
   {
    "duration": 130,
    "start_time": "2022-12-18T22:10:31.248Z"
   },
   {
    "duration": 126,
    "start_time": "2022-12-18T22:10:31.380Z"
   },
   {
    "duration": 15,
    "start_time": "2022-12-18T22:10:31.508Z"
   },
   {
    "duration": 11,
    "start_time": "2022-12-18T22:10:31.525Z"
   },
   {
    "duration": 656,
    "start_time": "2022-12-18T22:10:31.538Z"
   },
   {
    "duration": 3,
    "start_time": "2022-12-18T22:10:32.195Z"
   },
   {
    "duration": 5,
    "start_time": "2022-12-18T22:10:32.199Z"
   },
   {
    "duration": 18,
    "start_time": "2022-12-18T22:10:32.205Z"
   },
   {
    "duration": 10,
    "start_time": "2022-12-18T22:10:32.224Z"
   },
   {
    "duration": 6,
    "start_time": "2022-12-18T22:10:32.235Z"
   },
   {
    "duration": 8,
    "start_time": "2022-12-18T22:10:32.243Z"
   },
   {
    "duration": 6,
    "start_time": "2022-12-18T22:10:32.252Z"
   },
   {
    "duration": 6,
    "start_time": "2022-12-18T22:10:32.259Z"
   },
   {
    "duration": 6,
    "start_time": "2022-12-18T22:10:32.266Z"
   },
   {
    "duration": 49,
    "start_time": "2022-12-18T22:10:32.273Z"
   },
   {
    "duration": 8,
    "start_time": "2022-12-18T22:10:32.323Z"
   },
   {
    "duration": 4,
    "start_time": "2022-12-18T22:10:32.333Z"
   },
   {
    "duration": 11,
    "start_time": "2022-12-18T22:10:32.338Z"
   },
   {
    "duration": 7,
    "start_time": "2022-12-18T22:10:32.350Z"
   },
   {
    "duration": 5,
    "start_time": "2022-12-18T22:10:32.358Z"
   },
   {
    "duration": 7,
    "start_time": "2022-12-18T22:10:32.364Z"
   },
   {
    "duration": 18,
    "start_time": "2022-12-18T22:10:32.372Z"
   },
   {
    "duration": 41,
    "start_time": "2022-12-18T22:10:32.394Z"
   },
   {
    "duration": 203,
    "start_time": "2022-12-18T22:10:32.436Z"
   },
   {
    "duration": 16,
    "start_time": "2022-12-18T22:10:32.640Z"
   },
   {
    "duration": 16,
    "start_time": "2022-12-18T22:10:32.658Z"
   },
   {
    "duration": 8,
    "start_time": "2022-12-18T22:10:32.676Z"
   },
   {
    "duration": 124,
    "start_time": "2022-12-18T22:10:32.685Z"
   },
   {
    "duration": 23,
    "start_time": "2022-12-18T22:10:32.810Z"
   },
   {
    "duration": 120,
    "start_time": "2022-12-18T22:10:32.835Z"
   },
   {
    "duration": 9,
    "start_time": "2022-12-18T22:10:32.957Z"
   },
   {
    "duration": 10,
    "start_time": "2022-12-18T22:10:32.968Z"
   },
   {
    "duration": 135,
    "start_time": "2022-12-18T22:10:32.980Z"
   },
   {
    "duration": 6,
    "start_time": "2022-12-18T22:10:33.122Z"
   },
   {
    "duration": 188,
    "start_time": "2022-12-18T22:10:33.129Z"
   },
   {
    "duration": 9,
    "start_time": "2022-12-18T22:10:33.321Z"
   },
   {
    "duration": 8,
    "start_time": "2022-12-18T22:10:33.332Z"
   },
   {
    "duration": 120,
    "start_time": "2022-12-18T22:10:33.341Z"
   },
   {
    "duration": 6,
    "start_time": "2022-12-18T22:10:33.462Z"
   },
   {
    "duration": 113,
    "start_time": "2022-12-18T22:10:33.470Z"
   },
   {
    "duration": 9,
    "start_time": "2022-12-18T22:10:33.584Z"
   },
   {
    "duration": 8,
    "start_time": "2022-12-18T22:10:33.594Z"
   },
   {
    "duration": 144,
    "start_time": "2022-12-18T22:10:33.621Z"
   },
   {
    "duration": 10,
    "start_time": "2022-12-18T22:10:33.766Z"
   },
   {
    "duration": 163,
    "start_time": "2022-12-18T22:10:33.777Z"
   },
   {
    "duration": 9,
    "start_time": "2022-12-18T22:10:33.942Z"
   },
   {
    "duration": 185,
    "start_time": "2022-12-18T22:10:33.952Z"
   },
   {
    "duration": 12,
    "start_time": "2022-12-18T22:10:34.138Z"
   },
   {
    "duration": 143,
    "start_time": "2022-12-18T22:10:34.152Z"
   },
   {
    "duration": 118,
    "start_time": "2022-12-18T22:10:34.296Z"
   },
   {
    "duration": 123,
    "start_time": "2022-12-18T22:10:34.416Z"
   },
   {
    "duration": 9,
    "start_time": "2022-12-18T22:10:34.540Z"
   },
   {
    "duration": 8,
    "start_time": "2022-12-18T22:10:34.551Z"
   },
   {
    "duration": 8,
    "start_time": "2022-12-18T22:10:34.560Z"
   },
   {
    "duration": 13,
    "start_time": "2022-12-18T22:10:34.569Z"
   },
   {
    "duration": 4,
    "start_time": "2022-12-18T22:10:34.583Z"
   },
   {
    "duration": 37,
    "start_time": "2022-12-18T22:10:34.589Z"
   },
   {
    "duration": 9,
    "start_time": "2022-12-18T22:10:34.627Z"
   },
   {
    "duration": 8,
    "start_time": "2022-12-18T22:10:34.638Z"
   },
   {
    "duration": 334,
    "start_time": "2022-12-18T22:10:34.648Z"
   },
   {
    "duration": 4,
    "start_time": "2022-12-18T22:10:34.983Z"
   },
   {
    "duration": 22,
    "start_time": "2022-12-18T22:10:34.988Z"
   },
   {
    "duration": 30,
    "start_time": "2022-12-18T22:10:35.011Z"
   },
   {
    "duration": 179,
    "start_time": "2022-12-18T22:10:35.043Z"
   },
   {
    "duration": 326,
    "start_time": "2022-12-18T22:10:35.223Z"
   },
   {
    "duration": 180,
    "start_time": "2022-12-18T22:10:35.550Z"
   },
   {
    "duration": 265,
    "start_time": "2022-12-18T22:10:35.731Z"
   },
   {
    "duration": 161,
    "start_time": "2022-12-18T22:10:35.997Z"
   },
   {
    "duration": 175,
    "start_time": "2022-12-18T22:10:36.159Z"
   },
   {
    "duration": 190,
    "start_time": "2022-12-18T22:10:36.335Z"
   },
   {
    "duration": 118,
    "start_time": "2022-12-18T22:10:36.526Z"
   },
   {
    "duration": 161,
    "start_time": "2022-12-18T22:10:36.646Z"
   },
   {
    "duration": 195,
    "start_time": "2022-12-18T22:10:36.809Z"
   },
   {
    "duration": 326,
    "start_time": "2022-12-18T22:10:37.006Z"
   },
   {
    "duration": 199,
    "start_time": "2022-12-18T22:10:37.334Z"
   },
   {
    "duration": 152,
    "start_time": "2022-12-18T22:10:37.536Z"
   },
   {
    "duration": 152,
    "start_time": "2022-12-18T22:10:37.694Z"
   },
   {
    "duration": 252,
    "start_time": "2022-12-18T22:10:37.848Z"
   },
   {
    "duration": 9,
    "start_time": "2022-12-18T22:10:38.102Z"
   },
   {
    "duration": 10,
    "start_time": "2022-12-18T22:10:38.113Z"
   },
   {
    "duration": 191,
    "start_time": "2022-12-18T22:10:38.125Z"
   },
   {
    "duration": 7,
    "start_time": "2022-12-18T22:10:38.317Z"
   },
   {
    "duration": 177,
    "start_time": "2022-12-18T22:10:38.326Z"
   },
   {
    "duration": 5,
    "start_time": "2022-12-18T22:10:38.505Z"
   },
   {
    "duration": 186,
    "start_time": "2022-12-18T22:10:38.512Z"
   },
   {
    "duration": 5,
    "start_time": "2022-12-18T22:10:38.699Z"
   },
   {
    "duration": 184,
    "start_time": "2022-12-18T22:10:38.705Z"
   },
   {
    "duration": 5,
    "start_time": "2022-12-18T22:10:38.891Z"
   },
   {
    "duration": 146,
    "start_time": "2022-12-18T22:10:38.898Z"
   },
   {
    "duration": 145,
    "start_time": "2022-12-18T22:10:39.045Z"
   },
   {
    "duration": 5,
    "start_time": "2022-12-18T22:10:39.191Z"
   },
   {
    "duration": 180,
    "start_time": "2022-12-18T22:10:39.197Z"
   },
   {
    "duration": 6,
    "start_time": "2022-12-18T22:10:39.378Z"
   },
   {
    "duration": 152,
    "start_time": "2022-12-18T22:10:39.385Z"
   },
   {
    "duration": 4,
    "start_time": "2022-12-18T22:10:39.539Z"
   },
   {
    "duration": 20,
    "start_time": "2022-12-18T22:10:39.545Z"
   },
   {
    "duration": 7,
    "start_time": "2022-12-18T22:10:39.567Z"
   },
   {
    "duration": 8,
    "start_time": "2022-12-18T22:10:39.576Z"
   },
   {
    "duration": 10,
    "start_time": "2022-12-18T22:10:39.585Z"
   },
   {
    "duration": 32,
    "start_time": "2022-12-18T22:10:39.597Z"
   },
   {
    "duration": 10,
    "start_time": "2022-12-18T22:10:39.630Z"
   },
   {
    "duration": 15,
    "start_time": "2022-12-18T22:10:39.642Z"
   },
   {
    "duration": 8,
    "start_time": "2022-12-18T22:10:39.659Z"
   },
   {
    "duration": 449,
    "start_time": "2022-12-18T22:10:39.669Z"
   },
   {
    "duration": 522,
    "start_time": "2022-12-18T22:24:18.144Z"
   },
   {
    "duration": 44,
    "start_time": "2022-12-18T22:24:18.668Z"
   },
   {
    "duration": 27,
    "start_time": "2022-12-18T22:24:18.714Z"
   },
   {
    "duration": 2299,
    "start_time": "2022-12-18T22:24:18.742Z"
   },
   {
    "duration": 140,
    "start_time": "2022-12-18T22:24:21.043Z"
   },
   {
    "duration": 154,
    "start_time": "2022-12-18T22:24:21.184Z"
   },
   {
    "duration": 158,
    "start_time": "2022-12-18T22:24:21.340Z"
   },
   {
    "duration": 11,
    "start_time": "2022-12-18T22:24:21.500Z"
   },
   {
    "duration": 28,
    "start_time": "2022-12-18T22:24:21.512Z"
   },
   {
    "duration": 769,
    "start_time": "2022-12-18T22:24:21.542Z"
   },
   {
    "duration": 4,
    "start_time": "2022-12-18T22:24:22.313Z"
   },
   {
    "duration": 19,
    "start_time": "2022-12-18T22:24:22.318Z"
   },
   {
    "duration": 13,
    "start_time": "2022-12-18T22:24:22.339Z"
   },
   {
    "duration": 22,
    "start_time": "2022-12-18T22:24:22.355Z"
   },
   {
    "duration": 35,
    "start_time": "2022-12-18T22:24:22.379Z"
   },
   {
    "duration": 17,
    "start_time": "2022-12-18T22:24:22.416Z"
   },
   {
    "duration": 18,
    "start_time": "2022-12-18T22:24:22.435Z"
   },
   {
    "duration": 18,
    "start_time": "2022-12-18T22:24:22.455Z"
   },
   {
    "duration": 14,
    "start_time": "2022-12-18T22:24:22.475Z"
   },
   {
    "duration": 65,
    "start_time": "2022-12-18T22:24:22.491Z"
   },
   {
    "duration": 11,
    "start_time": "2022-12-18T22:24:22.558Z"
   },
   {
    "duration": 14,
    "start_time": "2022-12-18T22:24:22.571Z"
   },
   {
    "duration": 15,
    "start_time": "2022-12-18T22:24:22.587Z"
   },
   {
    "duration": 11,
    "start_time": "2022-12-18T22:24:22.604Z"
   },
   {
    "duration": 20,
    "start_time": "2022-12-18T22:24:22.617Z"
   },
   {
    "duration": 24,
    "start_time": "2022-12-18T22:24:22.639Z"
   },
   {
    "duration": 34,
    "start_time": "2022-12-18T22:24:22.665Z"
   },
   {
    "duration": 23,
    "start_time": "2022-12-18T22:24:22.700Z"
   },
   {
    "duration": 225,
    "start_time": "2022-12-18T22:24:22.724Z"
   },
   {
    "duration": 20,
    "start_time": "2022-12-18T22:24:22.951Z"
   },
   {
    "duration": 20,
    "start_time": "2022-12-18T22:24:22.973Z"
   },
   {
    "duration": 9,
    "start_time": "2022-12-18T22:24:22.995Z"
   },
   {
    "duration": 146,
    "start_time": "2022-12-18T22:24:23.006Z"
   },
   {
    "duration": 14,
    "start_time": "2022-12-18T22:24:23.154Z"
   },
   {
    "duration": 132,
    "start_time": "2022-12-18T22:24:23.170Z"
   },
   {
    "duration": 10,
    "start_time": "2022-12-18T22:24:23.304Z"
   },
   {
    "duration": 26,
    "start_time": "2022-12-18T22:24:23.316Z"
   },
   {
    "duration": 142,
    "start_time": "2022-12-18T22:24:23.344Z"
   },
   {
    "duration": 7,
    "start_time": "2022-12-18T22:24:23.488Z"
   },
   {
    "duration": 202,
    "start_time": "2022-12-18T22:24:23.496Z"
   },
   {
    "duration": 9,
    "start_time": "2022-12-18T22:24:23.703Z"
   },
   {
    "duration": 23,
    "start_time": "2022-12-18T22:24:23.713Z"
   },
   {
    "duration": 129,
    "start_time": "2022-12-18T22:24:23.738Z"
   },
   {
    "duration": 6,
    "start_time": "2022-12-18T22:24:23.868Z"
   },
   {
    "duration": 125,
    "start_time": "2022-12-18T22:24:23.875Z"
   },
   {
    "duration": 11,
    "start_time": "2022-12-18T22:24:24.001Z"
   },
   {
    "duration": 28,
    "start_time": "2022-12-18T22:24:24.013Z"
   },
   {
    "duration": 157,
    "start_time": "2022-12-18T22:24:24.043Z"
   },
   {
    "duration": 10,
    "start_time": "2022-12-18T22:24:24.202Z"
   },
   {
    "duration": 183,
    "start_time": "2022-12-18T22:24:24.214Z"
   },
   {
    "duration": 10,
    "start_time": "2022-12-18T22:24:24.398Z"
   },
   {
    "duration": 168,
    "start_time": "2022-12-18T22:24:24.409Z"
   },
   {
    "duration": 10,
    "start_time": "2022-12-18T22:24:24.579Z"
   },
   {
    "duration": 149,
    "start_time": "2022-12-18T22:24:24.591Z"
   },
   {
    "duration": 132,
    "start_time": "2022-12-18T22:24:24.742Z"
   },
   {
    "duration": 147,
    "start_time": "2022-12-18T22:24:24.875Z"
   },
   {
    "duration": 17,
    "start_time": "2022-12-18T22:24:25.024Z"
   },
   {
    "duration": 9,
    "start_time": "2022-12-18T22:24:25.043Z"
   },
   {
    "duration": 14,
    "start_time": "2022-12-18T22:24:25.054Z"
   },
   {
    "duration": 23,
    "start_time": "2022-12-18T22:24:25.069Z"
   },
   {
    "duration": 5,
    "start_time": "2022-12-18T22:24:25.093Z"
   },
   {
    "duration": 13,
    "start_time": "2022-12-18T22:24:25.100Z"
   },
   {
    "duration": 21,
    "start_time": "2022-12-18T22:24:25.115Z"
   },
   {
    "duration": 13,
    "start_time": "2022-12-18T22:24:25.138Z"
   },
   {
    "duration": 372,
    "start_time": "2022-12-18T22:24:25.153Z"
   },
   {
    "duration": 9,
    "start_time": "2022-12-18T22:24:25.526Z"
   },
   {
    "duration": 20,
    "start_time": "2022-12-18T22:24:25.537Z"
   },
   {
    "duration": 25,
    "start_time": "2022-12-18T22:24:25.559Z"
   },
   {
    "duration": 297,
    "start_time": "2022-12-18T22:24:25.586Z"
   },
   {
    "duration": 288,
    "start_time": "2022-12-18T22:24:25.885Z"
   },
   {
    "duration": 215,
    "start_time": "2022-12-18T22:24:26.175Z"
   },
   {
    "duration": 301,
    "start_time": "2022-12-18T22:24:26.392Z"
   },
   {
    "duration": 185,
    "start_time": "2022-12-18T22:24:26.695Z"
   },
   {
    "duration": 216,
    "start_time": "2022-12-18T22:24:26.882Z"
   },
   {
    "duration": 218,
    "start_time": "2022-12-18T22:24:27.099Z"
   },
   {
    "duration": 142,
    "start_time": "2022-12-18T22:24:27.318Z"
   },
   {
    "duration": 195,
    "start_time": "2022-12-18T22:24:27.461Z"
   },
   {
    "duration": 331,
    "start_time": "2022-12-18T22:24:27.658Z"
   },
   {
    "duration": 247,
    "start_time": "2022-12-18T22:24:27.992Z"
   },
   {
    "duration": 216,
    "start_time": "2022-12-18T22:24:28.240Z"
   },
   {
    "duration": 172,
    "start_time": "2022-12-18T22:24:28.458Z"
   },
   {
    "duration": 171,
    "start_time": "2022-12-18T22:24:28.634Z"
   },
   {
    "duration": 314,
    "start_time": "2022-12-18T22:24:28.806Z"
   },
   {
    "duration": 20,
    "start_time": "2022-12-18T22:24:29.122Z"
   },
   {
    "duration": 3,
    "start_time": "2022-12-18T22:24:29.144Z"
   },
   {
    "duration": 234,
    "start_time": "2022-12-18T22:24:29.149Z"
   },
   {
    "duration": 5,
    "start_time": "2022-12-18T22:24:29.385Z"
   },
   {
    "duration": 203,
    "start_time": "2022-12-18T22:24:29.392Z"
   },
   {
    "duration": 6,
    "start_time": "2022-12-18T22:24:29.597Z"
   },
   {
    "duration": 219,
    "start_time": "2022-12-18T22:24:29.605Z"
   },
   {
    "duration": 13,
    "start_time": "2022-12-18T22:24:29.826Z"
   },
   {
    "duration": 224,
    "start_time": "2022-12-18T22:24:29.841Z"
   },
   {
    "duration": 6,
    "start_time": "2022-12-18T22:24:30.066Z"
   },
   {
    "duration": 161,
    "start_time": "2022-12-18T22:24:30.074Z"
   },
   {
    "duration": 178,
    "start_time": "2022-12-18T22:24:30.237Z"
   },
   {
    "duration": 6,
    "start_time": "2022-12-18T22:24:30.417Z"
   },
   {
    "duration": 223,
    "start_time": "2022-12-18T22:24:30.425Z"
   },
   {
    "duration": 6,
    "start_time": "2022-12-18T22:24:30.650Z"
   },
   {
    "duration": 383,
    "start_time": "2022-12-18T22:24:30.657Z"
   },
   {
    "duration": 6,
    "start_time": "2022-12-18T22:24:31.041Z"
   },
   {
    "duration": 49,
    "start_time": "2022-12-18T22:24:31.049Z"
   },
   {
    "duration": 23,
    "start_time": "2022-12-18T22:24:31.100Z"
   },
   {
    "duration": 34,
    "start_time": "2022-12-18T22:24:31.125Z"
   },
   {
    "duration": 31,
    "start_time": "2022-12-18T22:24:31.161Z"
   },
   {
    "duration": 32,
    "start_time": "2022-12-18T22:24:31.194Z"
   },
   {
    "duration": 19,
    "start_time": "2022-12-18T22:24:31.228Z"
   },
   {
    "duration": 26,
    "start_time": "2022-12-18T22:24:31.248Z"
   },
   {
    "duration": 16,
    "start_time": "2022-12-18T22:24:31.275Z"
   },
   {
    "duration": 296,
    "start_time": "2022-12-18T22:24:31.292Z"
   },
   {
    "duration": 127,
    "start_time": "2022-12-18T22:27:21.008Z"
   },
   {
    "duration": 16,
    "start_time": "2022-12-18T22:29:55.596Z"
   },
   {
    "duration": 301,
    "start_time": "2022-12-18T22:31:54.240Z"
   },
   {
    "duration": 49,
    "start_time": "2022-12-19T05:49:59.582Z"
   },
   {
    "duration": 47,
    "start_time": "2022-12-19T05:52:34.046Z"
   },
   {
    "duration": 691,
    "start_time": "2022-12-19T05:52:58.901Z"
   },
   {
    "duration": 46,
    "start_time": "2022-12-19T05:53:01.634Z"
   },
   {
    "duration": 14,
    "start_time": "2022-12-19T05:53:02.934Z"
   },
   {
    "duration": 2383,
    "start_time": "2022-12-19T05:53:04.499Z"
   },
   {
    "duration": 129,
    "start_time": "2022-12-19T05:56:20.445Z"
   },
   {
    "duration": 137,
    "start_time": "2022-12-19T05:56:21.148Z"
   },
   {
    "duration": 142,
    "start_time": "2022-12-19T05:56:21.965Z"
   },
   {
    "duration": 140,
    "start_time": "2022-12-19T05:58:58.282Z"
   },
   {
    "duration": 129,
    "start_time": "2022-12-19T05:59:07.930Z"
   },
   {
    "duration": 224,
    "start_time": "2022-12-19T05:59:14.732Z"
   },
   {
    "duration": 148,
    "start_time": "2022-12-19T05:59:19.362Z"
   },
   {
    "duration": 127,
    "start_time": "2022-12-19T05:59:23.482Z"
   },
   {
    "duration": 135,
    "start_time": "2022-12-19T05:59:30.651Z"
   },
   {
    "duration": 10,
    "start_time": "2022-12-19T06:02:26.849Z"
   },
   {
    "duration": 66,
    "start_time": "2022-12-19T06:02:35.460Z"
   },
   {
    "duration": 54,
    "start_time": "2022-12-19T06:02:47.924Z"
   },
   {
    "duration": 10,
    "start_time": "2022-12-19T06:07:33.059Z"
   },
   {
    "duration": 714,
    "start_time": "2022-12-19T06:07:36.317Z"
   },
   {
    "duration": 4,
    "start_time": "2022-12-19T06:07:37.449Z"
   },
   {
    "duration": 5,
    "start_time": "2022-12-19T06:07:38.045Z"
   },
   {
    "duration": 3,
    "start_time": "2022-12-19T06:07:39.279Z"
   },
   {
    "duration": 6,
    "start_time": "2022-12-19T06:07:41.293Z"
   },
   {
    "duration": 6,
    "start_time": "2022-12-19T06:07:42.110Z"
   },
   {
    "duration": 5,
    "start_time": "2022-12-19T06:07:43.397Z"
   },
   {
    "duration": 4,
    "start_time": "2022-12-19T06:07:46.866Z"
   },
   {
    "duration": 5,
    "start_time": "2022-12-19T06:07:48.198Z"
   },
   {
    "duration": 5,
    "start_time": "2022-12-19T06:07:48.831Z"
   },
   {
    "duration": 43,
    "start_time": "2022-12-19T06:07:50.628Z"
   },
   {
    "duration": 9,
    "start_time": "2022-12-19T06:07:52.197Z"
   },
   {
    "duration": 5,
    "start_time": "2022-12-19T06:08:06.969Z"
   },
   {
    "duration": 10,
    "start_time": "2022-12-19T06:08:53.566Z"
   },
   {
    "duration": 6,
    "start_time": "2022-12-19T06:08:54.232Z"
   },
   {
    "duration": 4,
    "start_time": "2022-12-19T06:08:54.781Z"
   },
   {
    "duration": 8,
    "start_time": "2022-12-19T06:08:55.257Z"
   },
   {
    "duration": 5,
    "start_time": "2022-12-19T06:08:55.682Z"
   },
   {
    "duration": 19,
    "start_time": "2022-12-19T06:09:30.572Z"
   },
   {
    "duration": 19,
    "start_time": "2022-12-19T06:09:31.399Z"
   },
   {
    "duration": 231,
    "start_time": "2022-12-19T06:09:33.333Z"
   },
   {
    "duration": 17,
    "start_time": "2022-12-19T06:10:01.881Z"
   },
   {
    "duration": 17,
    "start_time": "2022-12-19T06:10:02.699Z"
   },
   {
    "duration": 9,
    "start_time": "2022-12-19T06:10:06.732Z"
   },
   {
    "duration": 114,
    "start_time": "2022-12-19T06:10:07.353Z"
   },
   {
    "duration": 16,
    "start_time": "2022-12-19T06:10:09.147Z"
   },
   {
    "duration": 111,
    "start_time": "2022-12-19T06:10:10.830Z"
   },
   {
    "duration": 9,
    "start_time": "2022-12-19T06:10:11.465Z"
   },
   {
    "duration": 9,
    "start_time": "2022-12-19T06:10:12.830Z"
   },
   {
    "duration": 120,
    "start_time": "2022-12-19T06:10:13.381Z"
   },
   {
    "duration": 101,
    "start_time": "2022-12-19T06:11:28.021Z"
   },
   {
    "duration": 118,
    "start_time": "2022-12-19T06:12:06.378Z"
   },
   {
    "duration": 9,
    "start_time": "2022-12-19T06:13:03.847Z"
   },
   {
    "duration": 117,
    "start_time": "2022-12-19T06:13:04.523Z"
   },
   {
    "duration": 9,
    "start_time": "2022-12-19T06:13:09.597Z"
   },
   {
    "duration": 12,
    "start_time": "2022-12-19T06:13:18.295Z"
   },
   {
    "duration": 141,
    "start_time": "2022-12-19T06:13:18.680Z"
   },
   {
    "duration": 9,
    "start_time": "2022-12-19T06:13:20.528Z"
   },
   {
    "duration": 204,
    "start_time": "2022-12-19T06:13:20.898Z"
   },
   {
    "duration": 9,
    "start_time": "2022-12-19T06:13:21.312Z"
   },
   {
    "duration": 9,
    "start_time": "2022-12-19T06:13:23.809Z"
   },
   {
    "duration": 139,
    "start_time": "2022-12-19T06:13:24.076Z"
   },
   {
    "duration": 9,
    "start_time": "2022-12-19T06:13:24.496Z"
   },
   {
    "duration": 157,
    "start_time": "2022-12-19T06:13:24.949Z"
   },
   {
    "duration": 9,
    "start_time": "2022-12-19T06:13:25.548Z"
   },
   {
    "duration": 191,
    "start_time": "2022-12-19T06:13:26.227Z"
   },
   {
    "duration": 11,
    "start_time": "2022-12-19T06:13:50.079Z"
   },
   {
    "duration": 127,
    "start_time": "2022-12-19T06:13:50.696Z"
   },
   {
    "duration": 118,
    "start_time": "2022-12-19T06:13:51.497Z"
   },
   {
    "duration": 111,
    "start_time": "2022-12-19T06:13:52.161Z"
   },
   {
    "duration": 11,
    "start_time": "2022-12-19T06:13:52.845Z"
   },
   {
    "duration": 9,
    "start_time": "2022-12-19T06:13:53.578Z"
   },
   {
    "duration": 10,
    "start_time": "2022-12-19T06:13:54.180Z"
   },
   {
    "duration": 16,
    "start_time": "2022-12-19T06:13:55.428Z"
   },
   {
    "duration": 29,
    "start_time": "2022-12-19T06:17:27.124Z"
   },
   {
    "duration": 4,
    "start_time": "2022-12-19T06:22:28.812Z"
   },
   {
    "duration": 8,
    "start_time": "2022-12-19T06:22:29.827Z"
   },
   {
    "duration": 8,
    "start_time": "2022-12-19T06:22:30.547Z"
   },
   {
    "duration": 9,
    "start_time": "2022-12-19T06:22:31.377Z"
   },
   {
    "duration": 39,
    "start_time": "2022-12-19T06:22:49.894Z"
   },
   {
    "duration": 28,
    "start_time": "2022-12-19T06:23:32.758Z"
   },
   {
    "duration": 4,
    "start_time": "2022-12-19T06:23:56.828Z"
   },
   {
    "duration": 14,
    "start_time": "2022-12-19T06:23:57.361Z"
   },
   {
    "duration": 24,
    "start_time": "2022-12-19T06:23:58.612Z"
   },
   {
    "duration": 654,
    "start_time": "2022-12-19T06:26:02.927Z"
   },
   {
    "duration": 41,
    "start_time": "2022-12-19T06:26:04.029Z"
   },
   {
    "duration": 14,
    "start_time": "2022-12-19T06:26:04.561Z"
   },
   {
    "duration": 1947,
    "start_time": "2022-12-19T06:26:05.111Z"
   },
   {
    "duration": 123,
    "start_time": "2022-12-19T06:26:07.140Z"
   },
   {
    "duration": 129,
    "start_time": "2022-12-19T06:26:07.471Z"
   },
   {
    "duration": 138,
    "start_time": "2022-12-19T06:26:07.993Z"
   },
   {
    "duration": 9,
    "start_time": "2022-12-19T06:26:10.939Z"
   },
   {
    "duration": 50,
    "start_time": "2022-12-19T06:26:11.445Z"
   },
   {
    "duration": 10,
    "start_time": "2022-12-19T06:26:13.711Z"
   },
   {
    "duration": 667,
    "start_time": "2022-12-19T06:26:16.043Z"
   },
   {
    "duration": 5,
    "start_time": "2022-12-19T06:26:16.994Z"
   },
   {
    "duration": 3,
    "start_time": "2022-12-19T06:26:17.443Z"
   },
   {
    "duration": 4,
    "start_time": "2022-12-19T06:26:18.326Z"
   },
   {
    "duration": 6,
    "start_time": "2022-12-19T06:26:19.644Z"
   },
   {
    "duration": 6,
    "start_time": "2022-12-19T06:26:20.143Z"
   },
   {
    "duration": 5,
    "start_time": "2022-12-19T06:26:21.010Z"
   },
   {
    "duration": 5,
    "start_time": "2022-12-19T06:26:21.392Z"
   },
   {
    "duration": 5,
    "start_time": "2022-12-19T06:26:21.778Z"
   },
   {
    "duration": 6,
    "start_time": "2022-12-19T06:26:22.161Z"
   },
   {
    "duration": 56,
    "start_time": "2022-12-19T06:26:23.578Z"
   },
   {
    "duration": 14,
    "start_time": "2022-12-19T06:26:24.875Z"
   },
   {
    "duration": 6,
    "start_time": "2022-12-19T06:26:30.342Z"
   },
   {
    "duration": 14,
    "start_time": "2022-12-19T06:26:35.212Z"
   },
   {
    "duration": 5,
    "start_time": "2022-12-19T06:26:35.774Z"
   },
   {
    "duration": 4,
    "start_time": "2022-12-19T06:26:36.295Z"
   },
   {
    "duration": 4,
    "start_time": "2022-12-19T06:26:36.678Z"
   },
   {
    "duration": 5,
    "start_time": "2022-12-19T06:26:37.145Z"
   },
   {
    "duration": 19,
    "start_time": "2022-12-19T06:26:45.943Z"
   },
   {
    "duration": 15,
    "start_time": "2022-12-19T06:26:46.410Z"
   },
   {
    "duration": 205,
    "start_time": "2022-12-19T06:26:47.378Z"
   },
   {
    "duration": 16,
    "start_time": "2022-12-19T06:26:48.310Z"
   },
   {
    "duration": 16,
    "start_time": "2022-12-19T06:26:48.813Z"
   },
   {
    "duration": 8,
    "start_time": "2022-12-19T06:26:51.677Z"
   },
   {
    "duration": 103,
    "start_time": "2022-12-19T06:26:52.229Z"
   },
   {
    "duration": 14,
    "start_time": "2022-12-19T06:26:53.260Z"
   },
   {
    "duration": 110,
    "start_time": "2022-12-19T06:26:54.645Z"
   },
   {
    "duration": 8,
    "start_time": "2022-12-19T06:26:55.208Z"
   },
   {
    "duration": 8,
    "start_time": "2022-12-19T06:26:56.578Z"
   },
   {
    "duration": 181,
    "start_time": "2022-12-19T06:26:57.135Z"
   },
   {
    "duration": 6,
    "start_time": "2022-12-19T06:26:59.530Z"
   },
   {
    "duration": 108,
    "start_time": "2022-12-19T06:27:00.109Z"
   },
   {
    "duration": 9,
    "start_time": "2022-12-19T06:27:00.945Z"
   },
   {
    "duration": 8,
    "start_time": "2022-12-19T06:27:02.295Z"
   },
   {
    "duration": 111,
    "start_time": "2022-12-19T06:27:02.958Z"
   },
   {
    "duration": 7,
    "start_time": "2022-12-19T06:27:04.126Z"
   },
   {
    "duration": 106,
    "start_time": "2022-12-19T06:27:04.474Z"
   },
   {
    "duration": 9,
    "start_time": "2022-12-19T06:27:04.860Z"
   },
   {
    "duration": 10,
    "start_time": "2022-12-19T06:27:05.776Z"
   },
   {
    "duration": 139,
    "start_time": "2022-12-19T06:27:06.260Z"
   },
   {
    "duration": 9,
    "start_time": "2022-12-19T06:27:06.781Z"
   },
   {
    "duration": 147,
    "start_time": "2022-12-19T06:27:07.262Z"
   },
   {
    "duration": 8,
    "start_time": "2022-12-19T06:27:08.080Z"
   },
   {
    "duration": 135,
    "start_time": "2022-12-19T06:27:08.643Z"
   },
   {
    "duration": 10,
    "start_time": "2022-12-19T06:27:10.092Z"
   },
   {
    "duration": 110,
    "start_time": "2022-12-19T06:27:10.479Z"
   },
   {
    "duration": 114,
    "start_time": "2022-12-19T06:27:10.960Z"
   },
   {
    "duration": 119,
    "start_time": "2022-12-19T06:27:11.479Z"
   },
   {
    "duration": 10,
    "start_time": "2022-12-19T06:27:11.994Z"
   },
   {
    "duration": 9,
    "start_time": "2022-12-19T06:27:12.544Z"
   },
   {
    "duration": 8,
    "start_time": "2022-12-19T06:27:12.945Z"
   },
   {
    "duration": 13,
    "start_time": "2022-12-19T06:27:14.594Z"
   },
   {
    "duration": 34,
    "start_time": "2022-12-19T06:27:26.093Z"
   },
   {
    "duration": 4,
    "start_time": "2022-12-19T06:27:30.629Z"
   },
   {
    "duration": 6,
    "start_time": "2022-12-19T06:27:31.676Z"
   },
   {
    "duration": 6,
    "start_time": "2022-12-19T06:27:32.838Z"
   },
   {
    "duration": 6,
    "start_time": "2022-12-19T06:27:33.810Z"
   },
   {
    "duration": 374,
    "start_time": "2022-12-19T06:27:36.342Z"
   },
   {
    "duration": 5,
    "start_time": "2022-12-19T06:27:37.942Z"
   },
   {
    "duration": 15,
    "start_time": "2022-12-19T06:27:38.776Z"
   },
   {
    "duration": 24,
    "start_time": "2022-12-19T06:27:39.543Z"
   },
   {
    "duration": 182,
    "start_time": "2022-12-19T06:27:44.742Z"
   },
   {
    "duration": 233,
    "start_time": "2022-12-19T06:27:46.346Z"
   },
   {
    "duration": 170,
    "start_time": "2022-12-19T06:27:47.558Z"
   },
   {
    "duration": 244,
    "start_time": "2022-12-19T06:27:48.659Z"
   },
   {
    "duration": 153,
    "start_time": "2022-12-19T06:27:49.759Z"
   },
   {
    "duration": 187,
    "start_time": "2022-12-19T06:27:50.876Z"
   },
   {
    "duration": 190,
    "start_time": "2022-12-19T06:27:52.058Z"
   },
   {
    "duration": 198,
    "start_time": "2022-12-19T06:27:53.207Z"
   },
   {
    "duration": 176,
    "start_time": "2022-12-19T06:27:55.472Z"
   },
   {
    "duration": 199,
    "start_time": "2022-12-19T06:27:56.572Z"
   },
   {
    "duration": 211,
    "start_time": "2022-12-19T06:27:57.609Z"
   },
   {
    "duration": 202,
    "start_time": "2022-12-19T06:27:58.760Z"
   },
   {
    "duration": 154,
    "start_time": "2022-12-19T06:27:59.912Z"
   },
   {
    "duration": 154,
    "start_time": "2022-12-19T06:28:01.094Z"
   },
   {
    "duration": 343,
    "start_time": "2022-12-19T06:28:04.092Z"
   },
   {
    "duration": 9,
    "start_time": "2022-12-19T06:28:04.711Z"
   },
   {
    "duration": 191,
    "start_time": "2022-12-19T06:28:14.959Z"
   },
   {
    "duration": 5,
    "start_time": "2022-12-19T06:28:16.941Z"
   },
   {
    "duration": 186,
    "start_time": "2022-12-19T06:28:19.291Z"
   },
   {
    "duration": 6,
    "start_time": "2022-12-19T06:28:19.891Z"
   },
   {
    "duration": 181,
    "start_time": "2022-12-19T06:28:21.343Z"
   },
   {
    "duration": 6,
    "start_time": "2022-12-19T06:28:21.811Z"
   },
   {
    "duration": 186,
    "start_time": "2022-12-19T06:28:23.097Z"
   },
   {
    "duration": 6,
    "start_time": "2022-12-19T06:28:23.594Z"
   },
   {
    "duration": 136,
    "start_time": "2022-12-19T06:28:24.879Z"
   },
   {
    "duration": 126,
    "start_time": "2022-12-19T06:29:07.108Z"
   },
   {
    "duration": 136,
    "start_time": "2022-12-19T06:29:40.076Z"
   },
   {
    "duration": 141,
    "start_time": "2022-12-19T06:29:54.472Z"
   },
   {
    "duration": 126,
    "start_time": "2022-12-19T06:30:02.541Z"
   },
   {
    "duration": 134,
    "start_time": "2022-12-19T06:30:11.238Z"
   },
   {
    "duration": 122,
    "start_time": "2022-12-19T06:30:24.671Z"
   },
   {
    "duration": 145,
    "start_time": "2022-12-19T06:32:46.343Z"
   },
   {
    "duration": 5,
    "start_time": "2022-12-19T06:32:46.843Z"
   },
   {
    "duration": 183,
    "start_time": "2022-12-19T06:32:49.793Z"
   },
   {
    "duration": 6,
    "start_time": "2022-12-19T06:32:50.645Z"
   },
   {
    "duration": 133,
    "start_time": "2022-12-19T06:32:52.705Z"
   },
   {
    "duration": 6,
    "start_time": "2022-12-19T06:32:53.178Z"
   },
   {
    "duration": 140,
    "start_time": "2022-12-19T06:34:54.812Z"
   },
   {
    "duration": 6,
    "start_time": "2022-12-19T06:35:28.242Z"
   },
   {
    "duration": 46,
    "start_time": "2022-12-19T06:38:34.872Z"
   },
   {
    "duration": 20,
    "start_time": "2022-12-19T06:39:44.844Z"
   },
   {
    "duration": 82,
    "start_time": "2022-12-19T06:41:18.730Z"
   },
   {
    "duration": 21,
    "start_time": "2022-12-19T06:41:28.409Z"
   },
   {
    "duration": 20,
    "start_time": "2022-12-19T06:41:37.589Z"
   },
   {
    "duration": 13,
    "start_time": "2022-12-19T06:41:52.976Z"
   },
   {
    "duration": 9,
    "start_time": "2022-12-19T06:42:18.228Z"
   },
   {
    "duration": 8,
    "start_time": "2022-12-19T06:42:19.442Z"
   },
   {
    "duration": 31,
    "start_time": "2022-12-19T06:42:40.730Z"
   },
   {
    "duration": 25,
    "start_time": "2022-12-19T06:42:45.095Z"
   },
   {
    "duration": 9,
    "start_time": "2022-12-19T06:42:56.894Z"
   },
   {
    "duration": 9,
    "start_time": "2022-12-19T06:43:04.808Z"
   },
   {
    "duration": 7,
    "start_time": "2022-12-19T06:43:20.539Z"
   },
   {
    "duration": 8,
    "start_time": "2022-12-19T06:43:30.225Z"
   },
   {
    "duration": 14,
    "start_time": "2022-12-19T06:44:53.307Z"
   },
   {
    "duration": 10,
    "start_time": "2022-12-19T06:44:53.859Z"
   },
   {
    "duration": 418,
    "start_time": "2022-12-19T06:44:54.674Z"
   },
   {
    "duration": 49,
    "start_time": "2022-12-19T06:46:49.059Z"
   },
   {
    "duration": 705,
    "start_time": "2022-12-19T14:14:14.224Z"
   },
   {
    "duration": 37,
    "start_time": "2022-12-19T14:14:14.931Z"
   },
   {
    "duration": 16,
    "start_time": "2022-12-19T14:14:14.969Z"
   },
   {
    "duration": 1846,
    "start_time": "2022-12-19T14:14:14.987Z"
   },
   {
    "duration": 134,
    "start_time": "2022-12-19T14:14:16.835Z"
   },
   {
    "duration": 143,
    "start_time": "2022-12-19T14:14:16.971Z"
   },
   {
    "duration": 136,
    "start_time": "2022-12-19T14:14:17.120Z"
   },
   {
    "duration": 10,
    "start_time": "2022-12-19T14:14:17.257Z"
   },
   {
    "duration": 70,
    "start_time": "2022-12-19T14:14:17.269Z"
   },
   {
    "duration": 12,
    "start_time": "2022-12-19T14:14:17.342Z"
   },
   {
    "duration": 678,
    "start_time": "2022-12-19T14:14:17.355Z"
   },
   {
    "duration": 5,
    "start_time": "2022-12-19T14:14:18.034Z"
   },
   {
    "duration": 7,
    "start_time": "2022-12-19T14:14:18.040Z"
   },
   {
    "duration": 5,
    "start_time": "2022-12-19T14:14:18.048Z"
   },
   {
    "duration": 15,
    "start_time": "2022-12-19T14:14:18.054Z"
   },
   {
    "duration": 8,
    "start_time": "2022-12-19T14:14:18.070Z"
   },
   {
    "duration": 8,
    "start_time": "2022-12-19T14:14:18.080Z"
   },
   {
    "duration": 7,
    "start_time": "2022-12-19T14:14:18.089Z"
   },
   {
    "duration": 6,
    "start_time": "2022-12-19T14:14:18.097Z"
   },
   {
    "duration": 18,
    "start_time": "2022-12-19T14:14:18.104Z"
   },
   {
    "duration": 35,
    "start_time": "2022-12-19T14:14:18.124Z"
   },
   {
    "duration": 7,
    "start_time": "2022-12-19T14:14:18.161Z"
   },
   {
    "duration": 6,
    "start_time": "2022-12-19T14:14:18.170Z"
   },
   {
    "duration": 9,
    "start_time": "2022-12-19T14:14:18.177Z"
   },
   {
    "duration": 7,
    "start_time": "2022-12-19T14:14:18.187Z"
   },
   {
    "duration": 27,
    "start_time": "2022-12-19T14:14:18.195Z"
   },
   {
    "duration": 5,
    "start_time": "2022-12-19T14:14:18.223Z"
   },
   {
    "duration": 5,
    "start_time": "2022-12-19T14:14:18.231Z"
   },
   {
    "duration": 23,
    "start_time": "2022-12-19T14:14:18.237Z"
   },
   {
    "duration": 17,
    "start_time": "2022-12-19T14:14:18.262Z"
   },
   {
    "duration": 224,
    "start_time": "2022-12-19T14:14:18.281Z"
   },
   {
    "duration": 22,
    "start_time": "2022-12-19T14:14:18.506Z"
   },
   {
    "duration": 18,
    "start_time": "2022-12-19T14:14:18.530Z"
   },
   {
    "duration": 10,
    "start_time": "2022-12-19T14:14:18.549Z"
   },
   {
    "duration": 129,
    "start_time": "2022-12-19T14:14:18.561Z"
   },
   {
    "duration": 12,
    "start_time": "2022-12-19T14:14:18.691Z"
   },
   {
    "duration": 124,
    "start_time": "2022-12-19T14:14:18.704Z"
   },
   {
    "duration": 8,
    "start_time": "2022-12-19T14:14:18.829Z"
   },
   {
    "duration": 8,
    "start_time": "2022-12-19T14:14:18.839Z"
   },
   {
    "duration": 223,
    "start_time": "2022-12-19T14:14:18.848Z"
   },
   {
    "duration": 6,
    "start_time": "2022-12-19T14:14:19.073Z"
   },
   {
    "duration": 123,
    "start_time": "2022-12-19T14:14:19.081Z"
   },
   {
    "duration": 16,
    "start_time": "2022-12-19T14:14:19.206Z"
   },
   {
    "duration": 7,
    "start_time": "2022-12-19T14:14:19.223Z"
   },
   {
    "duration": 120,
    "start_time": "2022-12-19T14:14:19.232Z"
   },
   {
    "duration": 8,
    "start_time": "2022-12-19T14:14:19.353Z"
   },
   {
    "duration": 118,
    "start_time": "2022-12-19T14:14:19.362Z"
   },
   {
    "duration": 8,
    "start_time": "2022-12-19T14:14:19.481Z"
   },
   {
    "duration": 18,
    "start_time": "2022-12-19T14:14:19.490Z"
   },
   {
    "duration": 145,
    "start_time": "2022-12-19T14:14:19.521Z"
   },
   {
    "duration": 8,
    "start_time": "2022-12-19T14:14:19.667Z"
   },
   {
    "duration": 163,
    "start_time": "2022-12-19T14:14:19.677Z"
   },
   {
    "duration": 9,
    "start_time": "2022-12-19T14:14:19.841Z"
   },
   {
    "duration": 148,
    "start_time": "2022-12-19T14:14:19.851Z"
   },
   {
    "duration": 9,
    "start_time": "2022-12-19T14:14:20.001Z"
   },
   {
    "duration": 122,
    "start_time": "2022-12-19T14:14:20.021Z"
   },
   {
    "duration": 129,
    "start_time": "2022-12-19T14:14:20.144Z"
   },
   {
    "duration": 122,
    "start_time": "2022-12-19T14:14:20.274Z"
   },
   {
    "duration": 8,
    "start_time": "2022-12-19T14:14:20.398Z"
   },
   {
    "duration": 20,
    "start_time": "2022-12-19T14:14:20.407Z"
   },
   {
    "duration": 14,
    "start_time": "2022-12-19T14:14:20.429Z"
   },
   {
    "duration": 14,
    "start_time": "2022-12-19T14:14:20.444Z"
   },
   {
    "duration": 26,
    "start_time": "2022-12-19T14:14:20.459Z"
   },
   {
    "duration": 4,
    "start_time": "2022-12-19T14:14:20.486Z"
   },
   {
    "duration": 32,
    "start_time": "2022-12-19T14:14:20.491Z"
   },
   {
    "duration": 4,
    "start_time": "2022-12-19T14:14:20.525Z"
   },
   {
    "duration": 8,
    "start_time": "2022-12-19T14:14:20.531Z"
   },
   {
    "duration": 426,
    "start_time": "2022-12-19T14:14:20.540Z"
   },
   {
    "duration": 4,
    "start_time": "2022-12-19T14:14:20.967Z"
   },
   {
    "duration": 26,
    "start_time": "2022-12-19T14:14:20.972Z"
   },
   {
    "duration": 30,
    "start_time": "2022-12-19T14:14:20.999Z"
   },
   {
    "duration": 180,
    "start_time": "2022-12-19T14:14:21.030Z"
   },
   {
    "duration": 254,
    "start_time": "2022-12-19T14:14:21.212Z"
   },
   {
    "duration": 199,
    "start_time": "2022-12-19T14:14:21.468Z"
   },
   {
    "duration": 251,
    "start_time": "2022-12-19T14:14:21.668Z"
   },
   {
    "duration": 171,
    "start_time": "2022-12-19T14:14:21.921Z"
   },
   {
    "duration": 178,
    "start_time": "2022-12-19T14:14:22.094Z"
   },
   {
    "duration": 186,
    "start_time": "2022-12-19T14:14:22.273Z"
   },
   {
    "duration": 193,
    "start_time": "2022-12-19T14:14:22.460Z"
   },
   {
    "duration": 188,
    "start_time": "2022-12-19T14:14:22.654Z"
   },
   {
    "duration": 200,
    "start_time": "2022-12-19T14:14:22.844Z"
   },
   {
    "duration": 208,
    "start_time": "2022-12-19T14:14:23.050Z"
   },
   {
    "duration": 195,
    "start_time": "2022-12-19T14:14:23.259Z"
   },
   {
    "duration": 152,
    "start_time": "2022-12-19T14:14:23.456Z"
   },
   {
    "duration": 146,
    "start_time": "2022-12-19T14:14:23.610Z"
   },
   {
    "duration": 332,
    "start_time": "2022-12-19T14:14:23.758Z"
   },
   {
    "duration": 12,
    "start_time": "2022-12-19T14:14:24.092Z"
   },
   {
    "duration": 190,
    "start_time": "2022-12-19T14:14:24.105Z"
   },
   {
    "duration": 5,
    "start_time": "2022-12-19T14:14:24.298Z"
   },
   {
    "duration": 185,
    "start_time": "2022-12-19T14:14:24.306Z"
   },
   {
    "duration": 6,
    "start_time": "2022-12-19T14:14:24.492Z"
   },
   {
    "duration": 181,
    "start_time": "2022-12-19T14:14:24.499Z"
   },
   {
    "duration": 5,
    "start_time": "2022-12-19T14:14:24.682Z"
   },
   {
    "duration": 182,
    "start_time": "2022-12-19T14:14:24.688Z"
   },
   {
    "duration": 5,
    "start_time": "2022-12-19T14:14:24.872Z"
   },
   {
    "duration": 131,
    "start_time": "2022-12-19T14:14:24.878Z"
   },
   {
    "duration": 150,
    "start_time": "2022-12-19T14:14:25.010Z"
   },
   {
    "duration": 5,
    "start_time": "2022-12-19T14:14:25.161Z"
   },
   {
    "duration": 177,
    "start_time": "2022-12-19T14:14:25.168Z"
   },
   {
    "duration": 5,
    "start_time": "2022-12-19T14:14:25.347Z"
   },
   {
    "duration": 146,
    "start_time": "2022-12-19T14:14:25.354Z"
   },
   {
    "duration": 5,
    "start_time": "2022-12-19T14:14:25.501Z"
   },
   {
    "duration": 200,
    "start_time": "2022-12-19T14:14:25.508Z"
   },
   {
    "duration": 12,
    "start_time": "2022-12-19T14:14:25.710Z"
   },
   {
    "duration": 25,
    "start_time": "2022-12-19T14:14:25.723Z"
   },
   {
    "duration": 23,
    "start_time": "2022-12-19T14:14:25.750Z"
   },
   {
    "duration": 32,
    "start_time": "2022-12-19T14:14:25.775Z"
   },
   {
    "duration": 11,
    "start_time": "2022-12-19T14:14:25.809Z"
   },
   {
    "duration": 14,
    "start_time": "2022-12-19T14:14:25.822Z"
   },
   {
    "duration": 19,
    "start_time": "2022-12-19T14:14:25.838Z"
   },
   {
    "duration": 8,
    "start_time": "2022-12-19T14:14:25.859Z"
   },
   {
    "duration": 15,
    "start_time": "2022-12-19T14:14:25.868Z"
   },
   {
    "duration": 9,
    "start_time": "2022-12-19T14:14:25.884Z"
   },
   {
    "duration": 280,
    "start_time": "2022-12-19T14:14:25.895Z"
   },
   {
    "duration": 45,
    "start_time": "2022-12-19T19:27:04.680Z"
   },
   {
    "duration": 62,
    "start_time": "2022-12-20T16:34:58.921Z"
   },
   {
    "duration": 860,
    "start_time": "2022-12-20T16:35:10.459Z"
   },
   {
    "duration": 63,
    "start_time": "2022-12-20T16:35:22.200Z"
   },
   {
    "duration": 1709,
    "start_time": "2023-05-01T12:36:02.859Z"
   },
   {
    "duration": 292,
    "start_time": "2023-05-01T12:36:05.392Z"
   },
   {
    "duration": 51,
    "start_time": "2023-05-01T12:37:13.263Z"
   },
   {
    "duration": 11,
    "start_time": "2023-05-01T12:37:20.706Z"
   },
   {
    "duration": 15,
    "start_time": "2023-05-01T12:37:51.506Z"
   },
   {
    "duration": 115,
    "start_time": "2023-05-01T12:38:05.509Z"
   },
   {
    "duration": 9,
    "start_time": "2023-05-01T12:38:09.220Z"
   },
   {
    "duration": 11,
    "start_time": "2023-05-01T12:38:38.126Z"
   },
   {
    "duration": 5,
    "start_time": "2023-05-01T12:38:44.853Z"
   },
   {
    "duration": 19,
    "start_time": "2023-05-01T12:39:09.740Z"
   },
   {
    "duration": 11,
    "start_time": "2023-05-01T12:42:28.841Z"
   },
   {
    "duration": 14,
    "start_time": "2023-05-01T12:42:32.444Z"
   },
   {
    "duration": 7,
    "start_time": "2023-05-01T12:42:35.108Z"
   },
   {
    "duration": 4,
    "start_time": "2023-05-01T12:42:35.898Z"
   },
   {
    "duration": 12,
    "start_time": "2023-05-01T12:42:40.791Z"
   },
   {
    "duration": 4,
    "start_time": "2023-05-01T12:44:45.656Z"
   },
   {
    "duration": 50,
    "start_time": "2023-05-01T12:45:04.876Z"
   },
   {
    "duration": 8,
    "start_time": "2023-05-01T12:45:08.224Z"
   },
   {
    "duration": 12,
    "start_time": "2023-05-01T12:45:12.505Z"
   },
   {
    "duration": 5,
    "start_time": "2023-05-01T12:45:13.828Z"
   },
   {
    "duration": 3,
    "start_time": "2023-05-01T12:45:16.141Z"
   },
   {
    "duration": 8,
    "start_time": "2023-05-01T12:45:21.702Z"
   },
   {
    "duration": 241,
    "start_time": "2023-05-01T12:47:23.695Z"
   },
   {
    "duration": 294,
    "start_time": "2023-05-01T12:47:27.795Z"
   },
   {
    "duration": 1789,
    "start_time": "2023-05-03T11:08:40.910Z"
   },
   {
    "duration": 2382,
    "start_time": "2023-05-03T11:10:01.908Z"
   },
   {
    "duration": 15,
    "start_time": "2023-05-03T11:10:18.051Z"
   },
   {
    "duration": 13,
    "start_time": "2023-05-03T11:10:42.444Z"
   },
   {
    "duration": 110289,
    "start_time": "2023-05-03T11:12:02.745Z"
   },
   {
    "duration": 12643,
    "start_time": "2023-05-03T13:41:30.657Z"
   },
   {
    "duration": 117039,
    "start_time": "2023-05-03T13:41:54.504Z"
   },
   {
    "duration": 67586,
    "start_time": "2023-05-03T16:12:34.104Z"
   },
   {
    "duration": 66364,
    "start_time": "2023-05-03T16:15:01.406Z"
   },
   {
    "duration": 34,
    "start_time": "2023-05-03T16:18:03.796Z"
   },
   {
    "duration": 1525,
    "start_time": "2023-05-03T16:18:06.906Z"
   },
   {
    "duration": 46341,
    "start_time": "2023-05-03T16:18:14.424Z"
   },
   {
    "duration": 89007,
    "start_time": "2023-05-03T16:21:59.507Z"
   },
   {
    "duration": 13,
    "start_time": "2023-05-03T16:23:45.974Z"
   },
   {
    "duration": 7,
    "start_time": "2023-05-03T16:23:50.892Z"
   },
   {
    "duration": 79,
    "start_time": "2023-05-03T16:23:52.908Z"
   },
   {
    "duration": 632405,
    "start_time": "2023-05-03T16:25:26.836Z"
   }
  ],
  "kernelspec": {
   "display_name": "Python 3 (ipykernel)",
   "language": "python",
   "name": "python3"
  },
  "language_info": {
   "codemirror_mode": {
    "name": "ipython",
    "version": 3
   },
   "file_extension": ".py",
   "mimetype": "text/x-python",
   "name": "python",
   "nbconvert_exporter": "python",
   "pygments_lexer": "ipython3",
   "version": "3.9.5"
  },
  "toc": {
   "base_numbering": 1,
   "nav_menu": {},
   "number_sections": true,
   "sideBar": true,
   "skip_h1_title": true,
   "title_cell": "Table of Contents",
   "title_sidebar": "Contents",
   "toc_cell": false,
   "toc_position": {},
   "toc_section_display": true,
   "toc_window_display": true
  }
 },
 "nbformat": 4,
 "nbformat_minor": 2
}
